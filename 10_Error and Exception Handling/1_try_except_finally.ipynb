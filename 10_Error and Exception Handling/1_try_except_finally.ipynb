{
 "cells": [
  {
   "cell_type": "code",
   "execution_count": 4,
   "metadata": {},
   "outputs": [],
   "source": [
    "def add(a,b):\n",
    "    return a+b"
   ]
  },
  {
   "cell_type": "code",
   "execution_count": 5,
   "metadata": {},
   "outputs": [
    {
     "data": {
      "text/plain": [
       "7"
      ]
     },
     "execution_count": 5,
     "metadata": {},
     "output_type": "execute_result"
    }
   ],
   "source": [
    "add(2,5)"
   ]
  },
  {
   "cell_type": "code",
   "execution_count": 6,
   "metadata": {},
   "outputs": [
    {
     "ename": "TypeError",
     "evalue": "unsupported operand type(s) for +: 'int' and 'str'",
     "output_type": "error",
     "traceback": [
      "\u001b[1;31m---------------------------------------------------------------------------\u001b[0m",
      "\u001b[1;31mTypeError\u001b[0m                                 Traceback (most recent call last)",
      "Cell \u001b[1;32mIn[6], line 1\u001b[0m\n\u001b[1;32m----> 1\u001b[0m \u001b[43madd\u001b[49m\u001b[43m(\u001b[49m\u001b[38;5;241;43m2\u001b[39;49m\u001b[43m,\u001b[49m\u001b[38;5;124;43m'\u001b[39;49m\u001b[38;5;124;43m5\u001b[39;49m\u001b[38;5;124;43m'\u001b[39;49m\u001b[43m)\u001b[49m\n",
      "Cell \u001b[1;32mIn[4], line 2\u001b[0m, in \u001b[0;36madd\u001b[1;34m(a, b)\u001b[0m\n\u001b[0;32m      1\u001b[0m \u001b[38;5;28;01mdef\u001b[39;00m \u001b[38;5;21madd\u001b[39m(a,b):\n\u001b[1;32m----> 2\u001b[0m     \u001b[38;5;28;01mreturn\u001b[39;00m \u001b[43ma\u001b[49m\u001b[38;5;241;43m+\u001b[39;49m\u001b[43mb\u001b[49m\n",
      "\u001b[1;31mTypeError\u001b[0m: unsupported operand type(s) for +: 'int' and 'str'"
     ]
    }
   ],
   "source": [
    "add(2,'5')"
   ]
  },
  {
   "cell_type": "code",
   "execution_count": 11,
   "metadata": {},
   "outputs": [
    {
     "name": "stdout",
     "output_type": "stream",
     "text": [
      "Operation Done Successfully..\n",
      "7\n"
     ]
    }
   ],
   "source": [
    "try:\n",
    "    result = add(2,5)\n",
    "except:\n",
    "    print(\"You aren't adding correctly!!\")\n",
    "else:\n",
    "    print(\"Operation Done Successfully..\")\n",
    "    print(result)\n"
   ]
  },
  {
   "cell_type": "code",
   "execution_count": 12,
   "metadata": {},
   "outputs": [
    {
     "name": "stdout",
     "output_type": "stream",
     "text": [
      "You aren't adding correctly!!\n"
     ]
    }
   ],
   "source": [
    "try:\n",
    "    print(add(2,'5'))\n",
    "except:\n",
    "    print(\"You aren't adding correctly!!\")\n",
    "else:\n",
    "    print(\"Operation Done Successfully..\")\n",
    "    print(result)\n"
   ]
  },
  {
   "cell_type": "code",
   "execution_count": 14,
   "metadata": {},
   "outputs": [
    {
     "name": "stdout",
     "output_type": "stream",
     "text": [
      "Finally always runs\n"
     ]
    }
   ],
   "source": [
    "try:\n",
    "    f = open('testfile.txt','w')\n",
    "    f.write(\"Write a test file\")\n",
    "except TypeError:\n",
    "    print(\"There is TypeError\")\n",
    "except OSError:\n",
    "    print(\"There is OSError\")\n",
    "finally:\n",
    "    print(\"Finally always runs\")"
   ]
  },
  {
   "cell_type": "code",
   "execution_count": 17,
   "metadata": {},
   "outputs": [
    {
     "name": "stdout",
     "output_type": "stream",
     "text": [
      "There is OSError\n",
      "Finally always runs\n"
     ]
    }
   ],
   "source": [
    "try:\n",
    "    f = open('testfile.txt','r')\n",
    "    f.write(\"Write a test file\")\n",
    "except TypeError:\n",
    "    print(\"There is TypeError\")\n",
    "except OSError:\n",
    "    print(\"There is OSError\")\n",
    "finally:\n",
    "    print(\"Finally always runs\")"
   ]
  },
  {
   "cell_type": "code",
   "execution_count": 18,
   "metadata": {},
   "outputs": [
    {
     "name": "stdout",
     "output_type": "stream",
     "text": [
      "There is Other Error\n",
      "Finally always runs\n"
     ]
    }
   ],
   "source": [
    "try:\n",
    "    f = open('testfile.txt','r')\n",
    "    f.write(\"Write a test file\")\n",
    "except TypeError:\n",
    "    print(\"There is TypeError\")\n",
    "except:\n",
    "    print(\"There is Other Error\")\n",
    "finally:\n",
    "    print(\"Finally always runs\")"
   ]
  },
  {
   "cell_type": "code",
   "execution_count": 19,
   "metadata": {},
   "outputs": [],
   "source": [
    "def user_input():\n",
    "    while True:\n",
    "        try:\n",
    "            num = int(input(\"Enter a number: \"))\n",
    "        except:\n",
    "            print(\"It was not Number\")\n",
    "            continue\n",
    "        else:\n",
    "            print(f\"Your number is: {num}\")\n",
    "            break\n",
    "        finally:\n",
    "            print(\"FINALLY!!\")"
   ]
  },
  {
   "cell_type": "code",
   "execution_count": 20,
   "metadata": {},
   "outputs": [
    {
     "name": "stdout",
     "output_type": "stream",
     "text": [
      "It was not Number\n",
      "FINALLY!!\n",
      "Your number is: 1\n",
      "FINALLY!!\n"
     ]
    }
   ],
   "source": [
    "user_input()"
   ]
  },
  {
   "cell_type": "code",
   "execution_count": null,
   "metadata": {},
   "outputs": [],
   "source": []
  }
 ],
 "metadata": {
  "kernelspec": {
   "display_name": "Python 3",
   "language": "python",
   "name": "python3"
  },
  "language_info": {
   "codemirror_mode": {
    "name": "ipython",
    "version": 3
   },
   "file_extension": ".py",
   "mimetype": "text/x-python",
   "name": "python",
   "nbconvert_exporter": "python",
   "pygments_lexer": "ipython3",
   "version": "3.13.1"
  }
 },
 "nbformat": 4,
 "nbformat_minor": 2
}
