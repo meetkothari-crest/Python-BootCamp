{
 "cells": [
  {
   "cell_type": "markdown",
   "metadata": {},
   "source": [
    "- Python program to find the type of IP Address using Regex\n"
   ]
  },
  {
   "cell_type": "code",
   "execution_count": 57,
   "metadata": {},
   "outputs": [
    {
     "name": "stdout",
     "output_type": "stream",
     "text": [
      "IPv4\n",
      "IPv6\n"
     ]
    }
   ],
   "source": [
    "\n",
    "import re\n",
    "ip1 = '192.0.2.126'\n",
    "ip2 = '3001:0da8:75a3:0000:0000:8a2e:0370:7334'\n",
    "\n",
    "pat_1 = r'[0-9]+\\.[0-9]+\\.[0-9]+\\.[0-9]+'\n",
    "pat_2 = r'[0-9a-f]+\\:[0-9a-f]+\\:[0-9a-f]+\\:[0-9a-f]+\\:[0-9a-f]+\\:[0-9a-f]+\\:[0-9a-f]+\\:[0-9a-f]+'\n",
    "\n",
    "res1 = re.search(pat_1, ip1)\n",
    "res2 = re.search(pat_2, ip2)\n",
    "\n",
    "if res1.group() == ip1:\n",
    "    print(\"IPv4\")\n",
    "\n",
    "if res2.group() == ip2:\n",
    "    print(\"IPv6\")\n"
   ]
  },
  {
   "cell_type": "markdown",
   "metadata": {},
   "source": [
    "- Python program to find Indices of Overlapping Substrings"
   ]
  },
  {
   "cell_type": "code",
   "execution_count": 60,
   "metadata": {},
   "outputs": [
    {
     "name": "stdout",
     "output_type": "stream",
     "text": [
      "3\n",
      "15\n"
     ]
    }
   ],
   "source": [
    "s = 'barfoobarfoobarfoobarfoobarfoo'\n",
    "p= 'foobarfoo'\n",
    "\n",
    "for match in re.finditer(p, s):\n",
    "    print(match.start())"
   ]
  },
  {
   "cell_type": "markdown",
   "metadata": {},
   "source": [
    "- Python program to extract Strings between HTML Tags"
   ]
  },
  {
   "cell_type": "markdown",
   "metadata": {},
   "source": [
    "- Check if String Contain Only Defined Characters using Regex"
   ]
  },
  {
   "cell_type": "markdown",
   "metadata": {},
   "source": [
    "- Python program to find files having a particular extension using RegEx"
   ]
  }
 ],
 "metadata": {
  "kernelspec": {
   "display_name": "Python 3",
   "language": "python",
   "name": "python3"
  },
  "language_info": {
   "codemirror_mode": {
    "name": "ipython",
    "version": 3
   },
   "file_extension": ".py",
   "mimetype": "text/x-python",
   "name": "python",
   "nbconvert_exporter": "python",
   "pygments_lexer": "ipython3",
   "version": "3.13.1"
  }
 },
 "nbformat": 4,
 "nbformat_minor": 2
}
