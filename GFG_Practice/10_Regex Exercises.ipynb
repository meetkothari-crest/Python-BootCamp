{
 "cells": [
  {
   "cell_type": "markdown",
   "metadata": {},
   "source": [
    "- Python program to find the type of IP Address using Regex\n"
   ]
  },
  {
   "cell_type": "code",
   "execution_count": 2,
   "metadata": {},
   "outputs": [
    {
     "name": "stdout",
     "output_type": "stream",
     "text": [
      "IPv4\n",
      "IPv6\n"
     ]
    }
   ],
   "source": [
    "\n",
    "import re\n",
    "ip1 = '192.0.2.126'\n",
    "ip2 = '3001:0da8:75a3:0000:0000:8a2e:0370:7334'\n",
    "\n",
    "pat_1 = r'[0-9]+\\.[0-9]+\\.[0-9]+\\.[0-9]+'\n",
    "pat_2 = r'[0-9a-f]+\\:[0-9a-f]+\\:[0-9a-f]+\\:[0-9a-f]+\\:[0-9a-f]+\\:[0-9a-f]+\\:[0-9a-f]+\\:[0-9a-f]+'\n",
    "\n",
    "res1 = re.search(pat_1, ip1)\n",
    "res2 = re.search(pat_2, ip2)\n",
    "\n",
    "if res1.group() == ip1:\n",
    "    print(\"IPv4\")\n",
    "\n",
    "if res2.group() == ip2:\n",
    "    print(\"IPv6\")\n"
   ]
  },
  {
   "cell_type": "markdown",
   "metadata": {},
   "source": [
    "- Python program to find Indices of Overlapping Substrings"
   ]
  },
  {
   "cell_type": "code",
   "execution_count": 8,
   "metadata": {},
   "outputs": [
    {
     "name": "stdout",
     "output_type": "stream",
     "text": [
      "[3, 9, 15, 21]\n"
     ]
    }
   ],
   "source": [
    "s = 'barfoobarfoobarfoobarfoobarfoo'\n",
    "p= 'foobarfoo'\n",
    "\n",
    "# for match in re.finditer(p, s):\n",
    "#     print(match.start())\n",
    "\n",
    "res = [match.start() for match in re.finditer(\n",
    "        '(?={0})'.format(re.escape(p)), s)]\n",
    "\n",
    "print(res)"
   ]
  },
  {
   "cell_type": "markdown",
   "metadata": {},
   "source": [
    "- Python program to extract Strings between HTML Tags"
   ]
  },
  {
   "cell_type": "code",
   "execution_count": 20,
   "metadata": {},
   "outputs": [
    {
     "name": "stdout",
     "output_type": "stream",
     "text": [
      "['Gfg', 'Best', 'Reading CS']\n"
     ]
    }
   ],
   "source": [
    "test = '<b>Gfg</b> is <b>Best</b>. I love <b>Reading CS</b> from it.'\n",
    "tag = 'b'\n",
    "\n",
    "p = '<' + tag + '>(.*?)</' + tag + '>'\n",
    "\n",
    "res  = re.findall(p, test)\n",
    "\n",
    "print(res)"
   ]
  },
  {
   "cell_type": "markdown",
   "metadata": {},
   "source": [
    "- Check if String Contain Only Defined Characters using Regex"
   ]
  },
  {
   "cell_type": "code",
   "execution_count": 25,
   "metadata": {},
   "outputs": [
    {
     "name": "stdout",
     "output_type": "stream",
     "text": [
      "Invalid\n"
     ]
    }
   ],
   "source": [
    "test = '23115'\n",
    "\n",
    "pat = r'[^4312]'\n",
    "\n",
    "if re.search(pat, test):\n",
    "    print('Invalid')\n",
    "else:\n",
    "    print('Valid')"
   ]
  },
  {
   "cell_type": "markdown",
   "metadata": {},
   "source": [
    "- Python program to find files having a particular extension using RegEx"
   ]
  },
  {
   "cell_type": "code",
   "execution_count": 35,
   "metadata": {},
   "outputs": [
    {
     "name": "stdout",
     "output_type": "stream",
     "text": [
      "gfg.html\n",
      "gfg1.html\n"
     ]
    }
   ],
   "source": [
    "filename = [\"gfg.html\", \"geeks.xml\",  \n",
    "            \"computer.txt\", \"geeksforgeeks.jpg\", \"gfg1.html\"]\n",
    "\n",
    "pat = '.*\\.html$'\n",
    "\n",
    "for f in filename:\n",
    "    res = re.search(pat, f)\n",
    "    if res:\n",
    "        print(res.group())\n"
   ]
  }
 ],
 "metadata": {
  "kernelspec": {
   "display_name": "Python 3",
   "language": "python",
   "name": "python3"
  },
  "language_info": {
   "codemirror_mode": {
    "name": "ipython",
    "version": 3
   },
   "file_extension": ".py",
   "mimetype": "text/x-python",
   "name": "python",
   "nbconvert_exporter": "python",
   "pygments_lexer": "ipython3",
   "version": "3.13.1"
  }
 },
 "nbformat": 4,
 "nbformat_minor": 2
}
