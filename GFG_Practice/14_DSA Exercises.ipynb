{
 "cells": [
  {
   "cell_type": "markdown",
   "metadata": {},
   "source": [
    "- FrozenSet"
   ]
  },
  {
   "cell_type": "code",
   "execution_count": 311,
   "metadata": {},
   "outputs": [
    {
     "name": "stdout",
     "output_type": "stream",
     "text": [
      "Normal Set\n",
      "{'c', 'a', 'b'}\n",
      "\n",
      "Frozen Set\n",
      "frozenset({'g', 'f', 'e'})\n"
     ]
    }
   ],
   "source": [
    "normal_set = set([\"a\", \"b\",\"c\"])\n",
    "print(\"Normal Set\")\n",
    "print(normal_set)\n",
    "\n",
    "frozen_set = frozenset([\"e\", \"f\", \"g\"])\n",
    "print(\"\\nFrozen Set\")\n",
    "print(frozen_set)\n",
    "\n",
    "# frozen_set.add(\"h\") # Error : 'frozenset' object has no attribute 'add'"
   ]
  },
  {
   "cell_type": "markdown",
   "metadata": {},
   "source": [
    "- ByteArray"
   ]
  },
  {
   "cell_type": "code",
   "execution_count": 308,
   "metadata": {},
   "outputs": [
    {
     "name": "stdout",
     "output_type": "stream",
     "text": [
      "Creating Bytearray:\n",
      "bytearray(b'\\x0c\\x08\\x19\\x02\\xff')\n",
      "\n",
      "Accessing Elements: 8\n",
      "\n",
      "After Modifying:\n",
      "bytearray(b'\\x0c\\x03\\x19\\x02\\xff')\n",
      "\n",
      "After Adding Elements:\n",
      "bytearray(b'\\x0c\\x03\\x19\\x02\\xff\\x1e')\n"
     ]
    }
   ],
   "source": [
    "a = bytearray((12, 8, 25, 2, 255))\n",
    "print(\"Creating Bytearray:\")\n",
    "print(a)\n",
    "\n",
    "print(\"\\nAccessing Elements:\", a[1])\n",
    "\n",
    "a[1] = 3\n",
    "print(\"\\nAfter Modifying:\")\n",
    "print(a)\n",
    "\n",
    "a.append(30)\n",
    "print(\"\\nAfter Adding Elements:\")\n",
    "print(a)"
   ]
  },
  {
   "cell_type": "markdown",
   "metadata": {},
   "source": [
    "## LinkedList"
   ]
  },
  {
   "cell_type": "code",
   "execution_count": 170,
   "metadata": {},
   "outputs": [],
   "source": [
    "class Node:\n",
    "    def __init__(self, data):\n",
    "        self.data = data\n",
    "        self.next = None"
   ]
  },
  {
   "cell_type": "code",
   "execution_count": 257,
   "metadata": {},
   "outputs": [],
   "source": [
    "def ins_front(head, data):\n",
    "    new_node = Node(data)\n",
    "    new_node.next = head\n",
    "    return new_node\n",
    "\n",
    "def ins_last(head, data):\n",
    "    trav = head\n",
    "    new_node = Node(data)\n",
    "    while trav.next != None:\n",
    "        trav = trav.next\n",
    "    trav.next = new_node\n",
    "    return head\n",
    "\n",
    "def ins_before_node(head, key, data):\n",
    "    if head == None:\n",
    "        return head\n",
    "    \n",
    "    trav = head\n",
    "    prev = None\n",
    "    new_node = Node(data)\n",
    "\n",
    "    while trav.data != key:\n",
    "        prev = trav\n",
    "        trav = trav.next\n",
    "\n",
    "        if trav.next == None:\n",
    "            raise Exception(f\"Key {key} Not Found!!\")\n",
    "\n",
    "    if prev == None:\n",
    "        prev = new_node\n",
    "        prev.next = trav\n",
    "        return new_node\n",
    "    \n",
    "    prev.next = new_node\n",
    "    new_node.next = trav\n",
    "\n",
    "    return head\n",
    "\n",
    "def ins_after_node(head, key, data):\n",
    "    trav = head\n",
    "\n",
    "    while trav.data != key:\n",
    "        trav = trav.next\n",
    "\n",
    "        if trav.next == None:\n",
    "            raise Exception(f\"Key {key} Not Found!!\")\n",
    "\n",
    "    if trav == None:\n",
    "        return head\n",
    "    \n",
    "    new_node = Node(200)\n",
    "    new_node.next = trav.next\n",
    "    trav.next = new_node\n",
    "\n",
    "    return head\n",
    "\n",
    "def ins_at_index(head, pos, data):\n",
    "    trav = head\n",
    "    prev = None\n",
    "\n",
    "    if head == None:\n",
    "        return head\n",
    "\n",
    "    while pos:\n",
    "        prev = trav\n",
    "        trav = trav.next\n",
    "        pos -= 1\n",
    "\n",
    "        if trav.next == None and pos:\n",
    "            raise Exception(\"Out of Bound!!!\")\n",
    "\n",
    "    new_node = Node(data)\n",
    "\n",
    "    if prev == None:\n",
    "        prev = new_node\n",
    "        prev.next = trav\n",
    "        return new_node\n",
    "    else:\n",
    "        prev.next = new_node\n",
    "        new_node.next = trav\n",
    "    return head"
   ]
  },
  {
   "cell_type": "code",
   "execution_count": 299,
   "metadata": {},
   "outputs": [],
   "source": [
    "def delete_front(head):\n",
    "    temp = head\n",
    "    head = head.next\n",
    "\n",
    "    del temp\n",
    "    return head\n",
    "\n",
    "def delete_last(head):\n",
    "    temp = head\n",
    "    prev = None\n",
    "\n",
    "    if head.next == None:\n",
    "        del head\n",
    "        return None\n",
    "    \n",
    "    while temp.next != None:\n",
    "        prev = temp\n",
    "        temp = temp.next\n",
    "    \n",
    "    prev.next = None\n",
    "    del temp\n",
    "    return head\n",
    "\n",
    "def delete_node(head, key):\n",
    "    temp = head\n",
    "    prev = None\n",
    "\n",
    "    while temp.data != key:\n",
    "        prev = temp\n",
    "        temp = temp.next\n",
    "\n",
    "        if temp.next == None:\n",
    "            raise Exception(f\"Key {key} Not Found!!\")\n",
    "        \n",
    "    if prev == None:\n",
    "        head = head.next\n",
    "        del temp\n",
    "        return head\n",
    "\n",
    "    prev.next = temp.next\n",
    "    del temp\n",
    "\n",
    "    return head\n",
    "        \n",
    "\n",
    "def delete_at_index(head, pos):\n",
    "    temp = head\n",
    "    prev = None\n",
    "\n",
    "    while pos:\n",
    "        prev = temp\n",
    "        temp = temp.next\n",
    "        pos -= 1\n",
    "\n",
    "        if temp.next == None and pos:\n",
    "            raise Exception(\"Can't Find Index!!!\")\n",
    "\n",
    "    if prev == None:\n",
    "        head = head.next\n",
    "        del temp\n",
    "        return head\n",
    "\n",
    "    prev.next = temp.next\n",
    "    del temp\n",
    "\n",
    "    return head"
   ]
  },
  {
   "cell_type": "code",
   "execution_count": 300,
   "metadata": {},
   "outputs": [],
   "source": [
    "def length(head):\n",
    "    count = 0\n",
    "    temp = head\n",
    "\n",
    "    while temp != None:\n",
    "        count += 1\n",
    "        temp = temp.next\n",
    "\n",
    "    return head, count\n",
    "\n",
    "def search(head, key):\n",
    "    temp = head\n",
    "\n",
    "    while temp != None:\n",
    "        if temp.data == key:\n",
    "            print(f\"Key {key} is Present...\")\n",
    "            return head\n",
    "        temp = temp.next\n",
    "        \n",
    "    print(f\"Key {key} is Not Present!!\")\n",
    "    return head"
   ]
  },
  {
   "cell_type": "code",
   "execution_count": null,
   "metadata": {},
   "outputs": [],
   "source": [
    "head = Node(1)\n",
    "second = Node(2)\n",
    "third = Node(3)\n",
    "\n",
    "head.next = second\n",
    "second.next = third\n",
    "\n",
    "head = ins_front(head, 10)\n",
    "head = ins_last(head, 100)\n",
    "# head = ins_before_node(head, 1000, 20)\n",
    "# head = ins_after_node(head, 2, 200)\n",
    "# head = ins_at_index(head, 2, 11)\n",
    "\n",
    "# head = delete_front(head)\n",
    "# head = delete_last(head)\n",
    "# head = delete_at_index(head, 4)\n",
    "# head = delete_node(head, 10)"
   ]
  },
  {
   "cell_type": "code",
   "execution_count": 302,
   "metadata": {},
   "outputs": [
    {
     "name": "stdout",
     "output_type": "stream",
     "text": [
      "Length : 4\n",
      "Key 1000 is Not Present!!\n"
     ]
    }
   ],
   "source": [
    "head, l = length(head)\n",
    "print(f'Length : {l}')\n",
    "head = search(head, 1000)"
   ]
  },
  {
   "cell_type": "code",
   "execution_count": 303,
   "metadata": {},
   "outputs": [
    {
     "name": "stdout",
     "output_type": "stream",
     "text": [
      "1\n",
      "2\n",
      "3\n",
      "100\n"
     ]
    }
   ],
   "source": [
    "while head != None:\n",
    "    print(head.data)\n",
    "    head = head.next"
   ]
  },
  {
   "cell_type": "markdown",
   "metadata": {},
   "source": [
    "- Stack using List"
   ]
  },
  {
   "cell_type": "code",
   "execution_count": 315,
   "metadata": {},
   "outputs": [
    {
     "name": "stdout",
     "output_type": "stream",
     "text": [
      "[1, 2, 3]\n",
      "[1, 2]\n"
     ]
    }
   ],
   "source": [
    "stk = []\n",
    "stk.append(1)\n",
    "stk.append(2)\n",
    "stk.append(3)\n",
    "print(stk)\n",
    "\n",
    "stk.pop()\n",
    "print(stk)"
   ]
  }
 ],
 "metadata": {
  "kernelspec": {
   "display_name": "Python 3",
   "language": "python",
   "name": "python3"
  },
  "language_info": {
   "codemirror_mode": {
    "name": "ipython",
    "version": 3
   },
   "file_extension": ".py",
   "mimetype": "text/x-python",
   "name": "python",
   "nbconvert_exporter": "python",
   "pygments_lexer": "ipython3",
   "version": "3.13.1"
  }
 },
 "nbformat": 4,
 "nbformat_minor": 2
}
