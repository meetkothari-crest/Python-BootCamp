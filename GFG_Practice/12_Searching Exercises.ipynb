{
 "cells": [
  {
   "cell_type": "markdown",
   "metadata": {},
   "source": [
    "- Python Program for Linear Search"
   ]
  },
  {
   "cell_type": "code",
   "execution_count": 3,
   "metadata": {},
   "outputs": [
    {
     "name": "stdout",
     "output_type": "stream",
     "text": [
      "Target present at: 4\n"
     ]
    }
   ],
   "source": [
    "# iterative method  \n",
    "arr = [10, 23, 45, 70, 11, 15]\n",
    "target = 11\n",
    "\n",
    "for i in range(len(arr)):\n",
    "    if arr[i] == target:\n",
    "        print(f'Target present at: {i}')\n",
    "        break"
   ]
  },
  {
   "cell_type": "code",
   "execution_count": 8,
   "metadata": {},
   "outputs": [
    {
     "name": "stdout",
     "output_type": "stream",
     "text": [
      "Target 11 present at index 4\n"
     ]
    }
   ],
   "source": [
    "# Recursive method\n",
    "\n",
    "def linear(arr, target, index = 0):\n",
    "    if len(arr) == index:\n",
    "        return -1\n",
    "    \n",
    "    if arr[index] == target:\n",
    "        return index\n",
    "    \n",
    "    return linear(arr, target, index + 1)\n",
    "\n",
    "arr = [10, 23, 45, 70, 11, 15]\n",
    "target = 11\n",
    "\n",
    "res = linear(arr, target)\n",
    "print(f'Target {target} present at index {res}')\n"
   ]
  },
  {
   "cell_type": "markdown",
   "metadata": {},
   "source": [
    "- Python Program for Binary Search (Recursive and Iterative)"
   ]
  },
  {
   "cell_type": "code",
   "execution_count": 19,
   "metadata": {},
   "outputs": [
    {
     "name": "stdout",
     "output_type": "stream",
     "text": [
      "Target 10 present at index 3\n"
     ]
    }
   ],
   "source": [
    "# Iterative method\n",
    "def binary_iterative(arr, low, high, target):\n",
    "    while low <= high:\n",
    "\n",
    "        mid = (low+high) // 2\n",
    "\n",
    "        if arr[mid] == target:\n",
    "            return mid\n",
    "        elif arr[mid] < target:\n",
    "            low = mid + 1\n",
    "        else:\n",
    "            high = mid -1\n",
    "    return -1\n",
    "\n",
    "arr = [ 2, 3, 4, 10, 40 ]\n",
    "target = 10\n",
    "\n",
    "res = binary_iterative(arr, 0, len(arr)-1, target)\n",
    "if res != -1:\n",
    "    print(f'Target {target} present at index {res}')\n",
    "else:\n",
    "    print(f'Target {target} is not present')\n"
   ]
  },
  {
   "cell_type": "code",
   "execution_count": 20,
   "metadata": {},
   "outputs": [
    {
     "name": "stdout",
     "output_type": "stream",
     "text": [
      "Target 10 present at index 3\n"
     ]
    }
   ],
   "source": [
    "# Recursive method\n",
    "\n",
    "def binary_recursive(arr, low, high, target):\n",
    "\n",
    "    if low <= high:\n",
    "        mid = (low+high) // 2\n",
    "\n",
    "        if arr[mid] == target:\n",
    "            return mid\n",
    "        elif arr[mid] < target:\n",
    "            return binary_recursive(arr, mid+1, high, target)\n",
    "        else:\n",
    "            return binary_recursive(arr, low, mid-1, target)\n",
    "    else:\n",
    "        return -1\n",
    "    \n",
    "arr = [ 2, 3, 4, 10, 40 ]\n",
    "target = 10\n",
    "\n",
    "res = binary_recursive(arr, 0, len(arr)-1, target)\n",
    "if res != -1:\n",
    "    print(f'Target {target} present at index {res}')\n",
    "else:\n",
    "    print(f'Target {target} is not present')"
   ]
  },
  {
   "cell_type": "markdown",
   "metadata": {},
   "source": [
    "- Python Program for Anagram Substring Search (Or Search for all permutations)"
   ]
  },
  {
   "cell_type": "code",
   "execution_count": 37,
   "metadata": {},
   "outputs": [],
   "source": [
    "def compare(s1, s2):\n",
    "    temp1 = ''.join(sorted(s1)) \n",
    "    temp2 = ''.join(sorted(s2))\n",
    "\n",
    "    return temp1 == temp2\n",
    "\n",
    "def search(pat, txt):\n",
    "    i = 0\n",
    "    j = len(pat)\n",
    "\n",
    "    l = []\n",
    "\n",
    "    while j <= len(txt):\n",
    "\n",
    "        if compare(pat, txt[i:j]):\n",
    "            print(i, j, txt[i:j])\n",
    "            l.append(txt[i:j])\n",
    "        i += 1\n",
    "        j += 1\n",
    "\n",
    "    return l\n",
    "        \n"
   ]
  },
  {
   "cell_type": "code",
   "execution_count": 38,
   "metadata": {},
   "outputs": [
    {
     "name": "stdout",
     "output_type": "stream",
     "text": [
      "0 4 BACD\n",
      "5 9 ABCD\n",
      "6 10 BCDA\n"
     ]
    },
    {
     "data": {
      "text/plain": [
       "['BACD', 'ABCD', 'BCDA']"
      ]
     },
     "execution_count": 38,
     "metadata": {},
     "output_type": "execute_result"
    }
   ],
   "source": [
    "txt = \"BACDGABCDA\"\n",
    "pat = \"ABCD\"       \n",
    "search(pat, txt)"
   ]
  },
  {
   "cell_type": "code",
   "execution_count": 34,
   "metadata": {},
   "outputs": [
    {
     "name": "stdout",
     "output_type": "stream",
     "text": [
      "10\n"
     ]
    },
    {
     "data": {
      "text/plain": [
       "True"
      ]
     },
     "execution_count": 34,
     "metadata": {},
     "output_type": "execute_result"
    }
   ],
   "source": [
    "txt = \"BACDGABCDA\"\n",
    "pat = \"ABCD\" \n",
    "\n",
    "print(len(txt))\n",
    "\n",
    "compare(pat, txt[6:10])"
   ]
  },
  {
   "cell_type": "code",
   "execution_count": null,
   "metadata": {},
   "outputs": [],
   "source": []
  }
 ],
 "metadata": {
  "kernelspec": {
   "display_name": "Python 3",
   "language": "python",
   "name": "python3"
  },
  "language_info": {
   "codemirror_mode": {
    "name": "ipython",
    "version": 3
   },
   "file_extension": ".py",
   "mimetype": "text/x-python",
   "name": "python",
   "nbconvert_exporter": "python",
   "pygments_lexer": "ipython3",
   "version": "3.13.1"
  }
 },
 "nbformat": 4,
 "nbformat_minor": 2
}
