{
 "cells": [
  {
   "cell_type": "markdown",
   "metadata": {},
   "source": [
    "- Sort Python Dictionaries by Key or Value\n"
   ]
  },
  {
   "cell_type": "code",
   "execution_count": 9,
   "metadata": {},
   "outputs": [
    {
     "name": "stdout",
     "output_type": "stream",
     "text": [
      "Sorted by keys, {'a': 3, 'b': 2, 'c': 1}\n"
     ]
    }
   ],
   "source": [
    "d = {'c': 1, 'a': 3, 'b': 2}\n",
    "\n",
    "# Sort by Keys\n",
    "key_l = sorted(d)\n",
    "d1 = {}\n",
    "for i in key_l:\n",
    "    d1[i] = d[i]\n",
    "\n",
    "print(f\"Sorted by keys, {d1}\")"
   ]
  },
  {
   "cell_type": "code",
   "execution_count": 12,
   "metadata": {},
   "outputs": [
    {
     "name": "stdout",
     "output_type": "stream",
     "text": [
      "Sorted by Values, {'c': 1, 'b': 2, 'a': 3}\n"
     ]
    }
   ],
   "source": [
    "d = {'c': 1, 'a': 3, 'b': 2}\n",
    "\n",
    "d2 = {k:val for k, val in sorted(d.items(), key=lambda k:k[1])}\n",
    "\n",
    "print(f\"Sorted by Values, {d2}\")"
   ]
  },
  {
   "cell_type": "markdown",
   "metadata": {},
   "source": [
    "- Handling missing keys in Dictionaries"
   ]
  },
  {
   "cell_type": "code",
   "execution_count": 13,
   "metadata": {},
   "outputs": [
    {
     "name": "stdout",
     "output_type": "stream",
     "text": [
      "1\n",
      "Not Found\n"
     ]
    }
   ],
   "source": [
    "d = {'k1': 1, 'k2': 2, 'k3': 3}\n",
    "\n",
    "print(d.get('k1','Not Found'))\n",
    "print(d.get('k4','Not Found'))"
   ]
  },
  {
   "cell_type": "markdown",
   "metadata": {},
   "source": [
    "- Python dictionary with keys having multiple inputs"
   ]
  },
  {
   "cell_type": "code",
   "execution_count": 17,
   "metadata": {},
   "outputs": [
    {
     "name": "stdout",
     "output_type": "stream",
     "text": [
      "{('k1', 'k2'): 1, (1, 2): 'key'}\n"
     ]
    }
   ],
   "source": [
    "d = {}\n",
    "d['k1','k2'] = 1\n",
    "d[1,2] = 'key'\n",
    "\n",
    "print(d)\n"
   ]
  },
  {
   "cell_type": "markdown",
   "metadata": {},
   "source": [
    "- Find the sum of all items in a dictionary"
   ]
  },
  {
   "cell_type": "code",
   "execution_count": 18,
   "metadata": {},
   "outputs": [
    {
     "data": {
      "text/plain": [
       "600"
      ]
     },
     "execution_count": 18,
     "metadata": {},
     "output_type": "execute_result"
    }
   ],
   "source": [
    "d = {'a': 100, 'b':200, 'c':300}\n",
    "\n",
    "sum = sum(d.values())\n",
    "sum"
   ]
  },
  {
   "cell_type": "markdown",
   "metadata": {},
   "source": [
    "- Find the size of a Dictionary"
   ]
  },
  {
   "cell_type": "code",
   "execution_count": 2,
   "metadata": {},
   "outputs": [
    {
     "name": "stdout",
     "output_type": "stream",
     "text": [
      "Size of d1 (Method1), 168 bytes\n",
      "Size of d1 (Method2), 184 bytes\n",
      "Size of d2 (Method1), 256 bytes\n",
      "Size of d2 (Method2), 272 bytes\n"
     ]
    }
   ],
   "source": [
    "import sys\n",
    "d1 = {'k1': 1, 'k2': 2, 'k3': 3}\n",
    "d2 = {'k1': 1, 'k2': 2, 'k3': 3, 'k4': 1, 'k5': 2, 'k6': 3}\n",
    "\n",
    "print(f\"Size of d1 (Method1), {d1.__sizeof__()} bytes\")\n",
    "print(f\"Size of d1 (Method2), {sys.getsizeof(d1)} bytes\")\n",
    "print(f\"Size of d2 (Method1), {d2.__sizeof__()} bytes\")\n",
    "print(f\"Size of d2 (Method2), {sys.getsizeof(d2)} bytes\")"
   ]
  }
 ],
 "metadata": {
  "kernelspec": {
   "display_name": "Python 3",
   "language": "python",
   "name": "python3"
  },
  "language_info": {
   "codemirror_mode": {
    "name": "ipython",
    "version": 3
   },
   "file_extension": ".py",
   "mimetype": "text/x-python",
   "name": "python",
   "nbconvert_exporter": "python",
   "pygments_lexer": "ipython3",
   "version": "3.13.1"
  }
 },
 "nbformat": 4,
 "nbformat_minor": 2
}
