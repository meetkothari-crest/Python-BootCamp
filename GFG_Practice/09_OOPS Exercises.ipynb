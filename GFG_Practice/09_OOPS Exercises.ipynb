{
 "cells": [
  {
   "cell_type": "markdown",
   "metadata": {},
   "source": [
    "- Python program to build flashcard using class"
   ]
  },
  {
   "cell_type": "code",
   "execution_count": 3,
   "metadata": {},
   "outputs": [
    {
     "name": "stdout",
     "output_type": "stream",
     "text": [
      "Crads : \n",
      "\tone : 1\n",
      "\ttwo : 2\n"
     ]
    }
   ],
   "source": [
    "class FlashCard:\n",
    "    def __init__(self, word, num):\n",
    "        self.word = word\n",
    "        self.num = num\n",
    "    \n",
    "    def __str__(self):\n",
    "        return f\"{self.word} : {self.num}\"\n",
    "    \n",
    "isTrue = True\n",
    "cards = []\n",
    "\n",
    "while isTrue:\n",
    "    word = input(\"Enter a word: \")\n",
    "    num = input(\"Enter a number: \")\n",
    "\n",
    "    cards.append(FlashCard(word, num))\n",
    "\n",
    "    on = input('Wanna make another? (y/n)')\n",
    "\n",
    "    if on == 'y':\n",
    "        isTrue = True\n",
    "    else:\n",
    "        isTrue = False\n",
    "print('Crads : ')\n",
    "for i in cards:\n",
    "    print(f'\\t{i}')"
   ]
  },
  {
   "cell_type": "markdown",
   "metadata": {},
   "source": [
    "- Shuffle a deck of card with OOPS"
   ]
  },
  {
   "cell_type": "code",
   "execution_count": 11,
   "metadata": {},
   "outputs": [],
   "source": [
    "from random import shuffle\n",
    "\n",
    "class Card:\n",
    "\n",
    "    def __init__(self, char , suit):\n",
    "        self.char = char\n",
    "        self.suit = suit\n",
    "\n",
    "    def __str__(self):\n",
    "        return f\"{self.char} of {self.suit}\"\n",
    "\n",
    "suits = ['Hearts', 'Diamonds', 'Clubs', 'Spades']\n",
    "char = ['2', '3', '4', '5', '6', '7', '8', '9', '10', 'J', 'Q', 'K', 'A']\n",
    "\n",
    "class Deck:\n",
    "    def __init__(self):\n",
    "        self.cards = []\n",
    "\n",
    "        for suit in suits:\n",
    "            for c in char:\n",
    "                self.cards.append(Card(c,suit))\n",
    "    def __str__(self):\n",
    "        l = []\n",
    "        s = ''\n",
    "        for card in self.cards:\n",
    "            s += f\"{card.__str__()}\\n\"\n",
    "        return s\n",
    "    \n",
    "    def shuffle(self):\n",
    "        return shuffle(self.cards)\n"
   ]
  },
  {
   "cell_type": "code",
   "execution_count": 15,
   "metadata": {},
   "outputs": [
    {
     "name": "stdout",
     "output_type": "stream",
     "text": [
      "K of Clubs\n",
      "4 of Hearts\n",
      "3 of Clubs\n",
      "Q of Spades\n",
      "A of Diamonds\n",
      "10 of Diamonds\n",
      "J of Spades\n",
      "J of Diamonds\n",
      "Q of Hearts\n",
      "7 of Clubs\n",
      "9 of Clubs\n",
      "3 of Spades\n",
      "6 of Clubs\n",
      "2 of Clubs\n",
      "K of Diamonds\n",
      "K of Hearts\n",
      "9 of Diamonds\n",
      "9 of Hearts\n",
      "4 of Spades\n",
      "5 of Diamonds\n",
      "A of Spades\n",
      "10 of Clubs\n",
      "7 of Hearts\n",
      "8 of Spades\n",
      "7 of Spades\n",
      "J of Hearts\n",
      "4 of Diamonds\n",
      "10 of Spades\n",
      "A of Hearts\n",
      "J of Clubs\n",
      "Q of Diamonds\n",
      "5 of Spades\n",
      "8 of Hearts\n",
      "3 of Diamonds\n",
      "5 of Clubs\n",
      "2 of Hearts\n",
      "2 of Spades\n",
      "Q of Clubs\n",
      "A of Clubs\n",
      "9 of Spades\n",
      "6 of Diamonds\n",
      "6 of Hearts\n",
      "7 of Diamonds\n",
      "8 of Diamonds\n",
      "3 of Hearts\n",
      "4 of Clubs\n",
      "10 of Hearts\n",
      "8 of Clubs\n",
      "6 of Spades\n",
      "K of Spades\n",
      "5 of Hearts\n",
      "2 of Diamonds\n",
      "\n"
     ]
    }
   ],
   "source": [
    "deck  = Deck()\n",
    "deck.shuffle()\n",
    "print(deck)"
   ]
  },
  {
   "cell_type": "markdown",
   "metadata": {},
   "source": [
    "- How to create an empty class?"
   ]
  },
  {
   "cell_type": "code",
   "execution_count": 17,
   "metadata": {},
   "outputs": [
    {
     "name": "stdout",
     "output_type": "stream",
     "text": [
      "<__main__.Empty object at 0x000001CCC9971400>\n"
     ]
    }
   ],
   "source": [
    "class Empty:\n",
    "    pass\n",
    "\n",
    "e = Empty()\n",
    "\n",
    "print(e)"
   ]
  },
  {
   "cell_type": "markdown",
   "metadata": {},
   "source": [
    "- Student management system"
   ]
  },
  {
   "cell_type": "code",
   "execution_count": 23,
   "metadata": {},
   "outputs": [
    {
     "name": "stdout",
     "output_type": "stream",
     "text": [
      "\n",
      "\n",
      "List of Students\n",
      "\n",
      "Name :  Meet\n",
      "RollNo :  23\n",
      "\n",
      "\n",
      "Name :  Jay\n",
      "RollNo :  53\n",
      "\n",
      "\n",
      "Name :  Extra\n",
      "RollNo :  10\n",
      "\n",
      "\n",
      "\n",
      "Student Found! \n",
      "Name :  Meet\n",
      "RollNo :  23\n",
      "\n",
      "\n",
      "List after deletion\n",
      "Name :  Meet\n",
      "RollNo :  23\n",
      "\n",
      "\n",
      "Name :  Jay\n",
      "RollNo :  53\n",
      "\n",
      "\n",
      "List after updation\n",
      "Name :  Meet\n",
      "RollNo :  230\n",
      "\n",
      "\n",
      "Name :  Jay\n",
      "RollNo :  53\n",
      "\n",
      "\n",
      "END!!\n"
     ]
    }
   ],
   "source": [
    "class Student:\n",
    "\n",
    "\tdef __init__(self, name, rollno):\n",
    "\t\tself.name = name\n",
    "\t\tself.rollno = rollno\n",
    "\n",
    "\tdef accept(self, Name, Rollno):\n",
    "\n",
    "\t\tob = Student(Name, Rollno)\n",
    "\t\tls.append(ob)\n",
    "\n",
    "\tdef display(self, ob):\n",
    "\t\tprint(\"Name : \", ob.name)\n",
    "\t\tprint(\"RollNo : \", ob.rollno)\n",
    "\t\tprint(\"\\n\")\n",
    "\n",
    "\tdef search(self, rn):\n",
    "\t\tfor i in range(len(ls)):\n",
    "\t\t\tif(ls[i].rollno == rn):\n",
    "\t\t\t\treturn i\n",
    "\n",
    "\tdef delete(self, rn):\n",
    "\t\ti = obj.search(rn)\n",
    "\t\tdel ls[i]\n",
    "\n",
    "\tdef update(self, rn, No):\n",
    "\t\ti = obj.search(rn)\n",
    "\t\troll = No\n",
    "\t\tls[i].rollno = roll\n",
    "\n",
    "\n",
    "ls = []\n",
    "obj = Student('', 0)\n",
    "\n",
    "obj.accept(\"Meet\", 23)\n",
    "obj.accept(\"Jay\", 53)\n",
    "obj.accept(\"Extra\", 10)\n",
    "\n",
    "print(\"\\n\")\n",
    "print(\"List of Students\\n\")\n",
    "for i in range(len(ls)):\n",
    "\tobj.display(ls[i])\n",
    "\n",
    "print(\"\\nStudent Found! \")\n",
    "s = obj.search(23)\n",
    "obj.display(ls[s])\n",
    "\n",
    "obj.delete(10)\n",
    "print(\"List after deletion\")\n",
    "for i in range(len(ls)):\n",
    "\tobj.display(ls[i])\n",
    "\n",
    "obj.update(23, 230)\n",
    "print(\"List after updation\")\n",
    "for i in range(len(ls)):\n",
    "\tobj.display(ls[i])\n",
    "\n",
    "print(\"END!!\")\n"
   ]
  },
  {
   "cell_type": "code",
   "execution_count": null,
   "metadata": {},
   "outputs": [],
   "source": []
  }
 ],
 "metadata": {
  "kernelspec": {
   "display_name": "Python 3",
   "language": "python",
   "name": "python3"
  },
  "language_info": {
   "codemirror_mode": {
    "name": "ipython",
    "version": 3
   },
   "file_extension": ".py",
   "mimetype": "text/x-python",
   "name": "python",
   "nbconvert_exporter": "python",
   "pygments_lexer": "ipython3",
   "version": "3.13.1"
  }
 },
 "nbformat": 4,
 "nbformat_minor": 2
}
