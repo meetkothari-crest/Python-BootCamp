{
 "cells": [
  {
   "cell_type": "markdown",
   "metadata": {},
   "source": [
    "- How to get list of parameters name from a function?"
   ]
  },
  {
   "cell_type": "code",
   "execution_count": 8,
   "metadata": {},
   "outputs": [
    {
     "name": "stdout",
     "output_type": "stream",
     "text": [
      "(iterable, /, *, key=None, reverse=False)\n",
      "FullArgSpec(args=['iterable'], varargs=None, varkw=None, defaults=None, kwonlyargs=['key', 'reverse'], kwonlydefaults={'key': None, 'reverse': False}, annotations={})\n"
     ]
    }
   ],
   "source": [
    "import inspect\n",
    "\n",
    "print(inspect.signature(sorted))\n",
    "print(inspect.getfullargspec(sorted))"
   ]
  },
  {
   "cell_type": "code",
   "execution_count": 9,
   "metadata": {},
   "outputs": [
    {
     "name": "stdout",
     "output_type": "stream",
     "text": [
      "(a, b)\n",
      "FullArgSpec(args=['a', 'b'], varargs=None, varkw=None, defaults=None, kwonlyargs=[], kwonlydefaults=None, annotations={})\n"
     ]
    }
   ],
   "source": [
    "import inspect\n",
    "def func(a,b):\n",
    "    return a,b\n",
    "\n",
    "print(inspect.signature(func))\n",
    "print(inspect.getfullargspec(func))"
   ]
  },
  {
   "cell_type": "markdown",
   "metadata": {},
   "source": [
    "- How to Print Multiple Arguments?"
   ]
  },
  {
   "cell_type": "code",
   "execution_count": 10,
   "metadata": {},
   "outputs": [
    {
     "name": "stdout",
     "output_type": "stream",
     "text": [
      "10 20 30\n"
     ]
    }
   ],
   "source": [
    "def f(a,b,c):\n",
    "    print(a,b,c)\n",
    "\n",
    "f(10,20,30)"
   ]
  },
  {
   "cell_type": "code",
   "execution_count": 11,
   "metadata": {},
   "outputs": [
    {
     "name": "stdout",
     "output_type": "stream",
     "text": [
      "(10, 20, 30, 40)\n"
     ]
    }
   ],
   "source": [
    "def f(*args):\n",
    "    print(args)\n",
    "\n",
    "f(10,20,30,40)"
   ]
  },
  {
   "cell_type": "code",
   "execution_count": 13,
   "metadata": {},
   "outputs": [
    {
     "name": "stdout",
     "output_type": "stream",
     "text": [
      "(10, 20, 30, 40)\n",
      "{'a': [1, 2, 3], 'b': [10, 100, 1000]}\n"
     ]
    }
   ],
   "source": [
    "def f(*args, **kwargs):\n",
    "    print(args)\n",
    "    print(kwargs)\n",
    "\n",
    "f(10,20,30,40, a = [1,2,3], b = [10,100,1000])"
   ]
  },
  {
   "cell_type": "markdown",
   "metadata": {},
   "source": [
    "- Python program to find the power of a number using recursion"
   ]
  },
  {
   "cell_type": "code",
   "execution_count": 15,
   "metadata": {},
   "outputs": [
    {
     "name": "stdout",
     "output_type": "stream",
     "text": [
      "125\n"
     ]
    }
   ],
   "source": [
    "\n",
    "\n",
    "def power(n,p):\n",
    "    if p == 0:\n",
    "        return 1\n",
    "    \n",
    "    return n * power(n,p-1)\n",
    "\n",
    "res = power(5,3)\n",
    "print(res)\n"
   ]
  },
  {
   "cell_type": "markdown",
   "metadata": {},
   "source": [
    "- Sorting objects of user defined class"
   ]
  },
  {
   "cell_type": "code",
   "execution_count": 29,
   "metadata": {},
   "outputs": [
    {
     "name": "stdout",
     "output_type": "stream",
     "text": [
      "[\n",
      "Yuvraj: 4, \n",
      "Dhairya: 12, \n",
      "Meet: 23, \n",
      "Jay: 53]\n"
     ]
    }
   ],
   "source": [
    "class A:\n",
    "    def __init__(self,name,id):\n",
    "        self.name = name\n",
    "        self.id = id\n",
    "    \n",
    "    # def __str__(self):\n",
    "    #     return f\"{self.name}, {self.id}\"\n",
    "    \n",
    "    def __repr__(self):\n",
    "        return f\"\\n{self.name}: {self.id}\"\n",
    "\n",
    "obj_lst = [A('Meet', 23), A('Yuvraj',4), A('Dhairya', 12), A('Jay', 53)]\n",
    "\n",
    "print(sorted(obj_lst, key=lambda x:x.id))\n",
    "    "
   ]
  },
  {
   "cell_type": "markdown",
   "metadata": {},
   "source": [
    "- Functions that accept variable length key value pair as arguments"
   ]
  },
  {
   "cell_type": "code",
   "execution_count": 30,
   "metadata": {},
   "outputs": [
    {
     "name": "stdout",
     "output_type": "stream",
     "text": [
      "{'a': 1, 'b': 2, 'c': 3}\n"
     ]
    }
   ],
   "source": [
    "def f(**kw):\n",
    "    print(kw)\n",
    "\n",
    "f(a=1, b=2, c=3)"
   ]
  }
 ],
 "metadata": {
  "kernelspec": {
   "display_name": "Python 3",
   "language": "python",
   "name": "python3"
  },
  "language_info": {
   "codemirror_mode": {
    "name": "ipython",
    "version": 3
   },
   "file_extension": ".py",
   "mimetype": "text/x-python",
   "name": "python",
   "nbconvert_exporter": "python",
   "pygments_lexer": "ipython3",
   "version": "3.13.1"
  }
 },
 "nbformat": 4,
 "nbformat_minor": 2
}
