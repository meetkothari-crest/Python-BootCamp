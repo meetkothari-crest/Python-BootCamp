{
 "cells": [
  {
   "cell_type": "markdown",
   "metadata": {},
   "source": [
    "- Python program to Search an Element in a Circular Linked List"
   ]
  },
  {
   "cell_type": "code",
   "execution_count": 42,
   "metadata": {},
   "outputs": [],
   "source": [
    "class Node:\n",
    "\n",
    "    def __init__(self, data):\n",
    "        self.data = data\n",
    "        self.next = None"
   ]
  },
  {
   "cell_type": "code",
   "execution_count": 43,
   "metadata": {},
   "outputs": [],
   "source": [
    "def insert_first(head, data):\n",
    "    new_node = Node(data)\n",
    "    temp = head\n",
    "\n",
    "    while True:\n",
    "        if temp.next == head:\n",
    "            break\n",
    "        temp = temp.next\n",
    "\n",
    "    temp.next = new_node\n",
    "    new_node.next = head\n",
    "\n",
    "    return new_node\n",
    "\n",
    "\n",
    "def search(head, data):\n",
    "    temp = head\n",
    "\n",
    "    while True:\n",
    "\n",
    "        if temp.next == head:\n",
    "            break\n",
    "\n",
    "        if temp.data == data:\n",
    "            print(f\"{data} is Present...\")\n",
    "            return head\n",
    "        \n",
    "        temp = temp.next\n",
    "\n",
    "        if temp.data == data:\n",
    "            print(f\"{data} is Present...\")\n",
    "            return head\n",
    "            \n",
    "    print(f\"{data} is not present!!!\")\n",
    "    \n",
    "    return head\n",
    "\n",
    "def printlist(head):\n",
    "    temp = head\n",
    "    while True:\n",
    "        if temp == None:\n",
    "            break\n",
    "\n",
    "        print(temp.data)\n",
    "\n",
    "        if temp.next == head:\n",
    "            break\n",
    "        \n",
    "        temp = temp.next\n",
    "        "
   ]
  },
  {
   "cell_type": "code",
   "execution_count": 47,
   "metadata": {},
   "outputs": [
    {
     "name": "stdout",
     "output_type": "stream",
     "text": [
      "30 is Present...\n"
     ]
    }
   ],
   "source": [
    "head = Node(10)\n",
    "second = Node(20)\n",
    "third = Node(30)\n",
    "\n",
    "head.next = second\n",
    "second.next = third\n",
    "third.next = head\n",
    "\n",
    "head = insert_first(head, 100)\n",
    "head = search(head, 30)"
   ]
  },
  {
   "cell_type": "code",
   "execution_count": 48,
   "metadata": {},
   "outputs": [
    {
     "name": "stdout",
     "output_type": "stream",
     "text": [
      "100\n",
      "10\n",
      "20\n",
      "30\n"
     ]
    }
   ],
   "source": [
    "printlist(head)"
   ]
  },
  {
   "cell_type": "markdown",
   "metadata": {},
   "source": [
    "- Pretty print Linked List in Python"
   ]
  },
  {
   "cell_type": "code",
   "execution_count": 73,
   "metadata": {},
   "outputs": [],
   "source": [
    "class Node:\n",
    "    def __init__(self, data=None):\n",
    "        self.data = data\n",
    "        self.next = None\n",
    "\n",
    "class LL:\n",
    "    def __init__(self, head=None):\n",
    "        self.head = head\n",
    "\n",
    "    def __str__(self):\n",
    "        s = ''\n",
    "        temp = self.head\n",
    "\n",
    "        while temp != None:\n",
    "            s += str(temp.data) + ' '\n",
    "            temp = temp.next\n",
    "\n",
    "        return s\n"
   ]
  },
  {
   "cell_type": "code",
   "execution_count": 74,
   "metadata": {},
   "outputs": [
    {
     "name": "stdout",
     "output_type": "stream",
     "text": [
      "1 2 3 \n"
     ]
    }
   ],
   "source": [
    "ll =LL()\n",
    "n1 = Node(1)\n",
    "n2 = Node(2)\n",
    "n3 = Node(3)\n",
    "\n",
    "ll.head = n1\n",
    "n1.next = n2\n",
    "n2.next = n3\n",
    "\n",
    "print(ll)"
   ]
  },
  {
   "cell_type": "markdown",
   "metadata": {},
   "source": [
    "- Stack using Doubly Linked List"
   ]
  },
  {
   "cell_type": "code",
   "execution_count": 78,
   "metadata": {},
   "outputs": [],
   "source": [
    "class Node:\n",
    "    def __init__(self, data=None):\n",
    "        self.data = data\n",
    "        self.rptr = None\n",
    "        self.lptr = None"
   ]
  },
  {
   "cell_type": "code",
   "execution_count": 117,
   "metadata": {},
   "outputs": [],
   "source": [
    "class StackUsingLL:\n",
    "    def __init__(self, head= None):\n",
    "        self.head = head\n",
    "\n",
    "    def push(self, data):\n",
    "        new_node = Node(data)\n",
    "        if self.head == None:\n",
    "            self.head = new_node\n",
    "        else:\n",
    "            new_node.rptr = self.head\n",
    "            self.head.lptr = new_node\n",
    "\n",
    "            self.head = new_node\n",
    "\n",
    "    def pop(self):\n",
    "        if self.head == None:\n",
    "            return None\n",
    "        if self.head.rptr == None:\n",
    "            ele = self.head.data\n",
    "            self.head = None\n",
    "            return ele\n",
    "        \n",
    "        ele = self.head.data\n",
    "        self.head = self.head.rptr\n",
    "        self.head.lptr = None\n",
    "        return ele\n",
    "        \n",
    "    def top(self):\n",
    "        return self.head.data\n",
    "\n",
    "    def length(self):\n",
    "        temp = self.head\n",
    "        count = 0\n",
    "\n",
    "        while temp != None:\n",
    "            count += 1\n",
    "            temp = temp.rptr\n",
    "\n",
    "        return count\n",
    "\n",
    "\n",
    "    def isEmp(self):\n",
    "        if self.head == None:\n",
    "            return True\n",
    "        else:\n",
    "            return False\n",
    "\n",
    "    def display(self):\n",
    "        temp = self.head\n",
    "\n",
    "        while temp != None:\n",
    "            print(temp.data)\n",
    "            temp = temp.rptr"
   ]
  },
  {
   "cell_type": "code",
   "execution_count": 118,
   "metadata": {},
   "outputs": [
    {
     "name": "stdout",
     "output_type": "stream",
     "text": [
      "True\n"
     ]
    }
   ],
   "source": [
    "stk = StackUsingLL()\n",
    "print(stk.isEmp())"
   ]
  },
  {
   "cell_type": "code",
   "execution_count": 119,
   "metadata": {},
   "outputs": [],
   "source": [
    "stk.push(10)\n",
    "stk.push(20)\n",
    "stk.push(30)\n",
    "stk.push(40)"
   ]
  },
  {
   "cell_type": "code",
   "execution_count": 120,
   "metadata": {},
   "outputs": [
    {
     "name": "stdout",
     "output_type": "stream",
     "text": [
      "40\n",
      "30\n",
      "20\n",
      "10\n"
     ]
    }
   ],
   "source": [
    "stk.display()"
   ]
  },
  {
   "cell_type": "code",
   "execution_count": 121,
   "metadata": {},
   "outputs": [
    {
     "data": {
      "text/plain": [
       "40"
      ]
     },
     "execution_count": 121,
     "metadata": {},
     "output_type": "execute_result"
    }
   ],
   "source": [
    "stk.top()"
   ]
  },
  {
   "cell_type": "code",
   "execution_count": 122,
   "metadata": {},
   "outputs": [
    {
     "data": {
      "text/plain": [
       "4"
      ]
     },
     "execution_count": 122,
     "metadata": {},
     "output_type": "execute_result"
    }
   ],
   "source": [
    "stk.length()"
   ]
  },
  {
   "cell_type": "code",
   "execution_count": 123,
   "metadata": {},
   "outputs": [
    {
     "name": "stdout",
     "output_type": "stream",
     "text": [
      "30\n",
      "20\n",
      "10\n"
     ]
    }
   ],
   "source": [
    "stk.pop()\n",
    "stk.display()"
   ]
  },
  {
   "cell_type": "markdown",
   "metadata": {},
   "source": [
    "- Queue using Doubly Linked List"
   ]
  },
  {
   "cell_type": "code",
   "execution_count": 116,
   "metadata": {},
   "outputs": [],
   "source": [
    "class Node:\n",
    "    def __init__(self, data=None):\n",
    "        self.data = data\n",
    "        self.rptr = None\n",
    "        self.lptr = None"
   ]
  },
  {
   "cell_type": "code",
   "execution_count": 189,
   "metadata": {},
   "outputs": [],
   "source": [
    "class QueueUsingLL:\n",
    "    def __init__(self):\n",
    "        self.head = None\n",
    "        self.last = None\n",
    "\n",
    "    def enQueue(self, data):\n",
    "        new_node = Node(data)\n",
    "        if self.head == None:\n",
    "            self.head = new_node\n",
    "            self.last = self.head\n",
    "        else:\n",
    "            self.head.lptr = new_node\n",
    "            new_node.rptr = self.head\n",
    "            self.head = new_node\n",
    "\n",
    "    def deQueue(self):\n",
    "        if self.last == None:\n",
    "            print(\"Queue is Empty!!!\")\n",
    "            return None\n",
    "        temp = self.last.data\n",
    "        if self.last ==  self.head:\n",
    "            self.head = None\n",
    "            self.last = None\n",
    "            return temp\n",
    "        else:\n",
    "            self.last = self.last.lptr\n",
    "            self.last.rptr = None\n",
    "            return temp\n",
    "\n",
    "    def first(self):\n",
    "        return self.last.data\n",
    "\n",
    "    def length(self):\n",
    "        temp = self.head\n",
    "        count = 0\n",
    "\n",
    "        while temp != None:\n",
    "            count += 1\n",
    "            temp = temp.rptr\n",
    "\n",
    "        return count\n",
    "\n",
    "\n",
    "    def isEmp(self):\n",
    "        if self.head == None:\n",
    "            return True\n",
    "        else:\n",
    "            return False\n",
    "\n",
    "    def display(self):\n",
    "\n",
    "        if self.last == None:\n",
    "            print(\"Queue has no element!!\")\n",
    "            return None\n",
    "        temp = self.last\n",
    "\n",
    "        while temp != None:\n",
    "            print(temp.data)\n",
    "            temp = temp.lptr"
   ]
  },
  {
   "cell_type": "code",
   "execution_count": 190,
   "metadata": {},
   "outputs": [],
   "source": [
    "q = QueueUsingLL()\n",
    "\n",
    "q.enQueue(10)\n",
    "q.enQueue(20)\n",
    "q.enQueue(30)\n",
    "q.enQueue(40)"
   ]
  },
  {
   "cell_type": "code",
   "execution_count": 191,
   "metadata": {},
   "outputs": [
    {
     "name": "stdout",
     "output_type": "stream",
     "text": [
      "10\n",
      "20\n",
      "30\n",
      "40\n"
     ]
    }
   ],
   "source": [
    "q.display()"
   ]
  },
  {
   "cell_type": "code",
   "execution_count": 192,
   "metadata": {},
   "outputs": [
    {
     "data": {
      "text/plain": [
       "4"
      ]
     },
     "execution_count": 192,
     "metadata": {},
     "output_type": "execute_result"
    }
   ],
   "source": [
    "q.length()"
   ]
  },
  {
   "cell_type": "code",
   "execution_count": 193,
   "metadata": {},
   "outputs": [
    {
     "data": {
      "text/plain": [
       "10"
      ]
     },
     "execution_count": 193,
     "metadata": {},
     "output_type": "execute_result"
    }
   ],
   "source": [
    "q.deQueue()"
   ]
  },
  {
   "cell_type": "code",
   "execution_count": 194,
   "metadata": {},
   "outputs": [
    {
     "name": "stdout",
     "output_type": "stream",
     "text": [
      "20\n",
      "30\n",
      "40\n"
     ]
    }
   ],
   "source": [
    "q.display()"
   ]
  },
  {
   "cell_type": "code",
   "execution_count": 195,
   "metadata": {},
   "outputs": [
    {
     "data": {
      "text/plain": [
       "3"
      ]
     },
     "execution_count": 195,
     "metadata": {},
     "output_type": "execute_result"
    }
   ],
   "source": [
    "q.length()"
   ]
  },
  {
   "cell_type": "code",
   "execution_count": 196,
   "metadata": {},
   "outputs": [
    {
     "data": {
      "text/plain": [
       "20"
      ]
     },
     "execution_count": 196,
     "metadata": {},
     "output_type": "execute_result"
    }
   ],
   "source": [
    "q.first()"
   ]
  }
 ],
 "metadata": {
  "kernelspec": {
   "display_name": "Python 3",
   "language": "python",
   "name": "python3"
  },
  "language_info": {
   "codemirror_mode": {
    "name": "ipython",
    "version": 3
   },
   "file_extension": ".py",
   "mimetype": "text/x-python",
   "name": "python",
   "nbconvert_exporter": "python",
   "pygments_lexer": "ipython3",
   "version": "3.13.1"
  }
 },
 "nbformat": 4,
 "nbformat_minor": 2
}
