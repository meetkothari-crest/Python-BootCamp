{
 "cells": [
  {
   "cell_type": "markdown",
   "metadata": {},
   "source": [
    "- Serializing JSON (Encoding) : Python Object to JSON : json.dumps(python_obj)\n",
    "- Deserializing JSON (Decoding) : JSON to Python Object : json.loads(json_data)"
   ]
  },
  {
   "cell_type": "markdown",
   "metadata": {},
   "source": [
    "- Working with files :<br>\n",
    "json.dump(python_obj, file_name)<br>\n",
    "json.load(file_name)"
   ]
  },
  {
   "cell_type": "code",
   "execution_count": 6,
   "metadata": {},
   "outputs": [
    {
     "name": "stdout",
     "output_type": "stream",
     "text": [
      "None\n"
     ]
    }
   ],
   "source": [
    "# json.dump()\n",
    "import json\n",
    "\n",
    "py_obj = {'name':'Meet'}\n",
    "\n",
    "with open('./15_File Handling Exercises/specific_file.txt','w') as f:\n",
    "    print(json.dump(py_obj,f))"
   ]
  },
  {
   "cell_type": "code",
   "execution_count": 7,
   "metadata": {},
   "outputs": [
    {
     "name": "stdout",
     "output_type": "stream",
     "text": [
      "{'name': 'Meet'}\n"
     ]
    }
   ],
   "source": [
    "# json.load()\n",
    "\n",
    "with open('./15_File Handling Exercises/specific_file.txt', 'r') as f:\n",
    "    print(json.load(f))"
   ]
  },
  {
   "cell_type": "markdown",
   "metadata": {},
   "source": [
    "- Convert class object to JSON"
   ]
  },
  {
   "cell_type": "code",
   "execution_count": 17,
   "metadata": {},
   "outputs": [],
   "source": [
    "import json \n",
    " \n",
    "class A: \n",
    "\tdef __init__(self, first_name, last_name): \n",
    "\t\tself.first_name = first_name\n",
    "\t\tself.last_name = last_name\n",
    "\n",
    "class B: \n",
    "\tdef __init__(self, num1, num2): \n",
    "\t\tself.num1 = num1\n",
    "\t\tself.num2 = num2"
   ]
  },
  {
   "cell_type": "code",
   "execution_count": 18,
   "metadata": {},
   "outputs": [
    {
     "name": "stdout",
     "output_type": "stream",
     "text": [
      "{\"first_name\": \"Meet\", \"last_name\": \"Kothari\"}\n",
      "{\"first_name\": \"Jay\", \"last_name\": \"Rabari\"}\n",
      "{\"num1\": 5, \"num2\": 10}\n",
      "{\"num1\": 3, \"num2\": 8}\n"
     ]
    }
   ],
   "source": [
    "obj1 = A('Meet', 'Kothari')\n",
    "obj2 = A('Jay', 'Rabari')\n",
    "\n",
    "obj3 = B(5,10)\n",
    "obj4 = B(3,8)\n",
    "\n",
    "json_obj1 = json.dumps(obj1.__dict__)\n",
    "json_obj2 = json.dumps(obj2.__dict__)\n",
    "json_obj3 = json.dumps(obj3.__dict__)\n",
    "json_obj4 = json.dumps(obj4.__dict__)\n",
    "\n",
    "print(json_obj1)\n",
    "print(json_obj2)\n",
    "print(json_obj3)\n",
    "print(json_obj4)"
   ]
  },
  {
   "cell_type": "markdown",
   "metadata": {},
   "source": [
    "- Convert JSON data Into a Custom Python Object"
   ]
  },
  {
   "cell_type": "code",
   "execution_count": 27,
   "metadata": {},
   "outputs": [
    {
     "name": "stdout",
     "output_type": "stream",
     "text": [
      "<class 'str'>\n",
      "{'name': 'Meet', 'id': 1, 'location': 'Gujarat'}\n",
      "Meet\n",
      "<class 'dict'>\n"
     ]
    }
   ],
   "source": [
    "data = '{\"name\" : \"Meet\", \"id\" : 1, \"location\" : \"Gujarat\"}'\n",
    "print(type(data))\n",
    "\n",
    "obj = json.loads(data)\n",
    "print(obj)\n",
    "print(obj['name'])\n",
    "print(type(obj))"
   ]
  },
  {
   "cell_type": "markdown",
   "metadata": {},
   "source": [
    "- Flattening JSON objects in Python"
   ]
  },
  {
   "cell_type": "code",
   "execution_count": 28,
   "metadata": {},
   "outputs": [
    {
     "name": "stdout",
     "output_type": "stream",
     "text": [
      "{'user_Rachel_UserID': 1717171717, 'user_Rachel_Email': 'rachel1999@gmail.com', 'user_Rachel_friends_0': 'John', 'user_Rachel_friends_1': 'Jeremy', 'user_Rachel_friends_2': 'Emily'}\n"
     ]
    }
   ],
   "source": [
    "from flatten_json import flatten\n",
    "\n",
    "unflat = {'user':\n",
    "               {'Rachel':\n",
    "                {'UserID': 1717171717,\n",
    "                 'Email': 'rachel1999@gmail.com',\n",
    "                 'friends': ['John', 'Jeremy', 'Emily']\n",
    "                 }\n",
    "                }\n",
    "               }\n",
    "\n",
    "flat = flatten(unflat)\n",
    "\n",
    "print(flat)"
   ]
  },
  {
   "cell_type": "markdown",
   "metadata": {},
   "source": [
    "- Convert CSV to JSON using Python"
   ]
  },
  {
   "cell_type": "code",
   "execution_count": 60,
   "metadata": {},
   "outputs": [],
   "source": [
    "import csv\n",
    "\n",
    "data = {}\n",
    "\n",
    "with open('./15_File Handling Exercises/example.csv', 'r') as f:\n",
    "    f_reader = csv.DictReader(f)\n",
    "    for rows in f_reader:\n",
    "        key = rows['id']\n",
    "        lst = list(rows.items())\n",
    "        data[key] = lst[1:]\n"
   ]
  },
  {
   "cell_type": "code",
   "execution_count": 61,
   "metadata": {},
   "outputs": [],
   "source": [
    "with open('./15_File Handling Exercises/csv_to_json.json', 'w', encoding='utf8') as f:\n",
    "    f.write(json.dumps(data, indent=4))"
   ]
  },
  {
   "cell_type": "code",
   "execution_count": null,
   "metadata": {},
   "outputs": [],
   "source": []
  }
 ],
 "metadata": {
  "kernelspec": {
   "display_name": "Python 3",
   "language": "python",
   "name": "python3"
  },
  "language_info": {
   "codemirror_mode": {
    "name": "ipython",
    "version": 3
   },
   "file_extension": ".py",
   "mimetype": "text/x-python",
   "name": "python",
   "nbconvert_exporter": "python",
   "pygments_lexer": "ipython3",
   "version": "3.13.1"
  }
 },
 "nbformat": 4,
 "nbformat_minor": 2
}
