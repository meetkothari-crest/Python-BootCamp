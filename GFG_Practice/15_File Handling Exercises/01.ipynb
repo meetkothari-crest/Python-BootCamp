{
 "cells": [
  {
   "cell_type": "markdown",
   "metadata": {},
   "source": [
    "- Read content from one file and write it into another file"
   ]
  },
  {
   "cell_type": "code",
   "execution_count": 1,
   "metadata": {},
   "outputs": [
    {
     "name": "stdout",
     "output_type": "stream",
     "text": [
      "Writing input1.txt\n"
     ]
    }
   ],
   "source": [
    "%%writefile input1.txt\n",
    "This is Input1.txt File\n",
    "this is second line\n",
    "this is third line"
   ]
  },
  {
   "cell_type": "code",
   "execution_count": 2,
   "metadata": {},
   "outputs": [],
   "source": [
    "output = open('./output1.txt', 'w')\n",
    "\n",
    "with open('./input1.txt', 'r') as f:\n",
    "    output.write(f.read())\n",
    "\n",
    "output.close()"
   ]
  },
  {
   "cell_type": "markdown",
   "metadata": {},
   "source": [
    "- Write a dictionary to a file"
   ]
  },
  {
   "cell_type": "code",
   "execution_count": 4,
   "metadata": {},
   "outputs": [],
   "source": [
    "details={'Name' : \"Alice\", \n",
    "         'Age' : 21, \n",
    "         'Degree' : \"Bachelor Cse\", \n",
    "         'University' : \"Northeastern Univ\"}\n",
    "\n",
    "with open('./dict_to_file.txt', 'w') as f:\n",
    "    for k,v in details.items():\n",
    "        f.write(f'{k} : {v}\\n')"
   ]
  },
  {
   "cell_type": "markdown",
   "metadata": {},
   "source": [
    "- How to check file size "
   ]
  },
  {
   "cell_type": "code",
   "execution_count": 7,
   "metadata": {},
   "outputs": [
    {
     "name": "stdout",
     "output_type": "stream",
     "text": [
      "79 bytes\n"
     ]
    }
   ],
   "source": [
    "import os\n",
    "\n",
    "file_size = os.path.getsize('./dict_to_file.txt')\n",
    "print(file_size,'bytes')"
   ]
  },
  {
   "cell_type": "markdown",
   "metadata": {},
   "source": [
    "- Find the most repeated word in a text file"
   ]
  },
  {
   "cell_type": "code",
   "execution_count": 22,
   "metadata": {},
   "outputs": [
    {
     "name": "stdout",
     "output_type": "stream",
     "text": [
      "[('is', 3)]\n"
     ]
    }
   ],
   "source": [
    "from collections import Counter\n",
    "l = []\n",
    "\n",
    "with open('./input1.txt','r') as f:\n",
    "    l.append(f.read())\n",
    "\n",
    "s = l[0].replace('\\n',' ')\n",
    "\n",
    "res = Counter(s.split()).most_common(1)\n",
    "\n",
    "print(res)"
   ]
  },
  {
   "cell_type": "markdown",
   "metadata": {},
   "source": [
    "- How to read specific lines from a File"
   ]
  },
  {
   "cell_type": "code",
   "execution_count": 23,
   "metadata": {},
   "outputs": [
    {
     "name": "stdout",
     "output_type": "stream",
     "text": [
      "Writing specific_file.txt\n"
     ]
    }
   ],
   "source": [
    "%%writefile specific_file.txt\n",
    "This is Line1\n",
    "This is Line2\n",
    "This is Line3\n",
    "This is Line4\n",
    "This is Line5\n",
    "This is Line6"
   ]
  },
  {
   "cell_type": "code",
   "execution_count": 32,
   "metadata": {},
   "outputs": [
    {
     "name": "stdout",
     "output_type": "stream",
     "text": [
      "This is Line2\n",
      "This is Line4\n"
     ]
    }
   ],
   "source": [
    "line = [2,4]\n",
    "\n",
    "with open('./specific_file.txt','r') as f:\n",
    "    for index, content in enumerate(f):\n",
    "        if index+1 in line:\n",
    "            print(content, end='')"
   ]
  },
  {
   "cell_type": "code",
   "execution_count": null,
   "metadata": {},
   "outputs": [],
   "source": []
  }
 ],
 "metadata": {
  "kernelspec": {
   "display_name": "Python 3",
   "language": "python",
   "name": "python3"
  },
  "language_info": {
   "codemirror_mode": {
    "name": "ipython",
    "version": 3
   },
   "file_extension": ".py",
   "mimetype": "text/x-python",
   "name": "python",
   "nbconvert_exporter": "python",
   "pygments_lexer": "ipython3",
   "version": "3.13.1"
  }
 },
 "nbformat": 4,
 "nbformat_minor": 2
}
