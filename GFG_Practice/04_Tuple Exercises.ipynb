{
 "cells": [
  {
   "cell_type": "markdown",
   "metadata": {},
   "source": [
    "- Find the size of a Tuple"
   ]
  },
  {
   "cell_type": "code",
   "execution_count": 14,
   "metadata": {},
   "outputs": [
    {
     "name": "stdout",
     "output_type": "stream",
     "text": [
      "Size of t1 (Method1) 48\n",
      "Size of t1 (Method2) 64\n",
      "Size of t2 (Method1) 72\n",
      "Size of t2 (Method2) 88\n"
     ]
    }
   ],
   "source": [
    "import sys\n",
    "t1 = (1,2,3)\n",
    "t2 = ('abc', 'def', 'ghi', 'abc', 'def', 'ghi')\n",
    "\n",
    "print(\"Size of t1 (Method1)\",t1.__sizeof__())\n",
    "print(\"Size of t1 (Method2)\",sys.getsizeof(t1))\n",
    "print(\"Size of t2 (Method1)\",t2.__sizeof__())\n",
    "print(\"Size of t2 (Method2)\",sys.getsizeof(t2))"
   ]
  },
  {
   "cell_type": "markdown",
   "metadata": {},
   "source": [
    "- Maximum and Minimum K elements in Tuple"
   ]
  },
  {
   "cell_type": "code",
   "execution_count": 4,
   "metadata": {},
   "outputs": [
    {
     "name": "stdout",
     "output_type": "stream",
     "text": [
      "[3, 5, 8, 20]\n"
     ]
    }
   ],
   "source": [
    "tup = (5, 20, 3, 7, 6, 8)\n",
    "lst = sorted(tup)\n",
    "k = 2\n",
    "new_l = lst[:k] + lst[len(lst)-k:]\n",
    "print(new_l)"
   ]
  },
  {
   "cell_type": "markdown",
   "metadata": {},
   "source": [
    "- Sum of tuple elements"
   ]
  },
  {
   "cell_type": "code",
   "execution_count": 6,
   "metadata": {},
   "outputs": [
    {
     "name": "stdout",
     "output_type": "stream",
     "text": [
      "15\n"
     ]
    }
   ],
   "source": [
    "tup = (1,2,3,4,5)\n",
    "print(sum(list(tup)))"
   ]
  },
  {
   "cell_type": "markdown",
   "metadata": {},
   "source": [
    "- Row-wise element Addition in Tuple Matrix"
   ]
  },
  {
   "cell_type": "code",
   "execution_count": 10,
   "metadata": {},
   "outputs": [
    {
     "name": "stdout",
     "output_type": "stream",
     "text": [
      "[[('Gfg', 3, 6), ('is', 3, 6)], [('best', 1, 7)], [('for', 5, 8), ('geeks', 1, 8)]]\n"
     ]
    }
   ],
   "source": [
    "lst = [[('Gfg', 3), ('is', 3)], [('best', 1)], [('for', 5), ('geeks', 1)]]\n",
    "\n",
    "cus_eles = [6, 7, 8]\n",
    "res_lst = []\n",
    "\n",
    "for i, sub_lst in enumerate(lst):\n",
    "    temp = []\n",
    "    for j in sub_lst:\n",
    "        j += (cus_eles[i],)\n",
    "        temp.append(j)\n",
    "    res_lst.append(temp)\n",
    "print(res_lst)"
   ]
  },
  {
   "cell_type": "markdown",
   "metadata": {},
   "source": [
    "- Create a list of tuples from given list having number and its cube in each tuple"
   ]
  },
  {
   "cell_type": "code",
   "execution_count": 13,
   "metadata": {},
   "outputs": [
    {
     "data": {
      "text/plain": [
       "[(1, 1), (2, 8), (3, 27), (4, 64), (5, 125)]"
      ]
     },
     "execution_count": 13,
     "metadata": {},
     "output_type": "execute_result"
    }
   ],
   "source": [
    "tup = (1,2,3,4,5)\n",
    "\n",
    "l = [(i,i**3) for i in tup]\n",
    "l"
   ]
  }
 ],
 "metadata": {
  "kernelspec": {
   "display_name": "Python 3",
   "language": "python",
   "name": "python3"
  },
  "language_info": {
   "codemirror_mode": {
    "name": "ipython",
    "version": 3
   },
   "file_extension": ".py",
   "mimetype": "text/x-python",
   "name": "python",
   "nbconvert_exporter": "python",
   "pygments_lexer": "ipython3",
   "version": "3.13.1"
  }
 },
 "nbformat": 4,
 "nbformat_minor": 2
}
