{
 "cells": [
  {
   "cell_type": "markdown",
   "metadata": {},
   "source": [
    "- Assigning Subsequent Rows to Matrix first row elements"
   ]
  },
  {
   "cell_type": "code",
   "execution_count": 3,
   "metadata": {},
   "outputs": [
    {
     "data": {
      "text/plain": [
       "{5: [2, 0, 9], 8: [5, 4, 2], 9: [2, 3, 9]}"
      ]
     },
     "execution_count": 3,
     "metadata": {},
     "output_type": "execute_result"
    }
   ],
   "source": [
    "test_list = [[5, 8, 9], [2, 0, 9], [5, 4, 2], [2, 3, 9]]\n",
    "\n",
    "k = test_list[0]\n",
    "index = 0\n",
    "d = {}\n",
    "for i in range(1,len(test_list)):\n",
    "    d[k[index]] = test_list[i]\n",
    "    index += 1\n",
    "\n",
    "d"
   ]
  },
  {
   "cell_type": "markdown",
   "metadata": {},
   "source": [
    "- Adding and Subtracting Matrices"
   ]
  },
  {
   "cell_type": "code",
   "execution_count": 6,
   "metadata": {},
   "outputs": [
    {
     "name": "stdout",
     "output_type": "stream",
     "text": [
      "[[5, 7], [9, 11]]\n",
      "[[-3, -3], [-3, -3]]\n"
     ]
    }
   ],
   "source": [
    "A = [[1,2],[3,4]]\n",
    "B = [[4,5],[6,7]]\n",
    "res_add = [[0,0], [0,0]]\n",
    "res_sub = [[0,0], [0,0]]\n",
    "\n",
    "for i in range(len(A)):\n",
    "    for j in range(len(A[i])):\n",
    "        res_add[i][j] = A[i][j] + B[i][j]\n",
    "        res_sub[i][j] = A[i][j] - B[i][j]\n",
    "\n",
    "print(res_add)\n",
    "print(res_sub)"
   ]
  },
  {
   "cell_type": "markdown",
   "metadata": {},
   "source": [
    "- Group similar elements into Matrix"
   ]
  },
  {
   "cell_type": "code",
   "execution_count": 12,
   "metadata": {},
   "outputs": [
    {
     "name": "stdout",
     "output_type": "stream",
     "text": [
      "[[1, 1], [2, 2], [3, 3], [4], [5, 5]]\n"
     ]
    }
   ],
   "source": [
    "from collections import Counter\n",
    "\n",
    "test_list = [1, 3, 5, 1, 3, 2, 5, 4, 2]\n",
    "test_list.sort()\n",
    "t = Counter(test_list)\n",
    "\n",
    "res = [[k]*v for k,v in Counter(t.items())]\n",
    "print(res)"
   ]
  },
  {
   "cell_type": "markdown",
   "metadata": {},
   "source": [
    "- Row-wise element Addition in Tuple Matrix"
   ]
  },
  {
   "cell_type": "code",
   "execution_count": 13,
   "metadata": {},
   "outputs": [
    {
     "name": "stdout",
     "output_type": "stream",
     "text": [
      "[[('Gfg', 3, 6), ('is', 3, 6)], [('best', 1, 7)], [('for', 5, 8), ('geeks', 1, 8)]]\n"
     ]
    }
   ],
   "source": [
    "lst = [[('Gfg', 3), ('is', 3)], [('best', 1)], [('for', 5), ('geeks', 1)]]\n",
    "\n",
    "cus_eles = [6, 7, 8]\n",
    "res_lst = []\n",
    "\n",
    "for i, sub_lst in enumerate(lst):\n",
    "    temp = []\n",
    "    for j in sub_lst:\n",
    "        j += (cus_eles[i],)\n",
    "        temp.append(j)\n",
    "    res_lst.append(temp)\n",
    "print(res_lst)"
   ]
  },
  {
   "cell_type": "markdown",
   "metadata": {},
   "source": [
    "- Create an n x n square matrix, where all the sub-matrix have the sum of opposite corner elements as even"
   ]
  },
  {
   "cell_type": "code",
   "execution_count": 17,
   "metadata": {},
   "outputs": [
    {
     "name": "stdout",
     "output_type": "stream",
     "text": [
      "[1, 2, 3]\n",
      "[4, 5, 6]\n",
      "[7, 8, 9]\n"
     ]
    }
   ],
   "source": [
    "n = 3\n",
    "val = 1\n",
    "\n",
    "res_mat = []\n",
    "\n",
    "for i in range(n):\n",
    "    temp_mat = []\n",
    "    for j in range(n):\n",
    "        y=temp_mat.append(val)\n",
    "        val += 1\n",
    "    \n",
    "    if n % 2 == 0:\n",
    "        if i % 2 == 0:\n",
    "            res_mat.append(temp_mat)\n",
    "        else:\n",
    "            temp_mat.reverse()\n",
    "            res_mat.append(temp_mat)\n",
    "    else:\n",
    "        res_mat.append(temp_mat)\n",
    "\n",
    "for i in res_mat:\n",
    "    print(i)"
   ]
  }
 ],
 "metadata": {
  "kernelspec": {
   "display_name": "Python 3",
   "language": "python",
   "name": "python3"
  },
  "language_info": {
   "codemirror_mode": {
    "name": "ipython",
    "version": 3
   },
   "file_extension": ".py",
   "mimetype": "text/x-python",
   "name": "python",
   "nbconvert_exporter": "python",
   "pygments_lexer": "ipython3",
   "version": "3.13.1"
  }
 },
 "nbformat": 4,
 "nbformat_minor": 2
}
