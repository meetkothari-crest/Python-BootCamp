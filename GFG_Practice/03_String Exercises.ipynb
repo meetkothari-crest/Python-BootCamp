{
 "cells": [
  {
   "cell_type": "markdown",
   "metadata": {},
   "source": [
    "- Reverse words in a given String"
   ]
  },
  {
   "cell_type": "code",
   "execution_count": 13,
   "metadata": {},
   "outputs": [
    {
     "data": {
      "text/plain": [
       "['string', 'a', 'is', 'this', 'Hello']"
      ]
     },
     "execution_count": 13,
     "metadata": {},
     "output_type": "execute_result"
    }
   ],
   "source": [
    "s = 'Hello this is a string'\n",
    "\n",
    "s.split()[::-1]"
   ]
  },
  {
   "cell_type": "markdown",
   "metadata": {},
   "source": [
    "- Find length of a string"
   ]
  },
  {
   "cell_type": "code",
   "execution_count": 14,
   "metadata": {},
   "outputs": [
    {
     "name": "stdout",
     "output_type": "stream",
     "text": [
      "Length of str: 23\n",
      "Length of str: 23\n"
     ]
    }
   ],
   "source": [
    "s = 'Hello! this is a string'\n",
    "\n",
    "c = 0\n",
    "for i in s:\n",
    "    c += 1\n",
    "print(f\"Length of str: {c}\")\n",
    "print(f\"Length of str: {len(s)}\")"
   ]
  },
  {
   "cell_type": "markdown",
   "metadata": {},
   "source": [
    "- Print even length words in a string"
   ]
  },
  {
   "cell_type": "code",
   "execution_count": 15,
   "metadata": {},
   "outputs": [
    {
     "name": "stdout",
     "output_type": "stream",
     "text": [
      "Hello!\n",
      "this\n",
      "is\n",
      "string\n"
     ]
    }
   ],
   "source": [
    "s = 'Hello! this is a string'\n",
    "\n",
    "for i in s.split():\n",
    "    if len(i) % 2 == 0:\n",
    "        print(i)"
   ]
  },
  {
   "cell_type": "markdown",
   "metadata": {},
   "source": [
    "- Remove i’th character from string"
   ]
  },
  {
   "cell_type": "code",
   "execution_count": 16,
   "metadata": {},
   "outputs": [
    {
     "name": "stdout",
     "output_type": "stream",
     "text": [
      "Hello this is a string\n"
     ]
    }
   ],
   "source": [
    "s = 'Hello! this is a string'\n",
    "\n",
    "i = 5  # Remove !\n",
    "res = s.replace(s[i],'')\n",
    "print(res)"
   ]
  },
  {
   "cell_type": "markdown",
   "metadata": {},
   "source": [
    "- Check whether the string is Symmetrical or Palindrome"
   ]
  },
  {
   "cell_type": "code",
   "execution_count": 26,
   "metadata": {},
   "outputs": [
    {
     "name": "stdout",
     "output_type": "stream",
     "text": [
      "abccba is not symmetrical\n",
      "abccba is palindrome\n"
     ]
    }
   ],
   "source": [
    "s = 'abccba'\n",
    "\n",
    "s1 = s[:int(len(s)/2)]\n",
    "s2 = s[int(len(s)/2):]\n",
    "\n",
    "if s1 == s2:\n",
    "    print(f\"{s} is symmetrical\")\n",
    "else:\n",
    "    print(f\"{s} is not symmetrical\")\n",
    "\n",
    "if s == s[::-1]:\n",
    "    print(f\"{s} is palindrome\")\n",
    "else:\n",
    "    print(f\"{s} is not palindrome\")"
   ]
  }
 ],
 "metadata": {
  "kernelspec": {
   "display_name": "Python 3",
   "language": "python",
   "name": "python3"
  },
  "language_info": {
   "codemirror_mode": {
    "name": "ipython",
    "version": 3
   },
   "file_extension": ".py",
   "mimetype": "text/x-python",
   "name": "python",
   "nbconvert_exporter": "python",
   "pygments_lexer": "ipython3",
   "version": "3.13.1"
  }
 },
 "nbformat": 4,
 "nbformat_minor": 2
}
