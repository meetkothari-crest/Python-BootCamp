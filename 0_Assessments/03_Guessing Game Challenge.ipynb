{
 "cells": [
  {
   "cell_type": "markdown",
   "metadata": {},
   "source": [
    "___\n",
    "\n",
    "<a href='https://www.udemy.com/user/joseportilla/'><img src='../Pierian_Data_Logo.png'/></a>\n",
    "___\n",
    "<center><em>Content Copyright by Pierian Data</em></center>"
   ]
  },
  {
   "cell_type": "markdown",
   "metadata": {},
   "source": [
    "# Guessing Game Challenge\n",
    "\n",
    "Let's use `while` loops to create a guessing game.\n",
    "\n",
    "The Challenge:\n",
    "\n",
    "Write a program that picks a random integer from 1 to 100, and has players guess the number. The rules are:\n",
    "\n",
    "1. If a player's guess is less than 1 or greater than 100, say \"OUT OF BOUNDS\"\n",
    "2. On a player's first turn, if their guess is\n",
    " * within 10 of the number, return \"WARM!\"\n",
    " * further than 10 away from the number, return \"COLD!\"\n",
    "3. On all subsequent turns, if a guess is \n",
    " * closer to the number than the previous guess return \"WARMER!\"\n",
    " * farther from the number than the previous guess, return \"COLDER!\"\n",
    "4. When the player's guess equals the number, tell them they've guessed correctly *and* how many guesses it took!\n",
    "\n",
    "You can try this from scratch, or follow the steps outlined below. A separate Solution notebook has been provided. Good luck!\n"
   ]
  },
  {
   "cell_type": "code",
   "execution_count": 4,
   "metadata": {},
   "outputs": [],
   "source": [
    "from random import randint"
   ]
  },
  {
   "cell_type": "code",
   "execution_count": 11,
   "metadata": {},
   "outputs": [
    {
     "name": "stdout",
     "output_type": "stream",
     "text": [
      "Random Number: 47\n",
      "COLD!, [10]\n",
      "WARMER!, [10, 20]\n",
      "WARMER!, [10, 20, 30]\n",
      "WARMER!, [10, 20, 30, 40]\n",
      "WARMER!, [10, 20, 30, 40, 50]\n",
      "COLDER, [10, 20, 30, 40, 50, 60]\n",
      "WARMER!, [10, 20, 30, 40, 50, 60, 51]\n",
      "COLDER, [10, 20, 30, 40, 50, 60, 51, 52]\n",
      "WARMER!, [10, 20, 30, 40, 50, 60, 51, 52, 47]\n",
      "You Won..., 9\n"
     ]
    }
   ],
   "source": [
    "lst = []\n",
    "num = randint(0,100)\n",
    "print(f\"Random Number: {num}\")\n",
    "while True:\n",
    "    guess = int(input(\"Enter a Number: \"))\n",
    "\n",
    "    if(guess < 0 or guess > 100):\n",
    "        print(f\"{guess}, OUT OF BOUNDS!\")\n",
    "    else:\n",
    "        if len(lst) == 0:\n",
    "            if abs(guess-num) <= 10:\n",
    "                lst.append(guess)\n",
    "                print(f\"WARM!, {lst}\")\n",
    "            else:\n",
    "                lst.append(guess)\n",
    "                print(f\"COLD!, {lst}\")\n",
    "        else:\n",
    "            if(abs(num-lst[-1]) > abs(guess-num)):\n",
    "                lst.append(guess)\n",
    "                print(f\"WARMER!, {lst}\")\n",
    "            else:\n",
    "                lst.append(guess)\n",
    "                print(f\"COLDER, {lst}\")\n",
    "\n",
    "        if(guess == num):\n",
    "            print(f\"You Won..., {len(lst)}\")\n",
    "            break\n"
   ]
  }
 ],
 "metadata": {
  "kernelspec": {
   "display_name": "Python 3",
   "language": "python",
   "name": "python3"
  },
  "language_info": {
   "codemirror_mode": {
    "name": "ipython",
    "version": 3
   },
   "file_extension": ".py",
   "mimetype": "text/x-python",
   "name": "python",
   "nbconvert_exporter": "python",
   "pygments_lexer": "ipython3",
   "version": "3.13.1"
  }
 },
 "nbformat": 4,
 "nbformat_minor": 2
}
