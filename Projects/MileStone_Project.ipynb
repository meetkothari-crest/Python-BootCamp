{
 "cells": [
  {
   "cell_type": "code",
   "execution_count": 1,
   "metadata": {},
   "outputs": [],
   "source": [
    "def ex_row(r1, r2, r3):\n",
    "    print(r1)\n",
    "    print(r2)\n",
    "    print(r3)"
   ]
  },
  {
   "cell_type": "code",
   "execution_count": 2,
   "metadata": {},
   "outputs": [
    {
     "name": "stdout",
     "output_type": "stream",
     "text": [
      "[1, 2, 3]\n",
      "[4, 5, 6]\n",
      "[7, 8, 9]\n"
     ]
    }
   ],
   "source": [
    "r1 = [1,2,3]\n",
    "r2 = [4,5,6]\n",
    "r3 = [7,8,9]\n",
    "\n",
    "ex_row(r1,r2,r3)"
   ]
  },
  {
   "cell_type": "code",
   "execution_count": 10,
   "metadata": {},
   "outputs": [],
   "source": [
    "def user_input():\n",
    "\n",
    "    choice = 'CHOICE'\n",
    "    acceptable_range = range(0,10)\n",
    "    within_range = False\n",
    "\n",
    "    while choice.isdigit() == False or within_range == False:\n",
    "        choice = input(\"Enter a Number(0-9): \")\n",
    "\n",
    "        if choice.isdigit() == False:\n",
    "            print(\"Please Enter a Valid Number b/w 0 to 9!!\")\n",
    "\n",
    "        if choice.isdigit() == True:\n",
    "            if int(choice) in acceptable_range:\n",
    "                within_range = True\n",
    "            else:\n",
    "                print(\"OUT OF BOUND!!\")\n",
    "                within_range = False\n",
    "\n",
    "    return int(choice)"
   ]
  },
  {
   "cell_type": "code",
   "execution_count": 38,
   "metadata": {},
   "outputs": [
    {
     "data": {
      "text/plain": [
       "2"
      ]
     },
     "execution_count": 38,
     "metadata": {},
     "output_type": "execute_result"
    }
   ],
   "source": [
    "user_input()"
   ]
  },
  {
   "cell_type": "code",
   "execution_count": 12,
   "metadata": {},
   "outputs": [],
   "source": [
    "def display_list(lst):\n",
    "    print(f\"Current List: {lst}\")"
   ]
  },
  {
   "cell_type": "code",
   "execution_count": 13,
   "metadata": {},
   "outputs": [
    {
     "name": "stdout",
     "output_type": "stream",
     "text": [
      "Current List: [1, 2, 3]\n"
     ]
    }
   ],
   "source": [
    "display_list([1,2,3])"
   ]
  },
  {
   "cell_type": "code",
   "execution_count": 17,
   "metadata": {},
   "outputs": [],
   "source": [
    "def position_choice():\n",
    "    choice = 'Start'\n",
    "\n",
    "    while choice not in ['0','1','2']:\n",
    "        choice = input(\"Choose a position: \")\n",
    "\n",
    "        if choice not in ['0','1','2']:\n",
    "            print(\"Invalid INPUT\")\n",
    "            \n",
    "    return int(choice)"
   ]
  },
  {
   "cell_type": "code",
   "execution_count": 21,
   "metadata": {},
   "outputs": [
    {
     "name": "stdout",
     "output_type": "stream",
     "text": [
      "Invalid INPUT\n"
     ]
    },
    {
     "data": {
      "text/plain": [
       "2"
      ]
     },
     "execution_count": 21,
     "metadata": {},
     "output_type": "execute_result"
    }
   ],
   "source": [
    "position_choice()"
   ]
  },
  {
   "cell_type": "code",
   "execution_count": 22,
   "metadata": {},
   "outputs": [],
   "source": [
    "def replacement_choice(position, game_list):\n",
    "    replacement_value = input(\"Enter replacement value: \")\n",
    "\n",
    "    game_list[position] = replacement_value\n",
    "\n",
    "    return game_list"
   ]
  },
  {
   "cell_type": "code",
   "execution_count": 24,
   "metadata": {},
   "outputs": [
    {
     "data": {
      "text/plain": [
       "[0, 'meet', 2]"
      ]
     },
     "execution_count": 24,
     "metadata": {},
     "output_type": "execute_result"
    }
   ],
   "source": [
    "replacement_choice(1,[0,1,2])"
   ]
  },
  {
   "cell_type": "code",
   "execution_count": 26,
   "metadata": {},
   "outputs": [],
   "source": [
    "def game_continue():\n",
    "    choice = 'Start'\n",
    "    while choice not in ['Y', 'N']:\n",
    "        choice = input(\"Keep playing ?? (Y or N)\")\n",
    "        if choice not in ['Y', 'N']:\n",
    "            print(\"Please choose 'Y' or 'N'\")\n",
    "            \n",
    "    if choice == 'Y':\n",
    "        return True\n",
    "    else:\n",
    "        return False\n"
   ]
  },
  {
   "cell_type": "code",
   "execution_count": 28,
   "metadata": {},
   "outputs": [
    {
     "data": {
      "text/plain": [
       "False"
      ]
     },
     "execution_count": 28,
     "metadata": {},
     "output_type": "execute_result"
    }
   ],
   "source": [
    "game_continue()"
   ]
  },
  {
   "cell_type": "code",
   "execution_count": 34,
   "metadata": {},
   "outputs": [
    {
     "name": "stdout",
     "output_type": "stream",
     "text": [
      "Current List: [' ', ' ', ' ']\n",
      "Current List: ['Kothari', ' ', ' ']\n",
      "Current List: ['Kothari', ' ', ' ']\n",
      "Current List: ['Kothari', 'Meet', ' ']\n",
      "Current List: ['Kothari', 'Meet', ' ']\n",
      "Current List: ['Kothari', 'Meet', 'Meet']\n"
     ]
    }
   ],
   "source": [
    "game_list = [' ', ' ', ' ']\n",
    "game_on = True\n",
    "\n",
    "while game_on:\n",
    "    display_list(game_list)\n",
    "    position = position_choice()\n",
    "    game_list = replacement_choice(position, game_list)\n",
    "    display_list(game_list)\n",
    "    game_on = game_continue()\n"
   ]
  },
  {
   "cell_type": "markdown",
   "metadata": {},
   "source": [
    "Tic-tac-toe"
   ]
  },
  {
   "cell_type": "code",
   "execution_count": 109,
   "metadata": {},
   "outputs": [],
   "source": [
    "def user_input():\n",
    "    choice = 'Start'\n",
    "    isInRange = False\n",
    "    a_range = range(1,10)\n",
    "\n",
    "    while choice.isdigit() == False or isInRange == False:\n",
    "\n",
    "        choice = input(\"choose a number between 1 to 9: \")\n",
    "\n",
    "        if choice.isdigit() == False:\n",
    "            print(\"Please enter a valid number!!\")\n",
    "        if choice.isdigit() == True:\n",
    "            if int(choice) in a_range:\n",
    "                isInRange = True\n",
    "            else:\n",
    "                print(\"Enter a number between 1 to 9\")\n",
    "    return int(choice)-1\n",
    "\n"
   ]
  },
  {
   "cell_type": "code",
   "execution_count": 65,
   "metadata": {},
   "outputs": [
    {
     "name": "stdout",
     "output_type": "stream",
     "text": [
      "Enter a number between 0 to 9\n",
      "Enter a number between 0 to 9\n"
     ]
    },
    {
     "data": {
      "text/plain": [
       "8"
      ]
     },
     "execution_count": 65,
     "metadata": {},
     "output_type": "execute_result"
    }
   ],
   "source": [
    "user_input()"
   ]
  },
  {
   "cell_type": "code",
   "execution_count": null,
   "metadata": {},
   "outputs": [],
   "source": []
  },
  {
   "cell_type": "code",
   "execution_count": 110,
   "metadata": {},
   "outputs": [],
   "source": [
    "def update_list(curr_list, position, isPlayer1, choice_of_player1, choice_of_player2):\n",
    "    if isPlayer1:\n",
    "        curr_list[position] = choice_of_player1\n",
    "        isPlayer1 = False\n",
    "    else:\n",
    "        curr_list[position] = choice_of_player2\n",
    "        isPlayer1 = True\n",
    "\n",
    "    return (curr_list, isPlayer1)"
   ]
  },
  {
   "cell_type": "code",
   "execution_count": 111,
   "metadata": {},
   "outputs": [],
   "source": [
    "def print_list(l):\n",
    "    print(\"{0:<1} | {1:^1} | {2:>1}\".format(l[8],l[7],l[6]))\n",
    "    print(\"{0:<1} | {1:^1} | {2:>1}\".format(l[5],l[4],l[3]))\n",
    "    print(\"{0:<1} | {1:^1} | {2:>1}\".format(l[0],l[1],l[2]))\n",
    "    print()"
   ]
  },
  {
   "cell_type": "code",
   "execution_count": 112,
   "metadata": {},
   "outputs": [],
   "source": [
    "def game_continue():\n",
    "    choice = 'Start'\n",
    "    while choice not in ['Y', 'N']:\n",
    "        choice = input(\"Keep playing ?? (Y or N)\")\n",
    "        if choice not in ['Y', 'N']:\n",
    "            print(\"Please choose 'Y' or 'N'\")\n",
    "            \n",
    "    if choice == 'Y':\n",
    "        return True\n",
    "    else:\n",
    "        return False"
   ]
  },
  {
   "cell_type": "code",
   "execution_count": 113,
   "metadata": {},
   "outputs": [],
   "source": [
    "def player_choose():\n",
    "    choice = 'Start'\n",
    "\n",
    "    while choice not in ['X', 'O']:\n",
    "\n",
    "        choice = input(\"Choose 'X' or 'O'\")\n",
    "\n",
    "        if choice not in ['X' or 'O']:\n",
    "            print(\"Please choose X or O\")\n",
    "    return choice "
   ]
  },
  {
   "cell_type": "code",
   "execution_count": 81,
   "metadata": {},
   "outputs": [
    {
     "name": "stdout",
     "output_type": "stream",
     "text": [
      "Please choose X or O\n",
      "Please choose X or O\n"
     ]
    },
    {
     "data": {
      "text/plain": [
       "'X'"
      ]
     },
     "execution_count": 81,
     "metadata": {},
     "output_type": "execute_result"
    }
   ],
   "source": [
    "player_choose()"
   ]
  },
  {
   "cell_type": "code",
   "execution_count": 117,
   "metadata": {},
   "outputs": [],
   "source": [
    "def isWin(l):\n",
    "    for i in ['X','O']:\n",
    "        if((l[0]==i and l[1] == i and l[2] == i) \n",
    "           or (l[3]==i and l[4] == i and l[5] == i)\n",
    "           or (l[6]==i and l[7] == i and l[8] == i)\n",
    "           or (l[0]==i and l[1] == i and l[2] == i)\n",
    "           or (l[0]==i and l[5] == i and l[8] == i)\n",
    "           or (l[1]==i and l[4] == i and l[7] == i)\n",
    "           or (l[2]==i and l[3] == i and l[6] == i)\n",
    "           or (l[2]==i and l[4] == i and l[8] == i)\n",
    "           or (l[0]==i and l[4] == i and l[6] == i)\n",
    "           ):\n",
    "            return True"
   ]
  },
  {
   "cell_type": "code",
   "execution_count": 119,
   "metadata": {},
   "outputs": [
    {
     "name": "stdout",
     "output_type": "stream",
     "text": [
      "9 | 8 | 7\n",
      "6 | 5 | 4\n",
      "1 | 2 | 3\n",
      "\n",
      "9 | 8 | 7\n",
      "6 | X | 4\n",
      "1 | 2 | 3\n",
      "\n",
      "9 | 8 | 7\n",
      "6 | X | O\n",
      "1 | 2 | 3\n",
      "\n",
      "X | 8 | 7\n",
      "6 | X | O\n",
      "1 | 2 | 3\n",
      "\n",
      "X | 8 | O\n",
      "6 | X | O\n",
      "1 | 2 | 3\n",
      "\n",
      "X | 8 | O\n",
      "6 | X | O\n",
      "1 | 2 | X\n",
      "\n",
      "Player 1 Won the game\n"
     ]
    }
   ],
   "source": [
    "isOn = True\n",
    "game_list = [1,2,3,4,5,6,7,8,9]\n",
    "player1 = ''\n",
    "player2 = ''\n",
    "\n",
    "player1 = player_choose()\n",
    "if player1 == 'X':\n",
    "    player2 = 'O'\n",
    "if player1 == 'O':\n",
    "    player2 = 'X' \n",
    "\n",
    "isPlayer1 = True\n",
    "print_list(game_list)\n",
    "while isOn:\n",
    "    position = user_input()\n",
    "    game_list, isPlayer1 = update_list(game_list, position, isPlayer1,player1, player2)\n",
    "    print_list(game_list)\n",
    "    if isWin(game_list):\n",
    "        if isPlayer1 == True:\n",
    "            print(\"Player 2 Won the game\")\n",
    "        else:\n",
    "            print(\"Player 1 Won the game.\")\n",
    "        break\n",
    "\n",
    "    isOn = game_continue()"
   ]
  },
  {
   "cell_type": "code",
   "execution_count": null,
   "metadata": {},
   "outputs": [],
   "source": []
  }
 ],
 "metadata": {
  "kernelspec": {
   "display_name": "Python 3",
   "language": "python",
   "name": "python3"
  },
  "language_info": {
   "codemirror_mode": {
    "name": "ipython",
    "version": 3
   },
   "file_extension": ".py",
   "mimetype": "text/x-python",
   "name": "python",
   "nbconvert_exporter": "python",
   "pygments_lexer": "ipython3",
   "version": "3.13.1"
  }
 },
 "nbformat": 4,
 "nbformat_minor": 2
}
