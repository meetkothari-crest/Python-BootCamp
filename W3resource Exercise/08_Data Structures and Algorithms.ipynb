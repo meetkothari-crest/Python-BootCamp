{
 "cells": [
  {
   "cell_type": "markdown",
   "metadata": {},
   "source": [
    "#### Search and Sorting"
   ]
  },
  {
   "cell_type": "code",
   "execution_count": 92,
   "metadata": {},
   "outputs": [
    {
     "name": "stdout",
     "output_type": "stream",
     "text": [
      "Target is Present\n",
      "[11, 12, 22, 25, 64]\n"
     ]
    }
   ],
   "source": [
    "l = [64, 25, 12, 22, 11]\n",
    "target = 22\n",
    "\n",
    "if target in l:\n",
    "    print('Target is Present')\n",
    "else:\n",
    "    print('Target is Not Present')\n",
    "\n",
    "l.sort()\n",
    "print(l)"
   ]
  },
  {
   "cell_type": "markdown",
   "metadata": {},
   "source": [
    "#### Linked List"
   ]
  },
  {
   "cell_type": "markdown",
   "metadata": {},
   "source": [
    "14. Write a Python program to delete a specific item from a given doubly linked list."
   ]
  },
  {
   "cell_type": "code",
   "execution_count": 1,
   "metadata": {},
   "outputs": [],
   "source": [
    "class Node:\n",
    "    def __init__(self, data=None):\n",
    "        self.data = data\n",
    "        self.rptr = None\n",
    "        self.lptr = None"
   ]
  },
  {
   "cell_type": "code",
   "execution_count": 69,
   "metadata": {},
   "outputs": [],
   "source": [
    "def delete(head, key):\n",
    "    if head == None:\n",
    "        return None\n",
    "    \n",
    "    temp = head\n",
    "    prev = None\n",
    "\n",
    "    while temp.data != key:\n",
    "        prev = temp\n",
    "        temp = temp.rptr\n",
    "\n",
    "        if temp == None:\n",
    "            print('Key Not Present...')\n",
    "            return None\n",
    "\n",
    "    if prev == None:\n",
    "        head = head.rptr\n",
    "        temp.rptr = None\n",
    "        del temp\n",
    "        return head\n",
    "    \n",
    "    prev.rptr = temp.rptr\n",
    "    del temp\n",
    "\n",
    "    return head"
   ]
  },
  {
   "cell_type": "code",
   "execution_count": 85,
   "metadata": {},
   "outputs": [],
   "source": [
    "head = Node(1)\n",
    "second = Node(2)\n",
    "third = Node(3)\n",
    "fourth = Node(4)\n",
    "\n",
    "head.lptr = second\n",
    "second.rptr = head\n",
    "second.lptr = third\n",
    "third.lptr = fourth\n",
    "third.rptr = second\n",
    "fourth.rptr = third\n",
    "head = fourth"
   ]
  },
  {
   "cell_type": "code",
   "execution_count": 86,
   "metadata": {},
   "outputs": [],
   "source": [
    "head = delete(head, 4)"
   ]
  },
  {
   "cell_type": "code",
   "execution_count": 87,
   "metadata": {},
   "outputs": [
    {
     "name": "stdout",
     "output_type": "stream",
     "text": [
      "3\n",
      "2\n",
      "1\n"
     ]
    }
   ],
   "source": [
    "t = head\n",
    "while t != None:\n",
    "    print(t.data)\n",
    "    t = t.rptr"
   ]
  },
  {
   "cell_type": "markdown",
   "metadata": {},
   "source": [
    "#### Binary Search Tree"
   ]
  },
  {
   "cell_type": "markdown",
   "metadata": {},
   "source": [
    "- Binary Search Tree Inorder traversal"
   ]
  },
  {
   "cell_type": "code",
   "execution_count": 103,
   "metadata": {},
   "outputs": [
    {
     "name": "stdout",
     "output_type": "stream",
     "text": [
      "10 20 30 100 150 200 300 "
     ]
    }
   ],
   "source": [
    "class Node:\n",
    "    def __init__(self, v):\n",
    "        self.left = None\n",
    "        self.right = None\n",
    "        self.data = v\n",
    "\n",
    "def Inorder(root):\n",
    "    if root:\n",
    "        Inorder(root.left)\n",
    "        print(root.data,end=\" \")\n",
    "        Inorder(root.right)\n",
    "\n",
    "if __name__ == \"__main__\":\n",
    "    root = Node(100)\n",
    "    root.left = Node(20)\n",
    "    root.right = Node(200)\n",
    "    root.left.left = Node(10)\n",
    "    root.left.right = Node(30)\n",
    "    root.right.left = Node(150)\n",
    "    root.right.right = Node(300)\n",
    "\n",
    "    Inorder(root)"
   ]
  },
  {
   "cell_type": "code",
   "execution_count": 106,
   "metadata": {},
   "outputs": [
    {
     "name": "stdout",
     "output_type": "stream",
     "text": [
      "1 2 3 4 5 6 7 None\n"
     ]
    }
   ],
   "source": [
    "class Node:\n",
    "    def __init__(self, val):\n",
    "        self.val = val\n",
    "        self.left = None\n",
    "        self.right = None\n",
    "\n",
    "def array_to_tree(arr):\n",
    "\n",
    "    if not arr:\n",
    "        return None\n",
    "    \n",
    "    mid = len(arr) // 2\n",
    "    \n",
    "    root = Node(arr[mid])\n",
    "    root.left = array_to_tree(arr[:mid])\n",
    "    root.right = array_to_tree(arr[mid+1:])\n",
    "\n",
    "    return root\n",
    "\n",
    "def inorder(root):\n",
    "    if not root:\n",
    "        return\n",
    "    \n",
    "    inorder(root.left)\n",
    "    print(root.val, end=' ')\n",
    "    inorder(root.right)\n",
    "\n",
    "\n",
    "nums = [1,2,3,4,5,6,7]\n",
    "res = array_to_tree(nums)\n",
    "\n",
    "print(inorder(res))"
   ]
  },
  {
   "cell_type": "code",
   "execution_count": null,
   "metadata": {},
   "outputs": [],
   "source": []
  }
 ],
 "metadata": {
  "kernelspec": {
   "display_name": "Python 3",
   "language": "python",
   "name": "python3"
  },
  "language_info": {
   "codemirror_mode": {
    "name": "ipython",
    "version": 3
   },
   "file_extension": ".py",
   "mimetype": "text/x-python",
   "name": "python",
   "nbconvert_exporter": "python",
   "pygments_lexer": "ipython3",
   "version": "3.13.1"
  }
 },
 "nbformat": 4,
 "nbformat_minor": 2
}
