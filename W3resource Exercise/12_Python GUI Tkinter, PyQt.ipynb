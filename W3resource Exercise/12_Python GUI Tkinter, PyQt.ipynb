{
 "cells": [
  {
   "cell_type": "code",
   "execution_count": 2,
   "metadata": {},
   "outputs": [],
   "source": [
    "from tkinter import *"
   ]
  },
  {
   "cell_type": "markdown",
   "metadata": {},
   "source": [
    "#### Python Tkinter Basic"
   ]
  },
  {
   "cell_type": "markdown",
   "metadata": {},
   "source": [
    "7. Write a Python program that implements event handling for button clicks using Tkinter."
   ]
  },
  {
   "cell_type": "code",
   "execution_count": 4,
   "metadata": {},
   "outputs": [],
   "source": [
    "root = Tk()\n",
    "root.title(\"Button Click Event Handling\")\n",
    "\n",
    "label = Label(root, text=\"Click the button\")\n",
    "label.pack()\n",
    "\n",
    "def on_button_click():\n",
    "    label.config(text=\"Button Clicked!\")\n",
    "\n",
    "button = Button(root, text=\"Click Me\", command=on_button_click)\n",
    "button.pack()\n",
    "\n",
    "stop = Button(root, text='Exit', command=root.destroy)\n",
    "stop.pack()\n",
    "\n",
    "root.mainloop()"
   ]
  },
  {
   "cell_type": "markdown",
   "metadata": {},
   "source": [
    "#### Python Tkinter layout management"
   ]
  },
  {
   "cell_type": "markdown",
   "metadata": {},
   "source": [
    "4. Write a Python program that develops a calculator interface with buttons for digits and operators, arranging them in a grid."
   ]
  },
  {
   "cell_type": "code",
   "execution_count": 5,
   "metadata": {},
   "outputs": [],
   "source": [
    "import tkinter as tk\n",
    "\n",
    "def update_display(value):\n",
    "    current_text = display.get()\n",
    "    new_text = current_text + value\n",
    "    display.set(new_text)\n",
    "\n",
    "def calculate_result():\n",
    "    try:\n",
    "        result = eval(display.get())\n",
    "        display.set(str(result))\n",
    "    except Exception as e:\n",
    "        display.set(\"Error\")\n",
    "\n",
    "def clear_display():\n",
    "    display.set(\"\")\n",
    "\n",
    "parent = tk.Tk()\n",
    "parent.title(\"Calculator\")\n",
    "\n",
    "display = tk.StringVar()\n",
    "display.set(\"\")\n",
    "\n",
    "display_entry = tk.Entry(parent, textvariable=display, font=(\"Arial\", 18), justify=\"right\")\n",
    "display_entry.grid(row=0, column=0, columnspan=4, padx=10, pady=10, ipadx=10, ipady=10)\n",
    "\n",
    "button_labels = [\n",
    "    '7', '8', '9', '/',\n",
    "    '4', '5', '6', '*',\n",
    "    '1', '2', '3', '-',\n",
    "    '0', '.', '=', '+',\n",
    "    'C'\n",
    "]\n",
    "\n",
    "row_val = 1\n",
    "col_val = 0\n",
    "\n",
    "for label in button_labels:\n",
    "    if label == '=':\n",
    "        tk.Button(parent, text=label, padx=20, pady=20, font=(\"Arial\", 16), command=calculate_result).grid(row=row_val, column=col_val)\n",
    "    elif label == 'C':\n",
    "        tk.Button(parent, text=label, padx=20, pady=20, font=(\"Arial\", 16), command=clear_display).grid(row=row_val, column=col_val)\n",
    "    else:\n",
    "        tk.Button(parent, text=label, padx=20, pady=20, font=(\"Arial\", 16), command=lambda l=label: update_display(l)).grid(row=row_val, column=col_val)\n",
    "    \n",
    "    col_val += 1\n",
    "    if col_val > 3:\n",
    "        col_val = 0\n",
    "        row_val += 1\n",
    "\n",
    "parent.mainloop()\n"
   ]
  },
  {
   "cell_type": "markdown",
   "metadata": {},
   "source": [
    "#### Python Tkinter widgets"
   ]
  },
  {
   "cell_type": "markdown",
   "metadata": {},
   "source": [
    "22. Write a Python  GUI program to create a Colorchooser widget to select a color using tkinter module."
   ]
  },
  {
   "cell_type": "code",
   "execution_count": 6,
   "metadata": {},
   "outputs": [],
   "source": [
    "import tkinter as tk\n",
    "from tkinter import colorchooser\n",
    "\n",
    "def choose_color():\n",
    "    color = colorchooser.askcolor(title=\"Select a Color\")\n",
    "    if color[1]:\n",
    "        selected_color_label.config(text=f\"Selected Color: {color[1]}\")\n",
    "        color_frame.config(bg=color[1])\n",
    "\n",
    "parent = tk.Tk()\n",
    "parent.title(\"Colorchooser Example\")\n",
    "\n",
    "choose_color_button = tk.Button(parent, text=\"Choose a Color\", command=choose_color)\n",
    "choose_color_button.pack(padx=20, pady=20)\n",
    "\n",
    "selected_color_label = tk.Label(parent, text=\"Selected Color:\", font=(\"Helvetica\", 10))\n",
    "selected_color_label.pack()\n",
    "\n",
    "color_frame = tk.Frame(parent, width=100, height=50)\n",
    "color_frame.pack(padx=20, pady=20)\n",
    "\n",
    "parent.mainloop()\n"
   ]
  },
  {
   "cell_type": "markdown",
   "metadata": {},
   "source": [
    "#### Python Tkinter Dialogs and File Handling"
   ]
  },
  {
   "cell_type": "markdown",
   "metadata": {},
   "source": [
    "2. Write a Python program using Tkinter, that implements a confirmation dialog that asks the user if they want to save changes before exiting the application."
   ]
  },
  {
   "cell_type": "code",
   "execution_count": 15,
   "metadata": {},
   "outputs": [],
   "source": [
    "import tkinter as tk\n",
    "from tkinter import messagebox\n",
    "def confirm_exit():\n",
    "    response = messagebox.askyesnocancel(\"Confirm Exit\", \"Want to save changes before exiting?\")\n",
    "    if response is None:\n",
    "        # User clicked \"Cancel\"\n",
    "        return\n",
    "    elif response:\n",
    "        # User clicked \"Yes,\"  \n",
    "        save_changes()\n",
    "    root.destroy()\n",
    "\n",
    "def save_changes():\n",
    "    messagebox.showinfo(\"Saved\", \"Saved successfully!\")\n",
    "\n",
    "root = tk.Tk()\n",
    "root.title(\"Exit Example\")\n",
    "exit_button = tk.Button(root, text=\"Exit\", command=confirm_exit)\n",
    "exit_button.pack(padx=20, pady=20)\n",
    "root.mainloop()\n"
   ]
  },
  {
   "cell_type": "markdown",
   "metadata": {},
   "source": [
    "5. Write a Python program to implement a custom input dialog that prompts the user to input their name and displays it in a label using Tkinter."
   ]
  },
  {
   "cell_type": "code",
   "execution_count": 14,
   "metadata": {},
   "outputs": [],
   "source": [
    "import tkinter as tk\n",
    "from tkinter import simpledialog\n",
    "\n",
    "def show_name_dialog():\n",
    "    name = simpledialog.askstring(\"Input\", \"Input your name:\")\n",
    "    if name:\n",
    "        name_label.config(text=f\"Hello, {name}!\")\n",
    "\n",
    "parent = tk.Tk()\n",
    "parent.title(\"Input Dialog Example\")\n",
    "\n",
    "get_name_button = tk.Button(parent, text=\"Get Name\", command=show_name_dialog)\n",
    "get_name_button.pack(padx=20, pady=20)\n",
    "\n",
    "name_label = tk.Label(parent, text=\"\", padx=20, pady=10)\n",
    "name_label.pack()\n",
    "\n",
    "parent.mainloop()\n"
   ]
  },
  {
   "cell_type": "markdown",
   "metadata": {},
   "source": [
    "#### Python Tkinter Events and Event Handling"
   ]
  },
  {
   "cell_type": "markdown",
   "metadata": {},
   "source": [
    "13. Write a Python program to build a Tkinter scale widget that adjusts the font size of text displayed in a Label widget as the scale value changes."
   ]
  },
  {
   "cell_type": "code",
   "execution_count": 8,
   "metadata": {},
   "outputs": [],
   "source": [
    "from tkinter import *\n",
    "\n",
    "root = Tk()\n",
    "\n",
    "def update(size):\n",
    "    lbl.config(font=('times', int(size)))\n",
    "\n",
    "lbl = Label(root, text='Move Scale', font=('times',12))\n",
    "lbl.pack()\n",
    "\n",
    "scale = Scale(root, from_=12, to=48, command=update)\n",
    "scale.pack()\n",
    "\n",
    "mainloop()"
   ]
  }
 ],
 "metadata": {
  "kernelspec": {
   "display_name": "Python 3",
   "language": "python",
   "name": "python3"
  },
  "language_info": {
   "codemirror_mode": {
    "name": "ipython",
    "version": 3
   },
   "file_extension": ".py",
   "mimetype": "text/x-python",
   "name": "python",
   "nbconvert_exporter": "python",
   "pygments_lexer": "ipython3",
   "version": "3.13.1"
  }
 },
 "nbformat": 4,
 "nbformat_minor": 2
}
