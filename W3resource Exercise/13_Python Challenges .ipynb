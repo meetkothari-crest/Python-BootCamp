{
 "cells": [
  {
   "cell_type": "markdown",
   "metadata": {},
   "source": [
    "63. There are two non-empty linked lists where every node contains non-negative single digit. Write a Python program to reverse and add the numbers of the two linked lists"
   ]
  },
  {
   "cell_type": "code",
   "execution_count": 2,
   "metadata": {},
   "outputs": [],
   "source": [
    "class Node:\n",
    "    def __init__(self, data):\n",
    "        self.data = data\n",
    "        self.next = None"
   ]
  },
  {
   "cell_type": "code",
   "execution_count": 3,
   "metadata": {},
   "outputs": [],
   "source": [
    "class LL:\n",
    "    def __init__(self):\n",
    "        self.head = None\n",
    "\n",
    "    def trav(self):\n",
    "        s = ''\n",
    "        while self.head != None:\n",
    "            s += str(self.head.data)\n",
    "            self.head = self.head.next\n",
    "            \n",
    "        return int(s[::-1])\n",
    "    "
   ]
  },
  {
   "cell_type": "code",
   "execution_count": 4,
   "metadata": {},
   "outputs": [
    {
     "name": "stdout",
     "output_type": "stream",
     "text": [
      "l1:  234\n",
      "l2:  527\n",
      "761\n"
     ]
    }
   ],
   "source": [
    "l1 = LL()\n",
    "l1.head = Node(4)\n",
    "sec = Node(3)\n",
    "third = Node(2)\n",
    "\n",
    "l1.head.next = sec\n",
    "sec.next = third\n",
    "\n",
    "\n",
    "l2 = LL()\n",
    "l2.head = Node(7)\n",
    "sec = Node(2)\n",
    "third = Node(5)\n",
    "\n",
    "l2.head.next = sec\n",
    "sec.next = third\n",
    "\n",
    "l1_data = l1.trav()\n",
    "l2_data = l2.trav()\n",
    "print('l1: ',l1_data)\n",
    "print('l2: ',l2_data)\n",
    "print(l1_data + l2_data)"
   ]
  },
  {
   "cell_type": "markdown",
   "metadata": {},
   "source": [
    "64. Write a Python program to calculate sum of all positive, negative integers present in a given string.\n",
    "Original string:"
   ]
  },
  {
   "cell_type": "code",
   "execution_count": 2,
   "metadata": {},
   "outputs": [
    {
     "name": "stdout",
     "output_type": "stream",
     "text": [
      "Negative Sum:  -120\n",
      "Positive Sum:  8926\n"
     ]
    }
   ],
   "source": [
    "import re\n",
    "s = '-100#^sdfkj8902w3ir021@swf-20'\n",
    "\n",
    "res1 = re.findall(r'-\\d+', s)\n",
    "res2 = re.findall(r'\\d+', s)\n",
    "\n",
    "neg_sum = 0\n",
    "for res in res1:\n",
    "    neg_sum += int(res)\n",
    "print('Negative Sum: ',neg_sum)\n",
    "\n",
    "pos_sum = 0\n",
    "for res in res2:\n",
    "    pos_sum += int(res)\n",
    "print('Positive Sum: ',pos_sum + neg_sum)"
   ]
  },
  {
   "cell_type": "code",
   "execution_count": null,
   "metadata": {},
   "outputs": [],
   "source": []
  }
 ],
 "metadata": {
  "kernelspec": {
   "display_name": "Python 3",
   "language": "python",
   "name": "python3"
  },
  "language_info": {
   "codemirror_mode": {
    "name": "ipython",
    "version": 3
   },
   "file_extension": ".py",
   "mimetype": "text/x-python",
   "name": "python",
   "nbconvert_exporter": "python",
   "pygments_lexer": "ipython3",
   "version": "3.13.1"
  }
 },
 "nbformat": 4,
 "nbformat_minor": 2
}
