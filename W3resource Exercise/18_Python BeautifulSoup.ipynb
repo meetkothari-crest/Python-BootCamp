{
 "cells": [
  {
   "cell_type": "markdown",
   "metadata": {},
   "source": [
    "10. Write a Python program to find all the link tags and list the first ten from the webpage python.org."
   ]
  },
  {
   "cell_type": "code",
   "execution_count": 1,
   "metadata": {},
   "outputs": [],
   "source": [
    "import requests\n",
    "import bs4"
   ]
  },
  {
   "cell_type": "code",
   "execution_count": 2,
   "metadata": {},
   "outputs": [],
   "source": [
    "res = requests.get('https://www.python.org/')"
   ]
  },
  {
   "cell_type": "code",
   "execution_count": 10,
   "metadata": {},
   "outputs": [],
   "source": [
    "soup = bs4.BeautifulSoup(res.text, 'lxml')"
   ]
  },
  {
   "cell_type": "code",
   "execution_count": 8,
   "metadata": {},
   "outputs": [],
   "source": [
    "urls = []\n",
    "li = soup.find_all('li')\n",
    "\n",
    "for i in li:\n",
    "    a = i.find('a')\n",
    "    urls.append(a.attrs['href'])\n",
    "    "
   ]
  },
  {
   "cell_type": "code",
   "execution_count": 9,
   "metadata": {},
   "outputs": [
    {
     "data": {
      "text/plain": [
       "['/',\n",
       " 'https://www.python.org/psf/',\n",
       " 'https://docs.python.org',\n",
       " 'https://pypi.org/',\n",
       " '/jobs/',\n",
       " '/community/',\n",
       " '#',\n",
       " 'javascript:;',\n",
       " 'javascript:;',\n",
       " 'javascript:;',\n",
       " '#',\n",
       " 'https://www.linkedin.com/company/python-software-foundation/',\n",
       " 'https://fosstodon.org/@ThePSF',\n",
       " '/community/irc/',\n",
       " 'https://twitter.com/ThePSF',\n",
       " '/about/',\n",
       " '/about/apps/',\n",
       " '/about/quotes/',\n",
       " '/about/gettingstarted/',\n",
       " '/about/help/',\n",
       " 'http://brochure.getpython.info/',\n",
       " '/downloads/',\n",
       " '/downloads/',\n",
       " '/downloads/source/',\n",
       " '/downloads/windows/',\n",
       " '/downloads/macos/',\n",
       " '/download/other/',\n",
       " 'https://docs.python.org/3/license.html',\n",
       " '/download/alternatives',\n",
       " '/doc/',\n",
       " '/doc/',\n",
       " '/doc/av',\n",
       " 'https://wiki.python.org/moin/BeginnersGuide',\n",
       " 'https://devguide.python.org/',\n",
       " 'https://docs.python.org/faq/',\n",
       " 'http://wiki.python.org/moin/Languages',\n",
       " 'https://peps.python.org',\n",
       " 'https://wiki.python.org/moin/PythonBooks',\n",
       " '/doc/essays/',\n",
       " '/community/',\n",
       " '/community/diversity/',\n",
       " '/community/lists/',\n",
       " '/community/irc/',\n",
       " '/community/forums/',\n",
       " '/psf/annual-report/2021/',\n",
       " '/community/workshops/',\n",
       " '/community/sigs/',\n",
       " '/community/logos/',\n",
       " 'https://wiki.python.org/moin/',\n",
       " '/psf/conduct/',\n",
       " '/community/awards',\n",
       " '/psf/get-involved/',\n",
       " '/psf/community-stories/',\n",
       " '/success-stories/',\n",
       " '/success-stories/category/arts/',\n",
       " '/success-stories/category/business/',\n",
       " '/success-stories/category/education/',\n",
       " '/success-stories/category/engineering/',\n",
       " '/success-stories/category/government/',\n",
       " '/success-stories/category/scientific/',\n",
       " '/success-stories/category/software-development/',\n",
       " '/blogs/',\n",
       " '/blogs/',\n",
       " '/psf/newsletter/',\n",
       " 'http://pyfound.blogspot.com/',\n",
       " 'http://pycon.blogspot.com/',\n",
       " 'http://planetpython.org/',\n",
       " '/events/',\n",
       " '/events/python-events/',\n",
       " '/events/python-user-group/',\n",
       " '/events/python-events/past/',\n",
       " '/events/python-user-group/past/',\n",
       " 'https://wiki.python.org/moin/PythonEventsCalendar#Submitting_an_Event',\n",
       " '/shell/',\n",
       " '//docs.python.org/3/tutorial/controlflow.html#defining-functions',\n",
       " '//docs.python.org/3/tutorial/introduction.html#lists',\n",
       " 'http://docs.python.org/3/tutorial/introduction.html#using-python-as-a-calculator',\n",
       " '//docs.python.org/3/tutorial/controlflow.html',\n",
       " '//docs.python.org/3/tutorial/',\n",
       " 'https://pyfound.blogspot.com/2024/12/psf-grants-program-charter-updates-part-2.html',\n",
       " 'https://pyfound.blogspot.com/2024/12/psf-grants-program-charter-updates-part-1.html',\n",
       " 'https://pyfound.blogspot.com/2024/12/12psf-grants-program-charter-updates-part-3.html',\n",
       " 'https://pyfound.blogspot.com/2024/12/psf-grants-program-charter-updates-tldr.html',\n",
       " 'https://pyfound.blogspot.com/2024/12/announcing-python-software-foundation.html',\n",
       " '/events/python-user-group/1883/',\n",
       " '/events/python-user-group/1880/',\n",
       " '/events/python-user-group/1855/',\n",
       " '/events/python-events/1882/',\n",
       " '/events/python-user-group/1884/',\n",
       " 'http://www.djangoproject.com/',\n",
       " 'http://wiki.python.org/moin/TkInter',\n",
       " 'http://www.scipy.org',\n",
       " 'http://buildbot.net/',\n",
       " 'http://www.ansible.com',\n",
       " '/about/',\n",
       " '/about/apps/',\n",
       " '/about/quotes/',\n",
       " '/about/gettingstarted/',\n",
       " '/about/help/',\n",
       " 'http://brochure.getpython.info/',\n",
       " '/downloads/',\n",
       " '/downloads/',\n",
       " '/downloads/source/',\n",
       " '/downloads/windows/',\n",
       " '/downloads/macos/',\n",
       " '/download/other/',\n",
       " 'https://docs.python.org/3/license.html',\n",
       " '/download/alternatives',\n",
       " '/doc/',\n",
       " '/doc/',\n",
       " '/doc/av',\n",
       " 'https://wiki.python.org/moin/BeginnersGuide',\n",
       " 'https://devguide.python.org/',\n",
       " 'https://docs.python.org/faq/',\n",
       " 'http://wiki.python.org/moin/Languages',\n",
       " 'https://peps.python.org',\n",
       " 'https://wiki.python.org/moin/PythonBooks',\n",
       " '/doc/essays/',\n",
       " '/community/',\n",
       " '/community/diversity/',\n",
       " '/community/lists/',\n",
       " '/community/irc/',\n",
       " '/community/forums/',\n",
       " '/psf/annual-report/2021/',\n",
       " '/community/workshops/',\n",
       " '/community/sigs/',\n",
       " '/community/logos/',\n",
       " 'https://wiki.python.org/moin/',\n",
       " '/psf/conduct/',\n",
       " '/community/awards',\n",
       " '/psf/get-involved/',\n",
       " '/psf/community-stories/',\n",
       " '/success-stories/',\n",
       " '/success-stories/category/arts/',\n",
       " '/success-stories/category/business/',\n",
       " '/success-stories/category/education/',\n",
       " '/success-stories/category/engineering/',\n",
       " '/success-stories/category/government/',\n",
       " '/success-stories/category/scientific/',\n",
       " '/success-stories/category/software-development/',\n",
       " '/blogs/',\n",
       " '/blogs/',\n",
       " '/psf/newsletter/',\n",
       " 'http://pyfound.blogspot.com/',\n",
       " 'http://pycon.blogspot.com/',\n",
       " 'http://planetpython.org/',\n",
       " '/events/',\n",
       " '/events/python-events/',\n",
       " '/events/python-user-group/',\n",
       " '/events/python-events/past/',\n",
       " '/events/python-user-group/past/',\n",
       " 'https://wiki.python.org/moin/PythonEventsCalendar#Submitting_an_Event',\n",
       " '/dev/',\n",
       " 'https://devguide.python.org/',\n",
       " 'https://github.com/python/cpython/issues',\n",
       " 'https://mail.python.org/mailman/listinfo/python-dev',\n",
       " '/dev/core-mentorship/',\n",
       " '/dev/security/',\n",
       " '/about/help/',\n",
       " '/community/diversity/',\n",
       " 'https://github.com/python/pythondotorg/issues',\n",
       " 'https://status.python.org/']"
      ]
     },
     "execution_count": 9,
     "metadata": {},
     "output_type": "execute_result"
    }
   ],
   "source": [
    "urls"
   ]
  },
  {
   "cell_type": "markdown",
   "metadata": {},
   "source": [
    "30. Write a Python program to insert tags or strings immediately after specified tags or strings."
   ]
  },
  {
   "cell_type": "code",
   "execution_count": 13,
   "metadata": {},
   "outputs": [
    {
     "name": "stdout",
     "output_type": "stream",
     "text": [
      "Original Markup:\n",
      "<b>w3resource.com</b>\n",
      "\n",
      "After inserting the text:\n",
      "<b>w3resource.com<i>Python</i></b>\n"
     ]
    }
   ],
   "source": [
    "soup = bs4.BeautifulSoup(\"<b>w3resource.com</b>\", \"lxml\")\n",
    "\n",
    "print(\"Original Markup:\")\n",
    "print(soup.b)\n",
    "\n",
    "tag = soup.new_tag(\"i\")\n",
    "tag.string = \"Python\"\n",
    "\n",
    "print(\"\\nAfter inserting the text:\")\n",
    "soup.b.string.insert_after(tag)\n",
    "\n",
    "print(soup.b)\n"
   ]
  },
  {
   "cell_type": "markdown",
   "metadata": {},
   "source": [
    "31. Write a Python program to remove the contents of a tag in a given html document."
   ]
  },
  {
   "cell_type": "code",
   "execution_count": 14,
   "metadata": {},
   "outputs": [
    {
     "name": "stdout",
     "output_type": "stream",
     "text": [
      "Original Markup:\n",
      "<a href=\"https://w3resource.com/\">Python exercises<i>w3resource</i></a>\n",
      "\n",
      "After clearing the contents in the tag:\n",
      "<a href=\"https://w3resource.com/\"></a>\n"
     ]
    }
   ],
   "source": [
    "html_content = '<a href=\"https://w3resource.com/\">Python exercises<i>w3resource</i></a>'\n",
    "\n",
    "soup = bs4.BeautifulSoup(html_content, \"lxml\")\n",
    "\n",
    "print(\"Original Markup:\")\n",
    "print(soup.a)\n",
    "tag = soup.a\n",
    "tag = tag.clear()\n",
    "\n",
    "print(\"\\nAfter clearing the contents in the tag:\")\n",
    "print(soup.a)\n"
   ]
  },
  {
   "cell_type": "markdown",
   "metadata": {},
   "source": [
    "35. Write a Python program to wrap an element in the specified tag and create the new wrapper."
   ]
  },
  {
   "cell_type": "code",
   "execution_count": 21,
   "metadata": {},
   "outputs": [
    {
     "name": "stdout",
     "output_type": "stream",
     "text": [
      "Original Markup:\n",
      "<i>Python exercises.</i>\n",
      "\n",
      "New Markup:\n",
      "<div><p><i>Python exercises.</i></p></div>\n"
     ]
    }
   ],
   "source": [
    "soup = bs4.BeautifulSoup(\"<p>Python exercises.</p>\", \"lxml\")\n",
    "\n",
    "print(\"Original Markup:\")\n",
    "print(soup.p.string.wrap(soup.new_tag(\"i\")))\n",
    "\n",
    "print(\"\\nNew Markup:\")\n",
    "print(soup.p.wrap(soup.new_tag(\"div\")))\n"
   ]
  },
  {
   "cell_type": "code",
   "execution_count": null,
   "metadata": {},
   "outputs": [],
   "source": []
  }
 ],
 "metadata": {
  "kernelspec": {
   "display_name": "Python 3",
   "language": "python",
   "name": "python3"
  },
  "language_info": {
   "codemirror_mode": {
    "name": "ipython",
    "version": 3
   },
   "file_extension": ".py",
   "mimetype": "text/x-python",
   "name": "python",
   "nbconvert_exporter": "python",
   "pygments_lexer": "ipython3",
   "version": "3.13.1"
  }
 },
 "nbformat": 4,
 "nbformat_minor": 2
}
