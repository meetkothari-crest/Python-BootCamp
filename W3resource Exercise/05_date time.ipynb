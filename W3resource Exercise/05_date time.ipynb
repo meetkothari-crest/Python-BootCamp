{
 "cells": [
  {
   "cell_type": "markdown",
   "metadata": {},
   "source": [
    "#### Python Date Time"
   ]
  },
  {
   "cell_type": "markdown",
   "metadata": {},
   "source": [
    "62. Write a Python program that takes a tuple containing 9 elements corresponding to structure time as an argument and returns a string representing it."
   ]
  },
  {
   "cell_type": "code",
   "execution_count": 3,
   "metadata": {},
   "outputs": [
    {
     "name": "stdout",
     "output_type": "stream",
     "text": [
      "Sun Jan  5 15:30:10 2025\n"
     ]
    }
   ],
   "source": [
    "import time \n",
    "t = (2025, 1, 5, 15, 30, 10, 6, 362, 0)\n",
    "result = time.asctime(t)\n",
    "print(result)"
   ]
  },
  {
   "cell_type": "markdown",
   "metadata": {},
   "source": [
    "63. Write a Python program to parse a string representing time and return the time structure.\n",
    "Sample Output:"
   ]
  },
  {
   "cell_type": "code",
   "execution_count": 6,
   "metadata": {},
   "outputs": [
    {
     "name": "stdout",
     "output_type": "stream",
     "text": [
      "time.struct_time(tm_year=2025, tm_mon=1, tm_mday=1, tm_hour=0, tm_min=0, tm_sec=0, tm_wday=2, tm_yday=1, tm_isdst=-1)\n"
     ]
    }
   ],
   "source": [
    "import time\n",
    "\n",
    "time_string = \"1 January, 2025\"\n",
    "result = time.strptime(time_string, \"%d %B, %Y\")\n",
    "print(result)"
   ]
  },
  {
   "cell_type": "code",
   "execution_count": 7,
   "metadata": {},
   "outputs": [
    {
     "name": "stdout",
     "output_type": "stream",
     "text": [
      "time.struct_time(tm_year=2025, tm_mon=1, tm_mday=1, tm_hour=0, tm_min=0, tm_sec=0, tm_wday=2, tm_yday=1, tm_isdst=-1)\n"
     ]
    }
   ],
   "source": [
    "time_string = \"1 Jan 25\"\n",
    "result = time.strptime(time_string, \"%d %b %y\")\n",
    "print(result)"
   ]
  },
  {
   "cell_type": "code",
   "execution_count": 8,
   "metadata": {},
   "outputs": [
    {
     "name": "stdout",
     "output_type": "stream",
     "text": [
      "time.struct_time(tm_year=2025, tm_mon=1, tm_mday=1, tm_hour=12, tm_min=31, tm_sec=45, tm_wday=2, tm_yday=1, tm_isdst=-1)\n"
     ]
    }
   ],
   "source": [
    "time_string = '01/01/25 12:31:45'\n",
    "result = time.strptime(time_string, \"%m/%d/%y %H:%M:%S\")\n",
    "print(result)"
   ]
  },
  {
   "cell_type": "code",
   "execution_count": 10,
   "metadata": {},
   "outputs": [
    {
     "name": "stdout",
     "output_type": "stream",
     "text": [
      "time.struct_time(tm_year=2025, tm_mon=1, tm_mday=1, tm_hour=0, tm_min=0, tm_sec=0, tm_wday=2, tm_yday=1, tm_isdst=-1)\n"
     ]
    }
   ],
   "source": [
    "time_string = '01-01-2025'\n",
    "result = time.strptime(time_string, \"%m-%d-%Y\")\n",
    "print(result)"
   ]
  },
  {
   "cell_type": "code",
   "execution_count": 12,
   "metadata": {},
   "outputs": [
    {
     "name": "stdout",
     "output_type": "stream",
     "text": [
      "time.struct_time(tm_year=1900, tm_mon=1, tm_mday=1, tm_hour=12, tm_min=31, tm_sec=45, tm_wday=0, tm_yday=1, tm_isdst=-1)\n"
     ]
    }
   ],
   "source": [
    "time_string = '12::31::45'\n",
    "result = time.strptime(time_string, \"%H::%M::%S\")\n",
    "print(result)"
   ]
  },
  {
   "cell_type": "markdown",
   "metadata": {},
   "source": [
    "#### Python Pendulum (DATETIMES made easy) Module"
   ]
  },
  {
   "cell_type": "markdown",
   "metadata": {},
   "source": [
    "python -m pip install --upgrade pip setuptools wheel\n",
    "pip install pendulum==2.0.4"
   ]
  }
 ],
 "metadata": {
  "kernelspec": {
   "display_name": "Python 3",
   "language": "python",
   "name": "python3"
  },
  "language_info": {
   "codemirror_mode": {
    "name": "ipython",
    "version": 3
   },
   "file_extension": ".py",
   "mimetype": "text/x-python",
   "name": "python",
   "nbconvert_exporter": "python",
   "pygments_lexer": "ipython3",
   "version": "3.13.1"
  }
 },
 "nbformat": 4,
 "nbformat_minor": 2
}
