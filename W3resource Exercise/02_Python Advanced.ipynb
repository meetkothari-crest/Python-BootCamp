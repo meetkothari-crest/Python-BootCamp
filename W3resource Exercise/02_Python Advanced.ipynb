{
 "cells": [
  {
   "cell_type": "markdown",
   "metadata": {},
   "source": [
    "2. Write a Python program to create a class-based decorator that logs the execution time of methods."
   ]
  },
  {
   "cell_type": "code",
   "execution_count": 45,
   "metadata": {},
   "outputs": [
    {
     "name": "stdout",
     "output_type": "stream",
     "text": [
      "Execution time: 2.000335931777954 \n"
     ]
    }
   ],
   "source": [
    "import time  \n",
    "\n",
    "class Decotator: \n",
    "    def __init__(self, func):  \n",
    "        self.func = func\n",
    "\n",
    "    def __get__(self, instance, owner):  \n",
    "        return lambda *args, **kwargs: self(instance, *args, **kwargs)  \n",
    "    \n",
    "    def __call__(self, *args, **kwargs): \n",
    "        instance = args[0] \n",
    "        start_time = time.time()  \n",
    "        result = self.func(instance, *args[1:], **kwargs)  \n",
    "        end_time = time.time() \n",
    "        print(f\"Execution time: {end_time - start_time} \")  \n",
    "        return result \n",
    "\n",
    "class Test:  \n",
    "    @Decotator  \n",
    "    def example_method(self): \n",
    "        time.sleep(2)\n",
    "        \n",
    "example = Test()  \n",
    "example.example_method() \n"
   ]
  },
  {
   "cell_type": "markdown",
   "metadata": {},
   "source": [
    "4. Write a Python function that performs matrix multiplication using list comprehensions."
   ]
  },
  {
   "cell_type": "code",
   "execution_count": 11,
   "metadata": {},
   "outputs": [],
   "source": [
    "A = [[1, 2, 3],\n",
    "    [4, 5, 6]]\n",
    "\n",
    "B = [[7, 8],\n",
    "    [9, 10],\n",
    "    [11, 12]]"
   ]
  },
  {
   "cell_type": "code",
   "execution_count": 18,
   "metadata": {},
   "outputs": [
    {
     "name": "stdout",
     "output_type": "stream",
     "text": [
      "[[58, 64], [139, 154]]\n"
     ]
    }
   ],
   "source": [
    "A_row = len(A)\n",
    "A_col = len(A[1])\n",
    "B_row = len(B)\n",
    "B_col = len(B[1])\n",
    "\n",
    "if A_col == B_row:\n",
    "    result = [[sum(A[i][k] * B[k][j] for k in range(B_row)) for j in range(B_col)] for i in range(A_row)]\n",
    "\n",
    "    print(result)\n",
    "else:\n",
    "    print('Can not Multiply...')"
   ]
  },
  {
   "cell_type": "code",
   "execution_count": null,
   "metadata": {},
   "outputs": [],
   "source": []
  }
 ],
 "metadata": {
  "kernelspec": {
   "display_name": "Python 3",
   "language": "python",
   "name": "python3"
  },
  "language_info": {
   "codemirror_mode": {
    "name": "ipython",
    "version": 3
   },
   "file_extension": ".py",
   "mimetype": "text/x-python",
   "name": "python",
   "nbconvert_exporter": "python",
   "pygments_lexer": "ipython3",
   "version": "3.13.1"
  }
 },
 "nbformat": 4,
 "nbformat_minor": 2
}
