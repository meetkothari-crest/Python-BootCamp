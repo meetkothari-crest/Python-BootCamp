{
 "cells": [
  {
   "cell_type": "markdown",
   "metadata": {},
   "source": [
    "#### Python Multi-threading and Concurrency"
   ]
  },
  {
   "cell_type": "code",
   "execution_count": 22,
   "metadata": {},
   "outputs": [
    {
     "name": "stdout",
     "output_type": "stream",
     "text": [
      "\n",
      "Cube: 1000\n",
      "Square: 100\n",
      "\n",
      "Done!\n"
     ]
    }
   ],
   "source": [
    "import threading\n",
    "\n",
    "def print_cube(num):\n",
    "    print(\"\\nCube: {}\" .format(num * num * num))\n",
    "\n",
    "def print_square(num):\n",
    "    print(\"Square: {}\" .format(num * num))\n",
    "\n",
    "if __name__ ==\"__main__\":\n",
    "    t1 = threading.Thread(target=print_square, args=(10,))\n",
    "    t2 = threading.Thread(target=print_cube, args=(10,))\n",
    "\n",
    "    t2.start()\n",
    "    t1.start()\n",
    "    t1.join()\n",
    "    t2.join()\n",
    "    print(\"\\nDone!\")\n"
   ]
  },
  {
   "cell_type": "code",
   "execution_count": 23,
   "metadata": {},
   "outputs": [
    {
     "name": "stdout",
     "output_type": "stream",
     "text": [
      "ID of process running main program: 7008\n",
      "Main thread name: MainThread\n",
      "Task 1 assigned to thread: t1\n",
      "ID of process running task 1: 7008\n",
      "Task 2 assigned to thread: t2\n",
      "ID of process running task 2: 7008\n"
     ]
    }
   ],
   "source": [
    "import threading\n",
    "import os\n",
    "\n",
    "def task1():\n",
    "    print(\"Task 1 assigned to thread: {}\".format(threading.current_thread().name))\n",
    "    print(\"ID of process running task 1: {}\".format(os.getpid()))\n",
    "\n",
    "def task2():\n",
    "    print(\"Task 2 assigned to thread: {}\".format(threading.current_thread().name))\n",
    "    print(\"ID of process running task 2: {}\".format(os.getpid()))\n",
    "\n",
    "if __name__ == \"__main__\":\n",
    "\n",
    "    print(\"ID of process running main program: {}\".format(os.getpid()))\n",
    "\n",
    "    print(\"Main thread name: {}\".format(threading.current_thread().name))\n",
    "\n",
    "    t1 = threading.Thread(target=task1, name='t1')\n",
    "    t2 = threading.Thread(target=task2, name='t2')\n",
    "\n",
    "    t1.start()\n",
    "    t2.start()\n",
    "\n",
    "    t1.join()\n",
    "    t2.join()\n"
   ]
  },
  {
   "cell_type": "code",
   "execution_count": 26,
   "metadata": {},
   "outputs": [
    {
     "name": "stdout",
     "output_type": "stream",
     "text": [
      "Worker thread running\n",
      "Worker thread running\n",
      "Main thread continuing to run\n"
     ]
    }
   ],
   "source": [
    "import concurrent.futures\n",
    "\n",
    "def worker():\n",
    "    print(\"Worker thread running\")\n",
    "\n",
    "pool = concurrent.futures.ThreadPoolExecutor(max_workers=2)\n",
    "\n",
    "pool.submit(worker)\n",
    "pool.submit(worker)\n",
    "\n",
    "pool.shutdown(wait=False)\n",
    "\n",
    "print(\"Main thread continuing to run\")\n"
   ]
  },
  {
   "cell_type": "code",
   "execution_count": 33,
   "metadata": {},
   "outputs": [
    {
     "name": "stdout",
     "output_type": "stream",
     "text": [
      "Printing number 1\n",
      "Printing letter G\n",
      "Printing number 2\n",
      "Printing letter e\n",
      "Printing number 3\n",
      "Printing letter e\n",
      "Printing number 4\n",
      "Printing letter k\n",
      "Printing number 5\n",
      "Printing letter s\n",
      "Both threads have finished.\n"
     ]
    }
   ],
   "source": [
    "import threading\n",
    "import time\n",
    "\n",
    "def print_numbers():\n",
    "    for i in range(1, 6):\n",
    "        print(f'Printing number {i}')\n",
    "        time.sleep(1) \n",
    "\n",
    "def print_letters():\n",
    "    for letter in 'Geeks':\n",
    "        print(f'Printing letter {letter}')\n",
    "        time.sleep(1)\n",
    "thread1 = threading.Thread(target=print_numbers)\n",
    "thread2 = threading.Thread(target=print_letters)\n",
    "\n",
    "thread1.start()\n",
    "thread2.start()\n",
    "\n",
    "thread1.join()\n",
    "thread2.join()\n",
    "\n",
    "print('Both threads have finished.')"
   ]
  },
  {
   "cell_type": "code",
   "execution_count": 41,
   "metadata": {},
   "outputs": [
    {
     "data": {
      "text/plain": [
       "<Task pending name='Task-6' coro=<fn() running at C:\\Users\\MeetKothari\\AppData\\Local\\Temp\\ipykernel_7008\\298070063.py:3>>"
      ]
     },
     "execution_count": 41,
     "metadata": {},
     "output_type": "execute_result"
    },
    {
     "name": "stdout",
     "output_type": "stream",
     "text": [
      "This is \n",
      "asynchronous programming\n",
      "and not multi-threading\n"
     ]
    }
   ],
   "source": [
    "import asyncio\n",
    "\n",
    "async def fn():\n",
    "\tprint('This is ')\n",
    "\tawait asyncio.sleep(1)\n",
    "\tprint('asynchronous programming')\n",
    "\tawait asyncio.sleep(1)\n",
    "\tprint('and not multi-threading')\n",
    "asyncio.create_task(fn())"
   ]
  },
  {
   "cell_type": "code",
   "execution_count": 45,
   "metadata": {},
   "outputs": [
    {
     "name": "stdout",
     "output_type": "stream",
     "text": [
      "Current thread name: Thread-112 (print_thread_names)\n",
      "Current thread name: Thread-113 (print_thread_names)\n",
      "Current thread name: Thread-114 (print_thread_names)\n",
      "Current thread name: Thread-115 (print_thread_names)\n",
      "Current thread name: Thread-116 (print_thread_names)\n",
      "Current thread name: Thread-117 (print_thread_names)\n",
      "Current thread name: Thread-118 (print_thread_names)\n"
     ]
    }
   ],
   "source": [
    "import threading\n",
    "def print_thread_names():\n",
    "    print(\"Current thread name:\", threading.current_thread().name)\n",
    "\n",
    "threads = []\n",
    "for i in range(7):\n",
    "    thread = threading.Thread(target=print_thread_names)\n",
    "    threads.append(thread)\n",
    "    thread.start()\n",
    "\n",
    "for thread in threads:\n",
    "    thread.join()\n"
   ]
  },
  {
   "cell_type": "markdown",
   "metadata": {},
   "source": [
    "3. Write a Python program that creates two threads to find and print even and odd numbers from 30 to 50."
   ]
  },
  {
   "cell_type": "code",
   "execution_count": 63,
   "metadata": {},
   "outputs": [
    {
     "name": "stdout",
     "output_type": "stream",
     "text": [
      "\n",
      "Even: \n",
      "30 32 34 36 38 40 42 44 46 48 50 \n",
      "Odd: \n",
      "31 33 35 37 39 41 43 45 47 49 "
     ]
    }
   ],
   "source": [
    "import threading\n",
    "\n",
    "def print_Odd():\n",
    "    print('\\nOdd: ')\n",
    "    for i in range(30,51):\n",
    "        if i % 2 != 0:\n",
    "            print(i, end=' ')\n",
    "\n",
    "def print_Even():\n",
    "    print('\\nEven: ')\n",
    "    for i in range(30,51):\n",
    "        if i % 2 == 0:\n",
    "            print(i, end=' ')\n",
    "\n",
    "even = threading.Thread(target=print_Even)\n",
    "odd = threading.Thread(target=print_Odd)\n",
    "\n",
    "even.start()\n",
    "odd.start()\n",
    "\n",
    "even.join()\n",
    "odd.join()"
   ]
  },
  {
   "cell_type": "markdown",
   "metadata": {},
   "source": [
    "7. Write a Python program that performs concurrent HTTP requests using threads."
   ]
  },
  {
   "cell_type": "code",
   "execution_count": 49,
   "metadata": {},
   "outputs": [
    {
     "name": "stdout",
     "output_type": "stream",
     "text": [
      "from https://www.python.org : Response Code 200\n",
      "from https://www.wikipedia.org : Response Code 200\n",
      "from https://www.google.com : Response Code 200\n",
      "from https://www.example.com : Response Code 200\n"
     ]
    }
   ],
   "source": [
    "import requests\n",
    "import threading\n",
    "\n",
    "def req(url):\n",
    "    res = requests.get(url)\n",
    "    print(f'from {url} : Response Code {res.status_code}')\n",
    "\n",
    "threads = []\n",
    "urls = [\n",
    "    \"https://www.example.com\",\n",
    "    \"https://www.google.com\",\n",
    "    \"https://www.wikipedia.org\",\n",
    "    \"https://www.python.org\"\n",
    "]\n",
    "for u in urls:\n",
    "    t = threading.Thread(target=req, args=(u,))\n",
    "    t.start()\n",
    "    threads.append(t)\n",
    "\n",
    "for th in threads:\n",
    "    th.join()"
   ]
  },
  {
   "cell_type": "markdown",
   "metadata": {},
   "source": [
    "#### Python Asynchronous"
   ]
  },
  {
   "cell_type": "code",
   "execution_count": 68,
   "metadata": {},
   "outputs": [],
   "source": [
    "import asyncio\n",
    "import time"
   ]
  },
  {
   "cell_type": "markdown",
   "metadata": {},
   "source": [
    "1. Write a Python program that creates an asynchronous function to print \"Python Exercises!\" with a two second delay."
   ]
  },
  {
   "cell_type": "code",
   "execution_count": 67,
   "metadata": {},
   "outputs": [
    {
     "name": "stdout",
     "output_type": "stream",
     "text": [
      "Python Exercises!\n"
     ]
    }
   ],
   "source": [
    "async def print_delayed_message():\n",
    "    await asyncio.sleep(2) \n",
    "    print(\"Python Exercises!\")\n",
    "\n",
    "async def main():\n",
    "    await print_delayed_message()\n",
    "\n",
    "await main()"
   ]
  },
  {
   "cell_type": "markdown",
   "metadata": {},
   "source": [
    "2. Write a Python program that creates three asynchronous functions and displays their respective names with different delays (1 second, 2 seconds, and 3 seconds)."
   ]
  },
  {
   "cell_type": "code",
   "execution_count": 78,
   "metadata": {},
   "outputs": [
    {
     "name": "stdout",
     "output_type": "stream",
     "text": [
      "F1 Thu Jan  9 10:21:33 2025\n",
      "F2 Thu Jan  9 10:21:35 2025\n",
      "F3 Thu Jan  9 10:21:38 2025\n"
     ]
    }
   ],
   "source": [
    "async def f1():\n",
    "    await asyncio.sleep(1)\n",
    "    print('F1', time.ctime(time.time()))\n",
    "\n",
    "async def f2():\n",
    "    await asyncio.sleep(2)\n",
    "    print('F2', time.ctime(time.time()))\n",
    "\n",
    "async def f3():\n",
    "    await asyncio.sleep(3)\n",
    "    print('F3', time.ctime(time.time()))\n",
    "\n",
    "async def main():\n",
    "    await f1()\n",
    "    await f2()\n",
    "    await f3()\n",
    "\n",
    "await main()\n"
   ]
  },
  {
   "cell_type": "markdown",
   "metadata": {},
   "source": [
    "5. Write a  Python program that runs multiple asynchronous tasks concurrently using asyncio.gather() and measures the time taken.\n"
   ]
  },
  {
   "cell_type": "code",
   "execution_count": 79,
   "metadata": {},
   "outputs": [
    {
     "name": "stdout",
     "output_type": "stream",
     "text": [
      "Task-1 started\n",
      "Task-2 started\n",
      "Task-3 started\n",
      "\n",
      "Task-2 completed\n",
      "Task-3 completed\n",
      "Task-1 completed\n",
      "\n",
      "Total time taken:  4.01 seconds\n"
     ]
    }
   ],
   "source": [
    "async def task1():\n",
    "    print(\"Task-1 started\")\n",
    "    await asyncio.sleep(4)\n",
    "    print(\"Task-1 completed\") \n",
    "\n",
    "async def task2():\n",
    "    print(\"Task-2 started\")\n",
    "    await asyncio.sleep(1)\n",
    "    print(\"Task-2 completed\")\n",
    "\n",
    "async def task3():\n",
    "    print(\"Task-3 started\\n\")\n",
    "    await asyncio.sleep(2)\n",
    "    print(\"Task-3 completed\")\n",
    "\n",
    "async def main():\n",
    "    start_time = time.time()    \n",
    "    await asyncio.gather(task1(), task2(), task3())    \n",
    "    end_time = time.time()\n",
    "    print(\"\\nTotal time taken:  {:.2f} seconds\".format(end_time - start_time))\n",
    "\n",
    "await main()\n"
   ]
  }
 ],
 "metadata": {
  "kernelspec": {
   "display_name": "Python 3",
   "language": "python",
   "name": "python3"
  },
  "language_info": {
   "codemirror_mode": {
    "name": "ipython",
    "version": 3
   },
   "file_extension": ".py",
   "mimetype": "text/x-python",
   "name": "python",
   "nbconvert_exporter": "python",
   "pygments_lexer": "ipython3",
   "version": "3.13.1"
  }
 },
 "nbformat": 4,
 "nbformat_minor": 2
}
