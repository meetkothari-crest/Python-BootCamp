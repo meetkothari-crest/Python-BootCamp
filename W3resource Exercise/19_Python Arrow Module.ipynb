{
 "cells": [
  {
   "cell_type": "code",
   "execution_count": 5,
   "metadata": {},
   "outputs": [
    {
     "name": "stdout",
     "output_type": "stream",
     "text": [
      "2025-01-16T03:54:33.645733+00:00\n",
      "2025-01-16T09:24:33.645863+05:30\n"
     ]
    }
   ],
   "source": [
    "import arrow\n",
    "utc_time = arrow.utcnow()\n",
    "ind_time = arrow.now()\n",
    "\n",
    "print(utc_time)\n",
    "print(ind_time)"
   ]
  },
  {
   "cell_type": "code",
   "execution_count": 9,
   "metadata": {},
   "outputs": [
    {
     "name": "stdout",
     "output_type": "stream",
     "text": [
      "2025-01-15T12:30:45+00:00\n"
     ]
    }
   ],
   "source": [
    "date_str = '2025-01-15 12:30:45'\n",
    "\n",
    "d = arrow.get(date_str)\n",
    "print(d)"
   ]
  },
  {
   "cell_type": "code",
   "execution_count": null,
   "metadata": {},
   "outputs": [],
   "source": [
    "t = arrow.utcnow()\n",
    "print(t)\n",
    "\n",
    "unix_time = t.timestamp\n",
    "print(unix_time)\n",
    "\n",
    "t1 = arrow.Arrow.fromtimestamp(unix_time)\n",
    "print(t1)"
   ]
  },
  {
   "cell_type": "code",
   "execution_count": 27,
   "metadata": {},
   "outputs": [
    {
     "name": "stdout",
     "output_type": "stream",
     "text": [
      "2025-01-16 09:40:28.529126+05:30\n",
      "1737000628.529126\n",
      "2025-01-16T09:40:28.529126+05:30\n"
     ]
    }
   ],
   "source": [
    "a = arrow.now()\n",
    "print(a.datetime)\n",
    "\n",
    "b = a.timestamp()\n",
    "print(b)\n",
    "\n",
    "c = arrow.Arrow.fromtimestamp(b)\n",
    "print(c)"
   ]
  }
 ],
 "metadata": {
  "kernelspec": {
   "display_name": "Python 3",
   "language": "python",
   "name": "python3"
  },
  "language_info": {
   "codemirror_mode": {
    "name": "ipython",
    "version": 3
   },
   "file_extension": ".py",
   "mimetype": "text/x-python",
   "name": "python",
   "nbconvert_exporter": "python",
   "pygments_lexer": "ipython3",
   "version": "3.13.1"
  }
 },
 "nbformat": 4,
 "nbformat_minor": 2
}
