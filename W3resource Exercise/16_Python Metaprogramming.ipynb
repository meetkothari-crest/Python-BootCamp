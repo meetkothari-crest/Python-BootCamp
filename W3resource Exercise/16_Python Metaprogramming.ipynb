{
 "cells": [
  {
   "cell_type": "markdown",
   "metadata": {},
   "source": [
    "2. Write a Python program to create a metaclass \"ValidateAttrMeta\" that ensures all attributes of a class are integers. Raise a TypeError if any attribute is not an integer."
   ]
  },
  {
   "cell_type": "code",
   "execution_count": 3,
   "metadata": {},
   "outputs": [
    {
     "name": "stdout",
     "output_type": "stream",
     "text": [
      "10\n",
      "20\n"
     ]
    }
   ],
   "source": [
    "class ValidateAttrMeta(type):\n",
    "    def __new__(cls, name, bases, dct):\n",
    "        for key, value in dct.items():\n",
    "            if not key.startswith('__') and not isinstance(value, int):\n",
    "                raise TypeError(f\"Attribute {key} is not an integer\")\n",
    "        return super().__new__(cls, name, bases, dct)\n",
    "\n",
    "class MyIntClass(metaclass=ValidateAttrMeta):\n",
    "    foo = 10\n",
    "    bar = 20\n",
    "    # baz = 'not an integer' # Error: \n",
    "\n",
    "print(MyIntClass.foo) \n",
    "print(MyIntClass.bar)  \n"
   ]
  },
  {
   "cell_type": "code",
   "execution_count": null,
   "metadata": {},
   "outputs": [],
   "source": []
  }
 ],
 "metadata": {
  "kernelspec": {
   "display_name": "Python 3",
   "language": "python",
   "name": "python3"
  },
  "language_info": {
   "codemirror_mode": {
    "name": "ipython",
    "version": 3
   },
   "file_extension": ".py",
   "mimetype": "text/x-python",
   "name": "python",
   "nbconvert_exporter": "python",
   "pygments_lexer": "ipython3",
   "version": "3.13.1"
  }
 },
 "nbformat": 4,
 "nbformat_minor": 2
}
