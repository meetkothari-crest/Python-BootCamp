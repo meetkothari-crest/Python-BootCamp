{
 "cells": [
  {
   "cell_type": "markdown",
   "metadata": {},
   "source": [
    "### Python Exception Handling"
   ]
  },
  {
   "cell_type": "markdown",
   "metadata": {},
   "source": [
    "10. Write a Python program that executes a list operation and handles an AttributeError exception if the attribute does not exist."
   ]
  },
  {
   "cell_type": "code",
   "execution_count": 18,
   "metadata": {},
   "outputs": [
    {
     "name": "stdout",
     "output_type": "stream",
     "text": [
      "5\n",
      "ERROR: Attribute Error!!!\n",
      "Finally...\n"
     ]
    }
   ],
   "source": [
    "lst = [1,2,3,4,5]\n",
    "\n",
    "try:\n",
    "    print(lst.pop())\n",
    "    print(lst.abc)\n",
    "except AttributeError:\n",
    "    print('ERROR: Attribute Error!!!')\n",
    "finally:\n",
    "    print(\"Finally...\")"
   ]
  },
  {
   "cell_type": "markdown",
   "metadata": {},
   "source": [
    "### Python Object-Oriented Programming"
   ]
  },
  {
   "cell_type": "markdown",
   "metadata": {},
   "source": [
    "11. Write a Python program to create a class representing a bank. Include methods for managing customer accounts and transactions."
   ]
  },
  {
   "cell_type": "code",
   "execution_count": 34,
   "metadata": {},
   "outputs": [],
   "source": [
    "class BankAcc:\n",
    "\n",
    "    def __init__(self):\n",
    "        self.details = {}\n",
    "\n",
    "    def create_acc(self, acc_no, bal, cus_name):\n",
    "        if acc_no in self.details.values():\n",
    "            print(\"Account already exists.\")\n",
    "        else:\n",
    "            self.details['acc_no'] = acc_no\n",
    "            self.details['bal'] = bal\n",
    "            self.details['cus_name'] = cus_name\n",
    "\n",
    "    def deposit(self, amount):\n",
    "        self.details['bal'] += amount\n",
    "\n",
    "    def withdraw(self, amount):\n",
    "        if amount > self.details['bal']:\n",
    "            print('Insufficient Balance')\n",
    "        else:\n",
    "            self.details['bal'] -= amount\n",
    "\n",
    "    def check_details(self):\n",
    "        print(f'Customer Name: {self.details['cus_name']}')\n",
    "        print(f'Account Number: {self.details['acc_no']}')\n",
    "        print(f'Current Balance: {self.details['bal']}\\n')\n",
    "        "
   ]
  },
  {
   "cell_type": "code",
   "execution_count": 35,
   "metadata": {},
   "outputs": [
    {
     "name": "stdout",
     "output_type": "stream",
     "text": [
      "Customer Name: XYZ\n",
      "Account Number: 1\n",
      "Current Balance: 1000\n",
      "\n",
      "Customer Name: XYZ\n",
      "Account Number: 1\n",
      "Current Balance: 1100\n",
      "\n",
      "Customer Name: XYZ\n",
      "Account Number: 1\n",
      "Current Balance: 100\n",
      "\n",
      "Account already exists..\n"
     ]
    }
   ],
   "source": [
    "acc = BankAcc()\n",
    "acc.create_acc(1, 1000, 'XYZ')\n",
    "acc.check_details()\n",
    "acc.deposit(100)\n",
    "acc.check_details()\n",
    "\n",
    "acc.withdraw(1000)\n",
    "acc.check_details()\n",
    "\n",
    "acc.create_acc(1, 100, 'ABC')"
   ]
  },
  {
   "cell_type": "markdown",
   "metadata": {},
   "source": [
    "### Python Decorator"
   ]
  },
  {
   "cell_type": "markdown",
   "metadata": {},
   "source": [
    "12. Write a Python program that implements a decorator to provide caching with expiration time for a function."
   ]
  },
  {
   "cell_type": "code",
   "execution_count": 46,
   "metadata": {},
   "outputs": [
    {
     "name": "stdout",
     "output_type": "stream",
     "text": [
      "Calculating...\n",
      "35\n",
      "Calculating...\n",
      "50\n",
      "Retrieving from cache...\n",
      "50\n",
      "Retrieving from cache...\n",
      "35\n"
     ]
    }
   ],
   "source": [
    "import time\n",
    "\n",
    "def decorator(func, exp_time = 5):\n",
    "    cache = {}\n",
    "\n",
    "    def wrapper(a,b):\n",
    "        key = (a,b)\n",
    "        if key in cache:\n",
    "            value, timestamp = cache[key]\n",
    "\n",
    "            if time.time() - timestamp < exp_time:\n",
    "                print(\"Retrieving from cache...\")\n",
    "                return value\n",
    "            \n",
    "        result = func(a,b)\n",
    "        cache[key] = (result, time.time())\n",
    "        return result\n",
    "    \n",
    "    return wrapper\n",
    "\n",
    "@decorator \n",
    "def multiply(x, y):\n",
    "    print(\"Calculating...\")\n",
    "    return x * y\n",
    "\n",
    "print(multiply(5, 7))  \n",
    "print(multiply(10, 5)) \n",
    "print(multiply(10, 5)) \n",
    "print(multiply(5, 7))  \n"
   ]
  },
  {
   "cell_type": "code",
   "execution_count": null,
   "metadata": {},
   "outputs": [],
   "source": []
  }
 ],
 "metadata": {
  "kernelspec": {
   "display_name": "Python 3",
   "language": "python",
   "name": "python3"
  },
  "language_info": {
   "codemirror_mode": {
    "name": "ipython",
    "version": 3
   },
   "file_extension": ".py",
   "mimetype": "text/x-python",
   "name": "python",
   "nbconvert_exporter": "python",
   "pygments_lexer": "ipython3",
   "version": "3.13.1"
  }
 },
 "nbformat": 4,
 "nbformat_minor": 2
}
