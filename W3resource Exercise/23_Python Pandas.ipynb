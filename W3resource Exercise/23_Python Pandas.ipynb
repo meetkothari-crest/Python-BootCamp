{
 "cells": [
  {
   "cell_type": "markdown",
   "metadata": {},
   "source": [
    "#### Pandas Data Series"
   ]
  },
  {
   "cell_type": "markdown",
   "metadata": {},
   "source": [
    "3. Write a Pandas program to add, subtract, multiple and divide two Pandas Series."
   ]
  },
  {
   "cell_type": "code",
   "execution_count": 5,
   "metadata": {},
   "outputs": [
    {
     "name": "stdout",
     "output_type": "stream",
     "text": [
      "0     3\n",
      "1     7\n",
      "2    11\n",
      "3    15\n",
      "4    19\n",
      "dtype: int64\n",
      "0    1\n",
      "1    1\n",
      "2    1\n",
      "3    1\n",
      "4    1\n",
      "dtype: int64\n",
      "0     2\n",
      "1    12\n",
      "2    30\n",
      "3    56\n",
      "4    90\n",
      "dtype: int64\n",
      "0    2.000000\n",
      "1    1.333333\n",
      "2    1.200000\n",
      "3    1.142857\n",
      "4    1.111111\n",
      "dtype: float64\n"
     ]
    }
   ],
   "source": [
    "import pandas as pd\n",
    "\n",
    "ds1 = pd.Series([2, 4, 6, 8, 10])\n",
    "ds2 = pd.Series([1, 3, 5, 7, 9])\n",
    "\n",
    "d = ds1 + ds2 \n",
    "print(d)\n",
    "\n",
    "d = ds1 - ds2 \n",
    "print(d)\n",
    "\n",
    "d = ds1 * ds2 \n",
    "print(d)\n",
    "\n",
    "d = ds1 / ds2 \n",
    "print(d)"
   ]
  },
  {
   "cell_type": "markdown",
   "metadata": {},
   "source": [
    "8. Write a Pandas program to convert the first column of a DataFrame as a Series."
   ]
  },
  {
   "cell_type": "code",
   "execution_count": 7,
   "metadata": {},
   "outputs": [
    {
     "name": "stdout",
     "output_type": "stream",
     "text": [
      "Original DataFrame\n",
      "   col1  col2  col3\n",
      "0     1     4     7\n",
      "1     2     5     5\n",
      "2     3     6     8\n",
      "3     4     9    12\n",
      "4     7     5     1\n",
      "5    11     0    11\n",
      "\n",
      "1st column as a Series:\n",
      "0     1\n",
      "1     2\n",
      "2     3\n",
      "3     4\n",
      "4     7\n",
      "5    11\n",
      "Name: col1, dtype: int64\n",
      "<class 'pandas.core.series.Series'>\n"
     ]
    }
   ],
   "source": [
    "d = {'col1': [1, 2, 3, 4, 7, 11], 'col2': [4, 5, 6, 9, 5, 0], 'col3': [7, 5, 8, 12, 1, 11]}\n",
    "\n",
    "df = pd.DataFrame(data=d)\n",
    "\n",
    "print(\"Original DataFrame\")\n",
    "print(df)\n",
    "\n",
    "s1 = df['col1']\n",
    "\n",
    "print(\"\\n1st column as a Series:\")\n",
    "print(s1)\n",
    "print(type(s1)) \n"
   ]
  },
  {
   "cell_type": "markdown",
   "metadata": {},
   "source": [
    "39. Write a Pandas program to find the index of the first occurrence of the smallest and largest value of a given series."
   ]
  },
  {
   "cell_type": "code",
   "execution_count": 9,
   "metadata": {},
   "outputs": [
    {
     "name": "stdout",
     "output_type": "stream",
     "text": [
      "0     1\n",
      "1     3\n",
      "2     7\n",
      "3    12\n",
      "4    88\n",
      "5    23\n",
      "6     3\n",
      "7     1\n",
      "8     9\n",
      "9     0\n",
      "dtype: int64 \n",
      "\n",
      "9\n",
      "4\n"
     ]
    }
   ],
   "source": [
    "nums = pd.Series([1, 3, 7, 12, 88, 23, 3, 1, 9, 0])\n",
    "print(nums,'\\n')\n",
    "\n",
    "print(nums.idxmin())\n",
    "print(nums.idxmax())\n"
   ]
  },
  {
   "cell_type": "markdown",
   "metadata": {},
   "source": [
    "#### Pandas DataFrame"
   ]
  },
  {
   "cell_type": "markdown",
   "metadata": {},
   "source": [
    "6. Write a Pandas program to select the specified columns and rows from a given data frame."
   ]
  },
  {
   "cell_type": "code",
   "execution_count": 23,
   "metadata": {},
   "outputs": [
    {
     "name": "stdout",
     "output_type": "stream",
     "text": [
      "   attempts qualify\n",
      "b         3      no\n",
      "c         2     yes\n",
      "d         3      no\n",
      "e         2      no\n"
     ]
    }
   ],
   "source": [
    "import numpy as np\n",
    "\n",
    "exam_data  = {'name': ['Anastasia', 'Dima', 'Katherine', 'James', 'Emily', 'Michael', 'Matthew', 'Laura', 'Kevin', 'Jonas'],\n",
    "        'score': [12.5, 9, 16.5, np.nan, 9, 20, 14.5, np.nan, 8, 19],\n",
    "        'attempts': [1, 3, 2, 3, 2, 3, 1, 1, 2, 1],\n",
    "        'qualify': ['yes', 'no', 'yes', 'no', 'no', 'yes', 'yes', 'no', 'no', 'yes']}\n",
    "labels = ['a', 'b', 'c', 'd', 'e', 'f', 'g', 'h', 'i', 'j']\n",
    "\n",
    "df = pd.DataFrame(exam_data , index=labels)\n",
    "print(df.iloc[[1,2,3,4], [2,3]])\n"
   ]
  },
  {
   "cell_type": "markdown",
   "metadata": {},
   "source": [
    "81. Write a Pandas program to get lowest n records within each group of a given DataFrame."
   ]
  },
  {
   "cell_type": "code",
   "execution_count": 21,
   "metadata": {},
   "outputs": [
    {
     "name": "stdout",
     "output_type": "stream",
     "text": [
      "Original DataFrame\n",
      "   col1  col2  col3\n",
      "0     1     4     7\n",
      "1     2     5     5\n",
      "2     3     6     8\n",
      "3     4     9    12\n",
      "4     7     5     1\n",
      "5    11     0    11\n",
      "\n",
      "   col1  col2  col3\n",
      "0     1     4     7\n",
      "1     2     5     5\n",
      "2     3     6     8\n",
      "   col1  col2  col3\n",
      "5    11     0    11\n",
      "0     1     4     7\n",
      "1     2     5     5\n",
      "   col1  col2  col3\n",
      "4     7     5     1\n",
      "1     2     5     5\n",
      "0     1     4     7\n"
     ]
    }
   ],
   "source": [
    "d = {'col1': [1, 2, 3, 4, 7, 11], 'col2': [4, 5, 6, 9, 5, 0], 'col3': [7, 5, 8, 12, 1,11]}\n",
    "\n",
    "df = pd.DataFrame(data=d)\n",
    "print(\"Original DataFrame\")\n",
    "print(df)\n",
    "\n",
    "print()\n",
    "\n",
    "df1 = df.nsmallest(3, 'col1')\n",
    "print(df1)\n",
    "\n",
    "df2 = df.nsmallest(3, 'col2')\n",
    "print(df2)\n",
    "\n",
    "df3 = df.nsmallest(3, 'col3')\n",
    "print(df3)\n"
   ]
  },
  {
   "cell_type": "markdown",
   "metadata": {},
   "source": [
    "#### Pandas Index"
   ]
  },
  {
   "cell_type": "markdown",
   "metadata": {},
   "source": [
    "25. Write a  Pandas program to start index with different value rather than 0 in a given DataFrame."
   ]
  },
  {
   "cell_type": "code",
   "execution_count": 26,
   "metadata": {},
   "outputs": [
    {
     "name": "stdout",
     "output_type": "stream",
     "text": [
      "Original DataFrame:\n",
      "  school_code class            name date_of_birth  weight\n",
      "0        s001     V  Alberto Franco    15/05/2002      35\n",
      "1        s002     V    Gino Mcneill    17/05/2002      37\n",
      "2        s003    VI     Ryan Parkes    16/02/1999      33\n",
      "3        s001    VI    Eesha Hinton    25/09/1998      30\n",
      "4        s002     V    Gino Mcneill    11/05/2002      31\n",
      "5        s004    VI    David Parkes    15/09/1997      32\n",
      "\n",
      "Default Index Range:\n",
      "RangeIndex(start=0, stop=6, step=1)\n",
      "\n",
      "New Index Range:\n",
      "RangeIndex(start=10, stop=16, step=1)\n",
      "\n",
      "DataFrame with new index:\n",
      "   school_code class            name date_of_birth  weight\n",
      "10        s001     V  Alberto Franco    15/05/2002      35\n",
      "11        s002     V    Gino Mcneill    17/05/2002      37\n",
      "12        s003    VI     Ryan Parkes    16/02/1999      33\n",
      "13        s001    VI    Eesha Hinton    25/09/1998      30\n",
      "14        s002     V    Gino Mcneill    11/05/2002      31\n",
      "15        s004    VI    David Parkes    15/09/1997      32\n"
     ]
    }
   ],
   "source": [
    "df = pd.DataFrame({\n",
    "    'school_code': ['s001','s002','s003','s001','s002','s004'],\n",
    "    'class': ['V', 'V', 'VI', 'VI', 'V', 'VI'],\n",
    "    'name': ['Alberto Franco','Gino Mcneill','Ryan Parkes', 'Eesha Hinton', 'Gino Mcneill', 'David Parkes'],\n",
    "    'date_of_birth': ['15/05/2002','17/05/2002','16/02/1999','25/09/1998','11/05/2002','15/09/1997'],\n",
    "    'weight': [35, 37, 33, 30, 31, 32]})\n",
    "     \n",
    "print(\"Original DataFrame:\")\n",
    "print(df)\n",
    "print(\"\\nDefault Index Range:\")\n",
    "print(df.index)\n",
    "df.index += 10 \n",
    "print(\"\\nNew Index Range:\")\n",
    "print(df.index)\n",
    "print(\"\\nDataFrame with new index:\")\n",
    "print(df)\n"
   ]
  },
  {
   "cell_type": "markdown",
   "metadata": {},
   "source": [
    "26. Write a Pandas program to select rows by filtering on one or more column(s) in a multi-index dataframe."
   ]
  },
  {
   "cell_type": "code",
   "execution_count": 36,
   "metadata": {},
   "outputs": [
    {
     "name": "stdout",
     "output_type": "stream",
     "text": [
      "  school_code class            name date_of_birth  weight tcode\n",
      "0        s001     V  Alberto Franco    15/05/2002      35    t1\n",
      "1        s002     V    Gino Mcneill    17/05/2002      37    t2\n",
      "2        s003    VI     Ryan Parkes    16/02/1999      33    t3\n",
      "3        s001    VI    Eesha Hinton    25/09/1998      30    t4\n",
      "4        s002     V    Gino Mcneill    11/05/2002      31    t5\n",
      "5        s004    VI    David Parkes    15/09/1997      32    t6 \n",
      "\n",
      "  school_code class            name date_of_birth  weight tcode\n",
      "0        s001     V  Alberto Franco    15/05/2002      35    t1 \n",
      "\n",
      "  school_code class            name date_of_birth  weight tcode\n",
      "0        s001     V  Alberto Franco    15/05/2002      35    t1 \n",
      "\n"
     ]
    }
   ],
   "source": [
    "df = pd.DataFrame({\n",
    "    'school_code': ['s001','s002','s003','s001','s002','s004'],\n",
    "    'class': ['V', 'V', 'VI', 'VI', 'V', 'VI'],\n",
    "    'name': ['Alberto Franco','Gino Mcneill','Ryan Parkes', 'Eesha Hinton', 'Gino Mcneill', 'David Parkes'],\n",
    "    'date_of_birth': ['15/05/2002','17/05/2002','16/02/1999','25/09/1998','11/05/2002','15/09/1997'],\n",
    "    'weight': [35, 37, 33, 30, 31, 32],\n",
    "    'tcode': ['t1', 't2', 't3', 't4', 't5', 't6']}) \n",
    "\n",
    "df.set_index(['school_code', 'tcode'])\n",
    "print(df,'\\n')\n",
    "\n",
    "print(df.query(\"tcode == 't1'\"), '\\n')\n",
    "print(df.query(\"weight == 35\"), '\\n')"
   ]
  },
  {
   "cell_type": "markdown",
   "metadata": {},
   "source": [
    "#### Pandas String and Regular Expression"
   ]
  },
  {
   "cell_type": "markdown",
   "metadata": {},
   "source": [
    "41. Write a Pandas program to remove the html tags within the specified column of a given DataFrame."
   ]
  },
  {
   "cell_type": "code",
   "execution_count": 37,
   "metadata": {},
   "outputs": [
    {
     "name": "stdout",
     "output_type": "stream",
     "text": [
      "Original DataFrame:\n",
      "                       address\n",
      "0    9910 Surrey <b>Avenue</b>\n",
      "1          92 N. Bishop Avenue\n",
      "2  9910 <br>Golden Star Avenue\n",
      "3        102 Dunbar <i></i>St.\n",
      "4     17 West Livingston Court\n",
      "\n",
      "Sentences without tags':\n",
      "                       address             with_out_tags\n",
      "0    9910 Surrey <b>Avenue</b>        9910 Surrey Avenue\n",
      "1          92 N. Bishop Avenue       92 N. Bishop Avenue\n",
      "2  9910 <br>Golden Star Avenue   9910 Golden Star Avenue\n",
      "3        102 Dunbar <i></i>St.            102 Dunbar St.\n",
      "4     17 West Livingston Court  17 West Livingston Court\n"
     ]
    }
   ],
   "source": [
    "import pandas as pd\n",
    "import re as re\n",
    "df = pd.DataFrame({\n",
    "    'address': ['9910 Surrey <b>Avenue</b>','92 N. Bishop Avenue','9910 <br>Golden Star Avenue', '102 Dunbar <i></i>St.', '17 West Livingston Court']\n",
    "})\n",
    "print(\"Original DataFrame:\")\n",
    "print(df)\n",
    "\n",
    "def remove_tags(string):\n",
    "    result = re.sub('<.*?>','',string)\n",
    "    return result\n",
    "\n",
    "df['with_out_tags']=df['address'].apply(lambda cw : remove_tags(cw))\n",
    "print(\"\\nSentences without tags':\")\n",
    "print(df)\n"
   ]
  },
  {
   "cell_type": "markdown",
   "metadata": {},
   "source": [
    "#### Pandas Joining and merging DataFrame "
   ]
  },
  {
   "cell_type": "markdown",
   "metadata": {},
   "source": [
    "14. Write a Pandas program to merge two given dataframes with different columns."
   ]
  },
  {
   "cell_type": "code",
   "execution_count": 44,
   "metadata": {},
   "outputs": [
    {
     "name": "stdout",
     "output_type": "stream",
     "text": [
      "Original DataFrames:\n",
      "     A  B\n",
      "0  NaN  3\n",
      "1  0.0  4\n",
      "2  NaN  5\n",
      "   A    B\n",
      "0  1  3.0\n",
      "1  1  NaN\n",
      "2  3  3.0\n",
      "\n",
      "Merge two dataframes with different columns:\n",
      "     A    B\n",
      "0  1.0  3.0\n",
      "1  0.0  4.0\n",
      "2  3.0  5.0\n"
     ]
    }
   ],
   "source": [
    "df1 = pd.DataFrame({'A': [None, 0, None], 'B': [3, 4, 5]})\n",
    "df2 = pd.DataFrame({'A': [1, 1, 3], 'B': [3, None, 3]})\n",
    "\n",
    "print(\"Original DataFrames:\")\n",
    "print(df1)\n",
    "\n",
    "print(df2)\n",
    "print(\"\\nMerge two dataframes with different columns:\")\n",
    "result = df1.combine_first(df2)\n",
    "print(result)\n"
   ]
  },
  {
   "cell_type": "markdown",
   "metadata": {},
   "source": [
    "#### Pandas Grouping and Aggregating"
   ]
  },
  {
   "cell_type": "code",
   "execution_count": 72,
   "metadata": {},
   "outputs": [
    {
     "name": "stdout",
     "output_type": "stream",
     "text": [
      "Original Orders DataFrame:\n",
      "      ord_date  salesman_id\n",
      "0   2012-10-05         5002\n",
      "1   2012-09-10         5005\n",
      "2   2012-10-05         5001\n",
      "3   2012-08-17         5003\n",
      "4   2012-09-10         5002\n",
      "5   2012-07-27         5001\n",
      "6   2012-09-10         5001\n",
      "7   2012-10-10         5004\n",
      "8   2012-10-10         5003\n",
      "9   2012-06-27         5002\n",
      "10  2012-08-17         5004\n",
      "11  2012-04-25         5001 \n",
      "\n",
      "salesman_id\n",
      "5001    2012-04-25\n",
      "5002    2012-06-27\n",
      "5003    2012-08-17\n",
      "5004    2012-08-17\n",
      "5005    2012-09-10\n",
      "Name: ord_date, dtype: object\n"
     ]
    }
   ],
   "source": [
    "df = pd.DataFrame({\n",
    "'ord_date': ['2012-10-05','2012-09-10','2012-10-05','2012-08-17','2012-09-10','2012-07-27','2012-09-10','2012-10-10','2012-10-10','2012-06-27','2012-08-17','2012-04-25'],\n",
    "'salesman_id': [5002,5005,5001,5003,5002,5001,5001,5004,5003,5002,5004,5001]})\n",
    "\n",
    "\n",
    "print(\"Original Orders DataFrame:\")\n",
    "print(df,'\\n')\n",
    "\n",
    "\n",
    "result = df.groupby('salesman_id')['ord_date'].min()\n",
    "\n",
    "print(result)\n"
   ]
  },
  {
   "cell_type": "markdown",
   "metadata": {},
   "source": [
    "#### Pandas Time Series"
   ]
  },
  {
   "cell_type": "markdown",
   "metadata": {},
   "source": [
    "2. Write a Pandas program to create<br>\n",
    "a) a specific date using timestamp.<br>\n",
    "b) date and time using timestamp.<br>\n",
    "c) a time adds in the current local date using timestamp.<br>\n",
    "d) current date and time using timestamp."
   ]
  },
  {
   "cell_type": "code",
   "execution_count": 7,
   "metadata": {},
   "outputs": [
    {
     "name": "stdout",
     "output_type": "stream",
     "text": [
      "2024-12-05 00:00:00\n",
      "2024-12-05 12:30:00\n",
      "2025-01-15 12:30:00\n",
      "2025-01-15 09:00:42.658870\n"
     ]
    }
   ],
   "source": [
    "import pandas as pd\n",
    "\n",
    "print(pd.Timestamp('2024-12-05'))\n",
    "print(pd.Timestamp('2024-12-05 12:30'))\n",
    "print(pd.Timestamp('12:30'))\n",
    "print(pd.Timestamp('now'))"
   ]
  },
  {
   "cell_type": "markdown",
   "metadata": {},
   "source": [
    "29. Write a Pandas program create a series with a PeriodIndex which represents all the calendar month periods in 2029 and 2031. Also print the values for all periods in 2030."
   ]
  },
  {
   "cell_type": "code",
   "execution_count": 10,
   "metadata": {},
   "outputs": [
    {
     "name": "stdout",
     "output_type": "stream",
     "text": [
      "2029-01    1\n",
      "2029-02    1\n",
      "2029-03    1\n",
      "2029-04    1\n",
      "2029-05    1\n",
      "2029-06    1\n",
      "2029-07    1\n",
      "2029-08    1\n",
      "2029-09    1\n",
      "2029-10    1\n",
      "2029-11    1\n",
      "2029-12    1\n",
      "2030-01    1\n",
      "2030-02    1\n",
      "2030-03    1\n",
      "2030-04    1\n",
      "2030-05    1\n",
      "2030-06    1\n",
      "2030-07    1\n",
      "2030-08    1\n",
      "2030-09    1\n",
      "2030-10    1\n",
      "2030-11    1\n",
      "2030-12    1\n",
      "2031-01    1\n",
      "2031-02    1\n",
      "2031-03    1\n",
      "2031-04    1\n",
      "2031-05    1\n",
      "2031-06    1\n",
      "2031-07    1\n",
      "2031-08    1\n",
      "2031-09    1\n",
      "2031-10    1\n",
      "2031-11    1\n",
      "2031-12    1\n",
      "Freq: M, dtype: int64\n"
     ]
    }
   ],
   "source": [
    "period_index = pd.Series(1,pd.period_range('1/1/2029', '31/12/2031', freq='M'))\n",
    "\n",
    "print(period_index)"
   ]
  },
  {
   "cell_type": "code",
   "execution_count": 11,
   "metadata": {},
   "outputs": [
    {
     "data": {
      "text/plain": [
       "2030-01    1\n",
       "2030-02    1\n",
       "2030-03    1\n",
       "2030-04    1\n",
       "2030-05    1\n",
       "2030-06    1\n",
       "2030-07    1\n",
       "2030-08    1\n",
       "2030-09    1\n",
       "2030-10    1\n",
       "2030-11    1\n",
       "2030-12    1\n",
       "Freq: M, dtype: int64"
      ]
     },
     "execution_count": 11,
     "metadata": {},
     "output_type": "execute_result"
    }
   ],
   "source": [
    "period_index['2030']"
   ]
  },
  {
   "cell_type": "markdown",
   "metadata": {},
   "source": [
    "#### Pandas Filter"
   ]
  },
  {
   "cell_type": "code",
   "execution_count": 40,
   "metadata": {},
   "outputs": [
    {
     "data": {
      "text/html": [
       "<div>\n",
       "<style scoped>\n",
       "    .dataframe tbody tr th:only-of-type {\n",
       "        vertical-align: middle;\n",
       "    }\n",
       "\n",
       "    .dataframe tbody tr th {\n",
       "        vertical-align: top;\n",
       "    }\n",
       "\n",
       "    .dataframe thead th {\n",
       "        text-align: right;\n",
       "    }\n",
       "</style>\n",
       "<table border=\"1\" class=\"dataframe\">\n",
       "  <thead>\n",
       "    <tr style=\"text-align: right;\">\n",
       "      <th></th>\n",
       "      <th>Year</th>\n",
       "      <th>WHO region</th>\n",
       "      <th>Country</th>\n",
       "      <th>Beverage Types</th>\n",
       "      <th>Display Value</th>\n",
       "    </tr>\n",
       "  </thead>\n",
       "  <tbody>\n",
       "    <tr>\n",
       "      <th>0</th>\n",
       "      <td>1986</td>\n",
       "      <td>Western Pacific</td>\n",
       "      <td>Viet Nam</td>\n",
       "      <td>Wine</td>\n",
       "      <td>0.00</td>\n",
       "    </tr>\n",
       "    <tr>\n",
       "      <th>1</th>\n",
       "      <td>1986</td>\n",
       "      <td>Americas</td>\n",
       "      <td>Uruguay</td>\n",
       "      <td>Other</td>\n",
       "      <td>0.50</td>\n",
       "    </tr>\n",
       "    <tr>\n",
       "      <th>2</th>\n",
       "      <td>1985</td>\n",
       "      <td>Africa</td>\n",
       "      <td>Cte d'Ivoire</td>\n",
       "      <td>Wine</td>\n",
       "      <td>1.62</td>\n",
       "    </tr>\n",
       "    <tr>\n",
       "      <th>3</th>\n",
       "      <td>1986</td>\n",
       "      <td>Americas</td>\n",
       "      <td>Colombia</td>\n",
       "      <td>Beer</td>\n",
       "      <td>4.27</td>\n",
       "    </tr>\n",
       "    <tr>\n",
       "      <th>4</th>\n",
       "      <td>1987</td>\n",
       "      <td>Americas</td>\n",
       "      <td>Saint Kitts and Nevis</td>\n",
       "      <td>Beer</td>\n",
       "      <td>1.98</td>\n",
       "    </tr>\n",
       "  </tbody>\n",
       "</table>\n",
       "</div>"
      ],
      "text/plain": [
       "   Year       WHO region                Country Beverage Types  Display Value\n",
       "0  1986  Western Pacific               Viet Nam           Wine           0.00\n",
       "1  1986         Americas                Uruguay          Other           0.50\n",
       "2  1985           Africa           Cte d'Ivoire           Wine           1.62\n",
       "3  1986         Americas               Colombia           Beer           4.27\n",
       "4  1987         Americas  Saint Kitts and Nevis           Beer           1.98"
      ]
     },
     "execution_count": 40,
     "metadata": {},
     "output_type": "execute_result"
    }
   ],
   "source": [
    "df = pd.read_csv('./dataset.csv')\n",
    "df.head()"
   ]
  },
  {
   "cell_type": "markdown",
   "metadata": {},
   "source": [
    "1. Write a Pandas program to display the dimensions or shape of the World alcohol consumption dataset. Also extract the column names from the dataset."
   ]
  },
  {
   "cell_type": "code",
   "execution_count": 15,
   "metadata": {},
   "outputs": [
    {
     "name": "stdout",
     "output_type": "stream",
     "text": [
      "(100, 5)\n",
      "Index(['Year', 'WHO region', 'Country', 'Beverage Types', 'Display Value'], dtype='object')\n"
     ]
    }
   ],
   "source": [
    "print(df.shape)\n",
    "print(df.columns)"
   ]
  },
  {
   "cell_type": "markdown",
   "metadata": {},
   "source": [
    "2. Write a Pandas program to select first 2 rows, 2 columns and specific two columns from World alcohol consumption dataset."
   ]
  },
  {
   "cell_type": "code",
   "execution_count": 18,
   "metadata": {},
   "outputs": [
    {
     "name": "stdout",
     "output_type": "stream",
     "text": [
      "   Year       WHO region   Country Beverage Types  Display Value\n",
      "0  1986  Western Pacific  Viet Nam           Wine            0.0\n",
      "1  1986         Americas   Uruguay          Other            0.5 \n",
      "\n",
      "    Year       WHO region\n",
      "0   1986  Western Pacific\n",
      "1   1986         Americas\n",
      "2   1985           Africa\n",
      "3   1986         Americas\n",
      "4   1987         Americas\n",
      "..   ...              ...\n",
      "95  1984           Africa\n",
      "96  1985           Europe\n",
      "97  1984  South-East Asia\n",
      "98  1984           Africa\n",
      "99  1985  South-East Asia\n",
      "\n",
      "[100 rows x 2 columns] \n",
      "\n",
      "                                  Country Beverage Types\n",
      "0                                Viet Nam           Wine\n",
      "1                                 Uruguay          Other\n",
      "2                            Cte d'Ivoire           Wine\n",
      "3                                Colombia           Beer\n",
      "4                   Saint Kitts and Nevis           Beer\n",
      "..                                    ...            ...\n",
      "95                                  Niger          Other\n",
      "96                             Luxembourg           Wine\n",
      "97                              Indonesia           Wine\n",
      "98                      Equatorial Guinea           Wine\n",
      "99  Democratic People's Republic of Korea           Wine\n",
      "\n",
      "[100 rows x 2 columns] \n",
      "\n"
     ]
    }
   ],
   "source": [
    "print(df.iloc[:2],'\\n')\n",
    "print(df.iloc[:, :2],'\\n')\n",
    "print(df[['Country', 'Beverage Types']],'\\n')"
   ]
  },
  {
   "cell_type": "markdown",
   "metadata": {},
   "source": [
    "4. Write a Pandas program to find and drop the missing values from World alcohol consumption dataset."
   ]
  },
  {
   "cell_type": "code",
   "execution_count": 41,
   "metadata": {},
   "outputs": [
    {
     "name": "stdout",
     "output_type": "stream",
     "text": [
      "Year              0\n",
      "WHO region        0\n",
      "Country           0\n",
      "Beverage Types    0\n",
      "Display Value     5\n",
      "dtype: int64\n",
      "(95, 5)\n",
      "Year              0\n",
      "WHO region        0\n",
      "Country           0\n",
      "Beverage Types    0\n",
      "Display Value     0\n",
      "dtype: int64\n"
     ]
    }
   ],
   "source": [
    "print(df.isna().sum())\n",
    "\n",
    "df = df.dropna()\n",
    "\n",
    "print(df.shape)\n",
    "\n",
    "print(df.isna().sum())"
   ]
  },
  {
   "cell_type": "markdown",
   "metadata": {},
   "source": [
    "5. Write a Pandas program to remove the duplicates from 'WHO region' column of World alcohol consumption dataset."
   ]
  },
  {
   "cell_type": "code",
   "execution_count": 42,
   "metadata": {},
   "outputs": [
    {
     "name": "stdout",
     "output_type": "stream",
     "text": [
      "    Year             WHO region       Country Beverage Types  Display Value\n",
      "0   1986        Western Pacific      Viet Nam           Wine           0.00\n",
      "1   1986               Americas       Uruguay          Other           0.50\n",
      "2   1985                 Africa  Cte d'Ivoire           Wine           1.62\n",
      "13  1984  Eastern Mediterranean   Afghanistan          Other           0.00\n",
      "18  1984                 Europe        Norway        Spirits           1.62\n",
      "20  1986        South-East Asia       Myanmar           Wine           0.00\n",
      "    Year       WHO region                                Country  \\\n",
      "95  1984           Africa                                  Niger   \n",
      "96  1985           Europe                             Luxembourg   \n",
      "97  1984  South-East Asia                              Indonesia   \n",
      "98  1984           Africa                      Equatorial Guinea   \n",
      "99  1985  South-East Asia  Democratic People's Republic of Korea   \n",
      "\n",
      "   Beverage Types  Display Value  \n",
      "95          Other           0.00  \n",
      "96           Wine           7.38  \n",
      "97           Wine           0.00  \n",
      "98           Wine           0.00  \n",
      "99           Wine           0.00  \n"
     ]
    }
   ],
   "source": [
    "print(df.drop_duplicates('WHO region'))\n",
    "\n",
    "print(df.tail())"
   ]
  },
  {
   "cell_type": "markdown",
   "metadata": {},
   "source": [
    "6. Write a Pandas program to find out the alcohol consumption of a given year from the world alcohol consumption dataset."
   ]
  },
  {
   "cell_type": "code",
   "execution_count": 43,
   "metadata": {},
   "outputs": [
    {
     "name": "stdout",
     "output_type": "stream",
     "text": [
      "    Year             WHO region            Country Beverage Types  \\\n",
      "9   1984                 Africa            Nigeria          Other   \n",
      "13  1984  Eastern Mediterranean        Afghanistan          Other   \n",
      "16  1984               Americas         Costa Rica           Wine   \n",
      "18  1984                 Europe             Norway        Spirits   \n",
      "19  1984                 Africa              Kenya           Beer   \n",
      "22  1984                 Europe            Romania        Spirits   \n",
      "23  1984                 Europe             Turkey           Beer   \n",
      "25  1984  Eastern Mediterranean            Tunisia          Other   \n",
      "27  1984  Eastern Mediterranean            Bahrain           Beer   \n",
      "42  1984                 Europe            Ukraine        Spirits   \n",
      "43  1984        Western Pacific              China           Wine   \n",
      "53  1984  Eastern Mediterranean             Kuwait           Beer   \n",
      "54  1984               Americas        El Salvador        Spirits   \n",
      "58  1984  Eastern Mediterranean            Somalia        Spirits   \n",
      "61  1984        Western Pacific   Papua New Guinea        Spirits   \n",
      "95  1984                 Africa              Niger          Other   \n",
      "97  1984        South-East Asia          Indonesia           Wine   \n",
      "98  1984                 Africa  Equatorial Guinea           Wine   \n",
      "\n",
      "    Display Value  \n",
      "9            6.10  \n",
      "13           0.00  \n",
      "16           0.06  \n",
      "18           1.62  \n",
      "19           1.08  \n",
      "22           2.67  \n",
      "23           0.44  \n",
      "25           0.00  \n",
      "27           2.22  \n",
      "42           3.06  \n",
      "43           0.03  \n",
      "53           0.00  \n",
      "54           1.81  \n",
      "58           0.00  \n",
      "61           0.08  \n",
      "95           0.00  \n",
      "97           0.00  \n",
      "98           0.00  \n"
     ]
    }
   ],
   "source": [
    "print(df[df['Year'] == 1984])"
   ]
  },
  {
   "cell_type": "markdown",
   "metadata": {},
   "source": [
    "8. Write a Pandas program to find out the alcohol consumption details by the 'Americas' in the year '1985' from the world alcohol consumption dataset."
   ]
  },
  {
   "cell_type": "code",
   "execution_count": 47,
   "metadata": {},
   "outputs": [
    {
     "name": "stdout",
     "output_type": "stream",
     "text": [
      "    Year WHO region                Country Beverage Types  Display Value\n",
      "35  1985   Americas  Saint Kitts and Nevis        Spirits           2.24\n"
     ]
    }
   ],
   "source": [
    "print(df[(df['WHO region'] == 'Americas') & (df['Year'] == 1985) ])"
   ]
  },
  {
   "cell_type": "markdown",
   "metadata": {},
   "source": [
    "#### Pandas Handling Missing Values"
   ]
  },
  {
   "cell_type": "markdown",
   "metadata": {},
   "source": [
    "2. Write a Pandas program to identify the column(s) of a given DataFrame which have at least one missing value."
   ]
  },
  {
   "cell_type": "code",
   "execution_count": 65,
   "metadata": {},
   "outputs": [
    {
     "name": "stdout",
     "output_type": "stream",
     "text": [
      "ord_no          True\n",
      "purch_amt      False\n",
      "ord_date        True\n",
      "customer_id    False\n",
      "salesman_id     True\n",
      "dtype: bool\n"
     ]
    }
   ],
   "source": [
    "import numpy as np\n",
    "df = pd.DataFrame({\n",
    "'ord_no':[70001,np.nan,70002,70004,np.nan,70005,np.nan,70010,70003,70012,np.nan,70013],\n",
    "'purch_amt':[150.5,270.65,65.26,110.5,948.5,2400.6,5760,1983.43,2480.4,250.45, 75.29,3045.6],\n",
    "'ord_date': ['2012-10-05','2012-09-10',np.nan,'2012-08-17','2012-09-10','2012-07-27','2012-09-10','2012-10-10','2012-10-10','2012-06-27','2012-08-17','2012-04-25'],\n",
    "'customer_id':[3002,3001,3001,3003,3002,3001,3001,3004,3003,3002,3001,3001],\n",
    "'salesman_id':[5002,5003,5001,np.nan,5002,5001,5001,np.nan,5003,5002,5003,np.nan]})\n",
    "\n",
    "print(df.isna().any())"
   ]
  },
  {
   "cell_type": "markdown",
   "metadata": {},
   "source": [
    "3. Write a Pandas program to count the number of missing values in each column of a given DataFrame."
   ]
  },
  {
   "cell_type": "code",
   "execution_count": 66,
   "metadata": {},
   "outputs": [
    {
     "name": "stdout",
     "output_type": "stream",
     "text": [
      "ord_no         4\n",
      "purch_amt      0\n",
      "ord_date       1\n",
      "customer_id    0\n",
      "salesman_id    3\n",
      "dtype: int64\n"
     ]
    }
   ],
   "source": [
    "print(df.isna().sum())"
   ]
  },
  {
   "cell_type": "markdown",
   "metadata": {},
   "source": [
    "5. Write a Pandas program to drop the rows where at least one element is missing in a given DataFrame."
   ]
  },
  {
   "cell_type": "code",
   "execution_count": 67,
   "metadata": {},
   "outputs": [
    {
     "data": {
      "text/html": [
       "<div>\n",
       "<style scoped>\n",
       "    .dataframe tbody tr th:only-of-type {\n",
       "        vertical-align: middle;\n",
       "    }\n",
       "\n",
       "    .dataframe tbody tr th {\n",
       "        vertical-align: top;\n",
       "    }\n",
       "\n",
       "    .dataframe thead th {\n",
       "        text-align: right;\n",
       "    }\n",
       "</style>\n",
       "<table border=\"1\" class=\"dataframe\">\n",
       "  <thead>\n",
       "    <tr style=\"text-align: right;\">\n",
       "      <th></th>\n",
       "      <th>ord_no</th>\n",
       "      <th>purch_amt</th>\n",
       "      <th>ord_date</th>\n",
       "      <th>customer_id</th>\n",
       "      <th>salesman_id</th>\n",
       "    </tr>\n",
       "  </thead>\n",
       "  <tbody>\n",
       "    <tr>\n",
       "      <th>0</th>\n",
       "      <td>70001.0</td>\n",
       "      <td>150.50</td>\n",
       "      <td>2012-10-05</td>\n",
       "      <td>3002</td>\n",
       "      <td>5002.0</td>\n",
       "    </tr>\n",
       "    <tr>\n",
       "      <th>5</th>\n",
       "      <td>70005.0</td>\n",
       "      <td>2400.60</td>\n",
       "      <td>2012-07-27</td>\n",
       "      <td>3001</td>\n",
       "      <td>5001.0</td>\n",
       "    </tr>\n",
       "    <tr>\n",
       "      <th>8</th>\n",
       "      <td>70003.0</td>\n",
       "      <td>2480.40</td>\n",
       "      <td>2012-10-10</td>\n",
       "      <td>3003</td>\n",
       "      <td>5003.0</td>\n",
       "    </tr>\n",
       "    <tr>\n",
       "      <th>9</th>\n",
       "      <td>70012.0</td>\n",
       "      <td>250.45</td>\n",
       "      <td>2012-06-27</td>\n",
       "      <td>3002</td>\n",
       "      <td>5002.0</td>\n",
       "    </tr>\n",
       "  </tbody>\n",
       "</table>\n",
       "</div>"
      ],
      "text/plain": [
       "    ord_no  purch_amt    ord_date  customer_id  salesman_id\n",
       "0  70001.0     150.50  2012-10-05         3002       5002.0\n",
       "5  70005.0    2400.60  2012-07-27         3001       5001.0\n",
       "8  70003.0    2480.40  2012-10-10         3003       5003.0\n",
       "9  70012.0     250.45  2012-06-27         3002       5002.0"
      ]
     },
     "execution_count": 67,
     "metadata": {},
     "output_type": "execute_result"
    }
   ],
   "source": [
    "df1 = df.dropna()\n",
    "df1"
   ]
  },
  {
   "cell_type": "markdown",
   "metadata": {},
   "source": [
    "6. Write a Pandas program to drop the columns where at least one element is missing in a given DataFrame."
   ]
  },
  {
   "cell_type": "code",
   "execution_count": 68,
   "metadata": {},
   "outputs": [
    {
     "data": {
      "text/html": [
       "<div>\n",
       "<style scoped>\n",
       "    .dataframe tbody tr th:only-of-type {\n",
       "        vertical-align: middle;\n",
       "    }\n",
       "\n",
       "    .dataframe tbody tr th {\n",
       "        vertical-align: top;\n",
       "    }\n",
       "\n",
       "    .dataframe thead th {\n",
       "        text-align: right;\n",
       "    }\n",
       "</style>\n",
       "<table border=\"1\" class=\"dataframe\">\n",
       "  <thead>\n",
       "    <tr style=\"text-align: right;\">\n",
       "      <th></th>\n",
       "      <th>purch_amt</th>\n",
       "      <th>customer_id</th>\n",
       "    </tr>\n",
       "  </thead>\n",
       "  <tbody>\n",
       "    <tr>\n",
       "      <th>0</th>\n",
       "      <td>150.50</td>\n",
       "      <td>3002</td>\n",
       "    </tr>\n",
       "    <tr>\n",
       "      <th>1</th>\n",
       "      <td>270.65</td>\n",
       "      <td>3001</td>\n",
       "    </tr>\n",
       "    <tr>\n",
       "      <th>2</th>\n",
       "      <td>65.26</td>\n",
       "      <td>3001</td>\n",
       "    </tr>\n",
       "    <tr>\n",
       "      <th>3</th>\n",
       "      <td>110.50</td>\n",
       "      <td>3003</td>\n",
       "    </tr>\n",
       "    <tr>\n",
       "      <th>4</th>\n",
       "      <td>948.50</td>\n",
       "      <td>3002</td>\n",
       "    </tr>\n",
       "    <tr>\n",
       "      <th>5</th>\n",
       "      <td>2400.60</td>\n",
       "      <td>3001</td>\n",
       "    </tr>\n",
       "    <tr>\n",
       "      <th>6</th>\n",
       "      <td>5760.00</td>\n",
       "      <td>3001</td>\n",
       "    </tr>\n",
       "    <tr>\n",
       "      <th>7</th>\n",
       "      <td>1983.43</td>\n",
       "      <td>3004</td>\n",
       "    </tr>\n",
       "    <tr>\n",
       "      <th>8</th>\n",
       "      <td>2480.40</td>\n",
       "      <td>3003</td>\n",
       "    </tr>\n",
       "    <tr>\n",
       "      <th>9</th>\n",
       "      <td>250.45</td>\n",
       "      <td>3002</td>\n",
       "    </tr>\n",
       "    <tr>\n",
       "      <th>10</th>\n",
       "      <td>75.29</td>\n",
       "      <td>3001</td>\n",
       "    </tr>\n",
       "    <tr>\n",
       "      <th>11</th>\n",
       "      <td>3045.60</td>\n",
       "      <td>3001</td>\n",
       "    </tr>\n",
       "  </tbody>\n",
       "</table>\n",
       "</div>"
      ],
      "text/plain": [
       "    purch_amt  customer_id\n",
       "0      150.50         3002\n",
       "1      270.65         3001\n",
       "2       65.26         3001\n",
       "3      110.50         3003\n",
       "4      948.50         3002\n",
       "5     2400.60         3001\n",
       "6     5760.00         3001\n",
       "7     1983.43         3004\n",
       "8     2480.40         3003\n",
       "9      250.45         3002\n",
       "10      75.29         3001\n",
       "11    3045.60         3001"
      ]
     },
     "execution_count": 68,
     "metadata": {},
     "output_type": "execute_result"
    }
   ],
   "source": [
    "df2 = df.dropna(axis='columns')\n",
    "df2"
   ]
  },
  {
   "cell_type": "markdown",
   "metadata": {},
   "source": [
    "12. Write a Pandas program to replace NaNs with a single constant value in specified columns in a DataFrame."
   ]
  },
  {
   "cell_type": "code",
   "execution_count": 69,
   "metadata": {},
   "outputs": [
    {
     "name": "stdout",
     "output_type": "stream",
     "text": [
      "0     70001.0\n",
      "1         1.0\n",
      "2     70002.0\n",
      "3     70004.0\n",
      "4         1.0\n",
      "5     70005.0\n",
      "6         1.0\n",
      "7     70010.0\n",
      "8     70003.0\n",
      "9     70012.0\n",
      "10        1.0\n",
      "11    70013.0\n",
      "Name: ord_no, dtype: float64\n"
     ]
    }
   ],
   "source": [
    "df3 = df['ord_no'].fillna(1)\n",
    "print(df3)"
   ]
  },
  {
   "cell_type": "markdown",
   "metadata": {},
   "source": [
    "14. Write a Pandas program to replace NaNs with median or mean of the specified columns in a given DataFrame."
   ]
  },
  {
   "cell_type": "code",
   "execution_count": 71,
   "metadata": {},
   "outputs": [
    {
     "name": "stdout",
     "output_type": "stream",
     "text": [
      "     ord_no  purch_amt    ord_date  customer_id  salesman_id\n",
      "0   70001.0     150.50  2012-10-05         3002       5002.0\n",
      "1       NaN     270.65  2012-09-10         3001       5003.0\n",
      "2   70002.0      65.26         NaN         3001       5001.0\n",
      "3   70004.0     110.50  2012-08-17         3003          NaN\n",
      "4       NaN     948.50  2012-09-10         3002       5002.0\n",
      "5   70005.0    2400.60  2012-07-27         3001       5001.0\n",
      "6       NaN    5760.00  2012-09-10         3001       5001.0\n",
      "7   70010.0    1983.43  2012-10-10         3004          NaN\n",
      "8   70003.0    2480.40  2012-10-10         3003       5003.0\n",
      "9   70012.0     250.45  2012-06-27         3002       5002.0\n",
      "10      NaN      75.29  2012-08-17         3001       5003.0\n",
      "11  70013.0    3045.60  2012-04-25         3001          NaN\n"
     ]
    },
    {
     "name": "stderr",
     "output_type": "stream",
     "text": [
      "C:\\Users\\MeetKothari\\AppData\\Local\\Temp\\ipykernel_14632\\4058580650.py:1: FutureWarning: A value is trying to be set on a copy of a DataFrame or Series through chained assignment using an inplace method.\n",
      "The behavior will change in pandas 3.0. This inplace method will never work because the intermediate object on which we are setting values always behaves as a copy.\n",
      "\n",
      "For example, when doing 'df[col].method(value, inplace=True)', try using 'df.method({col: value}, inplace=True)' or df[col] = df[col].method(value) instead, to perform the operation inplace on the original object.\n",
      "\n",
      "\n",
      "  df['purch_amt'].fillna(df['purch_amt'].median(), inplace=True)\n"
     ]
    }
   ],
   "source": [
    "df['purch_amt'].fillna(df['purch_amt'].median(), inplace=True)\n",
    "\n",
    "print(df)"
   ]
  },
  {
   "cell_type": "markdown",
   "metadata": {},
   "source": [
    "#### Pandas Style"
   ]
  },
  {
   "cell_type": "markdown",
   "metadata": {},
   "source": [
    "1. Create a dataframe of ten rows, four columns with random values. Write a Pandas program to highlight the negative numbers red and positive numbers blac"
   ]
  },
  {
   "cell_type": "code",
   "execution_count": 134,
   "metadata": {},
   "outputs": [
    {
     "name": "stdout",
     "output_type": "stream",
     "text": [
      "          A         B         C         D\n",
      "0 -1.252189  0.560038  1.341512 -1.453212\n",
      "1  0.599770  0.306420  0.748530 -0.497125\n",
      "2  0.372131 -0.051079 -0.704547 -1.347734\n",
      "3  1.162611  0.502662 -1.507400 -0.923820\n",
      "4 -0.326290 -0.943744  0.364011 -0.375935\n",
      "5  1.049080 -1.960659 -1.525157  2.582283\n",
      "6 -0.322001  1.510798 -0.180444 -0.110141\n",
      "7 -1.089319 -0.243998 -0.082070 -1.968960\n",
      "8 -0.427063 -0.227160  1.553775 -1.098144\n",
      "9 -0.061018  1.237175 -0.667352  1.188993\n"
     ]
    }
   ],
   "source": [
    "import numpy as np\n",
    "\n",
    "df = pd.DataFrame(np.random.randn(10,4), columns=list('ABCD'))\n",
    "print(df)\n",
    "\n",
    "def color_map(x):\n",
    "    if x < 0:\n",
    "        color = 'red'\n",
    "    else:\n",
    "        color = 'black'\n",
    "    return f'color: {color}'"
   ]
  },
  {
   "cell_type": "code",
   "execution_count": 137,
   "metadata": {},
   "outputs": [
    {
     "data": {
      "text/html": [
       "<style type=\"text/css\">\n",
       "#T_2f4dc_row0_col0, #T_2f4dc_row0_col3, #T_2f4dc_row1_col3, #T_2f4dc_row2_col1, #T_2f4dc_row2_col2, #T_2f4dc_row2_col3, #T_2f4dc_row3_col2, #T_2f4dc_row3_col3, #T_2f4dc_row4_col0, #T_2f4dc_row4_col1, #T_2f4dc_row4_col3, #T_2f4dc_row5_col1, #T_2f4dc_row5_col2, #T_2f4dc_row6_col0, #T_2f4dc_row6_col2, #T_2f4dc_row6_col3, #T_2f4dc_row7_col0, #T_2f4dc_row7_col1, #T_2f4dc_row7_col2, #T_2f4dc_row7_col3, #T_2f4dc_row8_col0, #T_2f4dc_row8_col1, #T_2f4dc_row8_col3, #T_2f4dc_row9_col0, #T_2f4dc_row9_col2 {\n",
       "  color: red;\n",
       "}\n",
       "#T_2f4dc_row0_col1, #T_2f4dc_row0_col2, #T_2f4dc_row1_col0, #T_2f4dc_row1_col1, #T_2f4dc_row1_col2, #T_2f4dc_row2_col0, #T_2f4dc_row3_col0, #T_2f4dc_row3_col1, #T_2f4dc_row4_col2, #T_2f4dc_row5_col0, #T_2f4dc_row5_col3, #T_2f4dc_row6_col1, #T_2f4dc_row8_col2, #T_2f4dc_row9_col1, #T_2f4dc_row9_col3 {\n",
       "  color: black;\n",
       "}\n",
       "</style>\n",
       "<table id=\"T_2f4dc\">\n",
       "  <thead>\n",
       "    <tr>\n",
       "      <th class=\"blank level0\" >&nbsp;</th>\n",
       "      <th id=\"T_2f4dc_level0_col0\" class=\"col_heading level0 col0\" >A</th>\n",
       "      <th id=\"T_2f4dc_level0_col1\" class=\"col_heading level0 col1\" >B</th>\n",
       "      <th id=\"T_2f4dc_level0_col2\" class=\"col_heading level0 col2\" >C</th>\n",
       "      <th id=\"T_2f4dc_level0_col3\" class=\"col_heading level0 col3\" >D</th>\n",
       "    </tr>\n",
       "  </thead>\n",
       "  <tbody>\n",
       "    <tr>\n",
       "      <th id=\"T_2f4dc_level0_row0\" class=\"row_heading level0 row0\" >0</th>\n",
       "      <td id=\"T_2f4dc_row0_col0\" class=\"data row0 col0\" >-1.252189</td>\n",
       "      <td id=\"T_2f4dc_row0_col1\" class=\"data row0 col1\" >0.560038</td>\n",
       "      <td id=\"T_2f4dc_row0_col2\" class=\"data row0 col2\" >1.341512</td>\n",
       "      <td id=\"T_2f4dc_row0_col3\" class=\"data row0 col3\" >-1.453212</td>\n",
       "    </tr>\n",
       "    <tr>\n",
       "      <th id=\"T_2f4dc_level0_row1\" class=\"row_heading level0 row1\" >1</th>\n",
       "      <td id=\"T_2f4dc_row1_col0\" class=\"data row1 col0\" >0.599770</td>\n",
       "      <td id=\"T_2f4dc_row1_col1\" class=\"data row1 col1\" >0.306420</td>\n",
       "      <td id=\"T_2f4dc_row1_col2\" class=\"data row1 col2\" >0.748530</td>\n",
       "      <td id=\"T_2f4dc_row1_col3\" class=\"data row1 col3\" >-0.497125</td>\n",
       "    </tr>\n",
       "    <tr>\n",
       "      <th id=\"T_2f4dc_level0_row2\" class=\"row_heading level0 row2\" >2</th>\n",
       "      <td id=\"T_2f4dc_row2_col0\" class=\"data row2 col0\" >0.372131</td>\n",
       "      <td id=\"T_2f4dc_row2_col1\" class=\"data row2 col1\" >-0.051079</td>\n",
       "      <td id=\"T_2f4dc_row2_col2\" class=\"data row2 col2\" >-0.704547</td>\n",
       "      <td id=\"T_2f4dc_row2_col3\" class=\"data row2 col3\" >-1.347734</td>\n",
       "    </tr>\n",
       "    <tr>\n",
       "      <th id=\"T_2f4dc_level0_row3\" class=\"row_heading level0 row3\" >3</th>\n",
       "      <td id=\"T_2f4dc_row3_col0\" class=\"data row3 col0\" >1.162611</td>\n",
       "      <td id=\"T_2f4dc_row3_col1\" class=\"data row3 col1\" >0.502662</td>\n",
       "      <td id=\"T_2f4dc_row3_col2\" class=\"data row3 col2\" >-1.507400</td>\n",
       "      <td id=\"T_2f4dc_row3_col3\" class=\"data row3 col3\" >-0.923820</td>\n",
       "    </tr>\n",
       "    <tr>\n",
       "      <th id=\"T_2f4dc_level0_row4\" class=\"row_heading level0 row4\" >4</th>\n",
       "      <td id=\"T_2f4dc_row4_col0\" class=\"data row4 col0\" >-0.326290</td>\n",
       "      <td id=\"T_2f4dc_row4_col1\" class=\"data row4 col1\" >-0.943744</td>\n",
       "      <td id=\"T_2f4dc_row4_col2\" class=\"data row4 col2\" >0.364011</td>\n",
       "      <td id=\"T_2f4dc_row4_col3\" class=\"data row4 col3\" >-0.375935</td>\n",
       "    </tr>\n",
       "    <tr>\n",
       "      <th id=\"T_2f4dc_level0_row5\" class=\"row_heading level0 row5\" >5</th>\n",
       "      <td id=\"T_2f4dc_row5_col0\" class=\"data row5 col0\" >1.049080</td>\n",
       "      <td id=\"T_2f4dc_row5_col1\" class=\"data row5 col1\" >-1.960659</td>\n",
       "      <td id=\"T_2f4dc_row5_col2\" class=\"data row5 col2\" >-1.525157</td>\n",
       "      <td id=\"T_2f4dc_row5_col3\" class=\"data row5 col3\" >2.582283</td>\n",
       "    </tr>\n",
       "    <tr>\n",
       "      <th id=\"T_2f4dc_level0_row6\" class=\"row_heading level0 row6\" >6</th>\n",
       "      <td id=\"T_2f4dc_row6_col0\" class=\"data row6 col0\" >-0.322001</td>\n",
       "      <td id=\"T_2f4dc_row6_col1\" class=\"data row6 col1\" >1.510798</td>\n",
       "      <td id=\"T_2f4dc_row6_col2\" class=\"data row6 col2\" >-0.180444</td>\n",
       "      <td id=\"T_2f4dc_row6_col3\" class=\"data row6 col3\" >-0.110141</td>\n",
       "    </tr>\n",
       "    <tr>\n",
       "      <th id=\"T_2f4dc_level0_row7\" class=\"row_heading level0 row7\" >7</th>\n",
       "      <td id=\"T_2f4dc_row7_col0\" class=\"data row7 col0\" >-1.089319</td>\n",
       "      <td id=\"T_2f4dc_row7_col1\" class=\"data row7 col1\" >-0.243998</td>\n",
       "      <td id=\"T_2f4dc_row7_col2\" class=\"data row7 col2\" >-0.082070</td>\n",
       "      <td id=\"T_2f4dc_row7_col3\" class=\"data row7 col3\" >-1.968960</td>\n",
       "    </tr>\n",
       "    <tr>\n",
       "      <th id=\"T_2f4dc_level0_row8\" class=\"row_heading level0 row8\" >8</th>\n",
       "      <td id=\"T_2f4dc_row8_col0\" class=\"data row8 col0\" >-0.427063</td>\n",
       "      <td id=\"T_2f4dc_row8_col1\" class=\"data row8 col1\" >-0.227160</td>\n",
       "      <td id=\"T_2f4dc_row8_col2\" class=\"data row8 col2\" >1.553775</td>\n",
       "      <td id=\"T_2f4dc_row8_col3\" class=\"data row8 col3\" >-1.098144</td>\n",
       "    </tr>\n",
       "    <tr>\n",
       "      <th id=\"T_2f4dc_level0_row9\" class=\"row_heading level0 row9\" >9</th>\n",
       "      <td id=\"T_2f4dc_row9_col0\" class=\"data row9 col0\" >-0.061018</td>\n",
       "      <td id=\"T_2f4dc_row9_col1\" class=\"data row9 col1\" >1.237175</td>\n",
       "      <td id=\"T_2f4dc_row9_col2\" class=\"data row9 col2\" >-0.667352</td>\n",
       "      <td id=\"T_2f4dc_row9_col3\" class=\"data row9 col3\" >1.188993</td>\n",
       "    </tr>\n",
       "  </tbody>\n",
       "</table>\n"
      ],
      "text/plain": [
       "<pandas.io.formats.style.Styler at 0x15c88a9e990>"
      ]
     },
     "execution_count": 137,
     "metadata": {},
     "output_type": "execute_result"
    }
   ],
   "source": [
    "df.style.map(color_map)"
   ]
  },
  {
   "cell_type": "markdown",
   "metadata": {},
   "source": [
    "2. Create a dataframe of ten rows, four columns with random values. Convert some values to nan values. Write a Pandas program which will highlight the nan values."
   ]
  },
  {
   "cell_type": "code",
   "execution_count": 133,
   "metadata": {},
   "outputs": [
    {
     "data": {
      "text/html": [
       "<style type=\"text/css\">\n",
       "#T_2c622_row1_col2, #T_2c622_row3_col3, #T_2c622_row6_col1, #T_2c622_row9_col0 {\n",
       "  background-color: red;\n",
       "}\n",
       "</style>\n",
       "<table id=\"T_2c622\">\n",
       "  <thead>\n",
       "    <tr>\n",
       "      <th class=\"blank level0\" >&nbsp;</th>\n",
       "      <th id=\"T_2c622_level0_col0\" class=\"col_heading level0 col0\" >A</th>\n",
       "      <th id=\"T_2c622_level0_col1\" class=\"col_heading level0 col1\" >B</th>\n",
       "      <th id=\"T_2c622_level0_col2\" class=\"col_heading level0 col2\" >C</th>\n",
       "      <th id=\"T_2c622_level0_col3\" class=\"col_heading level0 col3\" >D</th>\n",
       "    </tr>\n",
       "  </thead>\n",
       "  <tbody>\n",
       "    <tr>\n",
       "      <th id=\"T_2c622_level0_row0\" class=\"row_heading level0 row0\" >0</th>\n",
       "      <td id=\"T_2c622_row0_col0\" class=\"data row0 col0\" >-0.990931</td>\n",
       "      <td id=\"T_2c622_row0_col1\" class=\"data row0 col1\" >0.360881</td>\n",
       "      <td id=\"T_2c622_row0_col2\" class=\"data row0 col2\" >-0.473093</td>\n",
       "      <td id=\"T_2c622_row0_col3\" class=\"data row0 col3\" >-0.546138</td>\n",
       "    </tr>\n",
       "    <tr>\n",
       "      <th id=\"T_2c622_level0_row1\" class=\"row_heading level0 row1\" >1</th>\n",
       "      <td id=\"T_2c622_row1_col0\" class=\"data row1 col0\" >0.754922</td>\n",
       "      <td id=\"T_2c622_row1_col1\" class=\"data row1 col1\" >0.315462</td>\n",
       "      <td id=\"T_2c622_row1_col2\" class=\"data row1 col2\" >nan</td>\n",
       "      <td id=\"T_2c622_row1_col3\" class=\"data row1 col3\" >-0.705576</td>\n",
       "    </tr>\n",
       "    <tr>\n",
       "      <th id=\"T_2c622_level0_row2\" class=\"row_heading level0 row2\" >2</th>\n",
       "      <td id=\"T_2c622_row2_col0\" class=\"data row2 col0\" >-1.078336</td>\n",
       "      <td id=\"T_2c622_row2_col1\" class=\"data row2 col1\" >0.834312</td>\n",
       "      <td id=\"T_2c622_row2_col2\" class=\"data row2 col2\" >-0.119780</td>\n",
       "      <td id=\"T_2c622_row2_col3\" class=\"data row2 col3\" >1.672274</td>\n",
       "    </tr>\n",
       "    <tr>\n",
       "      <th id=\"T_2c622_level0_row3\" class=\"row_heading level0 row3\" >3</th>\n",
       "      <td id=\"T_2c622_row3_col0\" class=\"data row3 col0\" >-1.370201</td>\n",
       "      <td id=\"T_2c622_row3_col1\" class=\"data row3 col1\" >1.228163</td>\n",
       "      <td id=\"T_2c622_row3_col2\" class=\"data row3 col2\" >0.353219</td>\n",
       "      <td id=\"T_2c622_row3_col3\" class=\"data row3 col3\" >nan</td>\n",
       "    </tr>\n",
       "    <tr>\n",
       "      <th id=\"T_2c622_level0_row4\" class=\"row_heading level0 row4\" >4</th>\n",
       "      <td id=\"T_2c622_row4_col0\" class=\"data row4 col0\" >-1.496965</td>\n",
       "      <td id=\"T_2c622_row4_col1\" class=\"data row4 col1\" >0.293059</td>\n",
       "      <td id=\"T_2c622_row4_col2\" class=\"data row4 col2\" >-0.455932</td>\n",
       "      <td id=\"T_2c622_row4_col3\" class=\"data row4 col3\" >0.064613</td>\n",
       "    </tr>\n",
       "    <tr>\n",
       "      <th id=\"T_2c622_level0_row5\" class=\"row_heading level0 row5\" >5</th>\n",
       "      <td id=\"T_2c622_row5_col0\" class=\"data row5 col0\" >2.176453</td>\n",
       "      <td id=\"T_2c622_row5_col1\" class=\"data row5 col1\" >1.372608</td>\n",
       "      <td id=\"T_2c622_row5_col2\" class=\"data row5 col2\" >0.051790</td>\n",
       "      <td id=\"T_2c622_row5_col3\" class=\"data row5 col3\" >0.645770</td>\n",
       "    </tr>\n",
       "    <tr>\n",
       "      <th id=\"T_2c622_level0_row6\" class=\"row_heading level0 row6\" >6</th>\n",
       "      <td id=\"T_2c622_row6_col0\" class=\"data row6 col0\" >1.367362</td>\n",
       "      <td id=\"T_2c622_row6_col1\" class=\"data row6 col1\" >nan</td>\n",
       "      <td id=\"T_2c622_row6_col2\" class=\"data row6 col2\" >0.114008</td>\n",
       "      <td id=\"T_2c622_row6_col3\" class=\"data row6 col3\" >0.155079</td>\n",
       "    </tr>\n",
       "    <tr>\n",
       "      <th id=\"T_2c622_level0_row7\" class=\"row_heading level0 row7\" >7</th>\n",
       "      <td id=\"T_2c622_row7_col0\" class=\"data row7 col0\" >0.294091</td>\n",
       "      <td id=\"T_2c622_row7_col1\" class=\"data row7 col1\" >-1.952520</td>\n",
       "      <td id=\"T_2c622_row7_col2\" class=\"data row7 col2\" >0.299962</td>\n",
       "      <td id=\"T_2c622_row7_col3\" class=\"data row7 col3\" >1.338094</td>\n",
       "    </tr>\n",
       "    <tr>\n",
       "      <th id=\"T_2c622_level0_row8\" class=\"row_heading level0 row8\" >8</th>\n",
       "      <td id=\"T_2c622_row8_col0\" class=\"data row8 col0\" >-0.208855</td>\n",
       "      <td id=\"T_2c622_row8_col1\" class=\"data row8 col1\" >-1.664209</td>\n",
       "      <td id=\"T_2c622_row8_col2\" class=\"data row8 col2\" >-0.308387</td>\n",
       "      <td id=\"T_2c622_row8_col3\" class=\"data row8 col3\" >0.069060</td>\n",
       "    </tr>\n",
       "    <tr>\n",
       "      <th id=\"T_2c622_level0_row9\" class=\"row_heading level0 row9\" >9</th>\n",
       "      <td id=\"T_2c622_row9_col0\" class=\"data row9 col0\" >nan</td>\n",
       "      <td id=\"T_2c622_row9_col1\" class=\"data row9 col1\" >-0.775227</td>\n",
       "      <td id=\"T_2c622_row9_col2\" class=\"data row9 col2\" >0.304342</td>\n",
       "      <td id=\"T_2c622_row9_col3\" class=\"data row9 col3\" >0.864265</td>\n",
       "    </tr>\n",
       "  </tbody>\n",
       "</table>\n"
      ],
      "text/plain": [
       "<pandas.io.formats.style.Styler at 0x15c88a9e490>"
      ]
     },
     "execution_count": 133,
     "metadata": {},
     "output_type": "execute_result"
    }
   ],
   "source": [
    "df.iloc[1,2] = np.nan\n",
    "df.iloc[3,3] = np.nan\n",
    "df.iloc[6,1] = np.nan\n",
    "df.iloc[9,0] = np.nan\n",
    "\n",
    "df.style.highlight_null(color='red')"
   ]
  },
  {
   "cell_type": "markdown",
   "metadata": {},
   "source": [
    "3. Create a dataframe of ten rows, four columns with random values. Write a Pandas program to highlight the maximum value in each column."
   ]
  },
  {
   "cell_type": "code",
   "execution_count": 169,
   "metadata": {},
   "outputs": [
    {
     "data": {
      "text/html": [
       "<style type=\"text/css\">\n",
       "#T_4421e_row3_col0, #T_4421e_row5_col3, #T_4421e_row6_col1, #T_4421e_row8_col2 {\n",
       "  background-color: green;\n",
       "}\n",
       "</style>\n",
       "<table id=\"T_4421e\">\n",
       "  <thead>\n",
       "    <tr>\n",
       "      <th class=\"blank level0\" >&nbsp;</th>\n",
       "      <th id=\"T_4421e_level0_col0\" class=\"col_heading level0 col0\" >A</th>\n",
       "      <th id=\"T_4421e_level0_col1\" class=\"col_heading level0 col1\" >B</th>\n",
       "      <th id=\"T_4421e_level0_col2\" class=\"col_heading level0 col2\" >C</th>\n",
       "      <th id=\"T_4421e_level0_col3\" class=\"col_heading level0 col3\" >D</th>\n",
       "    </tr>\n",
       "  </thead>\n",
       "  <tbody>\n",
       "    <tr>\n",
       "      <th id=\"T_4421e_level0_row0\" class=\"row_heading level0 row0\" >0</th>\n",
       "      <td id=\"T_4421e_row0_col0\" class=\"data row0 col0\" >-1.252189</td>\n",
       "      <td id=\"T_4421e_row0_col1\" class=\"data row0 col1\" >0.560038</td>\n",
       "      <td id=\"T_4421e_row0_col2\" class=\"data row0 col2\" >1.341512</td>\n",
       "      <td id=\"T_4421e_row0_col3\" class=\"data row0 col3\" >-1.453212</td>\n",
       "    </tr>\n",
       "    <tr>\n",
       "      <th id=\"T_4421e_level0_row1\" class=\"row_heading level0 row1\" >1</th>\n",
       "      <td id=\"T_4421e_row1_col0\" class=\"data row1 col0\" >0.599770</td>\n",
       "      <td id=\"T_4421e_row1_col1\" class=\"data row1 col1\" >0.306420</td>\n",
       "      <td id=\"T_4421e_row1_col2\" class=\"data row1 col2\" >0.748530</td>\n",
       "      <td id=\"T_4421e_row1_col3\" class=\"data row1 col3\" >-0.497125</td>\n",
       "    </tr>\n",
       "    <tr>\n",
       "      <th id=\"T_4421e_level0_row2\" class=\"row_heading level0 row2\" >2</th>\n",
       "      <td id=\"T_4421e_row2_col0\" class=\"data row2 col0\" >0.372131</td>\n",
       "      <td id=\"T_4421e_row2_col1\" class=\"data row2 col1\" >-0.051079</td>\n",
       "      <td id=\"T_4421e_row2_col2\" class=\"data row2 col2\" >-0.704547</td>\n",
       "      <td id=\"T_4421e_row2_col3\" class=\"data row2 col3\" >-1.347734</td>\n",
       "    </tr>\n",
       "    <tr>\n",
       "      <th id=\"T_4421e_level0_row3\" class=\"row_heading level0 row3\" >3</th>\n",
       "      <td id=\"T_4421e_row3_col0\" class=\"data row3 col0\" >1.162611</td>\n",
       "      <td id=\"T_4421e_row3_col1\" class=\"data row3 col1\" >0.502662</td>\n",
       "      <td id=\"T_4421e_row3_col2\" class=\"data row3 col2\" >-1.507400</td>\n",
       "      <td id=\"T_4421e_row3_col3\" class=\"data row3 col3\" >-0.923820</td>\n",
       "    </tr>\n",
       "    <tr>\n",
       "      <th id=\"T_4421e_level0_row4\" class=\"row_heading level0 row4\" >4</th>\n",
       "      <td id=\"T_4421e_row4_col0\" class=\"data row4 col0\" >-0.326290</td>\n",
       "      <td id=\"T_4421e_row4_col1\" class=\"data row4 col1\" >-0.943744</td>\n",
       "      <td id=\"T_4421e_row4_col2\" class=\"data row4 col2\" >0.364011</td>\n",
       "      <td id=\"T_4421e_row4_col3\" class=\"data row4 col3\" >-0.375935</td>\n",
       "    </tr>\n",
       "    <tr>\n",
       "      <th id=\"T_4421e_level0_row5\" class=\"row_heading level0 row5\" >5</th>\n",
       "      <td id=\"T_4421e_row5_col0\" class=\"data row5 col0\" >1.049080</td>\n",
       "      <td id=\"T_4421e_row5_col1\" class=\"data row5 col1\" >-1.960659</td>\n",
       "      <td id=\"T_4421e_row5_col2\" class=\"data row5 col2\" >-1.525157</td>\n",
       "      <td id=\"T_4421e_row5_col3\" class=\"data row5 col3\" >2.582283</td>\n",
       "    </tr>\n",
       "    <tr>\n",
       "      <th id=\"T_4421e_level0_row6\" class=\"row_heading level0 row6\" >6</th>\n",
       "      <td id=\"T_4421e_row6_col0\" class=\"data row6 col0\" >-0.322001</td>\n",
       "      <td id=\"T_4421e_row6_col1\" class=\"data row6 col1\" >1.510798</td>\n",
       "      <td id=\"T_4421e_row6_col2\" class=\"data row6 col2\" >-0.180444</td>\n",
       "      <td id=\"T_4421e_row6_col3\" class=\"data row6 col3\" >-0.110141</td>\n",
       "    </tr>\n",
       "    <tr>\n",
       "      <th id=\"T_4421e_level0_row7\" class=\"row_heading level0 row7\" >7</th>\n",
       "      <td id=\"T_4421e_row7_col0\" class=\"data row7 col0\" >-1.089319</td>\n",
       "      <td id=\"T_4421e_row7_col1\" class=\"data row7 col1\" >-0.243998</td>\n",
       "      <td id=\"T_4421e_row7_col2\" class=\"data row7 col2\" >-0.082070</td>\n",
       "      <td id=\"T_4421e_row7_col3\" class=\"data row7 col3\" >-1.968960</td>\n",
       "    </tr>\n",
       "    <tr>\n",
       "      <th id=\"T_4421e_level0_row8\" class=\"row_heading level0 row8\" >8</th>\n",
       "      <td id=\"T_4421e_row8_col0\" class=\"data row8 col0\" >-0.427063</td>\n",
       "      <td id=\"T_4421e_row8_col1\" class=\"data row8 col1\" >-0.227160</td>\n",
       "      <td id=\"T_4421e_row8_col2\" class=\"data row8 col2\" >1.553775</td>\n",
       "      <td id=\"T_4421e_row8_col3\" class=\"data row8 col3\" >-1.098144</td>\n",
       "    </tr>\n",
       "    <tr>\n",
       "      <th id=\"T_4421e_level0_row9\" class=\"row_heading level0 row9\" >9</th>\n",
       "      <td id=\"T_4421e_row9_col0\" class=\"data row9 col0\" >-0.061018</td>\n",
       "      <td id=\"T_4421e_row9_col1\" class=\"data row9 col1\" >1.237175</td>\n",
       "      <td id=\"T_4421e_row9_col2\" class=\"data row9 col2\" >-0.667352</td>\n",
       "      <td id=\"T_4421e_row9_col3\" class=\"data row9 col3\" >1.188993</td>\n",
       "    </tr>\n",
       "  </tbody>\n",
       "</table>\n"
      ],
      "text/plain": [
       "<pandas.io.formats.style.Styler at 0x15c8a477250>"
      ]
     },
     "execution_count": 169,
     "metadata": {},
     "output_type": "execute_result"
    }
   ],
   "source": [
    "def f(col):\n",
    "    is_max = col == col.max()\n",
    "\n",
    "    return ['background-color: green' if v else '' for v in is_max]\n",
    "\n",
    "df.style.apply(f,subset=pd.IndexSlice[:, ['A', 'B', 'C', 'D']])"
   ]
  },
  {
   "cell_type": "markdown",
   "metadata": {},
   "source": [
    "7. Create a dataframe of ten rows, four columns with random values. Write a Pandas program to highlight dataframe's specific columns."
   ]
  },
  {
   "cell_type": "code",
   "execution_count": 170,
   "metadata": {},
   "outputs": [
    {
     "data": {
      "text/html": [
       "<style type=\"text/css\">\n",
       "#T_cd5e6_row0_col0, #T_cd5e6_row0_col1, #T_cd5e6_row0_col2, #T_cd5e6_row0_col3, #T_cd5e6_row1_col0, #T_cd5e6_row1_col1, #T_cd5e6_row1_col2, #T_cd5e6_row1_col3, #T_cd5e6_row2_col0, #T_cd5e6_row2_col1, #T_cd5e6_row2_col2, #T_cd5e6_row2_col3, #T_cd5e6_row3_col0, #T_cd5e6_row3_col1, #T_cd5e6_row3_col2, #T_cd5e6_row3_col3, #T_cd5e6_row4_col0, #T_cd5e6_row4_col1, #T_cd5e6_row4_col2, #T_cd5e6_row4_col3, #T_cd5e6_row5_col0, #T_cd5e6_row5_col1, #T_cd5e6_row5_col2, #T_cd5e6_row5_col3, #T_cd5e6_row6_col0, #T_cd5e6_row6_col1, #T_cd5e6_row6_col2, #T_cd5e6_row6_col3, #T_cd5e6_row7_col0, #T_cd5e6_row7_col1, #T_cd5e6_row7_col2, #T_cd5e6_row7_col3, #T_cd5e6_row8_col0, #T_cd5e6_row8_col1, #T_cd5e6_row8_col2, #T_cd5e6_row8_col3, #T_cd5e6_row9_col0, #T_cd5e6_row9_col1, #T_cd5e6_row9_col2, #T_cd5e6_row9_col3 {\n",
       "  background-color: black;\n",
       "  color: yellow;\n",
       "}\n",
       "</style>\n",
       "<table id=\"T_cd5e6\">\n",
       "  <thead>\n",
       "    <tr>\n",
       "      <th class=\"blank level0\" >&nbsp;</th>\n",
       "      <th id=\"T_cd5e6_level0_col0\" class=\"col_heading level0 col0\" >A</th>\n",
       "      <th id=\"T_cd5e6_level0_col1\" class=\"col_heading level0 col1\" >B</th>\n",
       "      <th id=\"T_cd5e6_level0_col2\" class=\"col_heading level0 col2\" >C</th>\n",
       "      <th id=\"T_cd5e6_level0_col3\" class=\"col_heading level0 col3\" >D</th>\n",
       "    </tr>\n",
       "  </thead>\n",
       "  <tbody>\n",
       "    <tr>\n",
       "      <th id=\"T_cd5e6_level0_row0\" class=\"row_heading level0 row0\" >0</th>\n",
       "      <td id=\"T_cd5e6_row0_col0\" class=\"data row0 col0\" >-1.252189</td>\n",
       "      <td id=\"T_cd5e6_row0_col1\" class=\"data row0 col1\" >0.560038</td>\n",
       "      <td id=\"T_cd5e6_row0_col2\" class=\"data row0 col2\" >1.341512</td>\n",
       "      <td id=\"T_cd5e6_row0_col3\" class=\"data row0 col3\" >-1.453212</td>\n",
       "    </tr>\n",
       "    <tr>\n",
       "      <th id=\"T_cd5e6_level0_row1\" class=\"row_heading level0 row1\" >1</th>\n",
       "      <td id=\"T_cd5e6_row1_col0\" class=\"data row1 col0\" >0.599770</td>\n",
       "      <td id=\"T_cd5e6_row1_col1\" class=\"data row1 col1\" >0.306420</td>\n",
       "      <td id=\"T_cd5e6_row1_col2\" class=\"data row1 col2\" >0.748530</td>\n",
       "      <td id=\"T_cd5e6_row1_col3\" class=\"data row1 col3\" >-0.497125</td>\n",
       "    </tr>\n",
       "    <tr>\n",
       "      <th id=\"T_cd5e6_level0_row2\" class=\"row_heading level0 row2\" >2</th>\n",
       "      <td id=\"T_cd5e6_row2_col0\" class=\"data row2 col0\" >0.372131</td>\n",
       "      <td id=\"T_cd5e6_row2_col1\" class=\"data row2 col1\" >-0.051079</td>\n",
       "      <td id=\"T_cd5e6_row2_col2\" class=\"data row2 col2\" >-0.704547</td>\n",
       "      <td id=\"T_cd5e6_row2_col3\" class=\"data row2 col3\" >-1.347734</td>\n",
       "    </tr>\n",
       "    <tr>\n",
       "      <th id=\"T_cd5e6_level0_row3\" class=\"row_heading level0 row3\" >3</th>\n",
       "      <td id=\"T_cd5e6_row3_col0\" class=\"data row3 col0\" >1.162611</td>\n",
       "      <td id=\"T_cd5e6_row3_col1\" class=\"data row3 col1\" >0.502662</td>\n",
       "      <td id=\"T_cd5e6_row3_col2\" class=\"data row3 col2\" >-1.507400</td>\n",
       "      <td id=\"T_cd5e6_row3_col3\" class=\"data row3 col3\" >-0.923820</td>\n",
       "    </tr>\n",
       "    <tr>\n",
       "      <th id=\"T_cd5e6_level0_row4\" class=\"row_heading level0 row4\" >4</th>\n",
       "      <td id=\"T_cd5e6_row4_col0\" class=\"data row4 col0\" >-0.326290</td>\n",
       "      <td id=\"T_cd5e6_row4_col1\" class=\"data row4 col1\" >-0.943744</td>\n",
       "      <td id=\"T_cd5e6_row4_col2\" class=\"data row4 col2\" >0.364011</td>\n",
       "      <td id=\"T_cd5e6_row4_col3\" class=\"data row4 col3\" >-0.375935</td>\n",
       "    </tr>\n",
       "    <tr>\n",
       "      <th id=\"T_cd5e6_level0_row5\" class=\"row_heading level0 row5\" >5</th>\n",
       "      <td id=\"T_cd5e6_row5_col0\" class=\"data row5 col0\" >1.049080</td>\n",
       "      <td id=\"T_cd5e6_row5_col1\" class=\"data row5 col1\" >-1.960659</td>\n",
       "      <td id=\"T_cd5e6_row5_col2\" class=\"data row5 col2\" >-1.525157</td>\n",
       "      <td id=\"T_cd5e6_row5_col3\" class=\"data row5 col3\" >2.582283</td>\n",
       "    </tr>\n",
       "    <tr>\n",
       "      <th id=\"T_cd5e6_level0_row6\" class=\"row_heading level0 row6\" >6</th>\n",
       "      <td id=\"T_cd5e6_row6_col0\" class=\"data row6 col0\" >-0.322001</td>\n",
       "      <td id=\"T_cd5e6_row6_col1\" class=\"data row6 col1\" >1.510798</td>\n",
       "      <td id=\"T_cd5e6_row6_col2\" class=\"data row6 col2\" >-0.180444</td>\n",
       "      <td id=\"T_cd5e6_row6_col3\" class=\"data row6 col3\" >-0.110141</td>\n",
       "    </tr>\n",
       "    <tr>\n",
       "      <th id=\"T_cd5e6_level0_row7\" class=\"row_heading level0 row7\" >7</th>\n",
       "      <td id=\"T_cd5e6_row7_col0\" class=\"data row7 col0\" >-1.089319</td>\n",
       "      <td id=\"T_cd5e6_row7_col1\" class=\"data row7 col1\" >-0.243998</td>\n",
       "      <td id=\"T_cd5e6_row7_col2\" class=\"data row7 col2\" >-0.082070</td>\n",
       "      <td id=\"T_cd5e6_row7_col3\" class=\"data row7 col3\" >-1.968960</td>\n",
       "    </tr>\n",
       "    <tr>\n",
       "      <th id=\"T_cd5e6_level0_row8\" class=\"row_heading level0 row8\" >8</th>\n",
       "      <td id=\"T_cd5e6_row8_col0\" class=\"data row8 col0\" >-0.427063</td>\n",
       "      <td id=\"T_cd5e6_row8_col1\" class=\"data row8 col1\" >-0.227160</td>\n",
       "      <td id=\"T_cd5e6_row8_col2\" class=\"data row8 col2\" >1.553775</td>\n",
       "      <td id=\"T_cd5e6_row8_col3\" class=\"data row8 col3\" >-1.098144</td>\n",
       "    </tr>\n",
       "    <tr>\n",
       "      <th id=\"T_cd5e6_level0_row9\" class=\"row_heading level0 row9\" >9</th>\n",
       "      <td id=\"T_cd5e6_row9_col0\" class=\"data row9 col0\" >-0.061018</td>\n",
       "      <td id=\"T_cd5e6_row9_col1\" class=\"data row9 col1\" >1.237175</td>\n",
       "      <td id=\"T_cd5e6_row9_col2\" class=\"data row9 col2\" >-0.667352</td>\n",
       "      <td id=\"T_cd5e6_row9_col3\" class=\"data row9 col3\" >1.188993</td>\n",
       "    </tr>\n",
       "  </tbody>\n",
       "</table>\n"
      ],
      "text/plain": [
       "<pandas.io.formats.style.Styler at 0x15c88a9d1d0>"
      ]
     },
     "execution_count": 170,
     "metadata": {},
     "output_type": "execute_result"
    }
   ],
   "source": [
    "df.style.set_properties(**{'background-color': 'black',\n",
    "                           'color': 'yellow'})"
   ]
  },
  {
   "cell_type": "markdown",
   "metadata": {},
   "source": [
    "15. Create a dataframe of ten rows, four columns with random values. Write a Pandas program to display bar charts in dataframe on specified columns."
   ]
  },
  {
   "cell_type": "code",
   "execution_count": 174,
   "metadata": {},
   "outputs": [
    {
     "data": {
      "text/html": [
       "<style type=\"text/css\">\n",
       "#T_bb0a0_row0_col0 {\n",
       "  width: 10em;\n",
       "  background: linear-gradient(90deg, #828282 51.9%, transparent 51.9%);\n",
       "}\n",
       "#T_bb0a0_row0_col1 {\n",
       "  width: 10em;\n",
       "  background: linear-gradient(90deg, transparent 56.5%, #828282 56.5%, #828282 72.6%, transparent 72.6%);\n",
       "}\n",
       "#T_bb0a0_row0_col2 {\n",
       "  width: 10em;\n",
       "  background: linear-gradient(90deg, transparent 49.5%, #828282 49.5%, #828282 93.1%, transparent 93.1%);\n",
       "}\n",
       "#T_bb0a0_row0_col3 {\n",
       "  width: 10em;\n",
       "  background: linear-gradient(90deg, transparent 11.3%, #828282 11.3%, #828282 43.3%, transparent 43.3%);\n",
       "}\n",
       "#T_bb0a0_row1_col0 {\n",
       "  width: 10em;\n",
       "  background: linear-gradient(90deg, transparent 51.9%, #828282 51.9%, #828282 76.7%, transparent 76.7%);\n",
       "}\n",
       "#T_bb0a0_row1_col1 {\n",
       "  width: 10em;\n",
       "  background: linear-gradient(90deg, transparent 56.5%, #828282 56.5%, #828282 65.3%, transparent 65.3%);\n",
       "}\n",
       "#T_bb0a0_row1_col2 {\n",
       "  width: 10em;\n",
       "  background: linear-gradient(90deg, transparent 49.5%, #828282 49.5%, #828282 73.8%, transparent 73.8%);\n",
       "}\n",
       "#T_bb0a0_row1_col3 {\n",
       "  width: 10em;\n",
       "  background: linear-gradient(90deg, transparent 32.3%, #828282 32.3%, #828282 43.3%, transparent 43.3%);\n",
       "}\n",
       "#T_bb0a0_row2_col0 {\n",
       "  width: 10em;\n",
       "  background: linear-gradient(90deg, transparent 51.9%, #828282 51.9%, #828282 67.3%, transparent 67.3%);\n",
       "}\n",
       "#T_bb0a0_row2_col1 {\n",
       "  width: 10em;\n",
       "  background: linear-gradient(90deg, transparent 55.0%, #828282 55.0%, #828282 56.5%, transparent 56.5%);\n",
       "}\n",
       "#T_bb0a0_row2_col2 {\n",
       "  width: 10em;\n",
       "  background: linear-gradient(90deg, transparent 26.7%, #828282 26.7%, #828282 49.5%, transparent 49.5%);\n",
       "}\n",
       "#T_bb0a0_row2_col3 {\n",
       "  width: 10em;\n",
       "  background: linear-gradient(90deg, transparent 13.6%, #828282 13.6%, #828282 43.3%, transparent 43.3%);\n",
       "}\n",
       "#T_bb0a0_row3_col0 {\n",
       "  width: 10em;\n",
       "  background: linear-gradient(90deg, transparent 51.9%, #828282 51.9%, #828282 100.0%, transparent 100.0%);\n",
       "}\n",
       "#T_bb0a0_row3_col1 {\n",
       "  width: 10em;\n",
       "  background: linear-gradient(90deg, transparent 56.5%, #828282 56.5%, #828282 71.0%, transparent 71.0%);\n",
       "}\n",
       "#T_bb0a0_row3_col2 {\n",
       "  width: 10em;\n",
       "  background: linear-gradient(90deg, transparent 0.6%, #828282 0.6%, #828282 49.5%, transparent 49.5%);\n",
       "}\n",
       "#T_bb0a0_row3_col3 {\n",
       "  width: 10em;\n",
       "  background: linear-gradient(90deg, transparent 23.0%, #828282 23.0%, #828282 43.3%, transparent 43.3%);\n",
       "}\n",
       "#T_bb0a0_row4_col0 {\n",
       "  width: 10em;\n",
       "  background: linear-gradient(90deg, transparent 38.3%, #828282 38.3%, #828282 51.9%, transparent 51.9%);\n",
       "}\n",
       "#T_bb0a0_row4_col1 {\n",
       "  width: 10em;\n",
       "  background: linear-gradient(90deg, transparent 29.3%, #828282 29.3%, #828282 56.5%, transparent 56.5%);\n",
       "}\n",
       "#T_bb0a0_row4_col2 {\n",
       "  width: 10em;\n",
       "  background: linear-gradient(90deg, transparent 49.5%, #828282 49.5%, #828282 61.4%, transparent 61.4%);\n",
       "}\n",
       "#T_bb0a0_row4_col3 {\n",
       "  width: 10em;\n",
       "  background: linear-gradient(90deg, transparent 35.0%, #828282 35.0%, #828282 43.3%, transparent 43.3%);\n",
       "}\n",
       "#T_bb0a0_row5_col0 {\n",
       "  width: 10em;\n",
       "  background: linear-gradient(90deg, transparent 51.9%, #828282 51.9%, #828282 95.3%, transparent 95.3%);\n",
       "}\n",
       "#T_bb0a0_row5_col1 {\n",
       "  width: 10em;\n",
       "  background: linear-gradient(90deg, #828282 56.5%, transparent 56.5%);\n",
       "}\n",
       "#T_bb0a0_row5_col2 {\n",
       "  width: 10em;\n",
       "  background: linear-gradient(90deg, #828282 49.5%, transparent 49.5%);\n",
       "}\n",
       "#T_bb0a0_row5_col3 {\n",
       "  width: 10em;\n",
       "  background: linear-gradient(90deg, transparent 43.3%, #828282 43.3%, #828282 100.0%, transparent 100.0%);\n",
       "}\n",
       "#T_bb0a0_row6_col0 {\n",
       "  width: 10em;\n",
       "  background: linear-gradient(90deg, transparent 38.5%, #828282 38.5%, #828282 51.9%, transparent 51.9%);\n",
       "}\n",
       "#T_bb0a0_row6_col1 {\n",
       "  width: 10em;\n",
       "  background: linear-gradient(90deg, transparent 56.5%, #828282 56.5%, #828282 100.0%, transparent 100.0%);\n",
       "}\n",
       "#T_bb0a0_row6_col2 {\n",
       "  width: 10em;\n",
       "  background: linear-gradient(90deg, transparent 43.7%, #828282 43.7%, #828282 49.5%, transparent 49.5%);\n",
       "}\n",
       "#T_bb0a0_row6_col3 {\n",
       "  width: 10em;\n",
       "  background: linear-gradient(90deg, transparent 40.8%, #828282 40.8%, #828282 43.3%, transparent 43.3%);\n",
       "}\n",
       "#T_bb0a0_row7_col0 {\n",
       "  width: 10em;\n",
       "  background: linear-gradient(90deg, transparent 6.7%, #828282 6.7%, #828282 51.9%, transparent 51.9%);\n",
       "}\n",
       "#T_bb0a0_row7_col1 {\n",
       "  width: 10em;\n",
       "  background: linear-gradient(90deg, transparent 49.5%, #828282 49.5%, #828282 56.5%, transparent 56.5%);\n",
       "}\n",
       "#T_bb0a0_row7_col2 {\n",
       "  width: 10em;\n",
       "  background: linear-gradient(90deg, transparent 46.9%, #828282 46.9%, #828282 49.5%, transparent 49.5%);\n",
       "}\n",
       "#T_bb0a0_row7_col3 {\n",
       "  width: 10em;\n",
       "  background: linear-gradient(90deg, #828282 43.3%, transparent 43.3%);\n",
       "}\n",
       "#T_bb0a0_row8_col0 {\n",
       "  width: 10em;\n",
       "  background: linear-gradient(90deg, transparent 34.2%, #828282 34.2%, #828282 51.9%, transparent 51.9%);\n",
       "}\n",
       "#T_bb0a0_row8_col1 {\n",
       "  width: 10em;\n",
       "  background: linear-gradient(90deg, transparent 49.9%, #828282 49.9%, #828282 56.5%, transparent 56.5%);\n",
       "}\n",
       "#T_bb0a0_row8_col2 {\n",
       "  width: 10em;\n",
       "  background: linear-gradient(90deg, transparent 49.5%, #828282 49.5%, #828282 100.0%, transparent 100.0%);\n",
       "}\n",
       "#T_bb0a0_row8_col3 {\n",
       "  width: 10em;\n",
       "  background: linear-gradient(90deg, transparent 19.1%, #828282 19.1%, #828282 43.3%, transparent 43.3%);\n",
       "}\n",
       "#T_bb0a0_row9_col0 {\n",
       "  width: 10em;\n",
       "  background: linear-gradient(90deg, transparent 49.3%, #828282 49.3%, #828282 51.9%, transparent 51.9%);\n",
       "}\n",
       "#T_bb0a0_row9_col1 {\n",
       "  width: 10em;\n",
       "  background: linear-gradient(90deg, transparent 56.5%, #828282 56.5%, #828282 92.1%, transparent 92.1%);\n",
       "}\n",
       "#T_bb0a0_row9_col2 {\n",
       "  width: 10em;\n",
       "  background: linear-gradient(90deg, transparent 27.9%, #828282 27.9%, #828282 49.5%, transparent 49.5%);\n",
       "}\n",
       "#T_bb0a0_row9_col3 {\n",
       "  width: 10em;\n",
       "  background: linear-gradient(90deg, transparent 43.3%, #828282 43.3%, #828282 69.4%, transparent 69.4%);\n",
       "}\n",
       "</style>\n",
       "<table id=\"T_bb0a0\">\n",
       "  <thead>\n",
       "    <tr>\n",
       "      <th class=\"blank level0\" >&nbsp;</th>\n",
       "      <th id=\"T_bb0a0_level0_col0\" class=\"col_heading level0 col0\" >A</th>\n",
       "      <th id=\"T_bb0a0_level0_col1\" class=\"col_heading level0 col1\" >B</th>\n",
       "      <th id=\"T_bb0a0_level0_col2\" class=\"col_heading level0 col2\" >C</th>\n",
       "      <th id=\"T_bb0a0_level0_col3\" class=\"col_heading level0 col3\" >D</th>\n",
       "    </tr>\n",
       "  </thead>\n",
       "  <tbody>\n",
       "    <tr>\n",
       "      <th id=\"T_bb0a0_level0_row0\" class=\"row_heading level0 row0\" >0</th>\n",
       "      <td id=\"T_bb0a0_row0_col0\" class=\"data row0 col0\" >-1.252189</td>\n",
       "      <td id=\"T_bb0a0_row0_col1\" class=\"data row0 col1\" >0.560038</td>\n",
       "      <td id=\"T_bb0a0_row0_col2\" class=\"data row0 col2\" >1.341512</td>\n",
       "      <td id=\"T_bb0a0_row0_col3\" class=\"data row0 col3\" >-1.453212</td>\n",
       "    </tr>\n",
       "    <tr>\n",
       "      <th id=\"T_bb0a0_level0_row1\" class=\"row_heading level0 row1\" >1</th>\n",
       "      <td id=\"T_bb0a0_row1_col0\" class=\"data row1 col0\" >0.599770</td>\n",
       "      <td id=\"T_bb0a0_row1_col1\" class=\"data row1 col1\" >0.306420</td>\n",
       "      <td id=\"T_bb0a0_row1_col2\" class=\"data row1 col2\" >0.748530</td>\n",
       "      <td id=\"T_bb0a0_row1_col3\" class=\"data row1 col3\" >-0.497125</td>\n",
       "    </tr>\n",
       "    <tr>\n",
       "      <th id=\"T_bb0a0_level0_row2\" class=\"row_heading level0 row2\" >2</th>\n",
       "      <td id=\"T_bb0a0_row2_col0\" class=\"data row2 col0\" >0.372131</td>\n",
       "      <td id=\"T_bb0a0_row2_col1\" class=\"data row2 col1\" >-0.051079</td>\n",
       "      <td id=\"T_bb0a0_row2_col2\" class=\"data row2 col2\" >-0.704547</td>\n",
       "      <td id=\"T_bb0a0_row2_col3\" class=\"data row2 col3\" >-1.347734</td>\n",
       "    </tr>\n",
       "    <tr>\n",
       "      <th id=\"T_bb0a0_level0_row3\" class=\"row_heading level0 row3\" >3</th>\n",
       "      <td id=\"T_bb0a0_row3_col0\" class=\"data row3 col0\" >1.162611</td>\n",
       "      <td id=\"T_bb0a0_row3_col1\" class=\"data row3 col1\" >0.502662</td>\n",
       "      <td id=\"T_bb0a0_row3_col2\" class=\"data row3 col2\" >-1.507400</td>\n",
       "      <td id=\"T_bb0a0_row3_col3\" class=\"data row3 col3\" >-0.923820</td>\n",
       "    </tr>\n",
       "    <tr>\n",
       "      <th id=\"T_bb0a0_level0_row4\" class=\"row_heading level0 row4\" >4</th>\n",
       "      <td id=\"T_bb0a0_row4_col0\" class=\"data row4 col0\" >-0.326290</td>\n",
       "      <td id=\"T_bb0a0_row4_col1\" class=\"data row4 col1\" >-0.943744</td>\n",
       "      <td id=\"T_bb0a0_row4_col2\" class=\"data row4 col2\" >0.364011</td>\n",
       "      <td id=\"T_bb0a0_row4_col3\" class=\"data row4 col3\" >-0.375935</td>\n",
       "    </tr>\n",
       "    <tr>\n",
       "      <th id=\"T_bb0a0_level0_row5\" class=\"row_heading level0 row5\" >5</th>\n",
       "      <td id=\"T_bb0a0_row5_col0\" class=\"data row5 col0\" >1.049080</td>\n",
       "      <td id=\"T_bb0a0_row5_col1\" class=\"data row5 col1\" >-1.960659</td>\n",
       "      <td id=\"T_bb0a0_row5_col2\" class=\"data row5 col2\" >-1.525157</td>\n",
       "      <td id=\"T_bb0a0_row5_col3\" class=\"data row5 col3\" >2.582283</td>\n",
       "    </tr>\n",
       "    <tr>\n",
       "      <th id=\"T_bb0a0_level0_row6\" class=\"row_heading level0 row6\" >6</th>\n",
       "      <td id=\"T_bb0a0_row6_col0\" class=\"data row6 col0\" >-0.322001</td>\n",
       "      <td id=\"T_bb0a0_row6_col1\" class=\"data row6 col1\" >1.510798</td>\n",
       "      <td id=\"T_bb0a0_row6_col2\" class=\"data row6 col2\" >-0.180444</td>\n",
       "      <td id=\"T_bb0a0_row6_col3\" class=\"data row6 col3\" >-0.110141</td>\n",
       "    </tr>\n",
       "    <tr>\n",
       "      <th id=\"T_bb0a0_level0_row7\" class=\"row_heading level0 row7\" >7</th>\n",
       "      <td id=\"T_bb0a0_row7_col0\" class=\"data row7 col0\" >-1.089319</td>\n",
       "      <td id=\"T_bb0a0_row7_col1\" class=\"data row7 col1\" >-0.243998</td>\n",
       "      <td id=\"T_bb0a0_row7_col2\" class=\"data row7 col2\" >-0.082070</td>\n",
       "      <td id=\"T_bb0a0_row7_col3\" class=\"data row7 col3\" >-1.968960</td>\n",
       "    </tr>\n",
       "    <tr>\n",
       "      <th id=\"T_bb0a0_level0_row8\" class=\"row_heading level0 row8\" >8</th>\n",
       "      <td id=\"T_bb0a0_row8_col0\" class=\"data row8 col0\" >-0.427063</td>\n",
       "      <td id=\"T_bb0a0_row8_col1\" class=\"data row8 col1\" >-0.227160</td>\n",
       "      <td id=\"T_bb0a0_row8_col2\" class=\"data row8 col2\" >1.553775</td>\n",
       "      <td id=\"T_bb0a0_row8_col3\" class=\"data row8 col3\" >-1.098144</td>\n",
       "    </tr>\n",
       "    <tr>\n",
       "      <th id=\"T_bb0a0_level0_row9\" class=\"row_heading level0 row9\" >9</th>\n",
       "      <td id=\"T_bb0a0_row9_col0\" class=\"data row9 col0\" >-0.061018</td>\n",
       "      <td id=\"T_bb0a0_row9_col1\" class=\"data row9 col1\" >1.237175</td>\n",
       "      <td id=\"T_bb0a0_row9_col2\" class=\"data row9 col2\" >-0.667352</td>\n",
       "      <td id=\"T_bb0a0_row9_col3\" class=\"data row9 col3\" >1.188993</td>\n",
       "    </tr>\n",
       "  </tbody>\n",
       "</table>\n"
      ],
      "text/plain": [
       "<pandas.io.formats.style.Styler at 0x15c8a477c50>"
      ]
     },
     "execution_count": 174,
     "metadata": {},
     "output_type": "execute_result"
    }
   ],
   "source": [
    "df.style.bar(color='#828282')"
   ]
  },
  {
   "cell_type": "markdown",
   "metadata": {},
   "source": [
    "#### Pandas Excel Data Analysis"
   ]
  },
  {
   "cell_type": "markdown",
   "metadata": {},
   "source": [
    "1. Write a Pandas program to import excel data (coalpublic2013.xlsx ) into a Pandas dataframe"
   ]
  },
  {
   "cell_type": "code",
   "execution_count": 187,
   "metadata": {},
   "outputs": [
    {
     "data": {
      "text/html": [
       "<div>\n",
       "<style scoped>\n",
       "    .dataframe tbody tr th:only-of-type {\n",
       "        vertical-align: middle;\n",
       "    }\n",
       "\n",
       "    .dataframe tbody tr th {\n",
       "        vertical-align: top;\n",
       "    }\n",
       "\n",
       "    .dataframe thead th {\n",
       "        text-align: right;\n",
       "    }\n",
       "</style>\n",
       "<table border=\"1\" class=\"dataframe\">\n",
       "  <thead>\n",
       "    <tr style=\"text-align: right;\">\n",
       "      <th></th>\n",
       "      <th>Year</th>\n",
       "      <th>MSHA ID</th>\n",
       "      <th>Mine_Name</th>\n",
       "      <th>Production</th>\n",
       "      <th>Labor_Hours</th>\n",
       "    </tr>\n",
       "  </thead>\n",
       "  <tbody>\n",
       "    <tr>\n",
       "      <th>0</th>\n",
       "      <td>2013</td>\n",
       "      <td>103381</td>\n",
       "      <td>Tacoa Highwall Miner</td>\n",
       "      <td>56004</td>\n",
       "      <td>22392</td>\n",
       "    </tr>\n",
       "    <tr>\n",
       "      <th>1</th>\n",
       "      <td>2013</td>\n",
       "      <td>103404</td>\n",
       "      <td>Reid School Mine</td>\n",
       "      <td>28807</td>\n",
       "      <td>28447</td>\n",
       "    </tr>\n",
       "    <tr>\n",
       "      <th>2</th>\n",
       "      <td>2013</td>\n",
       "      <td>100759</td>\n",
       "      <td>North River #1 Underground Min</td>\n",
       "      <td>1440115</td>\n",
       "      <td>474784</td>\n",
       "    </tr>\n",
       "    <tr>\n",
       "      <th>3</th>\n",
       "      <td>2013</td>\n",
       "      <td>103246</td>\n",
       "      <td>Bear Creek</td>\n",
       "      <td>87587</td>\n",
       "      <td>29193</td>\n",
       "    </tr>\n",
       "    <tr>\n",
       "      <th>4</th>\n",
       "      <td>2013</td>\n",
       "      <td>103451</td>\n",
       "      <td>Knight Mine</td>\n",
       "      <td>147499</td>\n",
       "      <td>46393</td>\n",
       "    </tr>\n",
       "  </tbody>\n",
       "</table>\n",
       "</div>"
      ],
      "text/plain": [
       "   Year  MSHA ID                       Mine_Name  Production  Labor_Hours\n",
       "0  2013   103381            Tacoa Highwall Miner       56004        22392\n",
       "1  2013   103404                Reid School Mine       28807        28447\n",
       "2  2013   100759  North River #1 Underground Min     1440115       474784\n",
       "3  2013   103246                      Bear Creek       87587        29193\n",
       "4  2013   103451                     Knight Mine      147499        46393"
      ]
     },
     "execution_count": 187,
     "metadata": {},
     "output_type": "execute_result"
    }
   ],
   "source": [
    "df = pd.read_excel('./coalpublic2013.xlsx')\n",
    "df.head()"
   ]
  },
  {
   "cell_type": "markdown",
   "metadata": {},
   "source": [
    "2. Write a Pandas program to get the data types of the given excel data (coalpublic2013.xlsx ) fields"
   ]
  },
  {
   "cell_type": "code",
   "execution_count": 188,
   "metadata": {},
   "outputs": [
    {
     "data": {
      "text/plain": [
       "Year            int64\n",
       "MSHA ID         int64\n",
       "Mine_Name      object\n",
       "Production      int64\n",
       "Labor_Hours     int64\n",
       "dtype: object"
      ]
     },
     "execution_count": 188,
     "metadata": {},
     "output_type": "execute_result"
    }
   ],
   "source": [
    "df.dtypes"
   ]
  },
  {
   "cell_type": "markdown",
   "metadata": {},
   "source": [
    "3. Write a Pandas program to read specific columns from a given excel file."
   ]
  },
  {
   "cell_type": "code",
   "execution_count": 189,
   "metadata": {},
   "outputs": [
    {
     "data": {
      "text/plain": [
       "0              Tacoa Highwall Miner\n",
       "1                  Reid School Mine\n",
       "2    North River #1 Underground Min\n",
       "3                        Bear Creek\n",
       "4                       Knight Mine\n",
       "Name: Mine_Name, dtype: object"
      ]
     },
     "execution_count": 189,
     "metadata": {},
     "output_type": "execute_result"
    }
   ],
   "source": [
    "df['Mine_Name'].head()"
   ]
  },
  {
   "cell_type": "markdown",
   "metadata": {},
   "source": [
    "4. Write a Pandas program to find the sum, mean, max, min value of 'Production (short tons)' column of coalpublic2013.xlsx file."
   ]
  },
  {
   "cell_type": "code",
   "execution_count": 190,
   "metadata": {},
   "outputs": [
    {
     "name": "stdout",
     "output_type": "stream",
     "text": [
      "0\n",
      "7602722\n",
      "557086.46\n",
      "27854323\n"
     ]
    }
   ],
   "source": [
    "print(df['Production'].min())\n",
    "print(df['Production'].max())\n",
    "print(df['Production'].mean())\n",
    "print(df['Production'].sum())"
   ]
  },
  {
   "cell_type": "markdown",
   "metadata": {},
   "source": [
    "5. Write a Pandas program to insert a column in the sixth position of the said excel sheet and fill it with NaN values."
   ]
  },
  {
   "cell_type": "code",
   "execution_count": 191,
   "metadata": {},
   "outputs": [
    {
     "data": {
      "text/html": [
       "<div>\n",
       "<style scoped>\n",
       "    .dataframe tbody tr th:only-of-type {\n",
       "        vertical-align: middle;\n",
       "    }\n",
       "\n",
       "    .dataframe tbody tr th {\n",
       "        vertical-align: top;\n",
       "    }\n",
       "\n",
       "    .dataframe thead th {\n",
       "        text-align: right;\n",
       "    }\n",
       "</style>\n",
       "<table border=\"1\" class=\"dataframe\">\n",
       "  <thead>\n",
       "    <tr style=\"text-align: right;\">\n",
       "      <th></th>\n",
       "      <th>Year</th>\n",
       "      <th>MSHA ID</th>\n",
       "      <th>Mine_Name</th>\n",
       "      <th>Production</th>\n",
       "      <th>Labor_Hours</th>\n",
       "      <th>new_col</th>\n",
       "    </tr>\n",
       "  </thead>\n",
       "  <tbody>\n",
       "    <tr>\n",
       "      <th>0</th>\n",
       "      <td>2013</td>\n",
       "      <td>103381</td>\n",
       "      <td>Tacoa Highwall Miner</td>\n",
       "      <td>56004</td>\n",
       "      <td>22392</td>\n",
       "      <td>NaN</td>\n",
       "    </tr>\n",
       "    <tr>\n",
       "      <th>1</th>\n",
       "      <td>2013</td>\n",
       "      <td>103404</td>\n",
       "      <td>Reid School Mine</td>\n",
       "      <td>28807</td>\n",
       "      <td>28447</td>\n",
       "      <td>NaN</td>\n",
       "    </tr>\n",
       "    <tr>\n",
       "      <th>2</th>\n",
       "      <td>2013</td>\n",
       "      <td>100759</td>\n",
       "      <td>North River #1 Underground Min</td>\n",
       "      <td>1440115</td>\n",
       "      <td>474784</td>\n",
       "      <td>NaN</td>\n",
       "    </tr>\n",
       "    <tr>\n",
       "      <th>3</th>\n",
       "      <td>2013</td>\n",
       "      <td>103246</td>\n",
       "      <td>Bear Creek</td>\n",
       "      <td>87587</td>\n",
       "      <td>29193</td>\n",
       "      <td>NaN</td>\n",
       "    </tr>\n",
       "    <tr>\n",
       "      <th>4</th>\n",
       "      <td>2013</td>\n",
       "      <td>103451</td>\n",
       "      <td>Knight Mine</td>\n",
       "      <td>147499</td>\n",
       "      <td>46393</td>\n",
       "      <td>NaN</td>\n",
       "    </tr>\n",
       "  </tbody>\n",
       "</table>\n",
       "</div>"
      ],
      "text/plain": [
       "   Year  MSHA ID                       Mine_Name  Production  Labor_Hours  \\\n",
       "0  2013   103381            Tacoa Highwall Miner       56004        22392   \n",
       "1  2013   103404                Reid School Mine       28807        28447   \n",
       "2  2013   100759  North River #1 Underground Min     1440115       474784   \n",
       "3  2013   103246                      Bear Creek       87587        29193   \n",
       "4  2013   103451                     Knight Mine      147499        46393   \n",
       "\n",
       "   new_col  \n",
       "0      NaN  \n",
       "1      NaN  \n",
       "2      NaN  \n",
       "3      NaN  \n",
       "4      NaN  "
      ]
     },
     "execution_count": 191,
     "metadata": {},
     "output_type": "execute_result"
    }
   ],
   "source": [
    "df.insert(5,'new_col', np.nan)\n",
    "df.head()"
   ]
  },
  {
   "cell_type": "markdown",
   "metadata": {},
   "source": [
    "7. Write a Pandas program to add summation to a row of the given excel file."
   ]
  },
  {
   "cell_type": "code",
   "execution_count": 201,
   "metadata": {},
   "outputs": [
    {
     "name": "stdout",
     "output_type": "stream",
     "text": [
      "   Year  MSHA ID  Mine_Name  Production  Labor_Hours  new_col\n",
      "0   NaN      NaN        NaN    27854323     11098816      NaN\n"
     ]
    }
   ],
   "source": [
    "new_df = pd.DataFrame(df[['Production', 'Labor_Hours']].sum()).T\n",
    "\n",
    "new_df = new_df.reindex(columns=df.columns)\n",
    "print(new_df)\n"
   ]
  },
  {
   "cell_type": "markdown",
   "metadata": {},
   "source": [
    "9. Write a Pandas program to create a subtotal of \"Labor Hours\" against MSHA ID from the given excel data (coalpublic2013.xlsx )."
   ]
  },
  {
   "cell_type": "code",
   "execution_count": 205,
   "metadata": {},
   "outputs": [
    {
     "data": {
      "text/html": [
       "<div>\n",
       "<style scoped>\n",
       "    .dataframe tbody tr th:only-of-type {\n",
       "        vertical-align: middle;\n",
       "    }\n",
       "\n",
       "    .dataframe tbody tr th {\n",
       "        vertical-align: top;\n",
       "    }\n",
       "\n",
       "    .dataframe thead th {\n",
       "        text-align: right;\n",
       "    }\n",
       "</style>\n",
       "<table border=\"1\" class=\"dataframe\">\n",
       "  <thead>\n",
       "    <tr style=\"text-align: right;\">\n",
       "      <th></th>\n",
       "      <th>Labor_Hours</th>\n",
       "    </tr>\n",
       "    <tr>\n",
       "      <th>MSHA ID</th>\n",
       "      <th></th>\n",
       "    </tr>\n",
       "  </thead>\n",
       "  <tbody>\n",
       "    <tr>\n",
       "      <th>100329</th>\n",
       "      <td>144002</td>\n",
       "    </tr>\n",
       "    <tr>\n",
       "      <th>100347</th>\n",
       "      <td>215295</td>\n",
       "    </tr>\n",
       "    <tr>\n",
       "      <th>100759</th>\n",
       "      <td>474784</td>\n",
       "    </tr>\n",
       "    <tr>\n",
       "      <th>100851</th>\n",
       "      <td>1001809</td>\n",
       "    </tr>\n",
       "    <tr>\n",
       "      <th>101247</th>\n",
       "      <td>1551141</td>\n",
       "    </tr>\n",
       "  </tbody>\n",
       "</table>\n",
       "</div>"
      ],
      "text/plain": [
       "         Labor_Hours\n",
       "MSHA ID             \n",
       "100329        144002\n",
       "100347        215295\n",
       "100759        474784\n",
       "100851       1001809\n",
       "101247       1551141"
      ]
     },
     "execution_count": 205,
     "metadata": {},
     "output_type": "execute_result"
    }
   ],
   "source": [
    "df1 = df[['MSHA ID', 'Labor_Hours']].groupby('MSHA ID').sum()\n",
    "df1.head()"
   ]
  },
  {
   "cell_type": "markdown",
   "metadata": {},
   "source": [
    "12. Write a Pandas program to import excel data (coalpublic2013.xlsx ) into a dataframe and find details where \"Mine Name\" starts with \"P\"."
   ]
  },
  {
   "cell_type": "code",
   "execution_count": 206,
   "metadata": {},
   "outputs": [
    {
     "data": {
      "text/html": [
       "<div>\n",
       "<style scoped>\n",
       "    .dataframe tbody tr th:only-of-type {\n",
       "        vertical-align: middle;\n",
       "    }\n",
       "\n",
       "    .dataframe tbody tr th {\n",
       "        vertical-align: top;\n",
       "    }\n",
       "\n",
       "    .dataframe thead th {\n",
       "        text-align: right;\n",
       "    }\n",
       "</style>\n",
       "<table border=\"1\" class=\"dataframe\">\n",
       "  <thead>\n",
       "    <tr style=\"text-align: right;\">\n",
       "      <th></th>\n",
       "      <th>Year</th>\n",
       "      <th>MSHA ID</th>\n",
       "      <th>Mine_Name</th>\n",
       "      <th>Production</th>\n",
       "      <th>Labor_Hours</th>\n",
       "      <th>new_col</th>\n",
       "    </tr>\n",
       "  </thead>\n",
       "  <tbody>\n",
       "    <tr>\n",
       "      <th>13</th>\n",
       "      <td>2013</td>\n",
       "      <td>103332</td>\n",
       "      <td>Powhatan Mine</td>\n",
       "      <td>140521</td>\n",
       "      <td>61394</td>\n",
       "      <td>NaN</td>\n",
       "    </tr>\n",
       "    <tr>\n",
       "      <th>18</th>\n",
       "      <td>2013</td>\n",
       "      <td>102976</td>\n",
       "      <td>Piney Woods Preparation Plant</td>\n",
       "      <td>0</td>\n",
       "      <td>14828</td>\n",
       "      <td>NaN</td>\n",
       "    </tr>\n",
       "    <tr>\n",
       "      <th>19</th>\n",
       "      <td>2013</td>\n",
       "      <td>102976</td>\n",
       "      <td>Piney Woods Preparation Plant</td>\n",
       "      <td>0</td>\n",
       "      <td>23193</td>\n",
       "      <td>NaN</td>\n",
       "    </tr>\n",
       "    <tr>\n",
       "      <th>46</th>\n",
       "      <td>2013</td>\n",
       "      <td>103321</td>\n",
       "      <td>Poplar Springs</td>\n",
       "      <td>189370</td>\n",
       "      <td>76366</td>\n",
       "      <td>NaN</td>\n",
       "    </tr>\n",
       "  </tbody>\n",
       "</table>\n",
       "</div>"
      ],
      "text/plain": [
       "    Year  MSHA ID                      Mine_Name  Production  Labor_Hours  \\\n",
       "13  2013   103332                  Powhatan Mine      140521        61394   \n",
       "18  2013   102976  Piney Woods Preparation Plant           0        14828   \n",
       "19  2013   102976  Piney Woods Preparation Plant           0        23193   \n",
       "46  2013   103321                 Poplar Springs      189370        76366   \n",
       "\n",
       "    new_col  \n",
       "13      NaN  \n",
       "18      NaN  \n",
       "19      NaN  \n",
       "46      NaN  "
      ]
     },
     "execution_count": 206,
     "metadata": {},
     "output_type": "execute_result"
    }
   ],
   "source": [
    "df[df[\"Mine_Name\"].map(lambda x: x.startswith('P'))].head()"
   ]
  },
  {
   "cell_type": "markdown",
   "metadata": {},
   "source": [
    "13. Write a Pandas program to import excel data (coalpublic2013.xlsx ) into a dataframe and find all records that include two specific MSHA ID."
   ]
  },
  {
   "cell_type": "code",
   "execution_count": 207,
   "metadata": {},
   "outputs": [
    {
     "data": {
      "text/html": [
       "<div>\n",
       "<style scoped>\n",
       "    .dataframe tbody tr th:only-of-type {\n",
       "        vertical-align: middle;\n",
       "    }\n",
       "\n",
       "    .dataframe tbody tr th {\n",
       "        vertical-align: top;\n",
       "    }\n",
       "\n",
       "    .dataframe thead th {\n",
       "        text-align: right;\n",
       "    }\n",
       "</style>\n",
       "<table border=\"1\" class=\"dataframe\">\n",
       "  <thead>\n",
       "    <tr style=\"text-align: right;\">\n",
       "      <th></th>\n",
       "      <th>Year</th>\n",
       "      <th>MSHA ID</th>\n",
       "      <th>Mine_Name</th>\n",
       "      <th>Production</th>\n",
       "      <th>Labor_Hours</th>\n",
       "      <th>new_col</th>\n",
       "    </tr>\n",
       "  </thead>\n",
       "  <tbody>\n",
       "    <tr>\n",
       "      <th>13</th>\n",
       "      <td>2013</td>\n",
       "      <td>103332</td>\n",
       "      <td>Powhatan Mine</td>\n",
       "      <td>140521</td>\n",
       "      <td>61394</td>\n",
       "      <td>NaN</td>\n",
       "    </tr>\n",
       "    <tr>\n",
       "      <th>46</th>\n",
       "      <td>2013</td>\n",
       "      <td>103321</td>\n",
       "      <td>Poplar Springs</td>\n",
       "      <td>189370</td>\n",
       "      <td>76366</td>\n",
       "      <td>NaN</td>\n",
       "    </tr>\n",
       "  </tbody>\n",
       "</table>\n",
       "</div>"
      ],
      "text/plain": [
       "    Year  MSHA ID       Mine_Name  Production  Labor_Hours  new_col\n",
       "13  2013   103332   Powhatan Mine      140521        61394      NaN\n",
       "46  2013   103321  Poplar Springs      189370        76366      NaN"
      ]
     },
     "execution_count": 207,
     "metadata": {},
     "output_type": "execute_result"
    }
   ],
   "source": [
    "df[df['MSHA ID'].isin([103332,103321])]"
   ]
  },
  {
   "cell_type": "markdown",
   "metadata": {},
   "source": [
    "#### Pandas Pivot Table"
   ]
  },
  {
   "cell_type": "markdown",
   "metadata": {},
   "source": [
    "1. Write a Pandas program to create a Pivot table with multiple indexes from a given excel sheet (Salesdata.xlsx)."
   ]
  },
  {
   "cell_type": "code",
   "execution_count": 49,
   "metadata": {},
   "outputs": [
    {
     "data": {
      "text/html": [
       "<div>\n",
       "<style scoped>\n",
       "    .dataframe tbody tr th:only-of-type {\n",
       "        vertical-align: middle;\n",
       "    }\n",
       "\n",
       "    .dataframe tbody tr th {\n",
       "        vertical-align: top;\n",
       "    }\n",
       "\n",
       "    .dataframe thead th {\n",
       "        text-align: right;\n",
       "    }\n",
       "</style>\n",
       "<table border=\"1\" class=\"dataframe\">\n",
       "  <thead>\n",
       "    <tr style=\"text-align: right;\">\n",
       "      <th></th>\n",
       "      <th></th>\n",
       "      <th>Units</th>\n",
       "    </tr>\n",
       "    <tr>\n",
       "      <th>Region</th>\n",
       "      <th>SalesMan</th>\n",
       "      <th></th>\n",
       "    </tr>\n",
       "  </thead>\n",
       "  <tbody>\n",
       "    <tr>\n",
       "      <th rowspan=\"6\" valign=\"top\">Central</th>\n",
       "      <th>David</th>\n",
       "      <td>213.0</td>\n",
       "    </tr>\n",
       "    <tr>\n",
       "      <th>John</th>\n",
       "      <td>156.0</td>\n",
       "    </tr>\n",
       "    <tr>\n",
       "      <th>Luis</th>\n",
       "      <td>281.0</td>\n",
       "    </tr>\n",
       "    <tr>\n",
       "      <th>Shelli</th>\n",
       "      <td>193.0</td>\n",
       "    </tr>\n",
       "    <tr>\n",
       "      <th>Sigal</th>\n",
       "      <td>173.0</td>\n",
       "    </tr>\n",
       "    <tr>\n",
       "      <th>Steven</th>\n",
       "      <td>183.0</td>\n",
       "    </tr>\n",
       "    <tr>\n",
       "      <th rowspan=\"3\" valign=\"top\">East</th>\n",
       "      <th>Alexander</th>\n",
       "      <td>396.0</td>\n",
       "    </tr>\n",
       "    <tr>\n",
       "      <th>Diana</th>\n",
       "      <td>125.0</td>\n",
       "    </tr>\n",
       "    <tr>\n",
       "      <th>Karen</th>\n",
       "      <td>170.0</td>\n",
       "    </tr>\n",
       "    <tr>\n",
       "      <th rowspan=\"2\" valign=\"top\">West</th>\n",
       "      <th>Michael</th>\n",
       "      <td>89.0</td>\n",
       "    </tr>\n",
       "    <tr>\n",
       "      <th>Stephen</th>\n",
       "      <td>142.0</td>\n",
       "    </tr>\n",
       "  </tbody>\n",
       "</table>\n",
       "</div>"
      ],
      "text/plain": [
       "                   Units\n",
       "Region  SalesMan        \n",
       "Central David      213.0\n",
       "        John       156.0\n",
       "        Luis       281.0\n",
       "        Shelli     193.0\n",
       "        Sigal      173.0\n",
       "        Steven     183.0\n",
       "East    Alexander  396.0\n",
       "        Diana      125.0\n",
       "        Karen      170.0\n",
       "West    Michael     89.0\n",
       "        Stephen    142.0"
      ]
     },
     "execution_count": 49,
     "metadata": {},
     "output_type": "execute_result"
    }
   ],
   "source": [
    "df = pd.read_excel('.\\SaleData.xlsx')\n",
    "pd.pivot_table(df,index=[\"Region\",\"SalesMan\"], values=['Units'], aggfunc='sum')\n",
    "\n"
   ]
  },
  {
   "cell_type": "markdown",
   "metadata": {},
   "source": [
    "#### Pandas Datetime"
   ]
  },
  {
   "cell_type": "markdown",
   "metadata": {},
   "source": [
    "1. Write a Pandas program to create the todays date."
   ]
  },
  {
   "cell_type": "code",
   "execution_count": 224,
   "metadata": {},
   "outputs": [
    {
     "data": {
      "text/plain": [
       "Timestamp('2025-01-15 00:00:00')"
      ]
     },
     "execution_count": 224,
     "metadata": {},
     "output_type": "execute_result"
    }
   ],
   "source": [
    "import datetime\n",
    "\n",
    "df = pd.to_datetime(str(datetime.date.today()))\n",
    "df"
   ]
  },
  {
   "cell_type": "code",
   "execution_count": 233,
   "metadata": {},
   "outputs": [
    {
     "data": {
      "text/html": [
       "<div>\n",
       "<style scoped>\n",
       "    .dataframe tbody tr th:only-of-type {\n",
       "        vertical-align: middle;\n",
       "    }\n",
       "\n",
       "    .dataframe tbody tr th {\n",
       "        vertical-align: top;\n",
       "    }\n",
       "\n",
       "    .dataframe thead th {\n",
       "        text-align: right;\n",
       "    }\n",
       "</style>\n",
       "<table border=\"1\" class=\"dataframe\">\n",
       "  <thead>\n",
       "    <tr style=\"text-align: right;\">\n",
       "      <th></th>\n",
       "      <th>datetime</th>\n",
       "      <th>country</th>\n",
       "      <th>shape</th>\n",
       "      <th>duration (seconds)</th>\n",
       "      <th>latitude</th>\n",
       "      <th>longitude</th>\n",
       "    </tr>\n",
       "  </thead>\n",
       "  <tbody>\n",
       "    <tr>\n",
       "      <th>39931</th>\n",
       "      <td>4/30/2011 21:00</td>\n",
       "      <td>us</td>\n",
       "      <td>fireball</td>\n",
       "      <td>60.3</td>\n",
       "      <td>36.1658333</td>\n",
       "      <td>-86.784444</td>\n",
       "    </tr>\n",
       "    <tr>\n",
       "      <th>40019</th>\n",
       "      <td>4/3/2005 16:00</td>\n",
       "      <td>us</td>\n",
       "      <td>cigar</td>\n",
       "      <td>900</td>\n",
       "      <td>26.6355556</td>\n",
       "      <td>-80.096389</td>\n",
       "    </tr>\n",
       "    <tr>\n",
       "      <th>18909</th>\n",
       "      <td>12/18/2013 19:00</td>\n",
       "      <td>us</td>\n",
       "      <td>light</td>\n",
       "      <td>120</td>\n",
       "      <td>38.6272222</td>\n",
       "      <td>-90.197778</td>\n",
       "    </tr>\n",
       "    <tr>\n",
       "      <th>38708</th>\n",
       "      <td>4/23/2010 19:15</td>\n",
       "      <td>us</td>\n",
       "      <td>light</td>\n",
       "      <td>1200</td>\n",
       "      <td>26.1219444</td>\n",
       "      <td>-80.143611</td>\n",
       "    </tr>\n",
       "    <tr>\n",
       "      <th>57973</th>\n",
       "      <td>7/19/1959 01:00</td>\n",
       "      <td>us</td>\n",
       "      <td>disk</td>\n",
       "      <td>180</td>\n",
       "      <td>40.9008333</td>\n",
       "      <td>-80.856944</td>\n",
       "    </tr>\n",
       "  </tbody>\n",
       "</table>\n",
       "</div>"
      ],
      "text/plain": [
       "               datetime country     shape duration (seconds)    latitude  \\\n",
       "39931   4/30/2011 21:00      us  fireball               60.3  36.1658333   \n",
       "40019    4/3/2005 16:00      us     cigar                900  26.6355556   \n",
       "18909  12/18/2013 19:00      us     light                120  38.6272222   \n",
       "38708   4/23/2010 19:15      us     light               1200  26.1219444   \n",
       "57973   7/19/1959 01:00      us      disk                180  40.9008333   \n",
       "\n",
       "       longitude  \n",
       "39931 -86.784444  \n",
       "40019 -80.096389  \n",
       "18909 -90.197778  \n",
       "38708 -80.143611  \n",
       "57973 -80.856944  "
      ]
     },
     "execution_count": 233,
     "metadata": {},
     "output_type": "execute_result"
    }
   ],
   "source": [
    "df1 = pd.read_csv('./ufo_sighting_data.csv')\n",
    "df1.shape\n",
    "\n",
    "df = df1.sample(n=1000)\n",
    "df.head()"
   ]
  },
  {
   "cell_type": "markdown",
   "metadata": {},
   "source": [
    "3. Write a Pandas program to get the current date, oldest date and number of days between Current date and oldest date of Ufo dataset."
   ]
  },
  {
   "cell_type": "code",
   "execution_count": 254,
   "metadata": {},
   "outputs": [
    {
     "name": "stdout",
     "output_type": "stream",
     "text": [
      "               datetime country     shape duration (seconds)    latitude  \\\n",
      "39931   4/30/2011 21:00      us  fireball               60.3  36.1658333   \n",
      "40019    4/3/2005 16:00      us     cigar                900  26.6355556   \n",
      "18909  12/18/2013 19:00      us     light                120  38.6272222   \n",
      "38708   4/23/2010 19:15      us     light               1200  26.1219444   \n",
      "57973   7/19/1959 01:00      us      disk                180  40.9008333   \n",
      "\n",
      "       longitude  \n",
      "39931 -86.784444  \n",
      "40019 -80.096389  \n",
      "18909 -90.197778  \n",
      "38708 -80.143611  \n",
      "57973 -80.856944   \n",
      "\n",
      "9/9/2010 20:30\n",
      "1/1/1975 01:00\n",
      "13035\n"
     ]
    }
   ],
   "source": [
    "from dateutil import parser\n",
    "print(df.head(),'\\n')\n",
    "\n",
    "dt1 = df.datetime.max()\n",
    "dt2 = df.datetime.min()\n",
    "\n",
    "print(dt1)\n",
    "print(dt2)\n",
    "\n",
    "\n",
    "DT1 = parser.parse(dt1)\n",
    "DT2 = parser.parse(dt2)\n",
    "\n",
    "print((DT1-DT2).days)\n"
   ]
  },
  {
   "cell_type": "code",
   "execution_count": 260,
   "metadata": {},
   "outputs": [
    {
     "name": "stdout",
     "output_type": "stream",
     "text": [
      "2025-01-15 12:30:45\n",
      "Year:  2025\n",
      "Month:  1\n",
      "Day:  15\n",
      "Hour:  12\n",
      "Minutes:  30\n",
      "WeekDay:  2\n",
      "Quarter:  1\n"
     ]
    }
   ],
   "source": [
    "timestamp = pd.Timestamp('2025-01-15 12:30:45')\n",
    "print(timestamp)\n",
    "print('Year: ',timestamp.year)\n",
    "print('Month: ',timestamp.month)\n",
    "print('Day: ',timestamp.day)\n",
    "print('Hour: ',timestamp.hour)\n",
    "print('Minutes: ',timestamp.minute)\n",
    "print('WeekDay: ',timestamp.weekday())\n",
    "print('Quarter: ',timestamp.quarter)"
   ]
  },
  {
   "cell_type": "code",
   "execution_count": 268,
   "metadata": {},
   "outputs": [
    {
     "name": "stdout",
     "output_type": "stream",
     "text": [
      "DatetimeIndex(['2025-01-01 00:00:00', '2025-01-01 01:00:00',\n",
      "               '2025-01-01 02:00:00', '2025-01-01 03:00:00',\n",
      "               '2025-01-01 04:00:00', '2025-01-01 05:00:00',\n",
      "               '2025-01-01 06:00:00', '2025-01-01 07:00:00',\n",
      "               '2025-01-01 08:00:00', '2025-01-01 09:00:00'],\n",
      "              dtype='datetime64[ns]', freq='h')\n"
     ]
    },
    {
     "name": "stderr",
     "output_type": "stream",
     "text": [
      "C:\\Users\\MeetKothari\\AppData\\Local\\Temp\\ipykernel_14632\\2034004463.py:1: FutureWarning: 'H' is deprecated and will be removed in a future version, please use 'h' instead.\n",
      "  data = pd.date_range('1/1/2025', periods=10, freq='H')\n"
     ]
    }
   ],
   "source": [
    "data = pd.date_range('1/1/2025', periods=10, freq='H')\n",
    "print(data)"
   ]
  },
  {
   "cell_type": "markdown",
   "metadata": {},
   "source": [
    "#### Pandas Plotting"
   ]
  },
  {
   "cell_type": "markdown",
   "metadata": {},
   "source": [
    "1. Write a Pandas program to create a line plot of the historical stock prices of Alphabet Inc. between two specific dates."
   ]
  },
  {
   "cell_type": "code",
   "execution_count": 1,
   "metadata": {},
   "outputs": [
    {
     "data": {
      "text/html": [
       "<div>\n",
       "<style scoped>\n",
       "    .dataframe tbody tr th:only-of-type {\n",
       "        vertical-align: middle;\n",
       "    }\n",
       "\n",
       "    .dataframe tbody tr th {\n",
       "        vertical-align: top;\n",
       "    }\n",
       "\n",
       "    .dataframe thead th {\n",
       "        text-align: right;\n",
       "    }\n",
       "</style>\n",
       "<table border=\"1\" class=\"dataframe\">\n",
       "  <thead>\n",
       "    <tr style=\"text-align: right;\">\n",
       "      <th></th>\n",
       "      <th>Date</th>\n",
       "      <th>Open</th>\n",
       "      <th>High</th>\n",
       "      <th>Low</th>\n",
       "      <th>Close</th>\n",
       "      <th>Adj Close</th>\n",
       "      <th>Volume</th>\n",
       "    </tr>\n",
       "  </thead>\n",
       "  <tbody>\n",
       "    <tr>\n",
       "      <th>0</th>\n",
       "      <td>2020-04-01</td>\n",
       "      <td>1122.000000</td>\n",
       "      <td>1129.689941</td>\n",
       "      <td>1097.449951</td>\n",
       "      <td>1105.619995</td>\n",
       "      <td>1105.619995</td>\n",
       "      <td>2343100</td>\n",
       "    </tr>\n",
       "    <tr>\n",
       "      <th>1</th>\n",
       "      <td>2020-04-02</td>\n",
       "      <td>1098.260010</td>\n",
       "      <td>1126.859985</td>\n",
       "      <td>1096.400024</td>\n",
       "      <td>1120.839966</td>\n",
       "      <td>1120.839966</td>\n",
       "      <td>1964900</td>\n",
       "    </tr>\n",
       "    <tr>\n",
       "      <th>2</th>\n",
       "      <td>2020-04-03</td>\n",
       "      <td>1119.015015</td>\n",
       "      <td>1123.540039</td>\n",
       "      <td>1079.810059</td>\n",
       "      <td>1097.880005</td>\n",
       "      <td>1097.880005</td>\n",
       "      <td>2313400</td>\n",
       "    </tr>\n",
       "    <tr>\n",
       "      <th>3</th>\n",
       "      <td>2020-04-06</td>\n",
       "      <td>1138.000000</td>\n",
       "      <td>1194.660034</td>\n",
       "      <td>1130.939941</td>\n",
       "      <td>1186.920044</td>\n",
       "      <td>1186.920044</td>\n",
       "      <td>2664700</td>\n",
       "    </tr>\n",
       "    <tr>\n",
       "      <th>4</th>\n",
       "      <td>2020-04-07</td>\n",
       "      <td>1221.000000</td>\n",
       "      <td>1225.000000</td>\n",
       "      <td>1182.229980</td>\n",
       "      <td>1186.510010</td>\n",
       "      <td>1186.510010</td>\n",
       "      <td>2387300</td>\n",
       "    </tr>\n",
       "  </tbody>\n",
       "</table>\n",
       "</div>"
      ],
      "text/plain": [
       "         Date         Open         High          Low        Close  \\\n",
       "0  2020-04-01  1122.000000  1129.689941  1097.449951  1105.619995   \n",
       "1  2020-04-02  1098.260010  1126.859985  1096.400024  1120.839966   \n",
       "2  2020-04-03  1119.015015  1123.540039  1079.810059  1097.880005   \n",
       "3  2020-04-06  1138.000000  1194.660034  1130.939941  1186.920044   \n",
       "4  2020-04-07  1221.000000  1225.000000  1182.229980  1186.510010   \n",
       "\n",
       "     Adj Close   Volume  \n",
       "0  1105.619995  2343100  \n",
       "1  1120.839966  1964900  \n",
       "2  1097.880005  2313400  \n",
       "3  1186.920044  2664700  \n",
       "4  1186.510010  2387300  "
      ]
     },
     "execution_count": 1,
     "metadata": {},
     "output_type": "execute_result"
    }
   ],
   "source": [
    "import pandas as pd\n",
    "df = pd.read_csv(\"alphabet_stock_data.csv\")\n",
    "df.head()"
   ]
  },
  {
   "cell_type": "code",
   "execution_count": 2,
   "metadata": {},
   "outputs": [
    {
     "data": {
      "image/png": "[encoded data removed]",
      "text/plain": [
       "<Figure size 500x500 with 1 Axes>"
      ]
     },
     "metadata": {},
     "output_type": "display_data"
    }
   ],
   "source": [
    "import matplotlib.pyplot as plt\n",
    "\n",
    "start_date = pd.to_datetime('2020-4-1')\n",
    "end_date = pd.to_datetime('2020-09-30')  \n",
    "\n",
    "df['Date'] = pd.to_datetime(df['Date']) \n",
    "\n",
    "new_df = (df['Date']>= start_date) & (df['Date']<= end_date)\n",
    "df1 = df.loc[new_df]\n",
    "df2 = df1.set_index('Date')\n",
    "\n",
    "plt.figure(figsize=(5,5))\n",
    "plt.suptitle('Stock prices of Alphabet Inc.,\\n01-04-2020 to 30-09-2020',fontsize=18, color='black')\n",
    "plt.xlabel(\"Date\",fontsize=16, color='black')\n",
    "plt.ylabel(\"$ price\", fontsize=16, color='black')\n",
    " \n",
    "df2['Close'].plot(color='green')\n",
    "plt.show()\n"
   ]
  },
  {
   "cell_type": "markdown",
   "metadata": {},
   "source": [
    "2. Write a Pandas program to create a line plot of the opening, closing stock prices of Alphabet Inc. between two specific dates."
   ]
  },
  {
   "cell_type": "code",
   "execution_count": 14,
   "metadata": {},
   "outputs": [
    {
     "data": {
      "text/plain": [
       "<Figure size 1000x1000 with 0 Axes>"
      ]
     },
     "metadata": {},
     "output_type": "display_data"
    },
    {
     "data": {
      "image/png": "[encoded data removed]",
      "text/plain": [
       "<Figure size 640x480 with 1 Axes>"
      ]
     },
     "metadata": {},
     "output_type": "display_data"
    }
   ],
   "source": [
    "df3 = df.loc[new_df]\n",
    "\n",
    "plt.figure(figsize=(10,10))\n",
    "df3.plot(x='Date', y=['Open', 'Close'])\n",
    "plt.suptitle('Opening/Closing stock prices', fontsize=12, color='black')\n",
    "plt.xlabel(\"Date\",fontsize=12, color='black')\n",
    "plt.ylabel(\"$ price\", fontsize=12, color='black')\n",
    "plt.show()"
   ]
  },
  {
   "cell_type": "code",
   "execution_count": 13,
   "metadata": {},
   "outputs": [
    {
     "data": {
      "image/png": "[encoded data removed]",
      "text/plain": [
       "<Figure size 640x480 with 1 Axes>"
      ]
     },
     "metadata": {},
     "output_type": "display_data"
    }
   ],
   "source": [
    "import matplotlib.pyplot as plt\n",
    "import seaborn as sns\n",
    "\n",
    "sns.histplot(df['Adj Close'], bins=30, kde=True, color='lightgreen')\n",
    "\n",
    "plt.title('Histogram')\n",
    "\n",
    "plt.show()\n"
   ]
  },
  {
   "cell_type": "markdown",
   "metadata": {},
   "source": [
    "#### Pandas Performance Optimization"
   ]
  },
  {
   "cell_type": "code",
   "execution_count": 23,
   "metadata": {},
   "outputs": [],
   "source": [
    "import pandas as pd\n",
    "import numpy as np\n",
    "import time"
   ]
  },
  {
   "cell_type": "markdown",
   "metadata": {},
   "source": [
    "17. Write a Pandas program to measure the time taken to sort a large DataFrame using the sort_values method vs. using a custom sorting function with apply."
   ]
  },
  {
   "cell_type": "code",
   "execution_count": 22,
   "metadata": {},
   "outputs": [
    {
     "name": "stdout",
     "output_type": "stream",
     "text": [
      "Time taken using sort_values method: 0.269912 seconds\n",
      "Time taken using apply method: 0.210294 seconds\n"
     ]
    }
   ],
   "source": [
    "num_rows = 1000000\n",
    "df = pd.DataFrame({\n",
    "    'A': np.random.randint(0, 100, size=num_rows),\n",
    "    'B': np.random.randn(num_rows)\n",
    "})\n",
    "\n",
    "start_time = time.time()\n",
    "sorted_df = df.sort_values(by='A')\n",
    "end_time = time.time()\n",
    "sort_values_time = end_time - start_time\n",
    "\n",
    "def sort_custom(df):\n",
    "    return df.sort_values(by='A')\n",
    "\n",
    "start_time = time.time()\n",
    "apply_sorted_df = df.apply(lambda x: x).sort_values(by='A')\n",
    "end_time = time.time()\n",
    "apply_time = end_time - start_time\n",
    "\n",
    "print(f\"Time taken using sort_values method: {sort_values_time:.6f} seconds\")\n",
    "print(f\"Time taken using apply method: {apply_time:.6f} seconds\")\n"
   ]
  },
  {
   "cell_type": "markdown",
   "metadata": {},
   "source": [
    "19. Write a Python program that uses the agg method to apply multiple aggregation functions to a DataFrame and compares the performance with applying each function individually."
   ]
  },
  {
   "cell_type": "code",
   "execution_count": 25,
   "metadata": {},
   "outputs": [
    {
     "name": "stdout",
     "output_type": "stream",
     "text": [
      "Time using agg method: 0.011888742446899414 seconds\n",
      "Time applying functions individually: 0.0026092529296875 seconds\n"
     ]
    }
   ],
   "source": [
    "np.random.seed(0)\n",
    "df = pd.DataFrame({\n",
    "    'A': np.random.randint(1, 100, 1000),\n",
    "    'B': np.random.rand(1000),\n",
    "    'C': np.random.randint(1, 100, 1000)\n",
    "})\n",
    "\n",
    "aggregations = {\n",
    "    'A': ['sum', 'mean', 'std'],\n",
    "    'B': ['sum', 'mean', 'std'],\n",
    "    'C': ['sum', 'mean', 'std']\n",
    "}\n",
    "\n",
    "start_time_agg = time.time()\n",
    "df_agg = df.agg(aggregations)\n",
    "time_agg = time.time() - start_time_agg\n",
    "\n",
    "start_time_individual = time.time()\n",
    "results_individual = {\n",
    "    'A_sum': df['A'].sum(),\n",
    "    'A_mean': df['A'].mean(),\n",
    "    'A_std': df['A'].std(),\n",
    "    'B_sum': df['B'].sum(),\n",
    "    'B_mean': df['B'].mean(),\n",
    "    'B_std': df['B'].std(),\n",
    "    'C_sum': df['C'].sum(),\n",
    "    'C_mean': df['C'].mean(),\n",
    "    'C_std': df['C'].std()\n",
    "}\n",
    "time_individual = time.time() - start_time_individual\n",
    "\n",
    "print(f\"Time using agg method: {time_agg} seconds\")\n",
    "print(f\"Time applying functions individually: {time_individual} seconds\")"
   ]
  },
  {
   "cell_type": "markdown",
   "metadata": {},
   "source": [
    "#### Pandas Advanced Indexing and Slicing"
   ]
  },
  {
   "cell_type": "markdown",
   "metadata": {},
   "source": [
    "11. Write a Pandas program that uses .loc to set values in the DataFrame."
   ]
  },
  {
   "cell_type": "code",
   "execution_count": 26,
   "metadata": {},
   "outputs": [
    {
     "name": "stdout",
     "output_type": "stream",
     "text": [
      "   X  Y\n",
      "0  1  5\n",
      "1  6  0\n",
      "2  8  0\n",
      "3  3  4\n",
      "4  7  0\n"
     ]
    }
   ],
   "source": [
    "import pandas as pd\n",
    "\n",
    "df = pd.DataFrame({\n",
    "    'X': [1, 6, 8, 3, 7],\n",
    "    'Y': [5, 2, 9, 4, 1]\n",
    "})\n",
    "\n",
    "df.loc[df['X'] > 5, 'Y'] = 0\n",
    "print(df)\n"
   ]
  },
  {
   "cell_type": "markdown",
   "metadata": {},
   "source": [
    "14. Write a Pandas program that uses .loc to slice a MultiIndex DataFrame."
   ]
  },
  {
   "cell_type": "code",
   "execution_count": null,
   "metadata": {},
   "outputs": [
    {
     "name": "stdout",
     "output_type": "stream",
     "text": [
      "       B\n",
      "C   A   \n",
      "one 1  5\n",
      "    6  2\n",
      "    7  1\n",
      "two 3  4\n",
      "    8  9\n"
     ]
    }
   ],
   "source": [
    "df = pd.DataFrame({\n",
    "    'A': [1, 6, 8, 3, 7],\n",
    "    'B': [5, 2, 9, 4, 1],\n",
    "    'C': ['one', 'one', 'two', 'two', 'one']\n",
    "})\n",
    "\n",
    "df = df.set_index(['C', 'A'])\n",
    "\n",
    "df = df.sort_index()\n",
    "\n",
    "result = df.loc['one':'two']\n",
    "print(result)\n"
   ]
  },
  {
   "cell_type": "markdown",
   "metadata": {},
   "source": [
    "#### Pandas SQL database Queries"
   ]
  },
  {
   "cell_type": "markdown",
   "metadata": {},
   "source": [
    "24. Write a Pandas program to display the first and last name and date of joining of the employees who is either Sales Representative or Sales Man."
   ]
  },
  {
   "cell_type": "code",
   "execution_count": 41,
   "metadata": {},
   "outputs": [
    {
     "data": {
      "text/html": [
       "<div>\n",
       "<style scoped>\n",
       "    .dataframe tbody tr th:only-of-type {\n",
       "        vertical-align: middle;\n",
       "    }\n",
       "\n",
       "    .dataframe tbody tr th {\n",
       "        vertical-align: top;\n",
       "    }\n",
       "\n",
       "    .dataframe thead th {\n",
       "        text-align: right;\n",
       "    }\n",
       "</style>\n",
       "<table border=\"1\" class=\"dataframe\">\n",
       "  <thead>\n",
       "    <tr style=\"text-align: right;\">\n",
       "      <th></th>\n",
       "      <th>first_name</th>\n",
       "      <th>last_name</th>\n",
       "      <th>hire_date</th>\n",
       "    </tr>\n",
       "  </thead>\n",
       "  <tbody>\n",
       "    <tr>\n",
       "      <th>45</th>\n",
       "      <td>John</td>\n",
       "      <td>Russell</td>\n",
       "      <td>2004-10-01</td>\n",
       "    </tr>\n",
       "    <tr>\n",
       "      <th>46</th>\n",
       "      <td>Karen</td>\n",
       "      <td>Partners</td>\n",
       "      <td>2005-01-05</td>\n",
       "    </tr>\n",
       "    <tr>\n",
       "      <th>47</th>\n",
       "      <td>Alberto</td>\n",
       "      <td>Errazuriz</td>\n",
       "      <td>2005-03-10</td>\n",
       "    </tr>\n",
       "    <tr>\n",
       "      <th>48</th>\n",
       "      <td>Gerald</td>\n",
       "      <td>Cambrault</td>\n",
       "      <td>2007-10-15</td>\n",
       "    </tr>\n",
       "    <tr>\n",
       "      <th>49</th>\n",
       "      <td>Eleni</td>\n",
       "      <td>Zlotkey</td>\n",
       "      <td>2008-01-29</td>\n",
       "    </tr>\n",
       "    <tr>\n",
       "      <th>50</th>\n",
       "      <td>Peter</td>\n",
       "      <td>Tucker</td>\n",
       "      <td>2005-01-30</td>\n",
       "    </tr>\n",
       "    <tr>\n",
       "      <th>51</th>\n",
       "      <td>David</td>\n",
       "      <td>Bernstein</td>\n",
       "      <td>2005-03-24</td>\n",
       "    </tr>\n",
       "    <tr>\n",
       "      <th>52</th>\n",
       "      <td>Peter</td>\n",
       "      <td>Hall</td>\n",
       "      <td>2005-08-20</td>\n",
       "    </tr>\n",
       "    <tr>\n",
       "      <th>53</th>\n",
       "      <td>Christopher</td>\n",
       "      <td>Olsen</td>\n",
       "      <td>2006-03-30</td>\n",
       "    </tr>\n",
       "    <tr>\n",
       "      <th>54</th>\n",
       "      <td>Nanette</td>\n",
       "      <td>Cambrault</td>\n",
       "      <td>2006-12-09</td>\n",
       "    </tr>\n",
       "    <tr>\n",
       "      <th>55</th>\n",
       "      <td>Oliver</td>\n",
       "      <td>Tuvault</td>\n",
       "      <td>2007-11-23</td>\n",
       "    </tr>\n",
       "    <tr>\n",
       "      <th>56</th>\n",
       "      <td>Janette</td>\n",
       "      <td>King</td>\n",
       "      <td>2004-01-30</td>\n",
       "    </tr>\n",
       "    <tr>\n",
       "      <th>57</th>\n",
       "      <td>Patrick</td>\n",
       "      <td>Sully</td>\n",
       "      <td>2004-03-04</td>\n",
       "    </tr>\n",
       "    <tr>\n",
       "      <th>58</th>\n",
       "      <td>Allan</td>\n",
       "      <td>McEwen</td>\n",
       "      <td>2004-08-01</td>\n",
       "    </tr>\n",
       "    <tr>\n",
       "      <th>59</th>\n",
       "      <td>Lindsey</td>\n",
       "      <td>Smith</td>\n",
       "      <td>2005-03-10</td>\n",
       "    </tr>\n",
       "    <tr>\n",
       "      <th>60</th>\n",
       "      <td>Louise</td>\n",
       "      <td>Doran</td>\n",
       "      <td>2005-12-15</td>\n",
       "    </tr>\n",
       "    <tr>\n",
       "      <th>61</th>\n",
       "      <td>Sarath</td>\n",
       "      <td>Sewall</td>\n",
       "      <td>2006-11-03</td>\n",
       "    </tr>\n",
       "    <tr>\n",
       "      <th>62</th>\n",
       "      <td>Clara</td>\n",
       "      <td>Vishney</td>\n",
       "      <td>2005-11-11</td>\n",
       "    </tr>\n",
       "    <tr>\n",
       "      <th>63</th>\n",
       "      <td>Danielle</td>\n",
       "      <td>Greene</td>\n",
       "      <td>2007-03-19</td>\n",
       "    </tr>\n",
       "    <tr>\n",
       "      <th>64</th>\n",
       "      <td>Mattea</td>\n",
       "      <td>Marvins</td>\n",
       "      <td>2008-01-24</td>\n",
       "    </tr>\n",
       "    <tr>\n",
       "      <th>65</th>\n",
       "      <td>David</td>\n",
       "      <td>Lee</td>\n",
       "      <td>2008-02-23</td>\n",
       "    </tr>\n",
       "    <tr>\n",
       "      <th>66</th>\n",
       "      <td>Sundar</td>\n",
       "      <td>Ande</td>\n",
       "      <td>2008-03-24</td>\n",
       "    </tr>\n",
       "    <tr>\n",
       "      <th>67</th>\n",
       "      <td>Amit</td>\n",
       "      <td>Banda</td>\n",
       "      <td>2008-04-21</td>\n",
       "    </tr>\n",
       "    <tr>\n",
       "      <th>68</th>\n",
       "      <td>Lisa</td>\n",
       "      <td>Ozer</td>\n",
       "      <td>2005-03-11</td>\n",
       "    </tr>\n",
       "    <tr>\n",
       "      <th>69</th>\n",
       "      <td>Harrison</td>\n",
       "      <td>Bloom</td>\n",
       "      <td>2006-03-23</td>\n",
       "    </tr>\n",
       "    <tr>\n",
       "      <th>70</th>\n",
       "      <td>Tayler</td>\n",
       "      <td>Fox</td>\n",
       "      <td>2006-01-24</td>\n",
       "    </tr>\n",
       "    <tr>\n",
       "      <th>71</th>\n",
       "      <td>William</td>\n",
       "      <td>Smith</td>\n",
       "      <td>2007-02-23</td>\n",
       "    </tr>\n",
       "    <tr>\n",
       "      <th>72</th>\n",
       "      <td>Elizabeth</td>\n",
       "      <td>Bates</td>\n",
       "      <td>2007-03-24</td>\n",
       "    </tr>\n",
       "    <tr>\n",
       "      <th>73</th>\n",
       "      <td>Sundita</td>\n",
       "      <td>Kumar</td>\n",
       "      <td>2008-04-21</td>\n",
       "    </tr>\n",
       "    <tr>\n",
       "      <th>74</th>\n",
       "      <td>Ellen</td>\n",
       "      <td>Abel</td>\n",
       "      <td>2004-05-11</td>\n",
       "    </tr>\n",
       "    <tr>\n",
       "      <th>75</th>\n",
       "      <td>Alyssa</td>\n",
       "      <td>Hutton</td>\n",
       "      <td>2005-03-19</td>\n",
       "    </tr>\n",
       "    <tr>\n",
       "      <th>76</th>\n",
       "      <td>Jonathon</td>\n",
       "      <td>Taylor</td>\n",
       "      <td>2006-03-24</td>\n",
       "    </tr>\n",
       "    <tr>\n",
       "      <th>77</th>\n",
       "      <td>Jack</td>\n",
       "      <td>Livingston</td>\n",
       "      <td>2006-04-23</td>\n",
       "    </tr>\n",
       "    <tr>\n",
       "      <th>78</th>\n",
       "      <td>Kimberely</td>\n",
       "      <td>Grant</td>\n",
       "      <td>2007-05-24</td>\n",
       "    </tr>\n",
       "    <tr>\n",
       "      <th>79</th>\n",
       "      <td>Charles</td>\n",
       "      <td>Johnson</td>\n",
       "      <td>2008-01-04</td>\n",
       "    </tr>\n",
       "  </tbody>\n",
       "</table>\n",
       "</div>"
      ],
      "text/plain": [
       "     first_name   last_name   hire_date\n",
       "45         John     Russell  2004-10-01\n",
       "46        Karen    Partners  2005-01-05\n",
       "47      Alberto   Errazuriz  2005-03-10\n",
       "48       Gerald   Cambrault  2007-10-15\n",
       "49        Eleni     Zlotkey  2008-01-29\n",
       "50        Peter      Tucker  2005-01-30\n",
       "51        David   Bernstein  2005-03-24\n",
       "52        Peter        Hall  2005-08-20\n",
       "53  Christopher       Olsen  2006-03-30\n",
       "54      Nanette   Cambrault  2006-12-09\n",
       "55       Oliver     Tuvault  2007-11-23\n",
       "56      Janette        King  2004-01-30\n",
       "57      Patrick       Sully  2004-03-04\n",
       "58        Allan      McEwen  2004-08-01\n",
       "59      Lindsey       Smith  2005-03-10\n",
       "60       Louise       Doran  2005-12-15\n",
       "61       Sarath      Sewall  2006-11-03\n",
       "62        Clara     Vishney  2005-11-11\n",
       "63     Danielle      Greene  2007-03-19\n",
       "64       Mattea     Marvins  2008-01-24\n",
       "65        David         Lee  2008-02-23\n",
       "66       Sundar        Ande  2008-03-24\n",
       "67         Amit       Banda  2008-04-21\n",
       "68         Lisa        Ozer  2005-03-11\n",
       "69     Harrison       Bloom  2006-03-23\n",
       "70       Tayler         Fox  2006-01-24\n",
       "71      William       Smith  2007-02-23\n",
       "72    Elizabeth       Bates  2007-03-24\n",
       "73      Sundita       Kumar  2008-04-21\n",
       "74        Ellen        Abel  2004-05-11\n",
       "75       Alyssa      Hutton  2005-03-19\n",
       "76     Jonathon      Taylor  2006-03-24\n",
       "77         Jack  Livingston  2006-04-23\n",
       "78    Kimberely       Grant  2007-05-24\n",
       "79      Charles     Johnson  2008-01-04"
      ]
     },
     "execution_count": 41,
     "metadata": {},
     "output_type": "execute_result"
    }
   ],
   "source": [
    "df = pd.read_csv('./csv-files-for-use/EMPLOYEES.csv')\n",
    "df.head()\n",
    "\n",
    "res = df[ (df['job_id'] == 'SA_MAN') | (df['job_id'] == 'SA_REP')]\n",
    "res[['first_name', 'last_name', 'hire_date']]"
   ]
  },
  {
   "cell_type": "markdown",
   "metadata": {},
   "source": [
    "#### Pandas Resampling and Frequency Conversion"
   ]
  },
  {
   "cell_type": "code",
   "execution_count": 42,
   "metadata": {},
   "outputs": [],
   "source": [
    "import pandas as pd\n",
    "import numpy as np"
   ]
  },
  {
   "cell_type": "markdown",
   "metadata": {},
   "source": [
    "1. Write a Pandas program to resample time series data to daily frequency."
   ]
  },
  {
   "cell_type": "code",
   "execution_count": 63,
   "metadata": {},
   "outputs": [
    {
     "name": "stdout",
     "output_type": "stream",
     "text": [
      "2025-01-10   -0.106754\n",
      "2025-01-11   -0.242032\n",
      "2025-01-12    0.140824\n",
      "2025-01-13   -0.205712\n",
      "2025-01-14    2.375731\n",
      "Freq: D, dtype: float64\n"
     ]
    }
   ],
   "source": [
    "d_range = pd.date_range(start='2025-01-10', end='2025-01-14', freq='h')\n",
    "\n",
    "ts = pd.Series(np.random.randn(len(d_range)), index=d_range)\n",
    "ts_daily = ts.resample('D').mean()\n",
    "\n",
    "print(ts_daily)"
   ]
  },
  {
   "cell_type": "markdown",
   "metadata": {},
   "source": [
    "2. Write a Pandas program to upsample daily time series data to hourly frequency."
   ]
  },
  {
   "cell_type": "code",
   "execution_count": 65,
   "metadata": {},
   "outputs": [
    {
     "name": "stdout",
     "output_type": "stream",
     "text": [
      "2025-01-10 00:00:00   -0.877284\n",
      "2025-01-10 01:00:00    0.423652\n",
      "2025-01-10 02:00:00   -2.577039\n",
      "2025-01-10 03:00:00   -0.757943\n",
      "2025-01-10 04:00:00    0.502890\n",
      "                         ...   \n",
      "2025-01-13 20:00:00    0.001805\n",
      "2025-01-13 21:00:00   -0.021692\n",
      "2025-01-13 22:00:00    1.043527\n",
      "2025-01-13 23:00:00   -0.061325\n",
      "2025-01-14 00:00:00    2.375731\n",
      "Freq: h, Length: 97, dtype: float64\n"
     ]
    }
   ],
   "source": [
    "ts_hourly = ts.resample('h').ffill()\n",
    "print(ts_hourly)"
   ]
  },
  {
   "cell_type": "markdown",
   "metadata": {},
   "source": [
    "#### Pandas Advanced Grouping and Aggregation"
   ]
  },
  {
   "cell_type": "markdown",
   "metadata": {},
   "source": [
    "2. Applying Multiple Aggregations:\n",
    "Write a Pandas program to apply multiple aggregation functions to grouped data using for enhanced data insights."
   ]
  },
  {
   "cell_type": "code",
   "execution_count": 66,
   "metadata": {},
   "outputs": [
    {
     "name": "stdout",
     "output_type": "stream",
     "text": [
      "         Value              \n",
      "           sum max min  mean\n",
      "Category                    \n",
      "A           30  20  10  15.0\n",
      "B           70  40  30  35.0\n",
      "C          110  60  50  55.0\n"
     ]
    }
   ],
   "source": [
    "import pandas as pd\n",
    "\n",
    "data = {'Category': ['A', 'A', 'B', 'B', 'C', 'C'],\n",
    "        'Value': [10, 20, 30, 40, 50, 60]}\n",
    "\n",
    "df = pd.DataFrame(data)\n",
    "\n",
    "gp = df.groupby(['Category']).agg(['sum', 'max', 'min', 'mean'])\n",
    "print(gp)\n"
   ]
  },
  {
   "cell_type": "markdown",
   "metadata": {},
   "source": [
    "15. GroupBy and Applying Multiple Aggregations with Named Functions:\n",
    "Write a Pandas program to apply multiple aggregations with named functions in GroupBy for detailed data analysis."
   ]
  },
  {
   "cell_type": "code",
   "execution_count": 69,
   "metadata": {},
   "outputs": [
    {
     "name": "stdout",
     "output_type": "stream",
     "text": [
      "          total   mean\n",
      "Category              \n",
      "A            15   75.0\n",
      "B            35  175.0\n",
      "C            55  275.0\n"
     ]
    }
   ],
   "source": [
    "data = {'Category': ['A', 'A', 'B', 'B', 'C', 'C'],\n",
    "        'Value1': [5, 10, 15, 20, 25, 30],\n",
    "        'Value2': [50, 100, 150, 200, 250, 300]}\n",
    "\n",
    "df = pd.DataFrame(data)\n",
    "\n",
    "gp = df.groupby('Category').agg(\n",
    "    total = ('Value1', 'sum'),\n",
    "    mean = ('Value2', 'mean')\n",
    ")\n",
    "\n",
    "print(gp)"
   ]
  },
  {
   "cell_type": "markdown",
   "metadata": {},
   "source": [
    "#### Pandas IMDb Movies Queries"
   ]
  },
  {
   "cell_type": "markdown",
   "metadata": {},
   "source": [
    "1. Write a Python Pandas program to get the columns of the DataFrame (movies_metadata.csv file)."
   ]
  },
  {
   "cell_type": "code",
   "execution_count": 83,
   "metadata": {},
   "outputs": [
    {
     "ename": "UnicodeDecodeError",
     "evalue": "'utf-8' codec can't decode byte 0xe7 in position 2040: invalid continuation byte",
     "output_type": "error",
     "traceback": [
      "\u001b[1;31m---------------------------------------------------------------------------\u001b[0m",
      "\u001b[1;31mUnicodeDecodeError\u001b[0m                        Traceback (most recent call last)",
      "Cell \u001b[1;32mIn[83], line 1\u001b[0m\n\u001b[1;32m----> 1\u001b[0m data \u001b[38;5;241m=\u001b[39m \u001b[43mpd\u001b[49m\u001b[38;5;241;43m.\u001b[39;49m\u001b[43mread_csv\u001b[49m\u001b[43m(\u001b[49m\u001b[38;5;124;43m'\u001b[39;49m\u001b[38;5;124;43m./movies_metadata.csv\u001b[39;49m\u001b[38;5;124;43m'\u001b[39;49m\u001b[43m)\u001b[49m\n",
      "File \u001b[1;32mc:\\Users\\MeetKothari\\AppData\\Local\\Programs\\Python\\Python313\\Lib\\site-packages\\pandas\\io\\parsers\\readers.py:1026\u001b[0m, in \u001b[0;36mread_csv\u001b[1;34m(filepath_or_buffer, sep, delimiter, header, names, index_col, usecols, dtype, engine, converters, true_values, false_values, skipinitialspace, skiprows, skipfooter, nrows, na_values, keep_default_na, na_filter, verbose, skip_blank_lines, parse_dates, infer_datetime_format, keep_date_col, date_parser, date_format, dayfirst, cache_dates, iterator, chunksize, compression, thousands, decimal, lineterminator, quotechar, quoting, doublequote, escapechar, comment, encoding, encoding_errors, dialect, on_bad_lines, delim_whitespace, low_memory, memory_map, float_precision, storage_options, dtype_backend)\u001b[0m\n\u001b[0;32m   1013\u001b[0m kwds_defaults \u001b[38;5;241m=\u001b[39m _refine_defaults_read(\n\u001b[0;32m   1014\u001b[0m     dialect,\n\u001b[0;32m   1015\u001b[0m     delimiter,\n\u001b[1;32m   (...)\u001b[0m\n\u001b[0;32m   1022\u001b[0m     dtype_backend\u001b[38;5;241m=\u001b[39mdtype_backend,\n\u001b[0;32m   1023\u001b[0m )\n\u001b[0;32m   1024\u001b[0m kwds\u001b[38;5;241m.\u001b[39mupdate(kwds_defaults)\n\u001b[1;32m-> 1026\u001b[0m \u001b[38;5;28;01mreturn\u001b[39;00m \u001b[43m_read\u001b[49m\u001b[43m(\u001b[49m\u001b[43mfilepath_or_buffer\u001b[49m\u001b[43m,\u001b[49m\u001b[43m \u001b[49m\u001b[43mkwds\u001b[49m\u001b[43m)\u001b[49m\n",
      "File \u001b[1;32mc:\\Users\\MeetKothari\\AppData\\Local\\Programs\\Python\\Python313\\Lib\\site-packages\\pandas\\io\\parsers\\readers.py:620\u001b[0m, in \u001b[0;36m_read\u001b[1;34m(filepath_or_buffer, kwds)\u001b[0m\n\u001b[0;32m    617\u001b[0m _validate_names(kwds\u001b[38;5;241m.\u001b[39mget(\u001b[38;5;124m\"\u001b[39m\u001b[38;5;124mnames\u001b[39m\u001b[38;5;124m\"\u001b[39m, \u001b[38;5;28;01mNone\u001b[39;00m))\n\u001b[0;32m    619\u001b[0m \u001b[38;5;66;03m# Create the parser.\u001b[39;00m\n\u001b[1;32m--> 620\u001b[0m parser \u001b[38;5;241m=\u001b[39m \u001b[43mTextFileReader\u001b[49m\u001b[43m(\u001b[49m\u001b[43mfilepath_or_buffer\u001b[49m\u001b[43m,\u001b[49m\u001b[43m \u001b[49m\u001b[38;5;241;43m*\u001b[39;49m\u001b[38;5;241;43m*\u001b[39;49m\u001b[43mkwds\u001b[49m\u001b[43m)\u001b[49m\n\u001b[0;32m    622\u001b[0m \u001b[38;5;28;01mif\u001b[39;00m chunksize \u001b[38;5;129;01mor\u001b[39;00m iterator:\n\u001b[0;32m    623\u001b[0m     \u001b[38;5;28;01mreturn\u001b[39;00m parser\n",
      "File \u001b[1;32mc:\\Users\\MeetKothari\\AppData\\Local\\Programs\\Python\\Python313\\Lib\\site-packages\\pandas\\io\\parsers\\readers.py:1620\u001b[0m, in \u001b[0;36mTextFileReader.__init__\u001b[1;34m(self, f, engine, **kwds)\u001b[0m\n\u001b[0;32m   1617\u001b[0m     \u001b[38;5;28mself\u001b[39m\u001b[38;5;241m.\u001b[39moptions[\u001b[38;5;124m\"\u001b[39m\u001b[38;5;124mhas_index_names\u001b[39m\u001b[38;5;124m\"\u001b[39m] \u001b[38;5;241m=\u001b[39m kwds[\u001b[38;5;124m\"\u001b[39m\u001b[38;5;124mhas_index_names\u001b[39m\u001b[38;5;124m\"\u001b[39m]\n\u001b[0;32m   1619\u001b[0m \u001b[38;5;28mself\u001b[39m\u001b[38;5;241m.\u001b[39mhandles: IOHandles \u001b[38;5;241m|\u001b[39m \u001b[38;5;28;01mNone\u001b[39;00m \u001b[38;5;241m=\u001b[39m \u001b[38;5;28;01mNone\u001b[39;00m\n\u001b[1;32m-> 1620\u001b[0m \u001b[38;5;28mself\u001b[39m\u001b[38;5;241m.\u001b[39m_engine \u001b[38;5;241m=\u001b[39m \u001b[38;5;28;43mself\u001b[39;49m\u001b[38;5;241;43m.\u001b[39;49m\u001b[43m_make_engine\u001b[49m\u001b[43m(\u001b[49m\u001b[43mf\u001b[49m\u001b[43m,\u001b[49m\u001b[43m \u001b[49m\u001b[38;5;28;43mself\u001b[39;49m\u001b[38;5;241;43m.\u001b[39;49m\u001b[43mengine\u001b[49m\u001b[43m)\u001b[49m\n",
      "File \u001b[1;32mc:\\Users\\MeetKothari\\AppData\\Local\\Programs\\Python\\Python313\\Lib\\site-packages\\pandas\\io\\parsers\\readers.py:1898\u001b[0m, in \u001b[0;36mTextFileReader._make_engine\u001b[1;34m(self, f, engine)\u001b[0m\n\u001b[0;32m   1895\u001b[0m     \u001b[38;5;28;01mraise\u001b[39;00m \u001b[38;5;167;01mValueError\u001b[39;00m(msg)\n\u001b[0;32m   1897\u001b[0m \u001b[38;5;28;01mtry\u001b[39;00m:\n\u001b[1;32m-> 1898\u001b[0m     \u001b[38;5;28;01mreturn\u001b[39;00m \u001b[43mmapping\u001b[49m\u001b[43m[\u001b[49m\u001b[43mengine\u001b[49m\u001b[43m]\u001b[49m\u001b[43m(\u001b[49m\u001b[43mf\u001b[49m\u001b[43m,\u001b[49m\u001b[43m \u001b[49m\u001b[38;5;241;43m*\u001b[39;49m\u001b[38;5;241;43m*\u001b[39;49m\u001b[38;5;28;43mself\u001b[39;49m\u001b[38;5;241;43m.\u001b[39;49m\u001b[43moptions\u001b[49m\u001b[43m)\u001b[49m\n\u001b[0;32m   1899\u001b[0m \u001b[38;5;28;01mexcept\u001b[39;00m \u001b[38;5;167;01mException\u001b[39;00m:\n\u001b[0;32m   1900\u001b[0m     \u001b[38;5;28;01mif\u001b[39;00m \u001b[38;5;28mself\u001b[39m\u001b[38;5;241m.\u001b[39mhandles \u001b[38;5;129;01mis\u001b[39;00m \u001b[38;5;129;01mnot\u001b[39;00m \u001b[38;5;28;01mNone\u001b[39;00m:\n",
      "File \u001b[1;32mc:\\Users\\MeetKothari\\AppData\\Local\\Programs\\Python\\Python313\\Lib\\site-packages\\pandas\\io\\parsers\\c_parser_wrapper.py:93\u001b[0m, in \u001b[0;36mCParserWrapper.__init__\u001b[1;34m(self, src, **kwds)\u001b[0m\n\u001b[0;32m     90\u001b[0m \u001b[38;5;28;01mif\u001b[39;00m kwds[\u001b[38;5;124m\"\u001b[39m\u001b[38;5;124mdtype_backend\u001b[39m\u001b[38;5;124m\"\u001b[39m] \u001b[38;5;241m==\u001b[39m \u001b[38;5;124m\"\u001b[39m\u001b[38;5;124mpyarrow\u001b[39m\u001b[38;5;124m\"\u001b[39m:\n\u001b[0;32m     91\u001b[0m     \u001b[38;5;66;03m# Fail here loudly instead of in cython after reading\u001b[39;00m\n\u001b[0;32m     92\u001b[0m     import_optional_dependency(\u001b[38;5;124m\"\u001b[39m\u001b[38;5;124mpyarrow\u001b[39m\u001b[38;5;124m\"\u001b[39m)\n\u001b[1;32m---> 93\u001b[0m \u001b[38;5;28mself\u001b[39m\u001b[38;5;241m.\u001b[39m_reader \u001b[38;5;241m=\u001b[39m \u001b[43mparsers\u001b[49m\u001b[38;5;241;43m.\u001b[39;49m\u001b[43mTextReader\u001b[49m\u001b[43m(\u001b[49m\u001b[43msrc\u001b[49m\u001b[43m,\u001b[49m\u001b[43m \u001b[49m\u001b[38;5;241;43m*\u001b[39;49m\u001b[38;5;241;43m*\u001b[39;49m\u001b[43mkwds\u001b[49m\u001b[43m)\u001b[49m\n\u001b[0;32m     95\u001b[0m \u001b[38;5;28mself\u001b[39m\u001b[38;5;241m.\u001b[39munnamed_cols \u001b[38;5;241m=\u001b[39m \u001b[38;5;28mself\u001b[39m\u001b[38;5;241m.\u001b[39m_reader\u001b[38;5;241m.\u001b[39munnamed_cols\n\u001b[0;32m     97\u001b[0m \u001b[38;5;66;03m# error: Cannot determine type of 'names'\u001b[39;00m\n",
      "File \u001b[1;32mparsers.pyx:574\u001b[0m, in \u001b[0;36mpandas._libs.parsers.TextReader.__cinit__\u001b[1;34m()\u001b[0m\n",
      "File \u001b[1;32mparsers.pyx:663\u001b[0m, in \u001b[0;36mpandas._libs.parsers.TextReader._get_header\u001b[1;34m()\u001b[0m\n",
      "File \u001b[1;32mparsers.pyx:874\u001b[0m, in \u001b[0;36mpandas._libs.parsers.TextReader._tokenize_rows\u001b[1;34m()\u001b[0m\n",
      "File \u001b[1;32mparsers.pyx:891\u001b[0m, in \u001b[0;36mpandas._libs.parsers.TextReader._check_tokenize_status\u001b[1;34m()\u001b[0m\n",
      "File \u001b[1;32mparsers.pyx:2053\u001b[0m, in \u001b[0;36mpandas._libs.parsers.raise_parser_error\u001b[1;34m()\u001b[0m\n",
      "File \u001b[1;32m<frozen codecs>:325\u001b[0m, in \u001b[0;36mdecode\u001b[1;34m(self, input, final)\u001b[0m\n",
      "\u001b[1;31mUnicodeDecodeError\u001b[0m: 'utf-8' codec can't decode byte 0xe7 in position 2040: invalid continuation byte"
     ]
    }
   ],
   "source": [
    "data = pd.read_csv('./movies_metadata.csv')"
   ]
  },
  {
   "cell_type": "markdown",
   "metadata": {},
   "source": [
    "#### Mastering Pandas"
   ]
  },
  {
   "cell_type": "markdown",
   "metadata": {},
   "source": [
    "- Exercise 28:\n",
    "Calculate the rolling mean of a column."
   ]
  },
  {
   "cell_type": "code",
   "execution_count": 91,
   "metadata": {},
   "outputs": [
    {
     "name": "stdout",
     "output_type": "stream",
     "text": [
      "   X  Rolling_Mean\n",
      "0  1           NaN\n",
      "1  2           NaN\n",
      "2  3           2.0\n",
      "3  4           3.0\n",
      "4  5           4.0\n",
      "5  6           5.0\n"
     ]
    }
   ],
   "source": [
    "data = {'X': [1, 2, 3, 4, 5, 6]}\n",
    "\n",
    "df = pd.DataFrame(data)\n",
    "\n",
    "df['Rolling_Mean'] = df['X'].rolling(window=3).mean()\n",
    "print(df)"
   ]
  },
  {
   "cell_type": "markdown",
   "metadata": {},
   "source": [
    "- Exercise 100:\n",
    "Create a DataFrame and calculate the expanding sum for each group."
   ]
  },
  {
   "cell_type": "code",
   "execution_count": 92,
   "metadata": {},
   "outputs": [
    {
     "name": "stdout",
     "output_type": "stream",
     "text": [
      "     X  Y  Expanding_Sum\n",
      "0  foo  0            0.0\n",
      "1  bar  1            1.0\n",
      "2  foo  2            2.0\n",
      "3  bar  3            4.0\n",
      "4  foo  4            6.0\n",
      "5  bar  5            9.0\n",
      "6  foo  6           12.0\n",
      "7  bar  7           16.0\n",
      "8  foo  8           20.0\n",
      "9  bar  9           25.0\n"
     ]
    }
   ],
   "source": [
    "data = {'X': ['foo', 'bar', 'foo', 'bar', 'foo', 'bar', 'foo', 'bar', 'foo', 'bar'], 'Y': range(10)}\n",
    "\n",
    "df = pd.DataFrame(data)\n",
    "\n",
    "df['Expanding_Sum'] = df.groupby('X')['Y'].expanding().sum().reset_index(level=0, drop=True)\n",
    "\n",
    "print(df) \n"
   ]
  },
  {
   "cell_type": "markdown",
   "metadata": {},
   "source": [
    "#### Pandas Practice Set-1"
   ]
  },
  {
   "cell_type": "code",
   "execution_count": 94,
   "metadata": {},
   "outputs": [
    {
     "name": "stdout",
     "output_type": "stream",
     "text": [
      "   carat      cut color clarity  depth  table  price     x     y     z\n",
      "0   0.23    Ideal     E     SI2   61.5   55.0    326  3.95  3.98  2.43\n",
      "1   0.21  Premium     E     SI1   59.8   61.0    326  3.89  3.84  2.31\n",
      "2   0.23     Good     E     VS1   56.9   65.0    327  4.05  4.07  2.31\n",
      "3   0.29  Premium     I     VS2   62.4   58.0    334  4.20  4.23  2.63\n",
      "4   0.31     Good     J     SI2   63.3   58.0    335  4.34  4.35  2.75\n"
     ]
    }
   ],
   "source": [
    "import pandas as pd\n",
    "df = pd.read_csv('https://raw.githubusercontent.com/mwaskom/seaborn-data/master/diamonds.csv')\n",
    "print(df.head())"
   ]
  },
  {
   "cell_type": "markdown",
   "metadata": {},
   "source": [
    "64. Write a Pandas program to read the diamonds DataFrame and detect duplicate color."
   ]
  },
  {
   "cell_type": "code",
   "execution_count": 99,
   "metadata": {},
   "outputs": [
    {
     "name": "stdout",
     "output_type": "stream",
     "text": [
      "(53940, 10)\n",
      "53933\n"
     ]
    }
   ],
   "source": [
    "res = df['color'].duplicated().sum()\n",
    "print(df.shape)\n",
    "print(res)"
   ]
  },
  {
   "cell_type": "markdown",
   "metadata": {},
   "source": [
    "65. Write a Pandas program to count the duplicate rows of diamonds DataFrame."
   ]
  },
  {
   "cell_type": "code",
   "execution_count": 100,
   "metadata": {},
   "outputs": [
    {
     "name": "stdout",
     "output_type": "stream",
     "text": [
      "(53940, 10)\n",
      "146\n"
     ]
    }
   ],
   "source": [
    "print(df.shape)\n",
    "res = df.duplicated().sum()\n",
    "print(res)"
   ]
  }
 ],
 "metadata": {
  "kernelspec": {
   "display_name": "Python 3",
   "language": "python",
   "name": "python3"
  },
  "language_info": {
   "codemirror_mode": {
    "name": "ipython",
    "version": 3
   },
   "file_extension": ".py",
   "mimetype": "text/x-python",
   "name": "python",
   "nbconvert_exporter": "python",
   "pygments_lexer": "ipython3",
   "version": "3.13.1"
  }
 },
 "nbformat": 4,
 "nbformat_minor": 2
}
