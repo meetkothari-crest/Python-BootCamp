{
 "cells": [
  {
   "cell_type": "markdown",
   "metadata": {},
   "source": [
    "- mainloop():<br> The mainloop() method is used to run application once it is ready. It is an infinite loop that keeps the application running, waits for events to occur (such as button clicks) and processes these events as long as the window is not closed."
   ]
  },
  {
   "cell_type": "code",
   "execution_count": 2,
   "metadata": {},
   "outputs": [],
   "source": [
    "from tkinter import *"
   ]
  },
  {
   "cell_type": "markdown",
   "metadata": {},
   "source": [
    "- Label"
   ]
  },
  {
   "cell_type": "code",
   "execution_count": 30,
   "metadata": {},
   "outputs": [],
   "source": [
    "root = Tk()\n",
    "root.title('Label Widget')\n",
    "label = Label(root, \n",
    "              text='Tkinter Label',\n",
    "              bg='lightblue',\n",
    "              height=10,\n",
    "              width=50,\n",
    "              cursor='hand2',\n",
    "              )\n",
    "label.pack(pady=10)\n",
    "\n",
    "root.mainloop()"
   ]
  },
  {
   "cell_type": "markdown",
   "metadata": {},
   "source": [
    "- Button"
   ]
  },
  {
   "cell_type": "code",
   "execution_count": 37,
   "metadata": {},
   "outputs": [],
   "source": [
    "root = Tk()\n",
    "root.title('Button Widget')\n",
    "\n",
    "btn = Button(root, text='Click', command=root.destroy)\n",
    "btn.pack()\n",
    "\n",
    "root.mainloop()"
   ]
  },
  {
   "cell_type": "markdown",
   "metadata": {},
   "source": [
    "- Entry - It is used to input the single line text entry from the user. For multi-line text input, Text widget is used."
   ]
  },
  {
   "cell_type": "code",
   "execution_count": 41,
   "metadata": {},
   "outputs": [],
   "source": [
    "root = Tk()\n",
    "root.title('Entry Widget')\n",
    "\n",
    "name = Label(root, text='Name')\n",
    "name.pack()\n",
    "entry1 = Entry(root)\n",
    "entry1.pack()\n",
    "\n",
    "age = Label(root, text='Age')\n",
    "age.pack()\n",
    "entry2 = Entry(root)\n",
    "entry2.pack()\n",
    "\n",
    "lab1 = Label(root, text='')\n",
    "lab1.pack()\n",
    "\n",
    "def get_details():\n",
    "    lab1.config(text= f'Hello {entry1.get()} You are {entry2.get()} Years Old...!!')\n",
    "    \n",
    "btn = Button(root, text='Print', command=get_details)\n",
    "btn.pack()\n",
    "\n",
    "root.mainloop()"
   ]
  },
  {
   "cell_type": "code",
   "execution_count": 50,
   "metadata": {},
   "outputs": [],
   "source": [
    "root = Tk()\n",
    "root.title('Entry Widget')\n",
    "\n",
    "Label(root, text='Name').grid(row=0, column=0)\n",
    "e1 = Entry(root)\n",
    "e1.grid(row=0, column=1)\n",
    "\n",
    "Label(root, text='Age').grid(row=1, column=0)\n",
    "e2 = Entry(root)\n",
    "e2.grid(row=1, column=1)\n",
    "\n",
    "def get_details():\n",
    "    if not e1.get() and not e2.get():\n",
    "        lab1.config(text=\"Name & Age are Empty\")\n",
    "    elif e1.get() and not e2.get():\n",
    "        lab1.config(text=\"Age Can't be Empty\")\n",
    "    elif e2.get() and not e1.get():\n",
    "        lab1.config(text=\"Name Can't be Empty\")\n",
    "    elif e1.get() and e2.get():\n",
    "        lab1.config(text= f'Hello {e1.get()} You are {e2.get()} Years Old...!!')\n",
    "    else:\n",
    "        lab1.config(text='')\n",
    "\n",
    "Button(root, text='Print', command=get_details).grid(row=2, column=0, columnspan=2)\n",
    "\n",
    "lab1 = Label(root, text='')\n",
    "lab1.grid(row=5, column=1, columnspan=2)\n",
    "root.mainloop()\n"
   ]
  },
  {
   "cell_type": "markdown",
   "metadata": {},
   "source": [
    "- CheckButton"
   ]
  },
  {
   "cell_type": "code",
   "execution_count": 51,
   "metadata": {},
   "outputs": [],
   "source": [
    "root = Tk()\n",
    "root.title(\"CheckBox\")\n",
    "\n",
    "check1 = IntVar()\n",
    "check2 = IntVar()\n",
    "\n",
    "def get_value():\n",
    "    if check1.get() and check2.get():\n",
    "        label.config(text='One & Two')\n",
    "    elif check1.get():\n",
    "        label.config(text='One')\n",
    "    elif check2.get():\n",
    "        label.config(text='Two')\n",
    "    else:\n",
    "        label.config(text='Select Option')\n",
    "\n",
    "cbtn1 = Checkbutton(root, text=\"One\", variable=check1, onvalue=1, offvalue=0, command=get_value)\n",
    "cbtn2 = Checkbutton(root, text=\"Two\", variable=check2, onvalue=1, offvalue=0, command=get_value)\n",
    "\n",
    "label = Label(root, text='Select Option')\n",
    "\n",
    "cbtn1.pack()\n",
    "cbtn2.pack()\n",
    "label.pack()\n",
    "\n",
    "mainloop()"
   ]
  },
  {
   "cell_type": "markdown",
   "metadata": {},
   "source": [
    "- RadioButton"
   ]
  },
  {
   "cell_type": "code",
   "execution_count": 57,
   "metadata": {},
   "outputs": [],
   "source": [
    "root = Tk()\n",
    "root.title('RadioButton')\n",
    "\n",
    "btn_val = IntVar()\n",
    "\n",
    "rbtn1 = Radiobutton(root, text='Male', value=1, variable=btn_val)\n",
    "rbtn2 = Radiobutton(root, text='Female', value=2, variable=btn_val)\n",
    "\n",
    "rbtn1.pack(anchor=W)\n",
    "rbtn2.pack(anchor=W)\n",
    "\n",
    "mainloop()"
   ]
  },
  {
   "cell_type": "markdown",
   "metadata": {},
   "source": [
    "- Listbox - It displays a list of items from which a user can select one or more."
   ]
  },
  {
   "cell_type": "code",
   "execution_count": 63,
   "metadata": {},
   "outputs": [],
   "source": [
    "root = Tk()\n",
    "root.title('ListBox')\n",
    "\n",
    "lstb = Listbox(root, selectmode=MULTIPLE)\n",
    "lstb.insert(1, 'One')\n",
    "lstb.insert(2, 'Two')\n",
    "lstb.insert(3, 'Three')\n",
    "lstb.insert(4, 'Four')\n",
    "\n",
    "def print_listbox():\n",
    "    for i in lstb.curselection():\n",
    "        print(lstb.get(i), end=' ')\n",
    "    print()\n",
    "\n",
    "btn = Button(root, text='Print', command=print_listbox)\n",
    "\n",
    "lstb.pack()\n",
    "btn.pack()\n",
    "\n",
    "mainloop()"
   ]
  },
  {
   "cell_type": "markdown",
   "metadata": {},
   "source": [
    "- Scrollbar - It refers to the slide controller which will be used to implement listed widgets."
   ]
  },
  {
   "cell_type": "code",
   "execution_count": 73,
   "metadata": {},
   "outputs": [],
   "source": [
    "root = Tk()\n",
    "scrollbar = Scrollbar(root)\n",
    "\n",
    "scrollbar.pack(side=LEFT, fill=Y)\n",
    "mylist = Listbox(root, yscrollcommand=scrollbar.set)\n",
    "\n",
    "for line in range(100):\n",
    "    mylist.insert(END, 'This is line number' + str(line))\n",
    "    \n",
    "mylist.pack(side=LEFT, fill=BOTH)\n",
    "scrollbar.config(command=mylist.yview)\n",
    "mainloop()\n"
   ]
  },
  {
   "cell_type": "markdown",
   "metadata": {},
   "source": [
    "- Menu "
   ]
  },
  {
   "cell_type": "code",
   "execution_count": 75,
   "metadata": {},
   "outputs": [],
   "source": [
    "root = Tk()\n",
    "\n",
    "navbar = Menu(root)\n",
    "root.config(menu=navbar)\n",
    "\n",
    "file = Menu(navbar)\n",
    "navbar.add_cascade(label='File', menu=file)\n",
    "file.add_command(label='New File')\n",
    "file.add_command(label='New Window')\n",
    "file.add_separator()\n",
    "file.add_command(label='Open File')\n",
    "file.add_command(label='Open Folder')\n",
    "\n",
    "edit = Menu(navbar)\n",
    "navbar.add_cascade(label='Edit', menu=edit)\n",
    "edit.add_command(label='Undo')\n",
    "edit.add_command(label='Redo')\n",
    "edit.add_separator()\n",
    "edit.add_command(label='Cut')\n",
    "edit.add_command(label='Copy')\n",
    "edit.add_command(label='Paste')\n",
    "edit.add_separator()\n",
    "edit.add_command(label='Find')\n",
    "edit.add_command(label='Replace')\n",
    "\n",
    "mainloop()"
   ]
  },
  {
   "cell_type": "markdown",
   "metadata": {},
   "source": [
    "- Scale - It is used to provide a graphical slider that allows to select any value from that scale"
   ]
  },
  {
   "cell_type": "code",
   "execution_count": 77,
   "metadata": {},
   "outputs": [],
   "source": [
    "root = Tk()\n",
    "\n",
    "s1 = Scale(root, from_=0, to=50)\n",
    "s2 = Scale(root, from_=0, to=50, orient=HORIZONTAL)\n",
    "\n",
    "s1.pack()\n",
    "s2.pack()\n",
    "\n",
    "mainloop()"
   ]
  },
  {
   "cell_type": "markdown",
   "metadata": {},
   "source": [
    "- TopLevel - This widget is directly controlled by the window manager. It don’t need any parent window to work on"
   ]
  },
  {
   "cell_type": "code",
   "execution_count": 79,
   "metadata": {},
   "outputs": [],
   "source": [
    "root = Tk()\n",
    "root.title('Root')\n",
    "top = Toplevel()\n",
    "top.title('Top')\n",
    "top.mainloop()"
   ]
  },
  {
   "cell_type": "markdown",
   "metadata": {},
   "source": [
    "- Message - It is a widget to display text messages with word wrapping."
   ]
  },
  {
   "cell_type": "code",
   "execution_count": 83,
   "metadata": {},
   "outputs": [],
   "source": [
    "root = Tk()\n",
    "msg = Message(root, text='Hello Tkinter...')\n",
    "msg.config(bg='lightblue')\n",
    "\n",
    "msg.pack()\n",
    "mainloop()"
   ]
  },
  {
   "cell_type": "markdown",
   "metadata": {},
   "source": [
    "- MenuButton - It is a part of top-down menu which stays on the window all the time. Every menubutton has its own functionality"
   ]
  },
  {
   "cell_type": "code",
   "execution_count": 3,
   "metadata": {},
   "outputs": [],
   "source": [
    "root = Tk() \n",
    "\n",
    "menu_btn = Menubutton(root, text = \"MenuBtn\") \n",
    "menu_btn.grid() \n",
    "\n",
    "menu_btn.menu = Menu(menu_btn, tearoff = 0 ) \n",
    "menu_btn[\"menu\"] = menu_btn.menu\n",
    "\n",
    "var1 = IntVar() \n",
    "var2 = IntVar() \n",
    "\n",
    "menu_btn.menu.add_checkbutton(label ='Btn1', variable = var1) \n",
    "menu_btn.menu.add_checkbutton (label = 'Btn2', variable = var2) \n",
    "menu_btn.pack() \n",
    "\n",
    "mainloop() "
   ]
  },
  {
   "cell_type": "markdown",
   "metadata": {},
   "source": [
    "- Progressbar"
   ]
  },
  {
   "cell_type": "code",
   "execution_count": 3,
   "metadata": {},
   "outputs": [],
   "source": [
    "from tkinter import ttk\n",
    "import time\n",
    "\n",
    "root = Tk()\n",
    "\n",
    "progress = ttk.Progressbar(root, length=200, mode='determinate')\n",
    "progress.pack()\n",
    "\n",
    "def start_progress():\n",
    "    progress.start()\n",
    "    \n",
    "    for i in range(101):\n",
    "        time.sleep(0.05)\n",
    "        progress['value'] = i\n",
    "        root.update_idletasks()\n",
    "    progress.stop()\n",
    "\n",
    "btn = Button(root, text='Start', command=start_progress)\n",
    "btn.pack()\n",
    "\n",
    "root.mainloop()"
   ]
  },
  {
   "cell_type": "markdown",
   "metadata": {},
   "source": [
    "- SpinBox - It is an entry of ‘Entry’ widget. Here, value can be input by selecting a fixed value of numbers."
   ]
  },
  {
   "cell_type": "code",
   "execution_count": 4,
   "metadata": {},
   "outputs": [],
   "source": [
    "root = Tk()\n",
    "num = Spinbox(root, from_=0, to=10)\n",
    "num.pack()\n",
    "mainloop()"
   ]
  },
  {
   "cell_type": "markdown",
   "metadata": {},
   "source": [
    "- Text - To edit a multi-line text and format the way it has to be displayed."
   ]
  },
  {
   "cell_type": "code",
   "execution_count": 6,
   "metadata": {},
   "outputs": [],
   "source": [
    "root = Tk()\n",
    "\n",
    "T = Text(root)\n",
    "T.pack()\n",
    "T.insert(END, 'Line1\\nLine2\\nLine3')\n",
    "\n",
    "mainloop()"
   ]
  },
  {
   "cell_type": "markdown",
   "metadata": {},
   "source": [
    "- Canvas - It is used to draw pictures and other complex layout like graphics, text and widgets"
   ]
  },
  {
   "cell_type": "code",
   "execution_count": 4,
   "metadata": {},
   "outputs": [],
   "source": [
    "master = Tk()\n",
    "\n",
    "canvas = Canvas(master, width=40, height=60)\n",
    "\n",
    "canvas_height=20\n",
    "canvas_width=200\n",
    "\n",
    "canvas.create_rectangle(10,20,30,40)\n",
    "'''\n",
    "(x0,y0)   (x1,y0)\n",
    "----------\n",
    "-        -\n",
    "-        -\n",
    "----------\n",
    "(x0,y1)   (x1,y1)\n",
    "'''\n",
    "canvas.pack()\n",
    "mainloop()"
   ]
  },
  {
   "cell_type": "markdown",
   "metadata": {},
   "source": [
    "- grid()"
   ]
  },
  {
   "cell_type": "code",
   "execution_count": 29,
   "metadata": {},
   "outputs": [],
   "source": [
    "import tkinter as tk\n",
    "\n",
    "root = tk.Tk()\n",
    "root.title(\"Grid Example\")\n",
    "\n",
    "label1 = tk.Label(root, text=\"Label 1\")\n",
    "label2 = tk.Label(root, text=\"Label 2\")\n",
    "label3 = tk.Label(root, text=\"Label 3\")\n",
    "\n",
    "label1.grid(row=0, column=0)\n",
    "label2.grid(row=0, column=1)\n",
    "label3.grid(row=1, column=0, columnspan=2)\n",
    "\n",
    "root.mainloop()\n"
   ]
  },
  {
   "cell_type": "markdown",
   "metadata": {},
   "source": [
    "- place()"
   ]
  },
  {
   "cell_type": "code",
   "execution_count": 28,
   "metadata": {},
   "outputs": [],
   "source": [
    "root = Tk()\n",
    "root.title(\"Place Example\")\n",
    "\n",
    "label = Label(root, text=\"Label\")\n",
    "\n",
    "label.place(x=50, y=50)\n",
    "\n",
    "root.mainloop()"
   ]
  },
  {
   "cell_type": "markdown",
   "metadata": {},
   "source": [
    "#### Events and Binds in Tkinter \n",
    "- Button-1 - left mouse button\n",
    "- Button-2 - middle mouse button\n",
    "- Button-3 - right mouse button\n",
    "- Button-4 - scroll up (mouse wheel)\n",
    "- Button-5 - scroll down (mouse wheel)"
   ]
  },
  {
   "cell_type": "code",
   "execution_count": 77,
   "metadata": {},
   "outputs": [
    {
     "name": "stdout",
     "output_type": "stream",
     "text": [
      "Enter in Widget at 198, 139\n",
      "Leave from Widget at 242, 163\n",
      "Enter in Widget at 197, 107\n",
      "Mouse Left Button at 67, 83\n",
      "Button Release at 68, 83\n",
      "Leave from Widget at 184, -24\n"
     ]
    }
   ],
   "source": [
    "root = Tk()\n",
    "root.title('Event Handling')\n",
    "\n",
    "def btn1(event):\n",
    "    print(f'Mouse Left Button at {event.x}, {event.y}')\n",
    "\n",
    "def btn2(event):\n",
    "    print(f'Mouse Wheel Button at {event.x}, {event.y}')\n",
    "\n",
    "def btn3(event):\n",
    "    print(f'Mouse Right Button at {event.x}, {event.y}')\n",
    "\n",
    "def release(event):\n",
    "    print(f'Button Release at {event.x}, {event.y}')\n",
    "\n",
    "def enter(event):\n",
    "    print(f'Enter in Widget at {event.x}, {event.y}')\n",
    "\n",
    "def leave(event):\n",
    "    print(f'Leave from Widget at {event.x}, {event.y}')\n",
    "\n",
    "root.bind('<Button-1>', btn1)\n",
    "root.bind('<Button-2>', btn2)\n",
    "root.bind('<Button-3>', btn3)\n",
    "root.bind('<ButtonRelease>', release)\n",
    "root.bind('<Enter>', enter)\n",
    "root.bind('<Leave>', leave)\n",
    "\n",
    "mainloop()\n"
   ]
  },
  {
   "cell_type": "code",
   "execution_count": null,
   "metadata": {},
   "outputs": [],
   "source": [
    "import tkinter as tk\n",
    "\n",
    "def key_press(event):\n",
    "    print(f\"Key {event.keysym} pressed.\")\n",
    "\n",
    "def mouse_motion(event):\n",
    "    print(f\"Mouse moved to ({event.x}, {event.y})\")\n",
    "\n",
    "root = Tk()\n",
    "\n",
    "root.bind(\"<KeyPress>\", key_press)\n",
    "root.bind(\"<Motion>\", mouse_motion)\n",
    "\n",
    "mainloop()"
   ]
  },
  {
   "cell_type": "markdown",
   "metadata": {},
   "source": [
    "- PhotoImage"
   ]
  },
  {
   "cell_type": "code",
   "execution_count": 76,
   "metadata": {},
   "outputs": [],
   "source": [
    "from tkinter import *\n",
    "\n",
    "parent = tk.Tk()\n",
    "parent.title(\"Image in Tkinter\")\n",
    "\n",
    "image = PhotoImage(file=\"./download.png\")\n",
    "\n",
    "image_label = tk.Label(image=image)\n",
    "image_label.pack()\n",
    "\n",
    "parent.mainloop()\n"
   ]
  },
  {
   "cell_type": "markdown",
   "metadata": {},
   "source": [
    "- Notebook Widget"
   ]
  },
  {
   "cell_type": "code",
   "execution_count": 103,
   "metadata": {},
   "outputs": [],
   "source": [
    "import tkinter as tk\n",
    "from tkinter import ttk\n",
    "\n",
    "def create_tab1(tab):\n",
    "    label = ttk.Label(tab, text=\"Java Exercises\")\n",
    "    label.pack(padx=20, pady=20)\n",
    "\n",
    "def create_tab2(tab):\n",
    "    label = ttk.Label(tab, text=\"Python Exercises\")\n",
    "    label.pack(padx=20, pady=20)\n",
    "\n",
    "def create_tab3(tab):\n",
    "    label = ttk.Label(tab, text=\"C++ Exercises\")\n",
    "    label.pack(padx=20, pady=20)\n",
    "\n",
    "\n",
    "parent = tk.Tk()\n",
    "parent.title(\"Tabbed Interface\")\n",
    "notebook = ttk.Notebook(parent)\n",
    "\n",
    "\n",
    "tab1 = ttk.Frame(notebook)\n",
    "tab2 = ttk.Frame(notebook)\n",
    "tab3 = ttk.Frame(notebook)    \n",
    "\n",
    "notebook.add(tab1, text=\"Java\")\n",
    "notebook.add(tab2, text=\"Python\")\n",
    "notebook.add(tab3, text=\"C++\")\n",
    "\n",
    "create_tab1(tab1)\n",
    "create_tab2(tab2)\n",
    "create_tab3(tab3)\n",
    "\n",
    "notebook.pack(padx=10, pady=10, fill=\"both\", expand=True)\n",
    "\n",
    "parent.mainloop()\n"
   ]
  },
  {
   "cell_type": "markdown",
   "metadata": {},
   "source": [
    "- Treeview"
   ]
  },
  {
   "cell_type": "code",
   "execution_count": 104,
   "metadata": {},
   "outputs": [],
   "source": [
    "import tkinter as tk\n",
    "from tkinter import ttk\n",
    "\n",
    "def add_child_item():\n",
    "    selected_item = tree.selection()\n",
    "    if selected_item:\n",
    "        parent_item = selected_item[0]\n",
    "        tree.insert(parent_item, \"end\", text=\"Child\")\n",
    "\n",
    "def add_sibling_item():\n",
    "    selected_item = tree.selection()\n",
    "    if selected_item:\n",
    "        parent_item = tree.parent(selected_item[0])\n",
    "        tree.insert(parent_item, \"end\", text=\"Sibling\")\n",
    "\n",
    "def delete_item():\n",
    "    selected_item = tree.selection()\n",
    "    if selected_item:\n",
    "        tree.delete(selected_item)\n",
    "\n",
    "parent = tk.Tk()\n",
    "parent.title(\"Treeview Example\")\n",
    "\n",
    "tree = ttk.Treeview(parent)\n",
    "tree.pack(padx=10, pady=10, fill=\"both\", expand=True)\n",
    "\n",
    "parent_item = tree.insert(\"\", \"end\", text=\"parent Item\")\n",
    "\n",
    "add_child_button = tk.Button(parent, text=\"Add Child Item\", command=add_child_item)\n",
    "add_child_button.pack()\n",
    "\n",
    "add_sibling_button = tk.Button(parent, text=\"Add Sibling Item\", command=add_sibling_item)\n",
    "add_sibling_button.pack()\n",
    "\n",
    "delete_button = tk.Button(parent, text=\"Delete Item\", command=delete_item)\n",
    "delete_button.pack()\n",
    "\n",
    "parent.mainloop()\n"
   ]
  },
  {
   "cell_type": "markdown",
   "metadata": {},
   "source": [
    "- DateEntry"
   ]
  },
  {
   "cell_type": "code",
   "execution_count": 105,
   "metadata": {},
   "outputs": [],
   "source": [
    "import tkinter as tk\n",
    "from tkcalendar import DateEntry\n",
    "\n",
    "def get_selected_date():\n",
    "    selected_date = cal.get_date()\n",
    "    selected_date_label.config(text=f\"Selected Date: {selected_date}\")\n",
    "\n",
    "parent = tk.Tk()\n",
    "parent.title(\"Date Entry Example\")\n",
    "\n",
    "cal = DateEntry(parent, width=12, background=\"darkblue\", foreground=\"white\", borderwidth=2)\n",
    "cal.pack(padx=10, pady=10)\n",
    "\n",
    "get_date_button = tk.Button(parent, text=\"Get Selected Date\", command=get_selected_date)\n",
    "get_date_button.pack(pady=10)\n",
    "\n",
    "selected_date_label = tk.Label(parent, text=\"\", font=(\"Helvetica\", 12))\n",
    "selected_date_label.pack()\n",
    "parent.mainloop()\n"
   ]
  },
  {
   "cell_type": "markdown",
   "metadata": {},
   "source": [
    "- colorchooser"
   ]
  },
  {
   "cell_type": "code",
   "execution_count": 106,
   "metadata": {},
   "outputs": [],
   "source": [
    "import tkinter as tk\n",
    "from tkinter import colorchooser\n",
    "\n",
    "def choose_color():\n",
    "    color = colorchooser.askcolor(title=\"Select a Color\")\n",
    "    if color[1]:\n",
    "        selected_color_label.config(text=f\"Selected Color: {color[1]}\")\n",
    "        color_frame.config(bg=color[1])\n",
    "\n",
    "parent = tk.Tk()\n",
    "parent.title(\"Colorchooser Example\")\n",
    "\n",
    "choose_color_button = tk.Button(parent, text=\"Choose a Color\", command=choose_color)\n",
    "choose_color_button.pack(padx=20, pady=20)\n",
    "\n",
    "selected_color_label = tk.Label(parent, text=\"Selected Color:\", font=(\"Helvetica\", 10))\n",
    "selected_color_label.pack()\n",
    "\n",
    "color_frame = tk.Frame(parent, width=100, height=50)\n",
    "color_frame.pack(padx=20, pady=20)\n",
    "\n",
    "parent.mainloop()\n"
   ]
  },
  {
   "cell_type": "markdown",
   "metadata": {},
   "source": [
    "- messagebox.showinfo()"
   ]
  },
  {
   "cell_type": "code",
   "execution_count": 107,
   "metadata": {},
   "outputs": [],
   "source": [
    "import tkinter as tk\n",
    "from tkinter import messagebox\n",
    "def show_info_dialog():\n",
    "    messagebox.showinfo(\"Information\", \"This is a simple information dialog.\")\n",
    "    \n",
    "root = tk.Tk()\n",
    "root.title(\"Information Dialog Example\")\n",
    "info_button = tk.Button(root, text=\"Show Info Dialog\", command=show_info_dialog)\n",
    "info_button.pack(padx=20, pady=20)\n",
    "root.mainloop()\n"
   ]
  },
  {
   "cell_type": "markdown",
   "metadata": {},
   "source": [
    "- messagebox.askyesnocancle()"
   ]
  },
  {
   "cell_type": "code",
   "execution_count": 110,
   "metadata": {},
   "outputs": [],
   "source": [
    "import tkinter as tk\n",
    "from tkinter import messagebox\n",
    "\n",
    "def confirm_exit():\n",
    "    response = messagebox.askyesnocancel(\"Confirm Exit\", \"Want to save changes before exiting?\")\n",
    "    if response is None: # cancle\n",
    "        return\n",
    "    elif response: # Yes\n",
    "        save_changes()\n",
    "    root.destroy()\n",
    "\n",
    "def save_changes():\n",
    "    messagebox.showinfo(\"Saved\", \"Saved successfully!\")\n",
    "\n",
    "root = tk.Tk()\n",
    "root.title(\"Exit Example\")\n",
    "exit_button = tk.Button(root, text=\"Exit\", command=confirm_exit)\n",
    "exit_button.pack(padx=20, pady=20)\n",
    "root.mainloop()\n"
   ]
  },
  {
   "cell_type": "markdown",
   "metadata": {},
   "source": [
    "- Opening a file dialog for file selection"
   ]
  },
  {
   "cell_type": "code",
   "execution_count": 111,
   "metadata": {},
   "outputs": [],
   "source": [
    "import tkinter as tk\n",
    "from tkinter import filedialog\n",
    "\n",
    "def open_file_dialog():\n",
    "    file_path = filedialog.askopenfilename(title=\"Select a File\", filetypes=[(\"Text files\", \"*.txt\"), (\"All files\", \"*.*\")])\n",
    "    if file_path:\n",
    "        selected_file_label.config(text=f\"Selected File: {file_path}\")\n",
    "        process_file(file_path)\n",
    "\n",
    "def process_file(file_path):\n",
    "    try:\n",
    "        with open(file_path, 'r') as file:\n",
    "            file_contents = file.read()\n",
    "            file_text.delete('1.0', tk.END)\n",
    "            file_text.insert(tk.END, file_contents)\n",
    "    except Exception as e:\n",
    "        selected_file_label.config(text=f\"Error: {str(e)}\")\n",
    "\n",
    "root = tk.Tk()\n",
    "root.title(\"File Dialog Example\")\n",
    "\n",
    "open_button = tk.Button(root, text=\"Open File\", command=open_file_dialog)\n",
    "open_button.pack(padx=20, pady=20)\n",
    "\n",
    "selected_file_label = tk.Label(root, text=\"Selected File:\")\n",
    "selected_file_label.pack()\n",
    "\n",
    "file_text = tk.Text(root, wrap=tk.WORD, height=10, width=40)\n",
    "file_text.pack(padx=20, pady=20)\n",
    "\n",
    "root.mainloop()\n"
   ]
  },
  {
   "cell_type": "markdown",
   "metadata": {},
   "source": [
    "- simpledialog"
   ]
  },
  {
   "cell_type": "code",
   "execution_count": 113,
   "metadata": {},
   "outputs": [],
   "source": [
    "import tkinter as tk\n",
    "from tkinter import simpledialog\n",
    "\n",
    "def show_name_dialog():\n",
    "    name = simpledialog.askstring(\"Input\", \"Input your name:\")\n",
    "    if name:\n",
    "        name_label.config(text=f\"Hello, {name}!\")\n",
    "\n",
    "parent = tk.Tk()\n",
    "parent.title(\"Input Dialog Example\")\n",
    "\n",
    "get_name_button = tk.Button(parent, text=\"Get Name\", command=show_name_dialog)\n",
    "get_name_button.pack(padx=20, pady=20)\n",
    "\n",
    "name_label = tk.Label(parent, text=\"\", padx=20, pady=10)\n",
    "name_label.pack()\n",
    "\n",
    "parent.mainloop()\n"
   ]
  },
  {
   "cell_type": "markdown",
   "metadata": {},
   "source": [
    "Write a  Python program that creates a  file explorer application that displays the list of files and directories in a selected folder using Tkinter."
   ]
  },
  {
   "cell_type": "code",
   "execution_count": 114,
   "metadata": {},
   "outputs": [],
   "source": [
    "import tkinter as tk\n",
    "from tkinter import filedialog\n",
    "import os\n",
    "\n",
    "def open_folder_dialog():\n",
    "    folder_path = filedialog.askdirectory(title=\"Select a Folder\")\n",
    "    if folder_path:\n",
    "        display_folder_contents(folder_path)\n",
    "\n",
    "def display_folder_contents(folder_path):\n",
    "    try:\n",
    "        folder_contents = os.listdir(folder_path)\n",
    "        listbox.delete(0, tk.END) \n",
    "\n",
    "        for item in folder_contents:\n",
    "            listbox.insert(tk.END, item)\n",
    "\n",
    "    except Exception as e:\n",
    "        listbox.delete(0, tk.END)\n",
    "        listbox.insert(tk.END, f\"Error: {str(e)}\")\n",
    "\n",
    "parent = tk.Tk()\n",
    "parent.title(\"File Explorer\")\n",
    "\n",
    "open_button = tk.Button(parent, text=\"Open Folder\", command=open_folder_dialog)\n",
    "open_button.pack(padx=20, pady=20)\n",
    "listbox = tk.Listbox(parent, height=15, width=40)\n",
    "listbox.pack(padx=20, pady=20)\n",
    "parent.mainloop()\n"
   ]
  },
  {
   "cell_type": "code",
   "execution_count": 3,
   "metadata": {},
   "outputs": [],
   "source": [
    "import tkinter as tk\n",
    "from tkinter import filedialog\n",
    "\n",
    "def save_to_file():\n",
    "    file_path = filedialog.asksaveasfilename(defaultextension=\".txt\", filetypes=[(\"Text files\", \"*.txt\"), (\"All files\", \"*.*\")])\n",
    "    if file_path:\n",
    "        try:\n",
    "            with open(file_path, 'w') as file:\n",
    "                text_content = text_widget.get(\"1.0\", \"end-1c\")\n",
    "                file.write(text_content)\n",
    "            status_label.config(text=f\"File saved: {file_path}\")\n",
    "        except Exception as e:\n",
    "            status_label.config(text=f\"Error saving file: {str(e)}\")\n",
    "\n",
    "root = tk.Tk()\n",
    "root.title(\"Text Editor\")\n",
    "\n",
    "text_widget = tk.Text(root, wrap=tk.WORD)\n",
    "text_widget.pack(padx=20, pady=20, fill=\"both\", expand=True)\n",
    "\n",
    "save_button = tk.Button(root, text=\"Save to File\", command=save_to_file)\n",
    "save_button.pack(pady=10)\n",
    "\n",
    "status_label = tk.Label(root, text=\"\", padx=20, pady=10)\n",
    "status_label.pack()\n",
    "\n",
    "root.mainloop()\n"
   ]
  },
  {
   "cell_type": "code",
   "execution_count": null,
   "metadata": {},
   "outputs": [],
   "source": []
  }
 ],
 "metadata": {
  "kernelspec": {
   "display_name": "Python 3",
   "language": "python",
   "name": "python3"
  },
  "language_info": {
   "codemirror_mode": {
    "name": "ipython",
    "version": 3
   },
   "file_extension": ".py",
   "mimetype": "text/x-python",
   "name": "python",
   "nbconvert_exporter": "python",
   "pygments_lexer": "ipython3",
   "version": "3.13.1"
  }
 },
 "nbformat": 4,
 "nbformat_minor": 2
}
