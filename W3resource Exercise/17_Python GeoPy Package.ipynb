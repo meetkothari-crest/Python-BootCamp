{
 "cells": [
  {
   "cell_type": "code",
   "execution_count": 2,
   "metadata": {},
   "outputs": [],
   "source": [
    "from geopy.geocoders import Nominatim"
   ]
  },
  {
   "cell_type": "code",
   "execution_count": 21,
   "metadata": {},
   "outputs": [
    {
     "name": "stdout",
     "output_type": "stream",
     "text": [
      "Adajan Taluka, Surat, Gujarat, India\n"
     ]
    }
   ],
   "source": [
    "geolocator = Nominatim(user_agent='python_geopy')\n",
    "place = \"Adajan, Surat\"\n",
    "location = geolocator.geocode(place)\n",
    "\n",
    "print(location)"
   ]
  },
  {
   "cell_type": "code",
   "execution_count": 24,
   "metadata": {},
   "outputs": [
    {
     "data": {
      "text/plain": [
       "{'place_id': 228177476,\n",
       " 'licence': 'Data © OpenStreetMap contributors, ODbL 1.0. http://osm.org/copyright',\n",
       " 'osm_type': 'relation',\n",
       " 'osm_id': 10753379,\n",
       " 'lat': '21.2651204',\n",
       " 'lon': '72.84991282218647',\n",
       " 'class': 'boundary',\n",
       " 'type': 'administrative',\n",
       " 'place_rank': 12,\n",
       " 'importance': 0.2400625841153582,\n",
       " 'addresstype': 'county',\n",
       " 'name': 'Adajan Taluka',\n",
       " 'display_name': 'Adajan Taluka, Surat, Gujarat, India',\n",
       " 'boundingbox': ['21.2249017', '21.3058480', '72.7958821', '72.8989005']}"
      ]
     },
     "execution_count": 24,
     "metadata": {},
     "output_type": "execute_result"
    }
   ],
   "source": [
    "data = location.raw\n",
    "data"
   ]
  },
  {
   "cell_type": "markdown",
   "metadata": {},
   "source": [
    "1. Write a Python program to search the Street address, name from a given location information using Nominatim API and GeoPy package."
   ]
  },
  {
   "cell_type": "code",
   "execution_count": 18,
   "metadata": {},
   "outputs": [
    {
     "name": "stdout",
     "output_type": "stream",
     "text": [
      "Stanford Avenue, Bowdon, Wells County, North Dakota, United States\n"
     ]
    }
   ],
   "source": [
    "from geopy.geocoders import Nominatim\n",
    "\n",
    "geolocator = Nominatim(user_agent='TestGeopy')\n",
    "location = geolocator.geocode('27488 Stanford Avenue, North Dakota')\n",
    "\n",
    "print(location)"
   ]
  },
  {
   "cell_type": "code",
   "execution_count": 19,
   "metadata": {},
   "outputs": [
    {
     "data": {
      "text/plain": [
       "'Stanford Avenue, Bowdon, Wells County, North Dakota, United States'"
      ]
     },
     "execution_count": 19,
     "metadata": {},
     "output_type": "execute_result"
    }
   ],
   "source": [
    "location.address"
   ]
  },
  {
   "cell_type": "code",
   "execution_count": 20,
   "metadata": {},
   "outputs": [
    {
     "data": {
      "text/plain": [
       "{'place_id': 303267420,\n",
       " 'licence': 'Data © OpenStreetMap contributors, ODbL 1.0. http://osm.org/copyright',\n",
       " 'osm_type': 'way',\n",
       " 'osm_id': 9815994,\n",
       " 'lat': '47.470706',\n",
       " 'lon': '-99.704723',\n",
       " 'class': 'highway',\n",
       " 'type': 'residential',\n",
       " 'place_rank': 26,\n",
       " 'importance': 0.05335803387502858,\n",
       " 'addresstype': 'road',\n",
       " 'name': 'Stanford Avenue',\n",
       " 'display_name': 'Stanford Avenue, Bowdon, Wells County, North Dakota, United States',\n",
       " 'boundingbox': ['47.4690690', '47.4721960', '-99.7050850', '-99.7046870']}"
      ]
     },
     "execution_count": 20,
     "metadata": {},
     "output_type": "execute_result"
    }
   ],
   "source": [
    "location.raw"
   ]
  },
  {
   "cell_type": "code",
   "execution_count": null,
   "metadata": {},
   "outputs": [],
   "source": []
  }
 ],
 "metadata": {
  "kernelspec": {
   "display_name": "Python 3",
   "language": "python",
   "name": "python3"
  },
  "language_info": {
   "codemirror_mode": {
    "name": "ipython",
    "version": 3
   },
   "file_extension": ".py",
   "mimetype": "text/x-python",
   "name": "python",
   "nbconvert_exporter": "python",
   "pygments_lexer": "ipython3",
   "version": "3.13.1"
  }
 },
 "nbformat": 4,
 "nbformat_minor": 2
}
