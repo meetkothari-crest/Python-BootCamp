{
 "cells": [
  {
   "cell_type": "markdown",
   "metadata": {},
   "source": [
    "#### Pandas and NumPy for Data Analysis"
   ]
  },
  {
   "cell_type": "code",
   "execution_count": 1,
   "metadata": {},
   "outputs": [],
   "source": [
    "import pandas as pd\n",
    "import numpy as np"
   ]
  },
  {
   "cell_type": "markdown",
   "metadata": {},
   "source": [
    "2. Create a DataFrame from a NumPy array with custom column names."
   ]
  },
  {
   "cell_type": "code",
   "execution_count": 2,
   "metadata": {},
   "outputs": [
    {
     "name": "stdout",
     "output_type": "stream",
     "text": [
      "   Column1  Column2  Column3\n",
      "0        1        2        3\n",
      "1        4        5        6\n",
      "2        7        8        9\n"
     ]
    }
   ],
   "source": [
    "arr = np.array([[1, 2, 3], [4, 5, 6], [7, 8, 9]])\n",
    "col = ['Column1', 'Column2', 'Column3']\n",
    "\n",
    "df = pd.DataFrame(data=arr, columns=col)\n",
    "\n",
    "print(df)\n"
   ]
  },
  {
   "cell_type": "markdown",
   "metadata": {},
   "source": [
    "33. Aggregate data in a DataFrame by multiple functions."
   ]
  },
  {
   "cell_type": "code",
   "execution_count": 10,
   "metadata": {},
   "outputs": [
    {
     "name": "stdout",
     "output_type": "stream",
     "text": [
      "  Department Salary                 Experience\n",
      "                max    min     mean        max\n",
      "0    Finance  60000  45000  52500.0          4\n",
      "1         HR  55000  50000  52500.0          3\n",
      "2         IT  70000  60000  65000.0          7\n"
     ]
    }
   ],
   "source": [
    "data = {'Department': ['HR', 'IT', 'Finance', 'IT', 'HR', 'Finance'],\n",
    "        'Salary': [50000, 60000, 45000, 70000, 55000, 60000],\n",
    "        'Experience': [2, 5, 1, 7, 3, 4]}\n",
    "\n",
    "df = pd.DataFrame(data)\n",
    "\n",
    "agg_df = df.groupby('Department').agg(\n",
    "    {'Salary': ['max', 'min', 'mean'],\n",
    "     'Experience': 'max'\n",
    "}).reset_index()\n",
    "\n",
    "print(agg_df)\n"
   ]
  },
  {
   "cell_type": "markdown",
   "metadata": {},
   "source": [
    "34. Extract the date and time components from a DateTime column."
   ]
  },
  {
   "cell_type": "code",
   "execution_count": 11,
   "metadata": {},
   "outputs": [
    {
     "name": "stdout",
     "output_type": "stream",
     "text": [
      "             DateTime        Date      Time\n",
      "0 2012-01-01 08:30:00  2012-01-01  08:30:00\n",
      "1 2012-01-02 12:45:00  2012-01-02  12:45:00\n",
      "2 2012-01-03 18:15:00  2012-01-03  18:15:00\n"
     ]
    }
   ],
   "source": [
    "data = {'DateTime': ['2012-01-01 08:30:00', '2012-01-02 12:45:00', '2012-01-03 18:15:00']}\n",
    "df = pd.DataFrame(data)\n",
    "\n",
    "df['DateTime'] = pd.to_datetime(df['DateTime'])\n",
    "\n",
    "df['Date'] = df['DateTime'].dt.date\n",
    "df['Time'] = df['DateTime'].dt.time\n",
    "\n",
    "print(df)\n"
   ]
  },
  {
   "cell_type": "markdown",
   "metadata": {},
   "source": [
    "37. Perform a cross-tabulation between two columns in a DataFrame."
   ]
  },
  {
   "cell_type": "code",
   "execution_count": 12,
   "metadata": {},
   "outputs": [
    {
     "name": "stdout",
     "output_type": "stream",
     "text": [
      "Value     10  15  20  25  30  35  40  45  50  55\n",
      "Category                                        \n",
      "A          1   0   1   0   0   1   0   0   0   1\n",
      "B          0   1   0   1   0   0   0   0   1   0\n",
      "C          0   0   0   0   1   0   1   1   0   0\n"
     ]
    }
   ],
   "source": [
    "data = {'Category': ['A', 'B', 'A', 'B', 'C', 'A', 'C', 'C', 'B', 'A'],\n",
    "        'Value': [10, 15, 20, 25, 30, 35, 40, 45, 50, 55]}\n",
    "\n",
    "df = pd.DataFrame(data)\n",
    "cross_tab = pd.crosstab(df['Category'], df['Value'])\n",
    "\n",
    "print(cross_tab)\n"
   ]
  }
 ],
 "metadata": {
  "kernelspec": {
   "display_name": "Python 3",
   "language": "python",
   "name": "python3"
  },
  "language_info": {
   "codemirror_mode": {
    "name": "ipython",
    "version": 3
   },
   "file_extension": ".py",
   "mimetype": "text/x-python",
   "name": "python",
   "nbconvert_exporter": "python",
   "pygments_lexer": "ipython3",
   "version": "3.13.1"
  }
 },
 "nbformat": 4,
 "nbformat_minor": 2
}
