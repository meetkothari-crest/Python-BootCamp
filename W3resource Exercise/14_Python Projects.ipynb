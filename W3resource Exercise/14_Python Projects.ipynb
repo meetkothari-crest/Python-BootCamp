{
 "cells": [
  {
   "cell_type": "markdown",
   "metadata": {},
   "source": [
    "#### Python Numbers"
   ]
  },
  {
   "cell_type": "markdown",
   "metadata": {},
   "source": [
    "11. Create a Python project to perform some simple statistics on a list of values."
   ]
  },
  {
   "cell_type": "code",
   "execution_count": 8,
   "metadata": {},
   "outputs": [
    {
     "name": "stdout",
     "output_type": "stream",
     "text": [
      "Mean:  9.5\n",
      "Median:  8.5\n",
      "Mode:  6\n",
      "Sample Standard Deviation:  4.375255094603872\n",
      "Population Standard Deviation:  4.092676385936225\n",
      "Sample variance of data.:  19.142857142857142\n",
      "Population variance of data:  16.75\n"
     ]
    }
   ],
   "source": [
    "import statistics as s\n",
    "\n",
    "lst = [6, 6, 10, 15 , 9 , 8, 17, 5]\n",
    "\n",
    "print('Mean: ', s.mean(lst))\n",
    "print('Median: ', s.median(lst))\n",
    "print('Mode: ', s.mode(lst))\n",
    "print('Sample Standard Deviation: ', s.stdev(lst))\n",
    "print('Population Standard Deviation: ', s.pstdev(lst))\n",
    "print('Sample variance of data.: ', s.variance(lst))\n",
    "print('Population variance of data: ', s.pvariance(lst))"
   ]
  },
  {
   "cell_type": "markdown",
   "metadata": {},
   "source": [
    "#### Python Web Programming"
   ]
  },
  {
   "cell_type": "markdown",
   "metadata": {},
   "source": [
    "4. Create a Python project to get the current stock price of specified companies."
   ]
  },
  {
   "cell_type": "code",
   "execution_count": 25,
   "metadata": {},
   "outputs": [],
   "source": [
    "import requests\n",
    "import bs4"
   ]
  },
  {
   "cell_type": "code",
   "execution_count": 144,
   "metadata": {},
   "outputs": [],
   "source": [
    "url = 'https://finance.yahoo.com/quote/MSFT/'\n",
    "res = requests.get(url)"
   ]
  },
  {
   "cell_type": "code",
   "execution_count": 145,
   "metadata": {},
   "outputs": [],
   "source": [
    "soup = bs4.BeautifulSoup(res.text, 'lxml')"
   ]
  },
  {
   "cell_type": "code",
   "execution_count": 146,
   "metadata": {},
   "outputs": [
    {
     "data": {
      "text/plain": [
       "'Microsoft Corporation (MSFT)'"
      ]
     },
     "execution_count": 146,
     "metadata": {},
     "output_type": "execute_result"
    }
   ],
   "source": [
    "comapny_name = soup.select('.yf-xxbei9')[1].getText()\n",
    "comapny_name"
   ]
  },
  {
   "cell_type": "code",
   "execution_count": 147,
   "metadata": {},
   "outputs": [
    {
     "data": {
      "text/plain": [
       "'424.56'"
      ]
     },
     "execution_count": 147,
     "metadata": {},
     "output_type": "execute_result"
    }
   ],
   "source": [
    "soup.select('.livePrice.yf-1tejb6')[0].getText()"
   ]
  },
  {
   "cell_type": "code",
   "execution_count": 121,
   "metadata": {},
   "outputs": [],
   "source": [
    "def get_data(tickers):\n",
    "    for ticker in tickers:\n",
    "        res = requests.get(f'https://finance.yahoo.com/quote/{ticker}/')\n",
    "        soup = bs4.BeautifulSoup(res.text, 'lxml')\n",
    "        comapny_name = soup.select('.yf-xxbei9')[1].getText()\n",
    "        stock_price = soup.select('.livePrice.yf-1tejb6')[0].getText()\n",
    "        print(comapny_name, stock_price)"
   ]
  },
  {
   "cell_type": "code",
   "execution_count": 148,
   "metadata": {},
   "outputs": [
    {
     "name": "stdout",
     "output_type": "stream",
     "text": [
      "Apple Inc. (AAPL) 242.70\n",
      "Reliance Industries Limited (RELIANCE.NS) 1,219.45\n",
      "Microsoft Corporation (MSFT) 424.56\n"
     ]
    }
   ],
   "source": [
    "l = ['AAPL', 'RELIANCE.NS', 'MSFT'] \n",
    "get_data(l)"
   ]
  },
  {
   "cell_type": "markdown",
   "metadata": {},
   "source": [
    "#### 100 Python Projects for Beginners with solution."
   ]
  },
  {
   "cell_type": "markdown",
   "metadata": {},
   "source": [
    "7. Alarm Clock: Design a simple alarm clock application that allows users to set alarms."
   ]
  },
  {
   "cell_type": "code",
   "execution_count": null,
   "metadata": {},
   "outputs": [],
   "source": [
    "import datetime\n",
    "import time\n",
    "\n",
    "def alarm(wakeup_time):\n",
    "    is_running = True\n",
    "\n",
    "    while is_running:\n",
    "        curr_time = datetime.datetime.now()\n",
    "        curr_time = curr_time.strftime(\"%H:%M:%S\")\n",
    "        print('Current Time: ',curr_time)\n",
    "\n",
    "        if(curr_time == wakeup_time):\n",
    "            print(\"Wake Up!!\")\n",
    "            is_running = False\n",
    "\n",
    "        time.sleep(1)\n",
    "\n",
    "if __name__ == '__main__':\n",
    "    input_time = input(\"Enter Time (HH:MM:SS): \")\n",
    "    alarm(input_time)"
   ]
  },
  {
   "cell_type": "markdown",
   "metadata": {},
   "source": [
    "Python Projects: Novel Coronavirus (COVID-19)"
   ]
  },
  {
   "cell_type": "code",
   "execution_count": 2,
   "metadata": {},
   "outputs": [],
   "source": [
    "import pandas as pd"
   ]
  },
  {
   "cell_type": "code",
   "execution_count": 5,
   "metadata": {},
   "outputs": [
    {
     "data": {
      "text/html": [
       "<div>\n",
       "<style scoped>\n",
       "    .dataframe tbody tr th:only-of-type {\n",
       "        vertical-align: middle;\n",
       "    }\n",
       "\n",
       "    .dataframe tbody tr th {\n",
       "        vertical-align: top;\n",
       "    }\n",
       "\n",
       "    .dataframe thead th {\n",
       "        text-align: right;\n",
       "    }\n",
       "</style>\n",
       "<table border=\"1\" class=\"dataframe\">\n",
       "  <thead>\n",
       "    <tr style=\"text-align: right;\">\n",
       "      <th></th>\n",
       "      <th>FIPS</th>\n",
       "      <th>Admin2</th>\n",
       "      <th>Province_State</th>\n",
       "      <th>Country_Region</th>\n",
       "      <th>Last_Update</th>\n",
       "      <th>Lat</th>\n",
       "      <th>Long_</th>\n",
       "      <th>Confirmed</th>\n",
       "      <th>Deaths</th>\n",
       "      <th>Recovered</th>\n",
       "      <th>Active</th>\n",
       "      <th>Combined_Key</th>\n",
       "      <th>Incident_Rate</th>\n",
       "      <th>Case_Fatality_Ratio</th>\n",
       "    </tr>\n",
       "  </thead>\n",
       "  <tbody>\n",
       "    <tr>\n",
       "      <th>0</th>\n",
       "      <td>NaN</td>\n",
       "      <td>NaN</td>\n",
       "      <td>NaN</td>\n",
       "      <td>Afghanistan</td>\n",
       "      <td>2021-01-03 05:22:52</td>\n",
       "      <td>33.93911</td>\n",
       "      <td>67.709953</td>\n",
       "      <td>52586</td>\n",
       "      <td>2211</td>\n",
       "      <td>41727</td>\n",
       "      <td>8648</td>\n",
       "      <td>Afghanistan</td>\n",
       "      <td>135.084102</td>\n",
       "      <td>4.204541</td>\n",
       "    </tr>\n",
       "    <tr>\n",
       "      <th>1</th>\n",
       "      <td>NaN</td>\n",
       "      <td>NaN</td>\n",
       "      <td>NaN</td>\n",
       "      <td>Albania</td>\n",
       "      <td>2021-01-03 05:22:52</td>\n",
       "      <td>41.15330</td>\n",
       "      <td>20.168300</td>\n",
       "      <td>58991</td>\n",
       "      <td>1190</td>\n",
       "      <td>34353</td>\n",
       "      <td>23448</td>\n",
       "      <td>Albania</td>\n",
       "      <td>2049.864480</td>\n",
       "      <td>2.017257</td>\n",
       "    </tr>\n",
       "    <tr>\n",
       "      <th>2</th>\n",
       "      <td>NaN</td>\n",
       "      <td>NaN</td>\n",
       "      <td>NaN</td>\n",
       "      <td>Algeria</td>\n",
       "      <td>2021-01-03 05:22:52</td>\n",
       "      <td>28.03390</td>\n",
       "      <td>1.659600</td>\n",
       "      <td>100159</td>\n",
       "      <td>2769</td>\n",
       "      <td>67611</td>\n",
       "      <td>29779</td>\n",
       "      <td>Algeria</td>\n",
       "      <td>228.407338</td>\n",
       "      <td>2.764604</td>\n",
       "    </tr>\n",
       "    <tr>\n",
       "      <th>3</th>\n",
       "      <td>NaN</td>\n",
       "      <td>NaN</td>\n",
       "      <td>NaN</td>\n",
       "      <td>Andorra</td>\n",
       "      <td>2021-01-03 05:22:52</td>\n",
       "      <td>42.50630</td>\n",
       "      <td>1.521800</td>\n",
       "      <td>8166</td>\n",
       "      <td>84</td>\n",
       "      <td>7463</td>\n",
       "      <td>619</td>\n",
       "      <td>Andorra</td>\n",
       "      <td>10568.821588</td>\n",
       "      <td>1.028655</td>\n",
       "    </tr>\n",
       "    <tr>\n",
       "      <th>4</th>\n",
       "      <td>NaN</td>\n",
       "      <td>NaN</td>\n",
       "      <td>NaN</td>\n",
       "      <td>Angola</td>\n",
       "      <td>2021-01-03 05:22:52</td>\n",
       "      <td>-11.20270</td>\n",
       "      <td>17.873900</td>\n",
       "      <td>17608</td>\n",
       "      <td>407</td>\n",
       "      <td>11189</td>\n",
       "      <td>6012</td>\n",
       "      <td>Angola</td>\n",
       "      <td>53.574686</td>\n",
       "      <td>2.311449</td>\n",
       "    </tr>\n",
       "  </tbody>\n",
       "</table>\n",
       "</div>"
      ],
      "text/plain": [
       "   FIPS Admin2 Province_State Country_Region          Last_Update       Lat  \\\n",
       "0   NaN    NaN            NaN    Afghanistan  2021-01-03 05:22:52  33.93911   \n",
       "1   NaN    NaN            NaN        Albania  2021-01-03 05:22:52  41.15330   \n",
       "2   NaN    NaN            NaN        Algeria  2021-01-03 05:22:52  28.03390   \n",
       "3   NaN    NaN            NaN        Andorra  2021-01-03 05:22:52  42.50630   \n",
       "4   NaN    NaN            NaN         Angola  2021-01-03 05:22:52 -11.20270   \n",
       "\n",
       "       Long_  Confirmed  Deaths  Recovered  Active Combined_Key  \\\n",
       "0  67.709953      52586    2211      41727    8648  Afghanistan   \n",
       "1  20.168300      58991    1190      34353   23448      Albania   \n",
       "2   1.659600     100159    2769      67611   29779      Algeria   \n",
       "3   1.521800       8166      84       7463     619      Andorra   \n",
       "4  17.873900      17608     407      11189    6012       Angola   \n",
       "\n",
       "   Incident_Rate  Case_Fatality_Ratio  \n",
       "0     135.084102             4.204541  \n",
       "1    2049.864480             2.017257  \n",
       "2     228.407338             2.764604  \n",
       "3   10568.821588             1.028655  \n",
       "4      53.574686             2.311449  "
      ]
     },
     "execution_count": 5,
     "metadata": {},
     "output_type": "execute_result"
    }
   ],
   "source": [
    "df = pd.read_csv('./01-02-2021.csv')\n",
    "df.head()"
   ]
  },
  {
   "cell_type": "markdown",
   "metadata": {},
   "source": [
    "2. Write a Python program to get the latest number of confirmed, deaths, recovered and active cases of Novel Coronavirus (COVID-19) Country wise."
   ]
  },
  {
   "cell_type": "code",
   "execution_count": 16,
   "metadata": {},
   "outputs": [
    {
     "data": {
      "text/html": [
       "<div>\n",
       "<style scoped>\n",
       "    .dataframe tbody tr th:only-of-type {\n",
       "        vertical-align: middle;\n",
       "    }\n",
       "\n",
       "    .dataframe tbody tr th {\n",
       "        vertical-align: top;\n",
       "    }\n",
       "\n",
       "    .dataframe thead th {\n",
       "        text-align: right;\n",
       "    }\n",
       "</style>\n",
       "<table border=\"1\" class=\"dataframe\">\n",
       "  <thead>\n",
       "    <tr style=\"text-align: right;\">\n",
       "      <th></th>\n",
       "      <th>Country_Region</th>\n",
       "      <th>Confirmed</th>\n",
       "      <th>Deaths</th>\n",
       "      <th>Recovered</th>\n",
       "      <th>Active</th>\n",
       "    </tr>\n",
       "  </thead>\n",
       "  <tbody>\n",
       "    <tr>\n",
       "      <th>0</th>\n",
       "      <td>Afghanistan</td>\n",
       "      <td>52586</td>\n",
       "      <td>2211</td>\n",
       "      <td>41727</td>\n",
       "      <td>8648</td>\n",
       "    </tr>\n",
       "    <tr>\n",
       "      <th>1</th>\n",
       "      <td>Albania</td>\n",
       "      <td>58991</td>\n",
       "      <td>1190</td>\n",
       "      <td>34353</td>\n",
       "      <td>23448</td>\n",
       "    </tr>\n",
       "    <tr>\n",
       "      <th>2</th>\n",
       "      <td>Algeria</td>\n",
       "      <td>100159</td>\n",
       "      <td>2769</td>\n",
       "      <td>67611</td>\n",
       "      <td>29779</td>\n",
       "    </tr>\n",
       "    <tr>\n",
       "      <th>3</th>\n",
       "      <td>Andorra</td>\n",
       "      <td>8166</td>\n",
       "      <td>84</td>\n",
       "      <td>7463</td>\n",
       "      <td>619</td>\n",
       "    </tr>\n",
       "    <tr>\n",
       "      <th>4</th>\n",
       "      <td>Angola</td>\n",
       "      <td>17608</td>\n",
       "      <td>407</td>\n",
       "      <td>11189</td>\n",
       "      <td>6012</td>\n",
       "    </tr>\n",
       "    <tr>\n",
       "      <th>...</th>\n",
       "      <td>...</td>\n",
       "      <td>...</td>\n",
       "      <td>...</td>\n",
       "      <td>...</td>\n",
       "      <td>...</td>\n",
       "    </tr>\n",
       "    <tr>\n",
       "      <th>195</th>\n",
       "      <td>West Bank and Gaza</td>\n",
       "      <td>140287</td>\n",
       "      <td>1446</td>\n",
       "      <td>120403</td>\n",
       "      <td>18438</td>\n",
       "    </tr>\n",
       "    <tr>\n",
       "      <th>196</th>\n",
       "      <td>Winter Olympics 2022</td>\n",
       "      <td>0</td>\n",
       "      <td>0</td>\n",
       "      <td>0</td>\n",
       "      <td>0</td>\n",
       "    </tr>\n",
       "    <tr>\n",
       "      <th>197</th>\n",
       "      <td>Yemen</td>\n",
       "      <td>2101</td>\n",
       "      <td>610</td>\n",
       "      <td>1396</td>\n",
       "      <td>95</td>\n",
       "    </tr>\n",
       "    <tr>\n",
       "      <th>198</th>\n",
       "      <td>Zambia</td>\n",
       "      <td>21230</td>\n",
       "      <td>392</td>\n",
       "      <td>18942</td>\n",
       "      <td>1896</td>\n",
       "    </tr>\n",
       "    <tr>\n",
       "      <th>199</th>\n",
       "      <td>Zimbabwe</td>\n",
       "      <td>14491</td>\n",
       "      <td>377</td>\n",
       "      <td>11363</td>\n",
       "      <td>2751</td>\n",
       "    </tr>\n",
       "  </tbody>\n",
       "</table>\n",
       "<p>200 rows × 5 columns</p>\n",
       "</div>"
      ],
      "text/plain": [
       "           Country_Region  Confirmed  Deaths  Recovered  Active\n",
       "0             Afghanistan      52586    2211      41727    8648\n",
       "1                 Albania      58991    1190      34353   23448\n",
       "2                 Algeria     100159    2769      67611   29779\n",
       "3                 Andorra       8166      84       7463     619\n",
       "4                  Angola      17608     407      11189    6012\n",
       "..                    ...        ...     ...        ...     ...\n",
       "195    West Bank and Gaza     140287    1446     120403   18438\n",
       "196  Winter Olympics 2022          0       0          0       0\n",
       "197                 Yemen       2101     610       1396      95\n",
       "198                Zambia      21230     392      18942    1896\n",
       "199              Zimbabwe      14491     377      11363    2751\n",
       "\n",
       "[200 rows x 5 columns]"
      ]
     },
     "execution_count": 16,
     "metadata": {},
     "output_type": "execute_result"
    }
   ],
   "source": [
    "res = df.groupby('Country_Region')[['Confirmed', 'Deaths', 'Recovered', 'Active']].sum().reset_index()\n",
    "res"
   ]
  },
  {
   "cell_type": "code",
   "execution_count": null,
   "metadata": {},
   "outputs": [],
   "source": []
  }
 ],
 "metadata": {
  "kernelspec": {
   "display_name": "Python 3",
   "language": "python",
   "name": "python3"
  },
  "language_info": {
   "codemirror_mode": {
    "name": "ipython",
    "version": 3
   },
   "file_extension": ".py",
   "mimetype": "text/x-python",
   "name": "python",
   "nbconvert_exporter": "python",
   "pygments_lexer": "ipython3",
   "version": "3.13.1"
  }
 },
 "nbformat": 4,
 "nbformat_minor": 2
}
