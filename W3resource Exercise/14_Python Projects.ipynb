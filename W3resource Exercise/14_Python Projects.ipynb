{
 "cells": [
  {
   "cell_type": "markdown",
   "metadata": {},
   "source": [
    "#### Python Numbers"
   ]
  },
  {
   "cell_type": "markdown",
   "metadata": {},
   "source": [
    "11. Create a Python project to perform some simple statistics on a list of values."
   ]
  },
  {
   "cell_type": "code",
   "execution_count": 8,
   "metadata": {},
   "outputs": [
    {
     "name": "stdout",
     "output_type": "stream",
     "text": [
      "Mean:  9.5\n",
      "Median:  8.5\n",
      "Mode:  6\n",
      "Sample Standard Deviation:  4.375255094603872\n",
      "Population Standard Deviation:  4.092676385936225\n",
      "Sample variance of data.:  19.142857142857142\n",
      "Population variance of data:  16.75\n"
     ]
    }
   ],
   "source": [
    "import statistics as s\n",
    "\n",
    "lst = [6, 6, 10, 15 , 9 , 8, 17, 5]\n",
    "\n",
    "print('Mean: ', s.mean(lst))\n",
    "print('Median: ', s.median(lst))\n",
    "print('Mode: ', s.mode(lst))\n",
    "print('Sample Standard Deviation: ', s.stdev(lst))\n",
    "print('Population Standard Deviation: ', s.pstdev(lst))\n",
    "print('Sample variance of data.: ', s.variance(lst))\n",
    "print('Population variance of data: ', s.pvariance(lst))"
   ]
  },
  {
   "cell_type": "markdown",
   "metadata": {},
   "source": [
    "#### Python Web Programming"
   ]
  },
  {
   "cell_type": "markdown",
   "metadata": {},
   "source": [
    "4. Create a Python project to get the current stock price of specified companies."
   ]
  },
  {
   "cell_type": "code",
   "execution_count": 25,
   "metadata": {},
   "outputs": [],
   "source": [
    "import requests\n",
    "import bs4"
   ]
  },
  {
   "cell_type": "code",
   "execution_count": 144,
   "metadata": {},
   "outputs": [],
   "source": [
    "url = 'https://finance.yahoo.com/quote/MSFT/'\n",
    "res = requests.get(url)"
   ]
  },
  {
   "cell_type": "code",
   "execution_count": 145,
   "metadata": {},
   "outputs": [],
   "source": [
    "soup = bs4.BeautifulSoup(res.text, 'lxml')"
   ]
  },
  {
   "cell_type": "code",
   "execution_count": 146,
   "metadata": {},
   "outputs": [
    {
     "data": {
      "text/plain": [
       "'Microsoft Corporation (MSFT)'"
      ]
     },
     "execution_count": 146,
     "metadata": {},
     "output_type": "execute_result"
    }
   ],
   "source": [
    "comapny_name = soup.select('.yf-xxbei9')[1].getText()\n",
    "comapny_name"
   ]
  },
  {
   "cell_type": "code",
   "execution_count": 147,
   "metadata": {},
   "outputs": [
    {
     "data": {
      "text/plain": [
       "'424.56'"
      ]
     },
     "execution_count": 147,
     "metadata": {},
     "output_type": "execute_result"
    }
   ],
   "source": [
    "soup.select('.livePrice.yf-1tejb6')[0].getText()"
   ]
  },
  {
   "cell_type": "code",
   "execution_count": 121,
   "metadata": {},
   "outputs": [],
   "source": [
    "def get_data(tickers):\n",
    "    for ticker in tickers:\n",
    "        res = requests.get(f'https://finance.yahoo.com/quote/{ticker}/')\n",
    "        soup = bs4.BeautifulSoup(res.text, 'lxml')\n",
    "        comapny_name = soup.select('.yf-xxbei9')[1].getText()\n",
    "        stock_price = soup.select('.livePrice.yf-1tejb6')[0].getText()\n",
    "        print(comapny_name, stock_price)"
   ]
  },
  {
   "cell_type": "code",
   "execution_count": 148,
   "metadata": {},
   "outputs": [
    {
     "name": "stdout",
     "output_type": "stream",
     "text": [
      "Apple Inc. (AAPL) 242.70\n",
      "Reliance Industries Limited (RELIANCE.NS) 1,219.45\n",
      "Microsoft Corporation (MSFT) 424.56\n"
     ]
    }
   ],
   "source": [
    "l = ['AAPL', 'RELIANCE.NS', 'MSFT'] \n",
    "get_data(l)"
   ]
  },
  {
   "cell_type": "markdown",
   "metadata": {},
   "source": [
    "#### 100 Python Projects for Beginners with solution."
   ]
  },
  {
   "cell_type": "markdown",
   "metadata": {},
   "source": [
    "7. Alarm Clock: Design a simple alarm clock application that allows users to set alarms."
   ]
  },
  {
   "cell_type": "code",
   "execution_count": null,
   "metadata": {},
   "outputs": [],
   "source": [
    "import datetime\n",
    "import time\n",
    "\n",
    "def alarm(wakeup_time):\n",
    "    is_running = True\n",
    "\n",
    "    while is_running:\n",
    "        curr_time = datetime.datetime.now()\n",
    "        curr_time = curr_time.strftime(\"%H:%M:%S\")\n",
    "        print('Current Time: ',curr_time)\n",
    "\n",
    "        if(curr_time == wakeup_time):\n",
    "            print(\"Wake Up!!\")\n",
    "            is_running = False\n",
    "\n",
    "        time.sleep(1)\n",
    "\n",
    "if __name__ == '__main__':\n",
    "    input_time = input(\"Enter Time (HH:MM:SS): \")\n",
    "    alarm(input_time)"
   ]
  }
 ],
 "metadata": {
  "kernelspec": {
   "display_name": "Python 3",
   "language": "python",
   "name": "python3"
  },
  "language_info": {
   "codemirror_mode": {
    "name": "ipython",
    "version": 3
   },
   "file_extension": ".py",
   "mimetype": "text/x-python",
   "name": "python",
   "nbconvert_exporter": "python",
   "pygments_lexer": "ipython3",
   "version": "3.13.1"
  }
 },
 "nbformat": 4,
 "nbformat_minor": 2
}
