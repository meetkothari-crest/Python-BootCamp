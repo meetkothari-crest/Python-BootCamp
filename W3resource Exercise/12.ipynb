{
 "cells": [
  {
   "cell_type": "code",
   "execution_count": 2,
   "metadata": {},
   "outputs": [],
   "source": [
    "from tkinter import *"
   ]
  },
  {
   "cell_type": "code",
   "execution_count": null,
   "metadata": {},
   "outputs": [],
   "source": [
    "tk = Tk()\n",
    "tk.title('Python Tkinter')\n",
    "\n",
    "w = Label(tk, text='Hello Tkinter..')\n",
    "stop = Button(tk, text='STOP', width=25, command=tk.destroy)\n",
    "\n",
    "w.pack()\n",
    "stop.pack()\n",
    "\n",
    "tk.mainloop()"
   ]
  },
  {
   "cell_type": "code",
   "execution_count": 22,
   "metadata": {},
   "outputs": [],
   "source": [
    "tk = Tk()\n",
    "Label(tk, text='First Name').grid(row=0)\n",
    "Label(tk, text='Last Name').grid(row=1)\n",
    "e1 = Entry(tk)\n",
    "e2 = Entry(tk)\n",
    "e1.grid(row=0, column=1)\n",
    "e2.grid(row=1, column=1)\n",
    "mainloop()"
   ]
  },
  {
   "cell_type": "markdown",
   "metadata": {},
   "source": [
    "#### Python Tkinter Basic"
   ]
  },
  {
   "cell_type": "markdown",
   "metadata": {},
   "source": [
    "7. Write a Python program that implements event handling for button clicks using Tkinter."
   ]
  },
  {
   "cell_type": "code",
   "execution_count": 28,
   "metadata": {},
   "outputs": [],
   "source": [
    "root = tk.Tk()\n",
    "root.title(\"Button Click Event Handling\")\n",
    "\n",
    "label = tk.Label(root, text=\"Click the button\")\n",
    "label.pack()\n",
    "\n",
    "def on_button_click():\n",
    "    label.config(text=\"Button Clicked!\")\n",
    "\n",
    "button = tk.Button(root, text=\"Click Me\", command=on_button_click)\n",
    "button.pack()\n",
    "\n",
    "stop = tk.Button(root, text='Exit', command=root.destroy)\n",
    "stop.pack()\n",
    "\n",
    "root.mainloop()"
   ]
  },
  {
   "cell_type": "markdown",
   "metadata": {},
   "source": [
    "#### Python Tkinter layout management"
   ]
  },
  {
   "cell_type": "markdown",
   "metadata": {},
   "source": [
    "4. Write a Python program that develops a calculator interface with buttons for digits and operators, arranging them in a grid."
   ]
  },
  {
   "cell_type": "code",
   "execution_count": 13,
   "metadata": {},
   "outputs": [],
   "source": [
    "import tkinter as tk\n",
    "\n",
    "def update_display(value):\n",
    "    current_text = display.get()\n",
    "    new_text = current_text + value\n",
    "    display.set(new_text)\n",
    "\n",
    "def calculate_result():\n",
    "    try:\n",
    "        result = eval(display.get())\n",
    "        display.set(str(result))\n",
    "    except Exception as e:\n",
    "        display.set(\"Error\")\n",
    "\n",
    "def clear_display():\n",
    "    display.set(\"\")\n",
    "\n",
    "parent = tk.Tk()\n",
    "parent.title(\"Calculator\")\n",
    "\n",
    "display = tk.StringVar()\n",
    "display.set(\"\")\n",
    "\n",
    "display_entry = tk.Entry(parent, textvariable=display, font=(\"Arial\", 18), justify=\"right\")\n",
    "display_entry.grid(row=0, column=0, columnspan=4, padx=10, pady=10, ipadx=10, ipady=10)\n",
    "\n",
    "button_labels = [\n",
    "    '7', '8', '9', '/',\n",
    "    '4', '5', '6', '*',\n",
    "    '1', '2', '3', '-',\n",
    "    '0', '.', '=', '+',\n",
    "    'C'\n",
    "]\n",
    "\n",
    "row_val = 1\n",
    "col_val = 0\n",
    "\n",
    "for label in button_labels:\n",
    "    if label == '=':\n",
    "        tk.Button(parent, text=label, padx=20, pady=20, font=(\"Arial\", 16), command=calculate_result).grid(row=row_val, column=col_val)\n",
    "    elif label == 'C':\n",
    "        tk.Button(parent, text=label, padx=20, pady=20, font=(\"Arial\", 16), command=clear_display).grid(row=row_val, column=col_val)\n",
    "    else:\n",
    "        tk.Button(parent, text=label, padx=20, pady=20, font=(\"Arial\", 16), command=lambda l=label: update_display(l)).grid(row=row_val, column=col_val)\n",
    "    \n",
    "    col_val += 1\n",
    "    if col_val > 3:\n",
    "        col_val = 0\n",
    "        row_val += 1\n",
    "\n",
    "parent.mainloop()\n"
   ]
  },
  {
   "cell_type": "code",
   "execution_count": 20,
   "metadata": {},
   "outputs": [],
   "source": [
    "import tkinter as tk\n",
    "from tkinter import colorchooser\n",
    "\n",
    "def choose_color():\n",
    "    color = colorchooser.askcolor(title=\"Select a Color\")\n",
    "    if color[1]:\n",
    "        selected_color_label.config(text=f\"Selected Color: {color[1]}\")\n",
    "        color_frame.config(bg=color[1])\n",
    "\n",
    "parent = tk.Tk()\n",
    "parent.title(\"Colorchooser Example\")\n",
    "\n",
    "choose_color_button = tk.Button(parent, text=\"Choose a Color\", command=choose_color)\n",
    "choose_color_button.pack(padx=20, pady=20)\n",
    "\n",
    "# Create a label to display the selected color\n",
    "selected_color_label = tk.Label(parent, text=\"Selected Color:\", font=(\"Helvetica\", 10))\n",
    "selected_color_label.pack()\n",
    "\n",
    "# Create a frame to display the selected color\n",
    "color_frame = tk.Frame(parent, width=100, height=50)\n",
    "color_frame.pack(padx=20, pady=20)\n",
    "\n",
    "parent.mainloop()\n"
   ]
  },
  {
   "cell_type": "code",
   "execution_count": null,
   "metadata": {},
   "outputs": [],
   "source": []
  }
 ],
 "metadata": {
  "kernelspec": {
   "display_name": "Python 3",
   "language": "python",
   "name": "python3"
  },
  "language_info": {
   "codemirror_mode": {
    "name": "ipython",
    "version": 3
   },
   "file_extension": ".py",
   "mimetype": "text/x-python",
   "name": "python",
   "nbconvert_exporter": "python",
   "pygments_lexer": "ipython3",
   "version": "3.13.1"
  }
 },
 "nbformat": 4,
 "nbformat_minor": 2
}
