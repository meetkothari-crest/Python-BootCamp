{
 "cells": [
  {
   "cell_type": "code",
   "execution_count": null,
   "metadata": {},
   "outputs": [],
   "source": [
    "import requests\n",
    "response = requests.get(\"https://en.wikipedia.org/robots.txt\")\n",
    "\n",
    "test = response.text\n",
    "print(test)\n"
   ]
  },
  {
   "cell_type": "markdown",
   "metadata": {},
   "source": [
    "3. Write a Python program to get the number of datasets currently listed on data.gov."
   ]
  },
  {
   "cell_type": "code",
   "execution_count": 3,
   "metadata": {},
   "outputs": [],
   "source": [
    "import requests\n",
    "import bs4\n",
    "res = requests.get('https://data.gov/')\n",
    "soup = bs4.BeautifulSoup(res.text, 'lxml')"
   ]
  },
  {
   "cell_type": "code",
   "execution_count": 9,
   "metadata": {},
   "outputs": [
    {
     "name": "stdout",
     "output_type": "stream",
     "text": [
      "306,094\n"
     ]
    }
   ],
   "source": [
    "dataset = soup.select('.hero__dataset-count')\n",
    "print(dataset[0].select('span')[0].text)"
   ]
  },
  {
   "cell_type": "markdown",
   "metadata": {},
   "source": [
    "5. Write a Python program to display the name of the most recently added dataset on data.gov."
   ]
  },
  {
   "cell_type": "code",
   "execution_count": 12,
   "metadata": {},
   "outputs": [],
   "source": [
    "res = requests.get('https://catalog.data.gov/dataset/?q=&sort=metadata_created+desc&page=1')\n",
    "soup = bs4.BeautifulSoup(res.text, 'lxml')"
   ]
  },
  {
   "cell_type": "code",
   "execution_count": 21,
   "metadata": {},
   "outputs": [
    {
     "data": {
      "text/plain": [
       "'Complaint Tracking and Reporting System - All Modules'"
      ]
     },
     "execution_count": 21,
     "metadata": {},
     "output_type": "execute_result"
    }
   ],
   "source": [
    "latest = soup.select('.dataset-item.has-organization')\n",
    "latest[0].select('a')[0].text"
   ]
  },
  {
   "cell_type": "code",
   "execution_count": 23,
   "metadata": {},
   "outputs": [
    {
     "name": "stdout",
     "output_type": "stream",
     "text": [
      "Complaint Tracking and Reporting System - All Modules\n",
      "Workforce Individual Performance Record Data\n",
      "Complaint Tracking and Reporting System - OCAP Module\n",
      "EnviroAtlas - C-CAP Land Cover (2005-2011), EnviroAtlas version - Hawaii\n",
      "EnviroAtlas - Particulate Matter Concentration (PM2.5) - Days over 35 micrograms per cubic meter in 2017 for the Conterminous United States\n",
      "EnviroAtlas - Ozone Concentration - Days with 8-hour average over 80 ppb in 2017 for the Conterminous United States\n",
      "EnviroAtlas - Ozone Concentration - Days with 8-hour average over 70 ppb in 2017 for the Conterminous United States\n",
      "EnviroAtlas - C-CAP Land Cover (2010-2012), EnviroAtlas version - Puerto Rico and the US Virgin Islands\n",
      "EnviroAtlas - Particulate Matter Concentration (PM2.5) - Days over 65 micrograms per cubic meter in 2017 for the Conterminous United States\n",
      "Dataset for 'Signature Analysis of High-Throughput Transcriptomics Screening Data for Mechanistic Inference and Chemical Grouping'\n",
      "Safe Drinking Water Information System (SDWIS) Federal Reporting Services (Jan. 1, 2010 to Dec. 31, 2017)\n",
      "2024 Standard Scenarios: A U.S. Electricity Sector Outlook\n",
      "Harmonized Tariff Schedule of the United States (2024)\n",
      "HERO WEC Belt Test Data\n",
      "University of Florida\n",
      "University of Louisiana at Lafayette\n",
      "SWA_Challenges_MF_ESMFNC_ZERH\n",
      "OMI/Aura Nitrogen Dioxide (NO2) Total and Tropospheric Column 1-orbit L2 Swath 13x24 km V004 (OMNO2) at GES DISC\n",
      "ABI G17 Deep Blue L3 Monthly Aerosol Data, 1 x 1 degree grid\n",
      "Himawari-08 AHI Deep Blue Aerosol L2\n"
     ]
    }
   ],
   "source": [
    "latest_dataset = []\n",
    "for i in range(len(latest)):\n",
    "    latest_dataset.append(latest[i].select('a')[0].text)\n",
    "\n",
    "for i in latest_dataset:\n",
    "    print(i)"
   ]
  },
  {
   "cell_type": "code",
   "execution_count": null,
   "metadata": {},
   "outputs": [],
   "source": []
  }
 ],
 "metadata": {
  "kernelspec": {
   "display_name": "Python 3",
   "language": "python",
   "name": "python3"
  },
  "language_info": {
   "codemirror_mode": {
    "name": "ipython",
    "version": 3
   },
   "file_extension": ".py",
   "mimetype": "text/x-python",
   "name": "python",
   "nbconvert_exporter": "python",
   "pygments_lexer": "ipython3",
   "version": "3.13.1"
  }
 },
 "nbformat": 4,
 "nbformat_minor": 2
}
