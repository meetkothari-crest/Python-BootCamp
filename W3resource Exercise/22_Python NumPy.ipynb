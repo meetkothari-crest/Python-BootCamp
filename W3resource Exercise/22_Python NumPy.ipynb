{
 "cells": [
  {
   "cell_type": "markdown",
   "metadata": {},
   "source": [
    "#### Basic Operations and Arrays"
   ]
  },
  {
   "cell_type": "markdown",
   "metadata": {},
   "source": [
    "- Python NumPy Basic"
   ]
  },
  {
   "cell_type": "markdown",
   "metadata": {},
   "source": [
    "59. Element-Wise Multiply Two Arrays"
   ]
  },
  {
   "cell_type": "code",
   "execution_count": 139,
   "metadata": {},
   "outputs": [],
   "source": [
    "import numpy as np"
   ]
  },
  {
   "cell_type": "code",
   "execution_count": 3,
   "metadata": {},
   "outputs": [
    {
     "name": "stdout",
     "output_type": "stream",
     "text": [
      "[[10 15  8]\n",
      " [ 3 10 25]]\n"
     ]
    }
   ],
   "source": [
    "nums1 = np.array([[2, 5, 2],\n",
    "              [1, 5, 5]])\n",
    "\n",
    "nums2 = np.array([[5, 3, 4],\n",
    "              [3, 2, 5]])\n",
    "\n",
    "print(nums1 * nums2)"
   ]
  },
  {
   "cell_type": "markdown",
   "metadata": {},
   "source": [
    "- Python NumPy arrays"
   ]
  },
  {
   "cell_type": "markdown",
   "metadata": {},
   "source": [
    "205. Compute weight sum of rows where names match a condition."
   ]
  },
  {
   "cell_type": "code",
   "execution_count": 30,
   "metadata": {},
   "outputs": [
    {
     "data": {
      "text/plain": [
       "np.float64(63.0)"
      ]
     },
     "execution_count": 30,
     "metadata": {},
     "output_type": "execute_result"
    }
   ],
   "source": [
    "student = np.array([\n",
    "    ['01', 'V', 'Debby Pramod', 30.21],\n",
    "    ['02', 'V', 'Artemiy Ellie', 29.32],\n",
    "    ['03', 'V', 'Baptist Kamal', 31.00],\n",
    "    ['04', 'V', 'Lavanya Davide', 30.22],\n",
    "    ['05', 'V', 'Fulton Antwan', 30.21],\n",
    "    ['06', 'V', 'Euanthe Sandeep', 31.00],\n",
    "    ['07', 'V', 'Endzela Sanda', 32.00],\n",
    "    ['08', 'V', 'Victoire Waman', 29.21],\n",
    "    ['09', 'V', 'Briar Nur', 30.00],\n",
    "    ['10', 'V', 'Rose Lykos', 32.00]\n",
    "])\n",
    "\n",
    "res = student[np.char.startswith(student[:, 2], 'E')]\n",
    "res[:, 3].astype(float).sum()"
   ]
  },
  {
   "cell_type": "markdown",
   "metadata": {},
   "source": [
    "#### Mathematics, Linear Algebra, and Statistics"
   ]
  },
  {
   "cell_type": "markdown",
   "metadata": {},
   "source": [
    "##### Python NumPy Mathematics"
   ]
  },
  {
   "cell_type": "markdown",
   "metadata": {},
   "source": [
    "40. Write a NumPy program to compute xy, element-wise where x, y are two given arrays."
   ]
  },
  {
   "cell_type": "code",
   "execution_count": 38,
   "metadata": {},
   "outputs": [
    {
     "name": "stdout",
     "output_type": "stream",
     "text": [
      "[[ 1  4]\n",
      " [ 3 16]]\n"
     ]
    }
   ],
   "source": [
    "x = np.array([[1, 2], [3, 4]])\n",
    "y = np.array([[1, 2], [1, 2]])\n",
    "\n",
    "print(np.power(x,y))"
   ]
  },
  {
   "cell_type": "markdown",
   "metadata": {},
   "source": [
    "41. Write a NumPy program to compute an element-wise indication of the sign for all elements in a given array."
   ]
  },
  {
   "cell_type": "code",
   "execution_count": 39,
   "metadata": {},
   "outputs": [
    {
     "name": "stdout",
     "output_type": "stream",
     "text": [
      "[ 1  1  1  0 -1 -1  0  1]\n",
      "[ 1  1  1  0 -1 -1  0  1]\n"
     ]
    }
   ],
   "source": [
    "x = np.array([1, 3, 5, 0, -1, -7, 0, 5])\n",
    "print(np.sign(x))\n",
    "\n",
    "x[x > 0] = 1\n",
    "x[x < 0] = -1\n",
    "print(x)"
   ]
  },
  {
   "cell_type": "markdown",
   "metadata": {},
   "source": [
    "4. Write a NumPy program to compute the determinant of a given square array."
   ]
  },
  {
   "cell_type": "code",
   "execution_count": 40,
   "metadata": {},
   "outputs": [
    {
     "name": "stdout",
     "output_type": "stream",
     "text": [
      "2.0\n"
     ]
    }
   ],
   "source": [
    "a = np.array([[1, 0], [1, 2]])\n",
    "print(np.linalg.det(a))"
   ]
  },
  {
   "cell_type": "markdown",
   "metadata": {},
   "source": [
    "15. Write a NumPy program to compute the sum of the diagonal element of a given array."
   ]
  },
  {
   "cell_type": "code",
   "execution_count": 43,
   "metadata": {},
   "outputs": [
    {
     "name": "stdout",
     "output_type": "stream",
     "text": [
      "5\n"
     ]
    }
   ],
   "source": [
    "a = np.array([[3, 0], [1, 2]])\n",
    "print(np.trace(a))"
   ]
  },
  {
   "cell_type": "markdown",
   "metadata": {},
   "source": [
    "##### Python NumPy Statistics"
   ]
  },
  {
   "cell_type": "markdown",
   "metadata": {},
   "source": [
    "1. Write a Python program to find the maximum and minimum value of a given flattened array."
   ]
  },
  {
   "cell_type": "code",
   "execution_count": 53,
   "metadata": {},
   "outputs": [
    {
     "name": "stdout",
     "output_type": "stream",
     "text": [
      "[[1 2 3]\n",
      " [4 5 6]\n",
      " [7 8 9]]\n",
      "9\n",
      "1\n",
      "[3 6 9]\n",
      "[1 4 7]\n"
     ]
    }
   ],
   "source": [
    "arr = np.arange(1, 10).reshape(3,3)\n",
    "print(arr)\n",
    "\n",
    "print(arr.max())\n",
    "print(arr.min())\n",
    "\n",
    "print(arr.max(axis=1))\n",
    "print(arr.min(axis=1))"
   ]
  },
  {
   "cell_type": "markdown",
   "metadata": {},
   "source": [
    "7. Write a NumPy program to compute the mean, standard deviation, and variance of a given array."
   ]
  },
  {
   "cell_type": "code",
   "execution_count": 60,
   "metadata": {},
   "outputs": [
    {
     "name": "stdout",
     "output_type": "stream",
     "text": [
      "2.5\n",
      "2.5\n",
      "1.707825127659933\n",
      "2.9166666666666665\n"
     ]
    }
   ],
   "source": [
    "arr = np.arange(6)\n",
    "\n",
    "print(np.mean(arr))\n",
    "print(np.median(arr))\n",
    "print(np.std(arr))\n",
    "print(np.var(arr))"
   ]
  },
  {
   "cell_type": "markdown",
   "metadata": {},
   "source": [
    "13. Write a Python program to count number of occurrences of each value in a given array of non-negative integers."
   ]
  },
  {
   "cell_type": "code",
   "execution_count": 54,
   "metadata": {},
   "outputs": [
    {
     "name": "stdout",
     "output_type": "stream",
     "text": [
      "[1 3 2 0 1 0 1 1]\n"
     ]
    }
   ],
   "source": [
    "array1 = [0, 1, 6, 1, 4, 1, 2, 2, 7]\n",
    "\n",
    "print(np.bincount(array1))"
   ]
  },
  {
   "cell_type": "markdown",
   "metadata": {},
   "source": [
    "#### Random Numbers"
   ]
  },
  {
   "cell_type": "markdown",
   "metadata": {},
   "source": [
    "2. Write a NumPy program to generate six random integers between 10 and 30."
   ]
  },
  {
   "cell_type": "code",
   "execution_count": 129,
   "metadata": {},
   "outputs": [
    {
     "data": {
      "text/plain": [
       "array([[0.87805154, 0.58076728],\n",
       "       [0.00304339, 0.15922514],\n",
       "       [0.18434846, 0.66846677]])"
      ]
     },
     "execution_count": 129,
     "metadata": {},
     "output_type": "execute_result"
    }
   ],
   "source": [
    "np.random.rand(3,2)"
   ]
  },
  {
   "cell_type": "code",
   "execution_count": 130,
   "metadata": {},
   "outputs": [
    {
     "name": "stdout",
     "output_type": "stream",
     "text": [
      "[11 26 25 24 24 12]\n"
     ]
    }
   ],
   "source": [
    "print(np.random.randint(low=10, high=30, size=6))"
   ]
  },
  {
   "cell_type": "markdown",
   "metadata": {},
   "source": [
    "15. Write a NumPy program to find the closest value (to a given scalar) in an array."
   ]
  },
  {
   "cell_type": "code",
   "execution_count": 132,
   "metadata": {},
   "outputs": [
    {
     "name": "stdout",
     "output_type": "stream",
     "text": [
      "Target: 48.3218707450584\n",
      "Result:  48\n"
     ]
    }
   ],
   "source": [
    "arr = np.arange(50)\n",
    "target = np.random.uniform(low=0, high=50)\n",
    "print('Target:',target)\n",
    "\n",
    "np.random.shuffle(arr)\n",
    "\n",
    "index = np.abs(arr-target).argmin()\n",
    "print('Result: ',arr[index])"
   ]
  },
  {
   "cell_type": "markdown",
   "metadata": {},
   "source": [
    "#### Sorting, Searching, and Indexing"
   ]
  },
  {
   "cell_type": "markdown",
   "metadata": {},
   "source": [
    "##### Python NumPy Sorting and Searching"
   ]
  },
  {
   "cell_type": "markdown",
   "metadata": {},
   "source": [
    "1. Write a NumPy program to sort a given array of shape 2 along the first axis, last axis and on flattened array."
   ]
  },
  {
   "cell_type": "code",
   "execution_count": 133,
   "metadata": {},
   "outputs": [
    {
     "name": "stdout",
     "output_type": "stream",
     "text": [
      "Original array:\n",
      "[[4 1]\n",
      " [3 2]]\n",
      "Sort the array along the first axis:\n",
      "[[3 1]\n",
      " [4 2]]\n",
      "Sort the array along the last axis:\n",
      "[[1 4]\n",
      " [2 3]]\n",
      "Sort the flattened array:\n",
      "[1 2 3 4]\n"
     ]
    }
   ],
   "source": [
    "a = np.array([[4,1], [3,2]])\n",
    "\n",
    "print(\"Original array:\")\n",
    "print(a)\n",
    "\n",
    "print(\"Sort the array along the first axis:\")\n",
    "print(np.sort(a, axis=0))\n",
    "\n",
    "print(\"Sort the array along the last axis:\")\n",
    "print(np.sort(a))\n",
    "\n",
    "print(\"Sort the flattened array:\")\n",
    "print(np.sort(a, axis=None)) "
   ]
  },
  {
   "cell_type": "markdown",
   "metadata": {},
   "source": [
    "3. Write a NumPy program to create a structured array from given student name, height, class and their data types. Now sort by class, then height if class are equal."
   ]
  },
  {
   "cell_type": "code",
   "execution_count": 134,
   "metadata": {},
   "outputs": [
    {
     "name": "stdout",
     "output_type": "stream",
     "text": [
      "Original array:\n",
      "[(b'James', 5, 48.5 ) (b'Nail', 6, 52.5 ) (b'Paul', 5, 42.1 )\n",
      " (b'Pit', 5, 40.11)]\n",
      "Sort by class, then height if class are equal:\n",
      "[(b'Pit', 5, 40.11) (b'Paul', 5, 42.1 ) (b'James', 5, 48.5 )\n",
      " (b'Nail', 6, 52.5 )]\n"
     ]
    }
   ],
   "source": [
    "data_type = [('name', 'S15'), ('class', int), ('height', float)]\n",
    "\n",
    "students_details = [('James', 5, 48.5), ('Nail', 6, 52.5), ('Paul', 5, 42.10), ('Pit', 5, 40.11)]\n",
    "\n",
    "students = np.array(students_details, dtype=data_type)\n",
    "\n",
    "print(\"Original array:\")\n",
    "print(students)\n",
    "\n",
    "print(\"Sort by class, then height if class are equal:\")\n",
    "print(np.sort(students, order=['class', 'height'])) "
   ]
  },
  {
   "cell_type": "markdown",
   "metadata": {},
   "source": [
    "5. Write a NumPy program to get the indices of the sorted elements of a given array.\n",
    "Expected Output:"
   ]
  },
  {
   "cell_type": "code",
   "execution_count": 135,
   "metadata": {},
   "outputs": [
    {
     "name": "stdout",
     "output_type": "stream",
     "text": [
      "[1023 5202 6230 1671 1682 5241 4532]\n",
      "[0 3 4 6 1 5 2]\n"
     ]
    }
   ],
   "source": [
    "\n",
    "student_id = np.array([1023, 5202, 6230, 1671, 1682, 5241, 4532])\n",
    "\n",
    "print(student_id)\n",
    "\n",
    "i = np.argsort(student_id)\n",
    "print(i) "
   ]
  },
  {
   "cell_type": "markdown",
   "metadata": {},
   "source": [
    "8. Write a  NumPy program to sort the specified number of elements from beginning of a given array."
   ]
  },
  {
   "cell_type": "code",
   "execution_count": 138,
   "metadata": {},
   "outputs": [
    {
     "name": "stdout",
     "output_type": "stream",
     "text": [
      "Original array:\n",
      "[0.4587683  0.95842589 0.47710996 0.99651458 0.86220166 0.99233671\n",
      " 0.9611976  0.58666763 0.27417644 0.06115235]\n",
      "\n",
      "Sorted first 5 elements:\n",
      "[0.06115235 0.27417644 0.4587683  0.47710996 0.58666763 0.99233671\n",
      " 0.9611976  0.86220166 0.95842589 0.99651458]\n"
     ]
    }
   ],
   "source": [
    "nums = np.random.rand(10)\n",
    "\n",
    "print(\"Original array:\")\n",
    "print(nums)\n",
    "\n",
    "print(\"\\nSorted first 5 elements:\")\n",
    "print(nums[np.argpartition(nums, range(5))]) "
   ]
  },
  {
   "cell_type": "markdown",
   "metadata": {},
   "source": [
    "##### NumPy Advanced Indexing"
   ]
  },
  {
   "cell_type": "markdown",
   "metadata": {},
   "source": [
    "20. Write a NumPy program that creates a 2D NumPy array and uses a mask array (boolean array) for indexing to select a subset of elements that match the mask criteria"
   ]
  },
  {
   "cell_type": "code",
   "execution_count": 143,
   "metadata": {},
   "outputs": [
    {
     "name": "stdout",
     "output_type": "stream",
     "text": [
      "[[45 35 22 27 47]\n",
      " [22  7 48 43 37]\n",
      " [29 28 22  2  6]\n",
      " [26 14  2 13 17]\n",
      " [ 7 36 47 17 18]]\n"
     ]
    }
   ],
   "source": [
    "arr = np.random.randint(low=1, high=50, size=(5,5))\n",
    "print(arr)"
   ]
  },
  {
   "cell_type": "code",
   "execution_count": 146,
   "metadata": {},
   "outputs": [
    {
     "name": "stdout",
     "output_type": "stream",
     "text": [
      "[[False False  True False False]\n",
      " [ True False  True False False]\n",
      " [False  True  True  True  True]\n",
      " [ True  True  True False False]\n",
      " [False  True False False  True]]\n",
      "[22 22 48 28 22  2  6 26 14  2 36 18]\n"
     ]
    }
   ],
   "source": [
    "new_arr = arr%2 ==0\n",
    "print(new_arr)\n",
    "\n",
    "print(arr[new_arr])"
   ]
  },
  {
   "cell_type": "markdown",
   "metadata": {},
   "source": [
    "#### Datetime and String Operations"
   ]
  },
  {
   "cell_type": "markdown",
   "metadata": {},
   "source": [
    "##### Python NumPy DateTime"
   ]
  },
  {
   "cell_type": "markdown",
   "metadata": {},
   "source": [
    "1. Write a  NumPy program to display all the dates for the month of Jan, 2025."
   ]
  },
  {
   "cell_type": "code",
   "execution_count": 149,
   "metadata": {},
   "outputs": [
    {
     "data": {
      "text/plain": [
       "array(['2025-01-01', '2025-01-02', '2025-01-03', '2025-01-04',\n",
       "       '2025-01-05', '2025-01-06', '2025-01-07', '2025-01-08',\n",
       "       '2025-01-09', '2025-01-10', '2025-01-11', '2025-01-12',\n",
       "       '2025-01-13', '2025-01-14', '2025-01-15', '2025-01-16',\n",
       "       '2025-01-17', '2025-01-18', '2025-01-19', '2025-01-20',\n",
       "       '2025-01-21', '2025-01-22', '2025-01-23', '2025-01-24',\n",
       "       '2025-01-25', '2025-01-26', '2025-01-27', '2025-01-28',\n",
       "       '2025-01-29', '2025-01-30', '2025-01-31'], dtype='datetime64[D]')"
      ]
     },
     "execution_count": 149,
     "metadata": {},
     "output_type": "execute_result"
    }
   ],
   "source": [
    "np.arange('2025-01', '2025-02', dtype='datetime64[D]')"
   ]
  },
  {
   "cell_type": "markdown",
   "metadata": {},
   "source": [
    "2. Write a NumPy program to get the dates of yesterday, today and tomorrow."
   ]
  },
  {
   "cell_type": "code",
   "execution_count": 150,
   "metadata": {},
   "outputs": [
    {
     "name": "stdout",
     "output_type": "stream",
     "text": [
      "Yestraday:  2025-01-12\n",
      "Today:  2025-01-13\n",
      "Tomorrow:  2025-01-14\n"
     ]
    }
   ],
   "source": [
    "yesterday = np.datetime64('today', 'D') - np.timedelta64(1, 'D')\n",
    "print(\"Yestraday: \", yesterday)\n",
    "\n",
    "today = np.datetime64('today', 'D')\n",
    "print(\"Today: \", today)\n",
    "\n",
    "tomorrow = np.datetime64('today', 'D') + np.timedelta64(1, 'D')\n",
    "print(\"Tomorrow: \", tomorrow) "
   ]
  },
  {
   "cell_type": "markdown",
   "metadata": {},
   "source": [
    "##### Python NumPy String"
   ]
  },
  {
   "cell_type": "markdown",
   "metadata": {},
   "source": [
    "- 1. Write a NumPy program to concatenate element-wise two arrays of string."
   ]
  },
  {
   "cell_type": "code",
   "execution_count": 152,
   "metadata": {},
   "outputs": [
    {
     "data": {
      "text/plain": [
       "array(['Python Java', 'PHP C++'], dtype='<U11')"
      ]
     },
     "execution_count": 152,
     "metadata": {},
     "output_type": "execute_result"
    }
   ],
   "source": [
    "x1 = np.array(['Python', 'PHP'])\n",
    "x2 = np.array([' Java', ' C++'])\n",
    "\n",
    "x1 + x2"
   ]
  },
  {
   "cell_type": "markdown",
   "metadata": {},
   "source": [
    "22. Write a NumPy program to split a given text into lines and split the single line into array values."
   ]
  },
  {
   "cell_type": "code",
   "execution_count": 157,
   "metadata": {},
   "outputs": [
    {
     "name": "stdout",
     "output_type": "stream",
     "text": [
      "Original text:\n",
      "01\tV\tDebby Pramod\n",
      "02\tV\tArtemiy Ellie\n",
      "03\tV\tBaptist Kamal\n",
      "04\tV\tLavanya Davide\n",
      "05\tV\tFulton Antwan\n",
      "06\tV\tEuanthe Sandeep\n",
      "07\tV\tEndzela Sanda\n",
      "08\tV\tVictoire Waman\n",
      "09\tV\tBriar Nur\n",
      "10\tV\tRose Lykos\n"
     ]
    }
   ],
   "source": [
    "student = \"\"\"01\tV\tDebby Pramod\n",
    "02\tV\tArtemiy Ellie\n",
    "03\tV\tBaptist Kamal\n",
    "04\tV\tLavanya Davide\n",
    "05\tV\tFulton Antwan\n",
    "06\tV\tEuanthe Sandeep\n",
    "07\tV\tEndzela Sanda\n",
    "08\tV\tVictoire Waman\n",
    "09\tV\tBriar Nur\n",
    "10\tV\tRose Lykos\"\"\"\n",
    "\n",
    "print(\"Original text:\") \n",
    "print(student)"
   ]
  },
  {
   "cell_type": "code",
   "execution_count": 158,
   "metadata": {},
   "outputs": [
    {
     "name": "stdout",
     "output_type": "stream",
     "text": [
      "[['01' 'V' 'Debby Pramod']\n",
      " ['02' 'V' 'Artemiy Ellie']\n",
      " ['03' 'V' 'Baptist Kamal']\n",
      " ['04' 'V' 'Lavanya Davide']\n",
      " ['05' 'V' 'Fulton Antwan']\n",
      " ['06' 'V' 'Euanthe Sandeep']\n",
      " ['07' 'V' 'Endzela Sanda']\n",
      " ['08' 'V' 'Victoire Waman']\n",
      " ['09' 'V' 'Briar Nur']\n",
      " ['10' 'V' 'Rose Lykos']]\n"
     ]
    }
   ],
   "source": [
    "text_lines = [r.split('\\t') for r in student.splitlines()]\n",
    "\n",
    "result = np.array(text_lines)\n",
    "print(result) "
   ]
  },
  {
   "cell_type": "markdown",
   "metadata": {},
   "source": [
    "#### Broadcasting and Memory Layout"
   ]
  },
  {
   "cell_type": "markdown",
   "metadata": {},
   "source": [
    "20. Write a NumPy program that Multiplies each column of a 2D array x of shape (7, 3) by a 1D array y of shape (7,) using broadcasting."
   ]
  },
  {
   "cell_type": "code",
   "execution_count": 159,
   "metadata": {},
   "outputs": [],
   "source": [
    "x = np.array([[1, 2, 3],\n",
    "              [4, 5, 6],\n",
    "              [7, 8, 9],\n",
    "              [10, 11, 12],\n",
    "              [13, 14, 15],\n",
    "              [16, 17, 18],\n",
    "              [19, 20, 21]])\n",
    "\n",
    "y = np.array([1, 2, 3, 4, 5, 6, 7])"
   ]
  },
  {
   "cell_type": "code",
   "execution_count": 168,
   "metadata": {},
   "outputs": [
    {
     "data": {
      "text/plain": [
       "array([[1],\n",
       "       [2],\n",
       "       [3],\n",
       "       [4],\n",
       "       [5],\n",
       "       [6],\n",
       "       [7]])"
      ]
     },
     "execution_count": 168,
     "metadata": {},
     "output_type": "execute_result"
    }
   ],
   "source": [
    "y[:, np.newaxis]"
   ]
  },
  {
   "cell_type": "code",
   "execution_count": 169,
   "metadata": {},
   "outputs": [
    {
     "data": {
      "text/plain": [
       "array([[  1,   2,   3],\n",
       "       [  8,  10,  12],\n",
       "       [ 21,  24,  27],\n",
       "       [ 40,  44,  48],\n",
       "       [ 65,  70,  75],\n",
       "       [ 96, 102, 108],\n",
       "       [133, 140, 147]])"
      ]
     },
     "execution_count": 169,
     "metadata": {},
     "output_type": "execute_result"
    }
   ],
   "source": [
    "x * y[:, np.newaxis]"
   ]
  },
  {
   "cell_type": "markdown",
   "metadata": {},
   "source": [
    "##### NumPy Memory Layout"
   ]
  },
  {
   "cell_type": "markdown",
   "metadata": {},
   "source": [
    "3. Write a NumPy program to create a 2D array of shape (4, 4), then use ravel() to flatten it and print the result."
   ]
  },
  {
   "cell_type": "code",
   "execution_count": 175,
   "metadata": {},
   "outputs": [
    {
     "name": "stdout",
     "output_type": "stream",
     "text": [
      "[[ 1  2  3  4]\n",
      " [ 5  6  7  8]\n",
      " [ 9 10 11 12]\n",
      " [13 14 15 16]]\n",
      "[ 1  2  3  4  5  6  7  8  9 10 11 12 13 14 15 16]\n"
     ]
    }
   ],
   "source": [
    "arr = np.arange(1,17).reshape(4,4)\n",
    "print(arr)\n",
    "\n",
    "arr1 = arr.ravel()\n",
    "print(arr1)"
   ]
  },
  {
   "cell_type": "markdown",
   "metadata": {},
   "source": [
    "14. Write a NumPy program that creates a 2D array of shape (4, 5) and use flatten(order='C') and flatten(order='F'). Print both flattened arrays."
   ]
  },
  {
   "cell_type": "code",
   "execution_count": 181,
   "metadata": {},
   "outputs": [
    {
     "name": "stdout",
     "output_type": "stream",
     "text": [
      "[[ 1  2  3  4  5]\n",
      " [ 6  7  8  9 10]\n",
      " [11 12 13 14 15]\n",
      " [16 17 18 19 20]]\n",
      "[ 1  2  3  4  5  6  7  8  9 10 11 12 13 14 15 16 17 18 19 20]\n",
      "[ 1  6 11 16  2  7 12 17  3  8 13 18  4  9 14 19  5 10 15 20]\n"
     ]
    }
   ],
   "source": [
    "arr = np.arange(1,21).reshape(4,5)\n",
    "print(arr)\n",
    "\n",
    "print(arr.flatten(order='C'))\n",
    "print(arr.flatten(order='F'))"
   ]
  },
  {
   "cell_type": "markdown",
   "metadata": {},
   "source": [
    "19. Write a NumPy program that creates a 1D array of 20 elements and use reshape() to create a (4, 5) matrix. Slice a (2, 3) sub-matrix and print its strides."
   ]
  },
  {
   "cell_type": "code",
   "execution_count": 190,
   "metadata": {},
   "outputs": [
    {
     "name": "stdout",
     "output_type": "stream",
     "text": [
      "[[ 0  1  2  3  4]\n",
      " [ 5  6  7  8  9]\n",
      " [10 11 12 13 14]\n",
      " [15 16 17 18 19]]\n",
      "\n",
      " [[0 1 2]\n",
      " [5 6 7]]\n",
      "\n",
      " (40, 8)\n"
     ]
    }
   ],
   "source": [
    "arr = np.arange(20).reshape(4,5)\n",
    "\n",
    "print(arr)\n",
    "\n",
    "print('\\n', arr[:2,:3])\n",
    "print('\\n', arr[:2,:3].strides)"
   ]
  },
  {
   "cell_type": "markdown",
   "metadata": {},
   "source": [
    "#### Performance Optimization and Interoperability"
   ]
  },
  {
   "cell_type": "markdown",
   "metadata": {},
   "source": [
    "##### NumPy Performance Optimization"
   ]
  },
  {
   "cell_type": "markdown",
   "metadata": {},
   "source": [
    "20. Write a NumPy program that creates a large NumPy array and write a function to reverse its elements using a for loop. Optimize it using NumPy's slicing operations."
   ]
  },
  {
   "cell_type": "code",
   "execution_count": 203,
   "metadata": {},
   "outputs": [
    {
     "name": "stdout",
     "output_type": "stream",
     "text": [
      "[6061 7079 4028 ... 4554 3310 5019]\n",
      "Loop:  0.014192581176757812\n",
      "[5019 3310 4554 ... 4028 7079 6061]\n",
      "Slicing:  0.00060272216796875\n"
     ]
    }
   ],
   "source": [
    "import time\n",
    "arr = np.random.randint(1,10000,size=10000)\n",
    "print(arr)\n",
    "\n",
    "t1 = time.time()\n",
    "rev_arr = np.empty_like(arr)\n",
    "for i in range(len(arr)):\n",
    "    rev_arr[i] = arr[len(arr) - i - 1]\n",
    "print('Loop: ',time.time() - t1)\n",
    "\n",
    "t2 = time.time()\n",
    "print(arr[::-1])\n",
    "print('Slicing: ',time.time()-t2)\n"
   ]
  },
  {
   "cell_type": "markdown",
   "metadata": {},
   "source": [
    "##### NumPy Interoperability"
   ]
  },
  {
   "cell_type": "markdown",
   "metadata": {},
   "source": [
    "20. Write a NumPy program to append a NumPy array to a Python list and print the result."
   ]
  },
  {
   "cell_type": "code",
   "execution_count": 204,
   "metadata": {},
   "outputs": [
    {
     "name": "stdout",
     "output_type": "stream",
     "text": [
      "Original Python list: [1, 2, 3]\n",
      "<class 'list'>\n",
      "\n",
      "Original NumPy list: [4 5 6]\n",
      "<class 'numpy.ndarray'>\n",
      "\n",
      "Combined list:\n",
      "[1, 2, 3, 4, 5, 6]\n",
      "<class 'list'>\n"
     ]
    }
   ],
   "source": [
    "python_list = [1, 2, 3]\n",
    "print(\"Original Python list:\",python_list)\n",
    "print(type(python_list))\n",
    "\n",
    "numpy_array = np.array([4, 5, 6])\n",
    "print(\"\\nOriginal NumPy list:\",numpy_array)\n",
    "print(type(numpy_array))\n",
    "\n",
    "combined_list = python_list + numpy_array.tolist()\n",
    "print(\"\\nCombined list:\")\n",
    "print(combined_list)\n",
    "print(type(combined_list))"
   ]
  },
  {
   "cell_type": "markdown",
   "metadata": {},
   "source": [
    "#### Input/Output (I/O) Operations"
   ]
  },
  {
   "cell_type": "markdown",
   "metadata": {},
   "source": [
    "2. Write a NumPy array with both numeric and string data to a CSV file."
   ]
  },
  {
   "cell_type": "code",
   "execution_count": 205,
   "metadata": {},
   "outputs": [],
   "source": [
    "data_array = np.array([\n",
    "    [1, 'Jorah Liina', 95.5],\n",
    "    [2, 'Basil Aisha', 90.0],\n",
    "    [3, 'Helga Myrthe', 80.0],\n",
    "    [4, 'Lehi Piero', 91.5]\n",
    "], dtype=object)"
   ]
  },
  {
   "cell_type": "code",
   "execution_count": 206,
   "metadata": {},
   "outputs": [],
   "source": [
    "import csv\n",
    "\n",
    "with open('./numpy_data.csv', 'w') as f:\n",
    "    writer = csv.writer(f)\n",
    "    for i in data_array:\n",
    "        writer.writerow(i)"
   ]
  },
  {
   "cell_type": "code",
   "execution_count": 211,
   "metadata": {},
   "outputs": [
    {
     "data": {
      "text/plain": [
       "array([['1', 'Jorah Liina', '95.5'],\n",
       "       ['2', 'Basil Aisha', '90.0'],\n",
       "       ['3', 'Helga Myrthe', '80.0'],\n",
       "       ['4', 'Lehi Piero', '91.5']], dtype='<U12')"
      ]
     },
     "execution_count": 211,
     "metadata": {},
     "output_type": "execute_result"
    }
   ],
   "source": [
    "from_csv_to_numpy = np.genfromtxt('./numpy_data.csv', delimiter=',', dtype=str)\n",
    "from_csv_to_numpy"
   ]
  },
  {
   "cell_type": "markdown",
   "metadata": {},
   "source": [
    "#### Functions and Masked Arrays"
   ]
  },
  {
   "cell_type": "markdown",
   "metadata": {},
   "source": [
    "6. Write a NumPy program that uses the np.where ufunc to create a new array from two existing arrays based on a condition applied to a third array."
   ]
  },
  {
   "cell_type": "code",
   "execution_count": 216,
   "metadata": {},
   "outputs": [
    {
     "name": "stdout",
     "output_type": "stream",
     "text": [
      "Array 1:\n",
      " [1 2 3 4 5]\n",
      "Array 2:\n",
      " [10 20 30 40 50]\n",
      "Condition array:\n",
      " [ True False  True False  True]\n",
      "Resulting array using np.where:\n",
      " [ 1 20  3 40  5]\n"
     ]
    }
   ],
   "source": [
    "array_1 = np.array([1, 2, 3, 4, 5])\n",
    "array_2 = np.array([10, 20, 30, 40, 50])\n",
    "condition_array = np.array([True, False, True, False, True])\n",
    "\n",
    "result_array = np.where(condition_array, array_1, array_2)\n",
    "\n",
    "print('Array 1:\\n', array_1)\n",
    "print('Array 2:\\n', array_2)\n",
    "print('Condition array:\\n', condition_array)\n",
    "print('Resulting array using np.where:\\n', result_array)"
   ]
  },
  {
   "cell_type": "markdown",
   "metadata": {},
   "source": [
    "7. Write a NumPy program that creates a custom ufunc that computes x^2 + 2x + 1 for each element in a NumPy array."
   ]
  },
  {
   "cell_type": "code",
   "execution_count": 221,
   "metadata": {},
   "outputs": [
    {
     "name": "stdout",
     "output_type": "stream",
     "text": [
      "Original 1D array: [1 2 3 4 5]\n",
      "Result:  [4 9 16 25 36]\n"
     ]
    }
   ],
   "source": [
    "def compute_expression(x):\n",
    "    return x**2 + 2*x + 1\n",
    "\n",
    "compute_ufunc = np.frompyfunc(compute_expression, 1, 1)\n",
    "\n",
    "array_1d = np.array([1, 2, 3, 4, 5])\n",
    "\n",
    "result_array = compute_ufunc(array_1d)\n",
    "\n",
    "print('Original 1D array:', array_1d)\n",
    "print('Result: ', result_array)"
   ]
  },
  {
   "cell_type": "markdown",
   "metadata": {},
   "source": [
    "17. Write a NumPy program that creates an array with NaN values and uses np.nan_to_num to replace NaN with a specified number."
   ]
  },
  {
   "cell_type": "code",
   "execution_count": 224,
   "metadata": {},
   "outputs": [
    {
     "name": "stdout",
     "output_type": "stream",
     "text": [
      "[10. 20. nan 30. nan]\n",
      "[ 10.  20. 111.  30. 111.]\n"
     ]
    }
   ],
   "source": [
    "arr = np.array([10, 20, np.nan, 30, np.nan])\n",
    "print(arr)\n",
    "\n",
    "res = np.nan_to_num(arr, nan=111)\n",
    "print(res)"
   ]
  },
  {
   "cell_type": "markdown",
   "metadata": {},
   "source": [
    "##### NumPy Masked Arrays"
   ]
  },
  {
   "cell_type": "markdown",
   "metadata": {},
   "source": [
    "20. Write a NumPy program that creates a masked array and checks if any masked elements are present."
   ]
  },
  {
   "cell_type": "code",
   "execution_count": 235,
   "metadata": {},
   "outputs": [
    {
     "name": "stdout",
     "output_type": "stream",
     "text": [
      "[[47 41 43]\n",
      " [ 9 28 19]\n",
      " [11 24 49]]\n",
      "[[-- -- --]\n",
      " [9 -- 19]\n",
      " [11 -- --]]\n",
      "True\n"
     ]
    }
   ],
   "source": [
    "arr = np.random.randint(low=1, high=50, size=(3,3))\n",
    "print(arr)\n",
    "\n",
    "cond = arr > 20\n",
    "\n",
    "new_arr = np.ma.masked_array(arr, mask=cond)\n",
    "print(new_arr)\n",
    "\n",
    "has_ele = new_arr.mask.any()\n",
    "\n",
    "print(has_ele)"
   ]
  },
  {
   "cell_type": "markdown",
   "metadata": {},
   "source": [
    "### Structured Arrays and SciPy Integration"
   ]
  },
  {
   "cell_type": "markdown",
   "metadata": {},
   "source": [
    "##### NumPy Structured Arrays"
   ]
  },
  {
   "cell_type": "markdown",
   "metadata": {},
   "source": [
    "1. Write a NumPy program that creates a structured array with fields for 'name' (string), 'age' (integer), and 'height' (float). Populate it with sample data for five individuals."
   ]
  },
  {
   "cell_type": "code",
   "execution_count": 241,
   "metadata": {},
   "outputs": [
    {
     "name": "stdout",
     "output_type": "stream",
     "text": [
      "[('Meet', 20) ('Jay', 21) ('Person1',  5) ('Person2', 10) ('Person3', 15)]\n"
     ]
    }
   ],
   "source": [
    "dtypes = [('name', 'U10'), ('age', 'i4')]\n",
    "\n",
    "arr = np.array([\n",
    "    ('Meet', 20),\n",
    "    ('Jay', 21),\n",
    "    ('Person1', 5),\n",
    "    ('Person2', 10),\n",
    "    ('Person3', 15),\n",
    "], dtype=dtypes)\n",
    "\n",
    "print(arr)"
   ]
  },
  {
   "cell_type": "markdown",
   "metadata": {},
   "source": [
    "2. Write a NumPy program that accesses and prints all values of the 'Name' field from the structured array created in exercise."
   ]
  },
  {
   "cell_type": "code",
   "execution_count": 242,
   "metadata": {},
   "outputs": [
    {
     "name": "stdout",
     "output_type": "stream",
     "text": [
      "['Meet' 'Jay' 'Person1' 'Person2' 'Person3']\n"
     ]
    }
   ],
   "source": [
    "names = arr['name']\n",
    "print(names)"
   ]
  },
  {
   "cell_type": "markdown",
   "metadata": {},
   "source": [
    "6. Write a NumPy program that sorts the structured array created with fields for 'name' (string), 'age' (integer), and 'height' (float), by the 'age' field in ascending order and prints the sorted array."
   ]
  },
  {
   "cell_type": "code",
   "execution_count": 248,
   "metadata": {},
   "outputs": [
    {
     "name": "stdout",
     "output_type": "stream",
     "text": [
      "[('Person1',  5) ('Person2', 10) ('Person3', 15) ('Meet', 20) ('Jay', 21)]\n"
     ]
    }
   ],
   "source": [
    "sorted_arr = np.sort(arr, order='age')\n",
    "print(sorted_arr)"
   ]
  },
  {
   "cell_type": "markdown",
   "metadata": {},
   "source": [
    "##### NumPy Integration with SciPy"
   ]
  },
  {
   "cell_type": "markdown",
   "metadata": {},
   "source": [
    "1. Write a NumPy program that creates a NumPy array of random numbers and uses SciPy to compute the statistical properties (mean, median, variance) of the array."
   ]
  },
  {
   "cell_type": "code",
   "execution_count": 263,
   "metadata": {},
   "outputs": [
    {
     "name": "stdout",
     "output_type": "stream",
     "text": [
      "0.5200833279546222\n",
      "0.5200833279546222\n",
      "0.5113605610543159\n",
      "0.08371422948099916\n"
     ]
    }
   ],
   "source": [
    "from scipy import stats\n",
    "\n",
    "data = np.random.rand(10)\n",
    "\n",
    "print(data.mean())\n",
    "print(stats.tmean(data))\n",
    "print(np.median(data))\n",
    "print(stats.tvar(data))"
   ]
  },
  {
   "cell_type": "markdown",
   "metadata": {},
   "source": [
    "### Advanced Topics and Mastery"
   ]
  },
  {
   "cell_type": "markdown",
   "metadata": {},
   "source": [
    "#### Advanced NumPy"
   ]
  },
  {
   "cell_type": "markdown",
   "metadata": {},
   "source": [
    "3. Write a NumPy program to create a 4x4 array with random values and find the sum of each row."
   ]
  },
  {
   "cell_type": "code",
   "execution_count": 275,
   "metadata": {},
   "outputs": [
    {
     "name": "stdout",
     "output_type": "stream",
     "text": [
      "[[7 6 9 7]\n",
      " [8 1 4 2]\n",
      " [3 6 5 3]\n",
      " [4 5 8 4]]\n",
      "[29 15 17 21]\n"
     ]
    }
   ],
   "source": [
    "arr = np.random.randint(1,10,(4,4))\n",
    "print(arr)\n",
    "\n",
    "print(np.sum(arr, axis=1))"
   ]
  },
  {
   "cell_type": "markdown",
   "metadata": {},
   "source": [
    "9. Write a NumPy program to create a 5x5 array with random values and sort each row"
   ]
  },
  {
   "cell_type": "code",
   "execution_count": 276,
   "metadata": {},
   "outputs": [
    {
     "name": "stdout",
     "output_type": "stream",
     "text": [
      "[[7 6 9 7]\n",
      " [8 1 4 2]\n",
      " [3 6 5 3]\n",
      " [4 5 8 4]]\n",
      "\n",
      " [[6 7 7 9]\n",
      " [1 2 4 8]\n",
      " [3 3 5 6]\n",
      " [4 4 5 8]]\n"
     ]
    }
   ],
   "source": [
    "print(arr)\n",
    "row_sort = np.sort(arr, axis=1)\n",
    "print('\\n',row_sort)"
   ]
  },
  {
   "cell_type": "markdown",
   "metadata": {},
   "source": [
    "11. Write a NumPy program to create a 5x5 array with random values and find the second-largest value in each row."
   ]
  },
  {
   "cell_type": "code",
   "execution_count": 277,
   "metadata": {},
   "outputs": [
    {
     "name": "stdout",
     "output_type": "stream",
     "text": [
      "[[7 6 9 7]\n",
      " [8 1 4 2]\n",
      " [3 6 5 3]\n",
      " [4 5 8 4]]\n",
      "[7 4 5 5]\n"
     ]
    }
   ],
   "source": [
    "print(arr)\n",
    "\n",
    "second_largest = np.partition(arr, -2, axis=1)[:,-2]\n",
    "\n",
    "print(second_largest)"
   ]
  },
  {
   "cell_type": "markdown",
   "metadata": {},
   "source": [
    "32. Write a NumPy program to create a 4x4 array with random values and shift all elements one position downwards."
   ]
  },
  {
   "cell_type": "code",
   "execution_count": 284,
   "metadata": {},
   "outputs": [
    {
     "name": "stdout",
     "output_type": "stream",
     "text": [
      "[[7 6 9 7]\n",
      " [8 1 4 2]\n",
      " [3 6 5 3]\n",
      " [4 5 8 4]] \n",
      "\n",
      "[[4 5 8 4]\n",
      " [7 6 9 7]\n",
      " [8 1 4 2]\n",
      " [3 6 5 3]]\n"
     ]
    }
   ],
   "source": [
    "print(arr,'\\n')\n",
    "\n",
    "shifted_arr = np.roll(arr, shift=1, axis=0)\n",
    "print(shifted_arr)"
   ]
  },
  {
   "cell_type": "markdown",
   "metadata": {},
   "source": [
    "#### Mastering NumPy"
   ]
  },
  {
   "cell_type": "markdown",
   "metadata": {},
   "source": [
    "100. Create a 2D array with random integers and replace all values greater than a certain threshold with that threshold."
   ]
  },
  {
   "cell_type": "code",
   "execution_count": 286,
   "metadata": {},
   "outputs": [
    {
     "name": "stdout",
     "output_type": "stream",
     "text": [
      "[[ 6 76 25 88 18]\n",
      " [39 83 56 43 90]\n",
      " [58 96 58 63  4]\n",
      " [57 50 67 91 97]\n",
      " [64 46 50 32 54]] \n",
      "\n",
      "[[ 6 50 25 50 18]\n",
      " [39 50 50 43 50]\n",
      " [50 50 50 50  4]\n",
      " [50 50 50 50 50]\n",
      " [50 46 50 32 50]]\n"
     ]
    }
   ],
   "source": [
    "arr = np.random.randint(1,100,(5,5))\n",
    "print(arr, '\\n')\n",
    "\n",
    "th = 50\n",
    "\n",
    "arr[arr > th] = th\n",
    "print(arr)"
   ]
  }
 ],
 "metadata": {
  "kernelspec": {
   "display_name": "Python 3",
   "language": "python",
   "name": "python3"
  },
  "language_info": {
   "codemirror_mode": {
    "name": "ipython",
    "version": 3
   },
   "file_extension": ".py",
   "mimetype": "text/x-python",
   "name": "python",
   "nbconvert_exporter": "python",
   "pygments_lexer": "ipython3",
   "version": "3.13.1"
  }
 },
 "nbformat": 4,
 "nbformat_minor": 2
}
