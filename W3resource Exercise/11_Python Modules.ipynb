{
 "cells": [
  {
   "cell_type": "markdown",
   "metadata": {},
   "source": [
    "#### Python built-in Modules"
   ]
  },
  {
   "cell_type": "markdown",
   "metadata": {},
   "source": [
    "- Module - random"
   ]
  },
  {
   "cell_type": "markdown",
   "metadata": {},
   "source": [
    "9. Write a Python program to set a random seed and get a random number between 0 and 1. Use random.random."
   ]
  },
  {
   "cell_type": "code",
   "execution_count": 10,
   "metadata": {},
   "outputs": [
    {
     "name": "stdout",
     "output_type": "stream",
     "text": [
      "0.6394267984578837\n",
      "0.025010755222666936\n",
      "\n",
      "0.1456692551041303\n",
      "0.45492700451402135\n",
      "\n",
      "0.6394267984578837\n",
      "0.025010755222666936\n"
     ]
    }
   ],
   "source": [
    "import random\n",
    "\n",
    "random.seed(42)\n",
    "print(random.random())\n",
    "print(random.random())\n",
    "print()\n",
    "random.seed(100)\n",
    "print(random.random())\n",
    "print(random.random())\n",
    "print()\n",
    "random.seed(42)\n",
    "print(random.random())\n",
    "print(random.random())"
   ]
  },
  {
   "cell_type": "markdown",
   "metadata": {},
   "source": [
    "- Module - types"
   ]
  },
  {
   "cell_type": "markdown",
   "metadata": {},
   "source": [
    "2. Write a Python program to check if a given value is a method of a user-defined class. Use types.MethodType()"
   ]
  },
  {
   "cell_type": "code",
   "execution_count": 11,
   "metadata": {},
   "outputs": [
    {
     "name": "stdout",
     "output_type": "stream",
     "text": [
      "True\n",
      "True\n",
      "False\n",
      "False\n",
      "False\n"
     ]
    }
   ],
   "source": [
    "import types\n",
    "\n",
    "class A:\n",
    "    def x():\n",
    "        return 1\n",
    "    def y():\n",
    "        return 1    \n",
    "        \n",
    "def b():\n",
    "    return 2\n",
    "\n",
    "print(isinstance(A().x, types.MethodType))\n",
    "print(isinstance(A().y, types.MethodType))\n",
    "print(isinstance(b, types.MethodType))\n",
    "print(isinstance(max, types.MethodType))\n",
    "print(isinstance(abs, types.MethodType))\n"
   ]
  },
  {
   "cell_type": "markdown",
   "metadata": {},
   "source": [
    "- Module - decimal"
   ]
  },
  {
   "cell_type": "code",
   "execution_count": 21,
   "metadata": {},
   "outputs": [
    {
     "name": "stdout",
     "output_type": "stream",
     "text": [
      "0.142857\n",
      "0.1428571429\n"
     ]
    }
   ],
   "source": [
    "from decimal import *\n",
    "getcontext().prec = 6\n",
    "print(Decimal(1) / Decimal(7))\n",
    "getcontext().prec = 10\n",
    "print(Decimal(1) / Decimal(7))"
   ]
  },
  {
   "cell_type": "code",
   "execution_count": 27,
   "metadata": {},
   "outputs": [
    {
     "data": {
      "text/plain": [
       "Decimal('7')"
      ]
     },
     "execution_count": 27,
     "metadata": {},
     "output_type": "execute_result"
    }
   ],
   "source": [
    "Decimal('7.5').quantize(Decimal(), rounding=ROUND_HALF_DOWN)"
   ]
  },
  {
   "cell_type": "code",
   "execution_count": 32,
   "metadata": {},
   "outputs": [
    {
     "data": {
      "text/plain": [
       "Decimal('8')"
      ]
     },
     "execution_count": 32,
     "metadata": {},
     "output_type": "execute_result"
    }
   ],
   "source": [
    "Decimal('7.5').quantize(Decimal(), rounding=ROUND_HALF_UP)"
   ]
  },
  {
   "cell_type": "markdown",
   "metadata": {},
   "source": [
    "5. Write a Python program that can be configured to round to the nearest - with ties going towards 0 and ties going away from 0. Use decimal.ROUND_HALF_DOWN, decimal.ROUND_HALF_UP"
   ]
  },
  {
   "cell_type": "code",
   "execution_count": 33,
   "metadata": {},
   "outputs": [
    {
     "name": "stdout",
     "output_type": "stream",
     "text": [
      "2\n",
      "3\n"
     ]
    }
   ],
   "source": [
    "import decimal\n",
    "\n",
    "decimal.getcontext().prec = 1\n",
    "decimal.getcontext().rounding = decimal.ROUND_HALF_DOWN\n",
    "print(decimal.Decimal(10) / decimal.Decimal(4))\n",
    "\n",
    "decimal.getcontext().prec = 1\n",
    "decimal.getcontext().rounding = decimal.ROUND_HALF_UP\n",
    "print(decimal.Decimal(10) / decimal.Decimal(4))\n"
   ]
  },
  {
   "cell_type": "markdown",
   "metadata": {},
   "source": [
    "- Module - copy"
   ]
  },
  {
   "cell_type": "markdown",
   "metadata": {},
   "source": [
    "4. Write a Python program to create a deep copy of a given dictionary. Use copy.copy"
   ]
  },
  {
   "cell_type": "code",
   "execution_count": 34,
   "metadata": {},
   "outputs": [
    {
     "name": "stdout",
     "output_type": "stream",
     "text": [
      "Original dictionary:  {'a': 1, 'b': 2, 'cc': {'c': 3}}\n",
      "\n",
      "Deep copy:\n",
      "{'a': 1, 'b': 2, 'cc': {'c': 3}}\n",
      "\n",
      "Change in original:\n",
      "{'a': 1, 'b': 2, 'cc': {'c': 10}}\n",
      "\n",
      "Deep copy:\n",
      "{'a': 1, 'b': 2, 'cc': {'c': 3}}\n",
      "\n",
      "Original dictionary :\n",
      "{'x': 1, 'y': 2, 'zz': {'z': 3}}\n",
      "\n",
      "Deep copy:\n",
      "{'x': 1, 'y': 2, 'zz': {'z': 3}}\n",
      "\n",
      "Change in original:\n",
      "\n",
      "First dictionary:\n",
      "{'x': 1, 'y': 2, 'zz': {'z': 10}}\n",
      "\n",
      "Deep copy:\n",
      "{'x': 1, 'y': 2, 'zz': {'z': 3}}\n"
     ]
    }
   ],
   "source": [
    "import copy\n",
    "nums_x = {\"a\":1, \"b\":2, 'cc':{\"c\":3}}\n",
    "print(\"Original dictionary: \", nums_x)\n",
    "nums_y = copy.deepcopy(nums_x)\n",
    "print(\"\\nDeep copy:\")\n",
    "print(nums_y)\n",
    "print(\"\\nChange in original:\")\n",
    "nums_x[\"cc\"][\"c\"] = 10\n",
    "print(nums_x)\n",
    "print(\"\\nDeep copy:\")\n",
    "print(nums_y)\n",
    "\n",
    "nums = {\"x\":1, \"y\":2, 'zz':{\"z\":3}}\n",
    "nums_copy = copy.deepcopy(nums)\n",
    "print(\"\\nOriginal dictionary :\")\n",
    "print(nums)\n",
    "print(\"\\nDeep copy:\")\n",
    "print(nums_copy)\n",
    "print(\"\\nChange in original:\")\n",
    "nums[\"zz\"][\"z\"] = 10\n",
    "print(\"\\nFirst dictionary:\")\n",
    "print(nums)\n",
    "print(\"\\nDeep copy:\")\n",
    "print(nums_copy)\n"
   ]
  },
  {
   "cell_type": "markdown",
   "metadata": {},
   "source": [
    "- Module - csv"
   ]
  },
  {
   "cell_type": "markdown",
   "metadata": {},
   "source": [
    "6. Write a Python program to write (without writing separate lines between rows) and read a CSV file with a specified delimiter. Use csv.reader"
   ]
  },
  {
   "cell_type": "code",
   "execution_count": 1,
   "metadata": {},
   "outputs": [
    {
     "name": "stdout",
     "output_type": "stream",
     "text": [
      "['a', 'b', 'c']\n",
      "['d', 'e', 'f']\n",
      "['g', 'h', 'i']\n"
     ]
    }
   ],
   "source": [
    "import csv     \n",
    "with open(\"./Datasets and Files/test.csv\", \"w\", newline='') as f:\n",
    "    writer = csv.writer(f, delimiter='=')\n",
    "    writer.writerow([\"a\",\"b\",\"c\"])\n",
    "    writer.writerow([\"d\",\"e\",\"f\"])\n",
    "    writer.writerow([\"g\",\"h\",\"i\"])\n",
    " \n",
    "with open(\"./Datasets and Files/test.csv\", \"r\") as f:\n",
    "    reader = csv.reader(f, delimiter='=')\n",
    "    for row in reader:\n",
    "        print(row) "
   ]
  },
  {
   "cell_type": "markdown",
   "metadata": {},
   "source": [
    "#### Python Operating System Services"
   ]
  },
  {
   "cell_type": "markdown",
   "metadata": {},
   "source": [
    "12. Write a Python program to test whether a given path exists or not. Find the filename and directory portion of the path if it exists."
   ]
  },
  {
   "cell_type": "code",
   "execution_count": 4,
   "metadata": {},
   "outputs": [
    {
     "name": "stdout",
     "output_type": "stream",
     "text": [
      "path exists or not:\n",
      "True\n",
      "\n",
      "File name of the path:\n",
      "15_File Handling Exercises\n",
      "\n",
      "Dir name of the path:\n",
      "../GFG_Practice\n"
     ]
    }
   ],
   "source": [
    "import os\n",
    "\n",
    "print(\"path exists or not:\")\n",
    "path = r'../GFG_Practice/15_File Handling Exercises'\n",
    "print(os.path.exists(path))\n",
    "\n",
    "\n",
    "print(\"\\nFile name of the path:\")\n",
    "print(os.path.basename(path))\n",
    "\n",
    "print(\"\\nDir name of the path:\")\n",
    "print(os.path.dirname(path))\n"
   ]
  },
  {
   "cell_type": "markdown",
   "metadata": {},
   "source": [
    "#### Python Math"
   ]
  },
  {
   "cell_type": "markdown",
   "metadata": {},
   "source": [
    "93. Write a Python program that takes an integer and rearranges the digits to create two maximum and minimum numbers."
   ]
  },
  {
   "cell_type": "code",
   "execution_count": 9,
   "metadata": {},
   "outputs": [
    {
     "name": "stdout",
     "output_type": "stream",
     "text": [
      "number: 1254\n",
      "Maximum and Minimum Numbers: (5421, 1245)\n",
      "\n",
      "Original number: 9090\n",
      "Maximum and Minimum Numbers: (9900, 99)\n",
      "\n",
      "Original number: 100\n",
      "Maximum and Minimum Numbers: (100, 1)\n"
     ]
    }
   ],
   "source": [
    "def test(n):\n",
    "    temp = []\n",
    "    for e in str(n):\n",
    "        temp.append(e)\n",
    "        max_num = \"\".join(sorted(temp)[::-1])\n",
    "        min_num = \"\".join(sorted(temp))        \n",
    "    return int(max_num), int(min_num)\n",
    "                                      \n",
    "n = 1254\n",
    "print(\"number:\", n)\n",
    "print(\"Maximum and Minimum Numbers:\",test(n))\n",
    "\n",
    "n = 9090\n",
    "print(\"\\nOriginal number:\", n)\n",
    "print(\"Maximum and Minimum Numbers:\",test(n))\n",
    "\n",
    "n = 100\n",
    "print(\"\\nOriginal number:\", n)\n",
    "print(\"Maximum and Minimum Numbers:\",test(n))"
   ]
  },
  {
   "cell_type": "markdown",
   "metadata": {},
   "source": [
    "#### Python Requests"
   ]
  },
  {
   "cell_type": "markdown",
   "metadata": {},
   "source": [
    "7. Write a Python program to send some sort of data in the URL's query string."
   ]
  },
  {
   "cell_type": "code",
   "execution_count": 10,
   "metadata": {},
   "outputs": [
    {
     "name": "stdout",
     "output_type": "stream",
     "text": [
      "Parameters:  {'key1': 'value1', 'key2': 'value2'}\n",
      "https://www.example.com/?key1=value1&key2=value2\n",
      "Parameters:  {'key1': 'value1', 'key2': ['value2', 'value3']}\n",
      "https://www.example.com/?key1=value1&key2=value2&key2=value3\n"
     ]
    }
   ],
   "source": [
    "import requests\n",
    "payload = {'key1': 'value1', 'key2': 'value2'}\n",
    "print(\"Parameters: \",payload)\n",
    "r = requests.get('https://www.example.com/', params=payload)\n",
    "print(r.url)\n",
    "\n",
    "payload = {'key1': 'value1', 'key2': ['value2', 'value3']}\n",
    "print(\"Parameters: \",payload)\n",
    "r = requests.get('https://www.example.com/', params=payload)\n",
    "print(r.url)"
   ]
  },
  {
   "cell_type": "markdown",
   "metadata": {},
   "source": [
    "#### Python SQLite Database"
   ]
  },
  {
   "cell_type": "code",
   "execution_count": 1,
   "metadata": {},
   "outputs": [
    {
     "name": "stdout",
     "output_type": "stream",
     "text": [
      "DB Connected..\n",
      "[('3.45.3',)]\n"
     ]
    }
   ],
   "source": [
    "import sqlite3\n",
    "\n",
    "conn = sqlite3.connect('py.db')\n",
    "cur = conn.cursor()\n",
    "print('DB Connected..')\n",
    "\n",
    "query = 'select sqlite_version();'\n",
    "cur.execute(query)\n",
    "\n",
    "res = cur.fetchall()\n",
    "print(res)"
   ]
  },
  {
   "cell_type": "code",
   "execution_count": 2,
   "metadata": {},
   "outputs": [
    {
     "data": {
      "text/plain": [
       "<sqlite3.Cursor at 0x252c29560c0>"
      ]
     },
     "execution_count": 2,
     "metadata": {},
     "output_type": "execute_result"
    }
   ],
   "source": [
    "import sqlite3\n",
    "conn = sqlite3.connect('data.db')\n",
    "cur = conn.cursor()\n",
    "\n",
    "cur.execute('''\n",
    "CREATE TABLE tab1\n",
    "             (NAME TEXT NOT NULL,\n",
    "             AGE INT NOT NULL)\n",
    "''')"
   ]
  },
  {
   "cell_type": "code",
   "execution_count": 3,
   "metadata": {},
   "outputs": [
    {
     "name": "stdout",
     "output_type": "stream",
     "text": [
      "('Meet', 20)\n",
      "('Jay', 19)\n"
     ]
    }
   ],
   "source": [
    "cur.execute('INSERT INTO tab1 VALUES (\"Meet\", 20)')\n",
    "cur.execute('INSERT INTO tab1 VALUES (\"Jay\", 19)')\n",
    "\n",
    "cur.execute('SELECT * FROM tab1')\n",
    "\n",
    "for data in cur:\n",
    "    print(data)\n",
    "\n",
    "conn.commit()\n",
    "\n",
    "conn.close()"
   ]
  },
  {
   "cell_type": "code",
   "execution_count": 5,
   "metadata": {},
   "outputs": [
    {
     "name": "stdout",
     "output_type": "stream",
     "text": [
      "('Meet', 20)\n",
      "('Jay', 19)\n"
     ]
    }
   ],
   "source": [
    "conn = sqlite3.connect('data.db')\n",
    "cur1 = conn.cursor()\n",
    "cur1.execute('SELECT * FROM tab1')\n",
    "\n",
    "res = cur1.fetchall()\n",
    "for r in res:\n",
    "    print(r)\n",
    "\n",
    "conn.commit()\n",
    "\n",
    "conn.close()"
   ]
  },
  {
   "cell_type": "code",
   "execution_count": 9,
   "metadata": {},
   "outputs": [
    {
     "name": "stdout",
     "output_type": "stream",
     "text": [
      "('Meet', 20)\n"
     ]
    }
   ],
   "source": [
    "conn = sqlite3.connect('data.db')\n",
    "cur1 = conn.cursor()\n",
    "cur1.execute('SELECT * FROM tab1 WHERE NAME LIKE \"M%\"')\n",
    "\n",
    "res = cur1.fetchall()\n",
    "for r in res:\n",
    "    print(r)\n",
    "\n",
    "conn.commit()\n",
    "\n",
    "conn.close()"
   ]
  },
  {
   "cell_type": "code",
   "execution_count": 12,
   "metadata": {},
   "outputs": [
    {
     "name": "stdout",
     "output_type": "stream",
     "text": [
      "[('Meet', 20), ('Jay', 21)]\n"
     ]
    }
   ],
   "source": [
    "conn = sqlite3.connect('data.db')\n",
    "cur1 = conn.cursor()\n",
    "cur1.execute('UPDATE tab1 SET AGE = 21 WHERE NAME = \"Jay\"')\n",
    "cur1.execute('SELECT * FROM tab1')\n",
    "print(cur1.fetchall())\n",
    "\n",
    "conn.commit()\n",
    "\n",
    "conn.close()"
   ]
  },
  {
   "cell_type": "code",
   "execution_count": 13,
   "metadata": {},
   "outputs": [
    {
     "name": "stdout",
     "output_type": "stream",
     "text": [
      "[('Jay', 21)]\n"
     ]
    }
   ],
   "source": [
    "conn = sqlite3.connect('data.db')\n",
    "cur1 = conn.cursor()\n",
    "cur1.execute('DELETE from tab1 WHERE NAME = \"Meet\"')\n",
    "cur1.execute('SELECT * FROM tab1')\n",
    "print(cur1.fetchall())\n",
    "\n",
    "conn.commit()\n",
    "\n",
    "conn.close()"
   ]
  },
  {
   "cell_type": "markdown",
   "metadata": {},
   "source": [
    "10. Write a Python program to update all the values of a specific column of a given SQLite table."
   ]
  },
  {
   "cell_type": "code",
   "execution_count": null,
   "metadata": {},
   "outputs": [
    {
     "name": "stdout",
     "output_type": "stream",
     "text": [
      "Before:\n",
      "[(5001, 'James Hoog', 'New York', 0.15), (5002, 'Nail Knite', 'Paris', 0.25), (5003, 'Pit Alex', 'London', 0.15), (5004, 'Mc Lyon', 'Paris', 0.35), (5005, 'Paul Adam', 'Rome', 0.45)]\n",
      "After:\n",
      "[(5001, 'James Hoog', 'New York', 0.15), (5002, 'Nail Knite', 'Paris', 0.25), (5003, 'Pit Alex', 'London', 0.15), (5004, 'Mc Lyon', 'NEW CITY', 0.35), (5005, 'Paul Adam', 'NEW CITY', 0.45)]\n"
     ]
    }
   ],
   "source": [
    "import sqlite3\n",
    "\n",
    "c = sqlite3.connect('test.db')\n",
    "cur = c.cursor()\n",
    "\n",
    "cur.execute('DROP TABLE IF EXISTS salesman')\n",
    "\n",
    "cur.execute('''CREATE TABLE salesman(salesman_id n(5), name char(30), city char(35), commission decimal(7,2));''')\n",
    "\n",
    "cur.executescript(\"\"\"\n",
    "    INSERT INTO salesman VALUES(5001,'James Hoog', 'New York', 0.15);\n",
    "    INSERT INTO salesman VALUES(5002,'Nail Knite', 'Paris', 0.25);\n",
    "    INSERT INTO salesman VALUES(5003,'Pit Alex', 'London', 0.15);\n",
    "    INSERT INTO salesman VALUES(5004,'Mc Lyon', 'Paris', 0.35);\n",
    "    INSERT INTO salesman VALUES(5005,'Paul Adam', 'Rome', 0.45);\n",
    "    \"\"\")\n",
    "\n",
    "print(\"Before:\")\n",
    "print(cur.execute('SELECT * FROM salesman').fetchall())\n",
    "\n",
    "cur.execute('UPDATE salesman SET city=\"NEW CITY\" where commission > 0.30')\n",
    "\n",
    "print(\"After:\")\n",
    "print(cur.execute('SELECT * FROM salesman').fetchall())\n",
    "\n",
    "c.commit()\n",
    "c.close()"
   ]
  },
  {
   "cell_type": "code",
   "execution_count": null,
   "metadata": {},
   "outputs": [],
   "source": []
  }
 ],
 "metadata": {
  "kernelspec": {
   "display_name": "Python 3",
   "language": "python",
   "name": "python3"
  },
  "language_info": {
   "codemirror_mode": {
    "name": "ipython",
    "version": 3
   },
   "file_extension": ".py",
   "mimetype": "text/x-python",
   "name": "python",
   "nbconvert_exporter": "python",
   "pygments_lexer": "ipython3",
   "version": "3.13.1"
  }
 },
 "nbformat": 4,
 "nbformat_minor": 2
}
