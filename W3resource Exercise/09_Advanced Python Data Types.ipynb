{
 "cells": [
  {
   "cell_type": "markdown",
   "metadata": {},
   "source": [
    "#### Python Boolean Data Type"
   ]
  },
  {
   "cell_type": "markdown",
   "metadata": {},
   "source": [
    "10. Write a Python program that checks a simple authentication system. The program verifies the provided username and password against predefined usernames and passwords by using boolean checks."
   ]
  },
  {
   "cell_type": "code",
   "execution_count": 3,
   "metadata": {},
   "outputs": [
    {
     "name": "stdout",
     "output_type": "stream",
     "text": [
      "Login Successfully...\n"
     ]
    }
   ],
   "source": [
    "def check(username, password):\n",
    "    data = {\n",
    "        'user1':'pass1',\n",
    "        'user2':'pass2',\n",
    "        'user3':'pass3',\n",
    "    }\n",
    "\n",
    "    if username in data and password == data[username]:\n",
    "        return True\n",
    "    else:\n",
    "        return False\n",
    "\n",
    "username = 'user1'\n",
    "password = 'pass1'\n",
    "\n",
    "if check(username, password):\n",
    "    print('Login Successfully...')\n",
    "else:\n",
    "    print('Invalid Credentials!!')"
   ]
  },
  {
   "cell_type": "markdown",
   "metadata": {},
   "source": [
    "#### Python None Data Type"
   ]
  },
  {
   "cell_type": "markdown",
   "metadata": {},
   "source": [
    "9. Write a Python function that takes a list and returns a new list with None inserted between each element."
   ]
  },
  {
   "cell_type": "code",
   "execution_count": 4,
   "metadata": {},
   "outputs": [
    {
     "name": "stdout",
     "output_type": "stream",
     "text": [
      "[2, None, 4, None, 6, None, 8, None, 10]\n"
     ]
    }
   ],
   "source": [
    "def add_None(l):\n",
    "    new_l = []\n",
    "    for i in l:\n",
    "        new_l.append(i)\n",
    "        new_l.append(None)\n",
    "    new_l.pop()\n",
    "    return new_l\n",
    "\n",
    "lst = [2, 4, 6, 8, 10]\n",
    "new_l = add_None(lst)\n",
    "print(new_l)"
   ]
  },
  {
   "cell_type": "markdown",
   "metadata": {},
   "source": [
    "#### Python Bytes and Byte Arrays Data Type"
   ]
  },
  {
   "cell_type": "markdown",
   "metadata": {},
   "source": [
    "10. Write a Python function that converts a bytearray to a bytes object."
   ]
  },
  {
   "cell_type": "code",
   "execution_count": 7,
   "metadata": {},
   "outputs": [
    {
     "name": "stdout",
     "output_type": "stream",
     "text": [
      "Bytearray: bytearray(b'\\x0c3\\n\\x0f_f\\x84u')\n",
      "Bytes Object: b'\\x0c3\\n\\x0f_f\\x84u'\n"
     ]
    }
   ],
   "source": [
    "byte_arr = bytearray([12, 51, 10, 15, 95, 102, 132, 117])\n",
    "\n",
    "bytes_obj = bytes(byte_arr)\n",
    "\n",
    "print(\"Bytearray:\", byte_arr)\n",
    "print(\"Bytes Object:\", bytes_obj)\n"
   ]
  },
  {
   "cell_type": "markdown",
   "metadata": {},
   "source": [
    "#### Python Memory Views Data Type"
   ]
  },
  {
   "cell_type": "markdown",
   "metadata": {},
   "source": [
    "10. Write a Python program that creates a memory view from a list of integers and print the hex values of each element."
   ]
  },
  {
   "cell_type": "code",
   "execution_count": 17,
   "metadata": {},
   "outputs": [
    {
     "name": "stdout",
     "output_type": "stream",
     "text": [
      "Original list values: [8, 16, 42, 92, 128]\n",
      "Hex Values:  0x8 0x10 0x2a 0x5c 0x80 "
     ]
    }
   ],
   "source": [
    "nums = [8, 16, 42, 92, 128]\n",
    "print(\"Original list values:\",nums)\n",
    "   \n",
    "mv = memoryview(bytearray(nums))\n",
    "\n",
    "print(\"Hex Values: \", end=' ')\n",
    "for ele in mv:\n",
    "    print(hex(ele), end=' ')"
   ]
  },
  {
   "cell_type": "markdown",
   "metadata": {},
   "source": [
    "#### Python frozenset Views"
   ]
  },
  {
   "cell_type": "markdown",
   "metadata": {},
   "source": [
    "10. Write a Python program that generates a frozenset containing the squares of all odd numbers from 1 to 15 using set comprehension."
   ]
  },
  {
   "cell_type": "code",
   "execution_count": 15,
   "metadata": {},
   "outputs": [
    {
     "name": "stdout",
     "output_type": "stream",
     "text": [
      "frozenset({1, 121, 225, 9, 169, 81, 49, 25})\n"
     ]
    }
   ],
   "source": [
    "s = {x**2 for x in range(1,16) if x % 2 != 0}\n",
    "\n",
    "frozen_s = frozenset(s)\n",
    "print(frozen_s)"
   ]
  },
  {
   "cell_type": "markdown",
   "metadata": {},
   "source": [
    "#### Python NamedTuple"
   ]
  },
  {
   "cell_type": "markdown",
   "metadata": {},
   "source": [
    "9. Write a Python program that defines a NamedTuple named \"Car\" with fields 'make', 'model', 'year', and 'engine' (a NamedTuple representing engine details). Create an instance of the \"Car\" NamedTuple and print its attributes."
   ]
  },
  {
   "cell_type": "code",
   "execution_count": 21,
   "metadata": {},
   "outputs": [
    {
     "name": "stdout",
     "output_type": "stream",
     "text": [
      "ABC\n",
      "XYZ\n",
      "2024\n",
      "1.6L\n",
      "4\n"
     ]
    }
   ],
   "source": [
    "from collections import namedtuple\n",
    "\n",
    "Car = namedtuple('Car', ['make', 'model', 'year', 'engine'])\n",
    "Engine = namedtuple('Engine', ['e_type', 'cylinder'])\n",
    "\n",
    "eng_ins = Engine(e_type='1.6L', cylinder=4)\n",
    "car_ins = Car(make='ABC', model='XYZ', year=2024, engine=eng_ins)\n",
    "\n",
    "print(car_ins.make)\n",
    "print(car_ins.model)\n",
    "print(car_ins.year)\n",
    "print(car_ins.engine.e_type)\n",
    "print(car_ins.engine.cylinder)\n"
   ]
  },
  {
   "cell_type": "markdown",
   "metadata": {},
   "source": [
    "#### Python OrderedDict"
   ]
  },
  {
   "cell_type": "markdown",
   "metadata": {},
   "source": [
    "10. Write a Python function that takes a list of words and returns an OrderedDict where keys are the words and values are the lengths of the words."
   ]
  },
  {
   "cell_type": "code",
   "execution_count": 25,
   "metadata": {},
   "outputs": [
    {
     "name": "stdout",
     "output_type": "stream",
     "text": [
      "Red 3\n",
      "Green 5\n",
      "Pink 4\n",
      "White 5\n",
      "Orange 6\n"
     ]
    }
   ],
   "source": [
    "from collections import OrderedDict\n",
    "\n",
    "def f(lst):\n",
    "    od = OrderedDict()\n",
    "    for i in lst:\n",
    "        od[i] = len(i)\n",
    "\n",
    "    return od\n",
    "\n",
    "words = [\"Red\", \"Green\", \"Pink\", \"White\", \"Orange\"]\n",
    "res = f(words)\n",
    "\n",
    "for k,val in res.items():\n",
    "    print(k, val)"
   ]
  },
  {
   "cell_type": "markdown",
   "metadata": {},
   "source": [
    "#### Python Counter"
   ]
  },
  {
   "cell_type": "markdown",
   "metadata": {},
   "source": [
    "10. Write a Python program that creates a 'Counter' for a list of items and uses dictionary-style access to update the count of specific items."
   ]
  },
  {
   "cell_type": "code",
   "execution_count": 29,
   "metadata": {},
   "outputs": [
    {
     "name": "stdout",
     "output_type": "stream",
     "text": [
      "Counter({'Red': 4, 'Black': 2, 'Orange': 1, 'White': 1})\n",
      "Counter({'Red': 4, 'White': 3, 'Black': 2, 'Orange': 1})\n"
     ]
    }
   ],
   "source": [
    "from collections import Counter\n",
    "\n",
    "item = ['Red', 'Black', 'Black', 'Red', 'Red', 'Orange', 'Red', 'White']\n",
    "\n",
    "new_item = Counter(item)\n",
    "\n",
    "print(new_item)\n",
    "\n",
    "new_item['White'] = 3\n",
    "\n",
    "print(new_item)"
   ]
  },
  {
   "cell_type": "markdown",
   "metadata": {},
   "source": [
    "#### Python Ellipsis (...)"
   ]
  },
  {
   "cell_type": "markdown",
   "metadata": {},
   "source": [
    "9. Write a Python program that creates a custom class with an 'init' method. Use 'ellipsis' to indicate that some attributes may be added dynamically."
   ]
  },
  {
   "cell_type": "code",
   "execution_count": 31,
   "metadata": {},
   "outputs": [
    {
     "name": "stdout",
     "output_type": "stream",
     "text": [
      "AT1 AT2 Ellipsis Ellipsis\n",
      "AT1 AT2 10 20\n"
     ]
    }
   ],
   "source": [
    "class A:\n",
    "    def __init__(self, at1, at2, at3=..., at4=...):\n",
    "        self.at1 = at1\n",
    "        self.at2 = at2\n",
    "        self.at3 = at3\n",
    "        self.at4 = at4\n",
    "        \n",
    "    def set_att(self, v1, v2):\n",
    "        self.at3 = v1\n",
    "        self.at4 = v2\n",
    "\n",
    "\n",
    "a = A('AT1', 'AT2')\n",
    "\n",
    "print(a.at1, a.at2, a.at3, a.at4)\n",
    "\n",
    "a.set_att(10,20)\n",
    "\n",
    "print(a.at1, a.at2, a.at3, a.at4)"
   ]
  }
 ],
 "metadata": {
  "kernelspec": {
   "display_name": "Python 3",
   "language": "python",
   "name": "python3"
  },
  "language_info": {
   "codemirror_mode": {
    "name": "ipython",
    "version": 3
   },
   "file_extension": ".py",
   "mimetype": "text/x-python",
   "name": "python",
   "nbconvert_exporter": "python",
   "pygments_lexer": "ipython3",
   "version": "3.13.1"
  }
 },
 "nbformat": 4,
 "nbformat_minor": 2
}
