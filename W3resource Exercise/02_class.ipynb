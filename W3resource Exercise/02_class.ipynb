{
 "cells": [
  {
   "cell_type": "markdown",
   "metadata": {},
   "source": [
    "4. Write a Python class Inventory with attributes like item_id, item_name, stock_count, and price, and methods like add_item, update_item, and check_item_details.<br>\n",
    "Use a dictionary to store the item details, where the key is the item_id and the value is a dictionary containing the item_name, stock_count, and price."
   ]
  },
  {
   "cell_type": "code",
   "execution_count": 9,
   "metadata": {},
   "outputs": [],
   "source": [
    "class Inv:\n",
    "    def __init__(self):\n",
    "        self.inv = {}\n",
    "\n",
    "    def add(self, id, name, stock, price):\n",
    "        self.inv[id] = {\"name\": name, \"stock\": stock, \"price\": price}\n",
    "\n",
    "    def update(self, id, stock, price):\n",
    "        if id in self.inv:\n",
    "            self.inv[id][\"stock\"] = stock\n",
    "            self.inv[id][\"price\"] = price\n",
    "        else:\n",
    "            print(\"Item not found.\")\n",
    "\n",
    "    def check_item(self, id):\n",
    "        if id in self.inv:\n",
    "            item = self.inv[id]\n",
    "            return f\"Name: {item['name']}, Stock: {item['stock']}, Price: {item['price']}\"\n",
    "        else:\n",
    "            return \"Item not found.\""
   ]
  },
  {
   "cell_type": "code",
   "execution_count": 10,
   "metadata": {},
   "outputs": [],
   "source": [
    "inv = Inv()\n",
    "\n",
    "inv.add(\"I001\", \"Laptop\", 100, 500.00)\n",
    "inv.add(\"I002\", \"Mobile\", 110, 450.00)\n",
    "inv.add(\"I003\", \"Desktop\", 120, 500.00)\n",
    "inv.add(\"I004\", \"Tablet\", 90, 550.00)"
   ]
  },
  {
   "cell_type": "code",
   "execution_count": 11,
   "metadata": {},
   "outputs": [
    {
     "name": "stdout",
     "output_type": "stream",
     "text": [
      "Item Details:\n",
      "Name: Laptop, Stock: 100, Price: 500.0\n",
      "Name: Mobile, Stock: 110, Price: 450.0\n",
      "Name: Desktop, Stock: 120, Price: 500.0\n",
      "Name: Tablet, Stock: 90, Price: 550.0\n"
     ]
    }
   ],
   "source": [
    "print(\"Item Details:\")\n",
    "print(inv.check_item(\"I001\"))\n",
    "print(inv.check_item(\"I002\"))\n",
    "print(inv.check_item(\"I003\"))\n",
    "print(inv.check_item(\"I004\"))"
   ]
  },
  {
   "cell_type": "code",
   "execution_count": 8,
   "metadata": {},
   "outputs": [
    {
     "name": "stdout",
     "output_type": "stream",
     "text": [
      "Update the price of item code - 'I001':\n",
      "Name: Laptop, Stock: 100, Price: 505.0\n",
      "\n",
      "Update the stock of item code - 'I003':\n",
      "Name: Desktop, Stock: 115, Price: 500.0\n"
     ]
    }
   ],
   "source": [
    "print(\"Update the price of item code - 'I001':\")\n",
    "inv.update(\"I001\", 100, 505.00)\n",
    "print(inv.check_item(\"I001\"))\n",
    "print(\"\\nUpdate the stock of item code - 'I003':\")\n",
    "inv.update(\"I003\", 115, 500.00)\n",
    "print(inv.check_item(\"I003\"))"
   ]
  }
 ],
 "metadata": {
  "kernelspec": {
   "display_name": "Python 3",
   "language": "python",
   "name": "python3"
  },
  "language_info": {
   "codemirror_mode": {
    "name": "ipython",
    "version": 3
   },
   "file_extension": ".py",
   "mimetype": "text/x-python",
   "name": "python",
   "nbconvert_exporter": "python",
   "pygments_lexer": "ipython3",
   "version": "3.13.1"
  }
 },
 "nbformat": 4,
 "nbformat_minor": 2
}
